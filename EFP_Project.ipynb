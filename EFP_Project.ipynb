{
 "cells": [
  {
   "cell_type": "markdown",
   "id": "d20b0350",
   "metadata": {
    "papermill": {
     "duration": 0.041614,
     "end_time": "2022-09-07T16:33:19.523666",
     "exception": false,
     "start_time": "2022-09-07T16:33:19.482052",
     "status": "completed"
    },
    "tags": []
   },
   "source": [
    "## Importing Initial Libraries"
   ]
  },
  {
   "cell_type": "code",
   "execution_count": 1,
   "id": "5a4414c3",
   "metadata": {
    "execution": {
     "iopub.execute_input": "2022-09-07T16:33:19.607613Z",
     "iopub.status.busy": "2022-09-07T16:33:19.606819Z",
     "iopub.status.idle": "2022-09-07T16:33:20.682390Z",
     "shell.execute_reply": "2022-09-07T16:33:20.681280Z"
    },
    "papermill": {
     "duration": 1.121504,
     "end_time": "2022-09-07T16:33:20.685499",
     "exception": false,
     "start_time": "2022-09-07T16:33:19.563995",
     "status": "completed"
    },
    "tags": []
   },
   "outputs": [],
   "source": [
    "import numpy as np\n",
    "import matplotlib.pyplot as plt\n",
    "import pandas as pd\n",
    "import seaborn as sns"
   ]
  },
  {
   "cell_type": "markdown",
   "id": "1fbd170d",
   "metadata": {
    "papermill": {
     "duration": 0.041154,
     "end_time": "2022-09-07T16:33:20.770265",
     "exception": false,
     "start_time": "2022-09-07T16:33:20.729111",
     "status": "completed"
    },
    "tags": []
   },
   "source": [
    "## General Overview of Data"
   ]
  },
  {
   "cell_type": "code",
   "execution_count": 2,
   "id": "d19f3102",
   "metadata": {
    "execution": {
     "iopub.execute_input": "2022-09-07T16:33:20.849652Z",
     "iopub.status.busy": "2022-09-07T16:33:20.848848Z",
     "iopub.status.idle": "2022-09-07T16:33:20.892664Z",
     "shell.execute_reply": "2022-09-07T16:33:20.891790Z"
    },
    "papermill": {
     "duration": 0.086326,
     "end_time": "2022-09-07T16:33:20.895348",
     "exception": false,
     "start_time": "2022-09-07T16:33:20.809022",
     "status": "completed"
    },
    "tags": []
   },
   "outputs": [
    {
     "data": {
      "text/html": [
       "<div>\n",
       "<style scoped>\n",
       "    .dataframe tbody tr th:only-of-type {\n",
       "        vertical-align: middle;\n",
       "    }\n",
       "\n",
       "    .dataframe tbody tr th {\n",
       "        vertical-align: top;\n",
       "    }\n",
       "\n",
       "    .dataframe thead th {\n",
       "        text-align: right;\n",
       "    }\n",
       "</style>\n",
       "<table border=\"1\" class=\"dataframe\">\n",
       "  <thead>\n",
       "    <tr style=\"text-align: right;\">\n",
       "      <th></th>\n",
       "      <th>Education</th>\n",
       "      <th>JoiningYear</th>\n",
       "      <th>City</th>\n",
       "      <th>PaymentTier</th>\n",
       "      <th>Age</th>\n",
       "      <th>Gender</th>\n",
       "      <th>EverBenched</th>\n",
       "      <th>ExperienceInCurrentDomain</th>\n",
       "      <th>LeaveOrNot</th>\n",
       "    </tr>\n",
       "  </thead>\n",
       "  <tbody>\n",
       "    <tr>\n",
       "      <th>0</th>\n",
       "      <td>Bachelors</td>\n",
       "      <td>2017</td>\n",
       "      <td>Bangalore</td>\n",
       "      <td>3</td>\n",
       "      <td>34</td>\n",
       "      <td>Male</td>\n",
       "      <td>No</td>\n",
       "      <td>0</td>\n",
       "      <td>0</td>\n",
       "    </tr>\n",
       "    <tr>\n",
       "      <th>1</th>\n",
       "      <td>Bachelors</td>\n",
       "      <td>2013</td>\n",
       "      <td>Pune</td>\n",
       "      <td>1</td>\n",
       "      <td>28</td>\n",
       "      <td>Female</td>\n",
       "      <td>No</td>\n",
       "      <td>3</td>\n",
       "      <td>1</td>\n",
       "    </tr>\n",
       "    <tr>\n",
       "      <th>2</th>\n",
       "      <td>Bachelors</td>\n",
       "      <td>2014</td>\n",
       "      <td>New Delhi</td>\n",
       "      <td>3</td>\n",
       "      <td>38</td>\n",
       "      <td>Female</td>\n",
       "      <td>No</td>\n",
       "      <td>2</td>\n",
       "      <td>0</td>\n",
       "    </tr>\n",
       "    <tr>\n",
       "      <th>3</th>\n",
       "      <td>Masters</td>\n",
       "      <td>2016</td>\n",
       "      <td>Bangalore</td>\n",
       "      <td>3</td>\n",
       "      <td>27</td>\n",
       "      <td>Male</td>\n",
       "      <td>No</td>\n",
       "      <td>5</td>\n",
       "      <td>1</td>\n",
       "    </tr>\n",
       "    <tr>\n",
       "      <th>4</th>\n",
       "      <td>Masters</td>\n",
       "      <td>2017</td>\n",
       "      <td>Pune</td>\n",
       "      <td>3</td>\n",
       "      <td>24</td>\n",
       "      <td>Male</td>\n",
       "      <td>Yes</td>\n",
       "      <td>2</td>\n",
       "      <td>1</td>\n",
       "    </tr>\n",
       "    <tr>\n",
       "      <th>5</th>\n",
       "      <td>Bachelors</td>\n",
       "      <td>2016</td>\n",
       "      <td>Bangalore</td>\n",
       "      <td>3</td>\n",
       "      <td>22</td>\n",
       "      <td>Male</td>\n",
       "      <td>No</td>\n",
       "      <td>0</td>\n",
       "      <td>0</td>\n",
       "    </tr>\n",
       "    <tr>\n",
       "      <th>6</th>\n",
       "      <td>Bachelors</td>\n",
       "      <td>2015</td>\n",
       "      <td>New Delhi</td>\n",
       "      <td>3</td>\n",
       "      <td>38</td>\n",
       "      <td>Male</td>\n",
       "      <td>No</td>\n",
       "      <td>0</td>\n",
       "      <td>0</td>\n",
       "    </tr>\n",
       "    <tr>\n",
       "      <th>7</th>\n",
       "      <td>Bachelors</td>\n",
       "      <td>2016</td>\n",
       "      <td>Bangalore</td>\n",
       "      <td>3</td>\n",
       "      <td>34</td>\n",
       "      <td>Female</td>\n",
       "      <td>No</td>\n",
       "      <td>2</td>\n",
       "      <td>1</td>\n",
       "    </tr>\n",
       "    <tr>\n",
       "      <th>8</th>\n",
       "      <td>Bachelors</td>\n",
       "      <td>2016</td>\n",
       "      <td>Pune</td>\n",
       "      <td>3</td>\n",
       "      <td>23</td>\n",
       "      <td>Male</td>\n",
       "      <td>No</td>\n",
       "      <td>1</td>\n",
       "      <td>0</td>\n",
       "    </tr>\n",
       "    <tr>\n",
       "      <th>9</th>\n",
       "      <td>Masters</td>\n",
       "      <td>2017</td>\n",
       "      <td>New Delhi</td>\n",
       "      <td>2</td>\n",
       "      <td>37</td>\n",
       "      <td>Male</td>\n",
       "      <td>No</td>\n",
       "      <td>2</td>\n",
       "      <td>0</td>\n",
       "    </tr>\n",
       "  </tbody>\n",
       "</table>\n",
       "</div>"
      ],
      "text/plain": [
       "   Education  JoiningYear       City  PaymentTier  Age  Gender EverBenched  \\\n",
       "0  Bachelors         2017  Bangalore            3   34    Male          No   \n",
       "1  Bachelors         2013       Pune            1   28  Female          No   \n",
       "2  Bachelors         2014  New Delhi            3   38  Female          No   \n",
       "3    Masters         2016  Bangalore            3   27    Male          No   \n",
       "4    Masters         2017       Pune            3   24    Male         Yes   \n",
       "5  Bachelors         2016  Bangalore            3   22    Male          No   \n",
       "6  Bachelors         2015  New Delhi            3   38    Male          No   \n",
       "7  Bachelors         2016  Bangalore            3   34  Female          No   \n",
       "8  Bachelors         2016       Pune            3   23    Male          No   \n",
       "9    Masters         2017  New Delhi            2   37    Male          No   \n",
       "\n",
       "   ExperienceInCurrentDomain  LeaveOrNot  \n",
       "0                          0           0  \n",
       "1                          3           1  \n",
       "2                          2           0  \n",
       "3                          5           1  \n",
       "4                          2           1  \n",
       "5                          0           0  \n",
       "6                          0           0  \n",
       "7                          2           1  \n",
       "8                          1           0  \n",
       "9                          2           0  "
      ]
     },
     "execution_count": 2,
     "metadata": {},
     "output_type": "execute_result"
    }
   ],
   "source": [
    "df = pd.read_csv(r'../input/employee-future-prediction/Employee.csv')\n",
    "df.head(10)"
   ]
  },
  {
   "cell_type": "code",
   "execution_count": 3,
   "id": "fcbfaa5b",
   "metadata": {
    "execution": {
     "iopub.execute_input": "2022-09-07T16:33:20.973940Z",
     "iopub.status.busy": "2022-09-07T16:33:20.973496Z",
     "iopub.status.idle": "2022-09-07T16:33:20.981918Z",
     "shell.execute_reply": "2022-09-07T16:33:20.981025Z"
    },
    "papermill": {
     "duration": 0.050268,
     "end_time": "2022-09-07T16:33:20.984199",
     "exception": false,
     "start_time": "2022-09-07T16:33:20.933931",
     "status": "completed"
    },
    "tags": []
   },
   "outputs": [
    {
     "data": {
      "text/plain": [
       "Education                    object\n",
       "JoiningYear                   int64\n",
       "City                         object\n",
       "PaymentTier                   int64\n",
       "Age                           int64\n",
       "Gender                       object\n",
       "EverBenched                  object\n",
       "ExperienceInCurrentDomain     int64\n",
       "LeaveOrNot                    int64\n",
       "dtype: object"
      ]
     },
     "execution_count": 3,
     "metadata": {},
     "output_type": "execute_result"
    }
   ],
   "source": [
    "df.dtypes"
   ]
  },
  {
   "cell_type": "code",
   "execution_count": 4,
   "id": "fc980087",
   "metadata": {
    "execution": {
     "iopub.execute_input": "2022-09-07T16:33:21.072060Z",
     "iopub.status.busy": "2022-09-07T16:33:21.071122Z",
     "iopub.status.idle": "2022-09-07T16:33:21.089489Z",
     "shell.execute_reply": "2022-09-07T16:33:21.088186Z"
    },
    "papermill": {
     "duration": 0.066121,
     "end_time": "2022-09-07T16:33:21.092256",
     "exception": false,
     "start_time": "2022-09-07T16:33:21.026135",
     "status": "completed"
    },
    "tags": []
   },
   "outputs": [
    {
     "data": {
      "text/html": [
       "<div>\n",
       "<style scoped>\n",
       "    .dataframe tbody tr th:only-of-type {\n",
       "        vertical-align: middle;\n",
       "    }\n",
       "\n",
       "    .dataframe tbody tr th {\n",
       "        vertical-align: top;\n",
       "    }\n",
       "\n",
       "    .dataframe thead th {\n",
       "        text-align: right;\n",
       "    }\n",
       "</style>\n",
       "<table border=\"1\" class=\"dataframe\">\n",
       "  <thead>\n",
       "    <tr style=\"text-align: right;\">\n",
       "      <th></th>\n",
       "      <th>Education</th>\n",
       "      <th>JoiningYear</th>\n",
       "      <th>City</th>\n",
       "      <th>PaymentTier</th>\n",
       "      <th>Age</th>\n",
       "      <th>Gender</th>\n",
       "      <th>EverBenched</th>\n",
       "      <th>ExperienceInCurrentDomain</th>\n",
       "      <th>LeaveOrNot</th>\n",
       "    </tr>\n",
       "  </thead>\n",
       "  <tbody>\n",
       "    <tr>\n",
       "      <th>0</th>\n",
       "      <td>Bachelors</td>\n",
       "      <td>2017</td>\n",
       "      <td>Bangalore</td>\n",
       "      <td>3</td>\n",
       "      <td>34</td>\n",
       "      <td>Male</td>\n",
       "      <td>No</td>\n",
       "      <td>0</td>\n",
       "      <td>0</td>\n",
       "    </tr>\n",
       "    <tr>\n",
       "      <th>1</th>\n",
       "      <td>Bachelors</td>\n",
       "      <td>2013</td>\n",
       "      <td>Pune</td>\n",
       "      <td>1</td>\n",
       "      <td>28</td>\n",
       "      <td>Female</td>\n",
       "      <td>No</td>\n",
       "      <td>3</td>\n",
       "      <td>1</td>\n",
       "    </tr>\n",
       "    <tr>\n",
       "      <th>2</th>\n",
       "      <td>Bachelors</td>\n",
       "      <td>2014</td>\n",
       "      <td>New Delhi</td>\n",
       "      <td>3</td>\n",
       "      <td>38</td>\n",
       "      <td>Female</td>\n",
       "      <td>No</td>\n",
       "      <td>2</td>\n",
       "      <td>0</td>\n",
       "    </tr>\n",
       "    <tr>\n",
       "      <th>3</th>\n",
       "      <td>Masters</td>\n",
       "      <td>2016</td>\n",
       "      <td>Bangalore</td>\n",
       "      <td>3</td>\n",
       "      <td>27</td>\n",
       "      <td>Male</td>\n",
       "      <td>No</td>\n",
       "      <td>5</td>\n",
       "      <td>1</td>\n",
       "    </tr>\n",
       "    <tr>\n",
       "      <th>4</th>\n",
       "      <td>Masters</td>\n",
       "      <td>2017</td>\n",
       "      <td>Pune</td>\n",
       "      <td>3</td>\n",
       "      <td>24</td>\n",
       "      <td>Male</td>\n",
       "      <td>Yes</td>\n",
       "      <td>2</td>\n",
       "      <td>1</td>\n",
       "    </tr>\n",
       "  </tbody>\n",
       "</table>\n",
       "</div>"
      ],
      "text/plain": [
       "   Education  JoiningYear       City  PaymentTier  Age  Gender EverBenched  \\\n",
       "0  Bachelors         2017  Bangalore            3   34    Male          No   \n",
       "1  Bachelors         2013       Pune            1   28  Female          No   \n",
       "2  Bachelors         2014  New Delhi            3   38  Female          No   \n",
       "3    Masters         2016  Bangalore            3   27    Male          No   \n",
       "4    Masters         2017       Pune            3   24    Male         Yes   \n",
       "\n",
       "   ExperienceInCurrentDomain  LeaveOrNot  \n",
       "0                          0           0  \n",
       "1                          3           1  \n",
       "2                          2           0  \n",
       "3                          5           1  \n",
       "4                          2           1  "
      ]
     },
     "execution_count": 4,
     "metadata": {},
     "output_type": "execute_result"
    }
   ],
   "source": [
    "df.head()"
   ]
  },
  {
   "cell_type": "code",
   "execution_count": 5,
   "id": "6508f732",
   "metadata": {
    "execution": {
     "iopub.execute_input": "2022-09-07T16:33:21.173118Z",
     "iopub.status.busy": "2022-09-07T16:33:21.172343Z",
     "iopub.status.idle": "2022-09-07T16:33:21.220551Z",
     "shell.execute_reply": "2022-09-07T16:33:21.219549Z"
    },
    "papermill": {
     "duration": 0.091066,
     "end_time": "2022-09-07T16:33:21.223120",
     "exception": false,
     "start_time": "2022-09-07T16:33:21.132054",
     "status": "completed"
    },
    "tags": []
   },
   "outputs": [
    {
     "data": {
      "text/html": [
       "<div>\n",
       "<style scoped>\n",
       "    .dataframe tbody tr th:only-of-type {\n",
       "        vertical-align: middle;\n",
       "    }\n",
       "\n",
       "    .dataframe tbody tr th {\n",
       "        vertical-align: top;\n",
       "    }\n",
       "\n",
       "    .dataframe thead th {\n",
       "        text-align: right;\n",
       "    }\n",
       "</style>\n",
       "<table border=\"1\" class=\"dataframe\">\n",
       "  <thead>\n",
       "    <tr style=\"text-align: right;\">\n",
       "      <th></th>\n",
       "      <th>Education</th>\n",
       "      <th>JoiningYear</th>\n",
       "      <th>City</th>\n",
       "      <th>PaymentTier</th>\n",
       "      <th>Age</th>\n",
       "      <th>Gender</th>\n",
       "      <th>EverBenched</th>\n",
       "      <th>ExperienceInCurrentDomain</th>\n",
       "      <th>LeaveOrNot</th>\n",
       "    </tr>\n",
       "  </thead>\n",
       "  <tbody>\n",
       "    <tr>\n",
       "      <th>count</th>\n",
       "      <td>4653</td>\n",
       "      <td>4653.000000</td>\n",
       "      <td>4653</td>\n",
       "      <td>4653.000000</td>\n",
       "      <td>4653.000000</td>\n",
       "      <td>4653</td>\n",
       "      <td>4653</td>\n",
       "      <td>4653.000000</td>\n",
       "      <td>4653.000000</td>\n",
       "    </tr>\n",
       "    <tr>\n",
       "      <th>unique</th>\n",
       "      <td>3</td>\n",
       "      <td>NaN</td>\n",
       "      <td>3</td>\n",
       "      <td>NaN</td>\n",
       "      <td>NaN</td>\n",
       "      <td>2</td>\n",
       "      <td>2</td>\n",
       "      <td>NaN</td>\n",
       "      <td>NaN</td>\n",
       "    </tr>\n",
       "    <tr>\n",
       "      <th>top</th>\n",
       "      <td>Bachelors</td>\n",
       "      <td>NaN</td>\n",
       "      <td>Bangalore</td>\n",
       "      <td>NaN</td>\n",
       "      <td>NaN</td>\n",
       "      <td>Male</td>\n",
       "      <td>No</td>\n",
       "      <td>NaN</td>\n",
       "      <td>NaN</td>\n",
       "    </tr>\n",
       "    <tr>\n",
       "      <th>freq</th>\n",
       "      <td>3601</td>\n",
       "      <td>NaN</td>\n",
       "      <td>2228</td>\n",
       "      <td>NaN</td>\n",
       "      <td>NaN</td>\n",
       "      <td>2778</td>\n",
       "      <td>4175</td>\n",
       "      <td>NaN</td>\n",
       "      <td>NaN</td>\n",
       "    </tr>\n",
       "    <tr>\n",
       "      <th>mean</th>\n",
       "      <td>NaN</td>\n",
       "      <td>2015.062970</td>\n",
       "      <td>NaN</td>\n",
       "      <td>2.698259</td>\n",
       "      <td>29.393295</td>\n",
       "      <td>NaN</td>\n",
       "      <td>NaN</td>\n",
       "      <td>2.905652</td>\n",
       "      <td>0.343864</td>\n",
       "    </tr>\n",
       "    <tr>\n",
       "      <th>std</th>\n",
       "      <td>NaN</td>\n",
       "      <td>1.863377</td>\n",
       "      <td>NaN</td>\n",
       "      <td>0.561435</td>\n",
       "      <td>4.826087</td>\n",
       "      <td>NaN</td>\n",
       "      <td>NaN</td>\n",
       "      <td>1.558240</td>\n",
       "      <td>0.475047</td>\n",
       "    </tr>\n",
       "    <tr>\n",
       "      <th>min</th>\n",
       "      <td>NaN</td>\n",
       "      <td>2012.000000</td>\n",
       "      <td>NaN</td>\n",
       "      <td>1.000000</td>\n",
       "      <td>22.000000</td>\n",
       "      <td>NaN</td>\n",
       "      <td>NaN</td>\n",
       "      <td>0.000000</td>\n",
       "      <td>0.000000</td>\n",
       "    </tr>\n",
       "    <tr>\n",
       "      <th>25%</th>\n",
       "      <td>NaN</td>\n",
       "      <td>2013.000000</td>\n",
       "      <td>NaN</td>\n",
       "      <td>3.000000</td>\n",
       "      <td>26.000000</td>\n",
       "      <td>NaN</td>\n",
       "      <td>NaN</td>\n",
       "      <td>2.000000</td>\n",
       "      <td>0.000000</td>\n",
       "    </tr>\n",
       "    <tr>\n",
       "      <th>50%</th>\n",
       "      <td>NaN</td>\n",
       "      <td>2015.000000</td>\n",
       "      <td>NaN</td>\n",
       "      <td>3.000000</td>\n",
       "      <td>28.000000</td>\n",
       "      <td>NaN</td>\n",
       "      <td>NaN</td>\n",
       "      <td>3.000000</td>\n",
       "      <td>0.000000</td>\n",
       "    </tr>\n",
       "    <tr>\n",
       "      <th>75%</th>\n",
       "      <td>NaN</td>\n",
       "      <td>2017.000000</td>\n",
       "      <td>NaN</td>\n",
       "      <td>3.000000</td>\n",
       "      <td>32.000000</td>\n",
       "      <td>NaN</td>\n",
       "      <td>NaN</td>\n",
       "      <td>4.000000</td>\n",
       "      <td>1.000000</td>\n",
       "    </tr>\n",
       "    <tr>\n",
       "      <th>max</th>\n",
       "      <td>NaN</td>\n",
       "      <td>2018.000000</td>\n",
       "      <td>NaN</td>\n",
       "      <td>3.000000</td>\n",
       "      <td>41.000000</td>\n",
       "      <td>NaN</td>\n",
       "      <td>NaN</td>\n",
       "      <td>7.000000</td>\n",
       "      <td>1.000000</td>\n",
       "    </tr>\n",
       "  </tbody>\n",
       "</table>\n",
       "</div>"
      ],
      "text/plain": [
       "        Education  JoiningYear       City  PaymentTier          Age Gender  \\\n",
       "count        4653  4653.000000       4653  4653.000000  4653.000000   4653   \n",
       "unique          3          NaN          3          NaN          NaN      2   \n",
       "top     Bachelors          NaN  Bangalore          NaN          NaN   Male   \n",
       "freq         3601          NaN       2228          NaN          NaN   2778   \n",
       "mean          NaN  2015.062970        NaN     2.698259    29.393295    NaN   \n",
       "std           NaN     1.863377        NaN     0.561435     4.826087    NaN   \n",
       "min           NaN  2012.000000        NaN     1.000000    22.000000    NaN   \n",
       "25%           NaN  2013.000000        NaN     3.000000    26.000000    NaN   \n",
       "50%           NaN  2015.000000        NaN     3.000000    28.000000    NaN   \n",
       "75%           NaN  2017.000000        NaN     3.000000    32.000000    NaN   \n",
       "max           NaN  2018.000000        NaN     3.000000    41.000000    NaN   \n",
       "\n",
       "       EverBenched  ExperienceInCurrentDomain   LeaveOrNot  \n",
       "count         4653                4653.000000  4653.000000  \n",
       "unique           2                        NaN          NaN  \n",
       "top             No                        NaN          NaN  \n",
       "freq          4175                        NaN          NaN  \n",
       "mean           NaN                   2.905652     0.343864  \n",
       "std            NaN                   1.558240     0.475047  \n",
       "min            NaN                   0.000000     0.000000  \n",
       "25%            NaN                   2.000000     0.000000  \n",
       "50%            NaN                   3.000000     0.000000  \n",
       "75%            NaN                   4.000000     1.000000  \n",
       "max            NaN                   7.000000     1.000000  "
      ]
     },
     "execution_count": 5,
     "metadata": {},
     "output_type": "execute_result"
    }
   ],
   "source": [
    "#General descriptive statistics\n",
    "df.describe(include='all')"
   ]
  },
  {
   "cell_type": "code",
   "execution_count": 6,
   "id": "9748318c",
   "metadata": {
    "execution": {
     "iopub.execute_input": "2022-09-07T16:33:21.303464Z",
     "iopub.status.busy": "2022-09-07T16:33:21.302663Z",
     "iopub.status.idle": "2022-09-07T16:33:21.311987Z",
     "shell.execute_reply": "2022-09-07T16:33:21.310758Z"
    },
    "papermill": {
     "duration": 0.051849,
     "end_time": "2022-09-07T16:33:21.314294",
     "exception": false,
     "start_time": "2022-09-07T16:33:21.262445",
     "status": "completed"
    },
    "tags": []
   },
   "outputs": [
    {
     "data": {
      "text/plain": [
       "3053"
      ]
     },
     "execution_count": 6,
     "metadata": {},
     "output_type": "execute_result"
    }
   ],
   "source": [
    "#Number of employees who did not leave\n",
    "len(df.loc[df['LeaveOrNot']==0])"
   ]
  },
  {
   "cell_type": "code",
   "execution_count": 7,
   "id": "cd3035fa",
   "metadata": {
    "execution": {
     "iopub.execute_input": "2022-09-07T16:33:21.397723Z",
     "iopub.status.busy": "2022-09-07T16:33:21.397336Z",
     "iopub.status.idle": "2022-09-07T16:33:21.404920Z",
     "shell.execute_reply": "2022-09-07T16:33:21.404007Z"
    },
    "papermill": {
     "duration": 0.052315,
     "end_time": "2022-09-07T16:33:21.407043",
     "exception": false,
     "start_time": "2022-09-07T16:33:21.354728",
     "status": "completed"
    },
    "tags": []
   },
   "outputs": [
    {
     "data": {
      "text/plain": [
       "1600"
      ]
     },
     "execution_count": 7,
     "metadata": {},
     "output_type": "execute_result"
    }
   ],
   "source": [
    "#Number of employees who left\n",
    "len(df.loc[df['LeaveOrNot']==1])"
   ]
  },
  {
   "cell_type": "code",
   "execution_count": 8,
   "id": "590665c9",
   "metadata": {
    "execution": {
     "iopub.execute_input": "2022-09-07T16:33:21.487202Z",
     "iopub.status.busy": "2022-09-07T16:33:21.486556Z",
     "iopub.status.idle": "2022-09-07T16:33:21.496076Z",
     "shell.execute_reply": "2022-09-07T16:33:21.494851Z"
    },
    "papermill": {
     "duration": 0.052457,
     "end_time": "2022-09-07T16:33:21.498564",
     "exception": false,
     "start_time": "2022-09-07T16:33:21.446107",
     "status": "completed"
    },
    "tags": []
   },
   "outputs": [
    {
     "name": "stdout",
     "output_type": "stream",
     "text": [
      "Education ['Bachelors', 'Masters', 'PHD']\n",
      "JoiningYear [2012, 2013, 2014, 2015, 2016, 2017, 2018]\n",
      "City ['Bangalore', 'New Delhi', 'Pune']\n",
      "PaymentTier [1, 2, 3]\n",
      "Age [22, 23, 24, 25, 26, 27, 28, 29, 30, 31, 32, 33, 34, 35, 36, 37, 38, 39, 40, 41]\n",
      "Gender ['Female', 'Male']\n",
      "EverBenched ['No', 'Yes']\n",
      "ExperienceInCurrentDomain [0, 1, 2, 3, 4, 5, 6, 7]\n",
      "LeaveOrNot [0, 1]\n"
     ]
    }
   ],
   "source": [
    "#Taking a look at the unique values in each feature\n",
    "for feature in df.columns:\n",
    "    ft = df[feature].unique()\n",
    "    print(feature,sorted(ft))"
   ]
  },
  {
   "cell_type": "code",
   "execution_count": 9,
   "id": "66b211b5",
   "metadata": {
    "execution": {
     "iopub.execute_input": "2022-09-07T16:33:21.579554Z",
     "iopub.status.busy": "2022-09-07T16:33:21.578723Z",
     "iopub.status.idle": "2022-09-07T16:33:21.585512Z",
     "shell.execute_reply": "2022-09-07T16:33:21.584435Z"
    },
    "papermill": {
     "duration": 0.049596,
     "end_time": "2022-09-07T16:33:21.587666",
     "exception": false,
     "start_time": "2022-09-07T16:33:21.538070",
     "status": "completed"
    },
    "tags": []
   },
   "outputs": [],
   "source": [
    "#Checking the dataset for missing values\n",
    "def missing (df):\n",
    "    missing_number = df.isna().sum().sort_values(ascending=False)\n",
    "    missing_percent = (df.isna().sum()/df.isna().count()).sort_values(ascending=False)\n",
    "    missing_values = pd.concat([missing_number, missing_percent], axis=1, keys=['Missing_Number', 'Missing_Percent'])\n",
    "    return missing_values"
   ]
  },
  {
   "cell_type": "code",
   "execution_count": 10,
   "id": "facd06a6",
   "metadata": {
    "execution": {
     "iopub.execute_input": "2022-09-07T16:33:21.668608Z",
     "iopub.status.busy": "2022-09-07T16:33:21.667788Z",
     "iopub.status.idle": "2022-09-07T16:33:21.686887Z",
     "shell.execute_reply": "2022-09-07T16:33:21.685807Z"
    },
    "papermill": {
     "duration": 0.062048,
     "end_time": "2022-09-07T16:33:21.689219",
     "exception": false,
     "start_time": "2022-09-07T16:33:21.627171",
     "status": "completed"
    },
    "scrolled": true,
    "tags": []
   },
   "outputs": [
    {
     "data": {
      "text/html": [
       "<div>\n",
       "<style scoped>\n",
       "    .dataframe tbody tr th:only-of-type {\n",
       "        vertical-align: middle;\n",
       "    }\n",
       "\n",
       "    .dataframe tbody tr th {\n",
       "        vertical-align: top;\n",
       "    }\n",
       "\n",
       "    .dataframe thead th {\n",
       "        text-align: right;\n",
       "    }\n",
       "</style>\n",
       "<table border=\"1\" class=\"dataframe\">\n",
       "  <thead>\n",
       "    <tr style=\"text-align: right;\">\n",
       "      <th></th>\n",
       "      <th>Missing_Number</th>\n",
       "      <th>Missing_Percent</th>\n",
       "    </tr>\n",
       "  </thead>\n",
       "  <tbody>\n",
       "    <tr>\n",
       "      <th>Education</th>\n",
       "      <td>0</td>\n",
       "      <td>0.0</td>\n",
       "    </tr>\n",
       "    <tr>\n",
       "      <th>JoiningYear</th>\n",
       "      <td>0</td>\n",
       "      <td>0.0</td>\n",
       "    </tr>\n",
       "    <tr>\n",
       "      <th>City</th>\n",
       "      <td>0</td>\n",
       "      <td>0.0</td>\n",
       "    </tr>\n",
       "    <tr>\n",
       "      <th>PaymentTier</th>\n",
       "      <td>0</td>\n",
       "      <td>0.0</td>\n",
       "    </tr>\n",
       "    <tr>\n",
       "      <th>Age</th>\n",
       "      <td>0</td>\n",
       "      <td>0.0</td>\n",
       "    </tr>\n",
       "    <tr>\n",
       "      <th>Gender</th>\n",
       "      <td>0</td>\n",
       "      <td>0.0</td>\n",
       "    </tr>\n",
       "    <tr>\n",
       "      <th>EverBenched</th>\n",
       "      <td>0</td>\n",
       "      <td>0.0</td>\n",
       "    </tr>\n",
       "    <tr>\n",
       "      <th>ExperienceInCurrentDomain</th>\n",
       "      <td>0</td>\n",
       "      <td>0.0</td>\n",
       "    </tr>\n",
       "    <tr>\n",
       "      <th>LeaveOrNot</th>\n",
       "      <td>0</td>\n",
       "      <td>0.0</td>\n",
       "    </tr>\n",
       "  </tbody>\n",
       "</table>\n",
       "</div>"
      ],
      "text/plain": [
       "                           Missing_Number  Missing_Percent\n",
       "Education                               0              0.0\n",
       "JoiningYear                             0              0.0\n",
       "City                                    0              0.0\n",
       "PaymentTier                             0              0.0\n",
       "Age                                     0              0.0\n",
       "Gender                                  0              0.0\n",
       "EverBenched                             0              0.0\n",
       "ExperienceInCurrentDomain               0              0.0\n",
       "LeaveOrNot                              0              0.0"
      ]
     },
     "execution_count": 10,
     "metadata": {},
     "output_type": "execute_result"
    }
   ],
   "source": [
    "#We observe no missing values in any feature\n",
    "missing(df)"
   ]
  },
  {
   "cell_type": "code",
   "execution_count": 11,
   "id": "66726a1a",
   "metadata": {
    "execution": {
     "iopub.execute_input": "2022-09-07T16:33:21.770978Z",
     "iopub.status.busy": "2022-09-07T16:33:21.770188Z",
     "iopub.status.idle": "2022-09-07T16:33:21.776701Z",
     "shell.execute_reply": "2022-09-07T16:33:21.775922Z"
    },
    "papermill": {
     "duration": 0.049702,
     "end_time": "2022-09-07T16:33:21.778970",
     "exception": false,
     "start_time": "2022-09-07T16:33:21.729268",
     "status": "completed"
    },
    "tags": []
   },
   "outputs": [],
   "source": [
    "#Checking the dataset for null values\n",
    "def null_values(df):\n",
    "    null_number = df.isnull().sum().sort_values(ascending=False)\n",
    "    null_percent = (df.isnull().sum()/df.isnull().count()).sort_values(ascending=False)\n",
    "    null_values = pd.concat([null_number, null_percent], axis=1, keys=['Null_Number', 'Null_Percent'])\n",
    "    return null_values"
   ]
  },
  {
   "cell_type": "code",
   "execution_count": 12,
   "id": "ed79da1c",
   "metadata": {
    "execution": {
     "iopub.execute_input": "2022-09-07T16:33:21.859051Z",
     "iopub.status.busy": "2022-09-07T16:33:21.858261Z",
     "iopub.status.idle": "2022-09-07T16:33:21.877050Z",
     "shell.execute_reply": "2022-09-07T16:33:21.875885Z"
    },
    "papermill": {
     "duration": 0.061589,
     "end_time": "2022-09-07T16:33:21.879448",
     "exception": false,
     "start_time": "2022-09-07T16:33:21.817859",
     "status": "completed"
    },
    "tags": []
   },
   "outputs": [
    {
     "data": {
      "text/html": [
       "<div>\n",
       "<style scoped>\n",
       "    .dataframe tbody tr th:only-of-type {\n",
       "        vertical-align: middle;\n",
       "    }\n",
       "\n",
       "    .dataframe tbody tr th {\n",
       "        vertical-align: top;\n",
       "    }\n",
       "\n",
       "    .dataframe thead th {\n",
       "        text-align: right;\n",
       "    }\n",
       "</style>\n",
       "<table border=\"1\" class=\"dataframe\">\n",
       "  <thead>\n",
       "    <tr style=\"text-align: right;\">\n",
       "      <th></th>\n",
       "      <th>Null_Number</th>\n",
       "      <th>Null_Percent</th>\n",
       "    </tr>\n",
       "  </thead>\n",
       "  <tbody>\n",
       "    <tr>\n",
       "      <th>Education</th>\n",
       "      <td>0</td>\n",
       "      <td>0.0</td>\n",
       "    </tr>\n",
       "    <tr>\n",
       "      <th>JoiningYear</th>\n",
       "      <td>0</td>\n",
       "      <td>0.0</td>\n",
       "    </tr>\n",
       "    <tr>\n",
       "      <th>City</th>\n",
       "      <td>0</td>\n",
       "      <td>0.0</td>\n",
       "    </tr>\n",
       "    <tr>\n",
       "      <th>PaymentTier</th>\n",
       "      <td>0</td>\n",
       "      <td>0.0</td>\n",
       "    </tr>\n",
       "    <tr>\n",
       "      <th>Age</th>\n",
       "      <td>0</td>\n",
       "      <td>0.0</td>\n",
       "    </tr>\n",
       "    <tr>\n",
       "      <th>Gender</th>\n",
       "      <td>0</td>\n",
       "      <td>0.0</td>\n",
       "    </tr>\n",
       "    <tr>\n",
       "      <th>EverBenched</th>\n",
       "      <td>0</td>\n",
       "      <td>0.0</td>\n",
       "    </tr>\n",
       "    <tr>\n",
       "      <th>ExperienceInCurrentDomain</th>\n",
       "      <td>0</td>\n",
       "      <td>0.0</td>\n",
       "    </tr>\n",
       "    <tr>\n",
       "      <th>LeaveOrNot</th>\n",
       "      <td>0</td>\n",
       "      <td>0.0</td>\n",
       "    </tr>\n",
       "  </tbody>\n",
       "</table>\n",
       "</div>"
      ],
      "text/plain": [
       "                           Null_Number  Null_Percent\n",
       "Education                            0           0.0\n",
       "JoiningYear                          0           0.0\n",
       "City                                 0           0.0\n",
       "PaymentTier                          0           0.0\n",
       "Age                                  0           0.0\n",
       "Gender                               0           0.0\n",
       "EverBenched                          0           0.0\n",
       "ExperienceInCurrentDomain            0           0.0\n",
       "LeaveOrNot                           0           0.0"
      ]
     },
     "execution_count": 12,
     "metadata": {},
     "output_type": "execute_result"
    }
   ],
   "source": [
    "##We observe no null values in any feature\n",
    "null_values(df)"
   ]
  },
  {
   "cell_type": "markdown",
   "id": "e8582e96",
   "metadata": {
    "papermill": {
     "duration": 0.039515,
     "end_time": "2022-09-07T16:33:21.959074",
     "exception": false,
     "start_time": "2022-09-07T16:33:21.919559",
     "status": "completed"
    },
    "tags": []
   },
   "source": [
    "## Data Preprocessing"
   ]
  },
  {
   "cell_type": "code",
   "execution_count": 13,
   "id": "3385f850",
   "metadata": {
    "execution": {
     "iopub.execute_input": "2022-09-07T16:33:22.040142Z",
     "iopub.status.busy": "2022-09-07T16:33:22.039338Z",
     "iopub.status.idle": "2022-09-07T16:33:22.054596Z",
     "shell.execute_reply": "2022-09-07T16:33:22.053762Z"
    },
    "papermill": {
     "duration": 0.058615,
     "end_time": "2022-09-07T16:33:22.057054",
     "exception": false,
     "start_time": "2022-09-07T16:33:21.998439",
     "status": "completed"
    },
    "tags": []
   },
   "outputs": [],
   "source": [
    "#Convert each feature into the appropriate format\n",
    "df[\"Education\"] = df[\"Education\"].astype('category')\n",
    "df[\"JoiningYear\"] = df[\"JoiningYear\"].astype('category')\n",
    "df[\"City\"] = df[\"City\"].astype('category')\n",
    "df[\"PaymentTier\"] = df[\"PaymentTier\"].astype('category')\n",
    "df[\"Gender\"] = df[\"Gender\"].astype('category')\n",
    "df[\"EverBenched\"] = df[\"EverBenched\"].astype('category')\n",
    "df[\"LeaveOrNot\"] = df[\"LeaveOrNot\"].astype('category')"
   ]
  },
  {
   "cell_type": "code",
   "execution_count": 14,
   "id": "5b0785bb",
   "metadata": {
    "execution": {
     "iopub.execute_input": "2022-09-07T16:33:22.137897Z",
     "iopub.status.busy": "2022-09-07T16:33:22.137125Z",
     "iopub.status.idle": "2022-09-07T16:33:22.145242Z",
     "shell.execute_reply": "2022-09-07T16:33:22.144297Z"
    },
    "papermill": {
     "duration": 0.050987,
     "end_time": "2022-09-07T16:33:22.147395",
     "exception": false,
     "start_time": "2022-09-07T16:33:22.096408",
     "status": "completed"
    },
    "tags": []
   },
   "outputs": [
    {
     "data": {
      "text/plain": [
       "Education                    category\n",
       "JoiningYear                  category\n",
       "City                         category\n",
       "PaymentTier                  category\n",
       "Age                             int64\n",
       "Gender                       category\n",
       "EverBenched                  category\n",
       "ExperienceInCurrentDomain       int64\n",
       "LeaveOrNot                   category\n",
       "dtype: object"
      ]
     },
     "execution_count": 14,
     "metadata": {},
     "output_type": "execute_result"
    }
   ],
   "source": [
    "df.dtypes"
   ]
  },
  {
   "cell_type": "code",
   "execution_count": 15,
   "id": "058bb017",
   "metadata": {
    "execution": {
     "iopub.execute_input": "2022-09-07T16:33:22.228735Z",
     "iopub.status.busy": "2022-09-07T16:33:22.227991Z",
     "iopub.status.idle": "2022-09-07T16:33:22.374789Z",
     "shell.execute_reply": "2022-09-07T16:33:22.373342Z"
    },
    "papermill": {
     "duration": 0.191315,
     "end_time": "2022-09-07T16:33:22.378536",
     "exception": false,
     "start_time": "2022-09-07T16:33:22.187221",
     "status": "completed"
    },
    "tags": []
   },
   "outputs": [],
   "source": [
    "from sklearn.compose import ColumnTransformer\n",
    "from sklearn.preprocessing import OneHotEncoder"
   ]
  },
  {
   "cell_type": "code",
   "execution_count": 16,
   "id": "792c59f7",
   "metadata": {
    "execution": {
     "iopub.execute_input": "2022-09-07T16:33:22.468561Z",
     "iopub.status.busy": "2022-09-07T16:33:22.468157Z",
     "iopub.status.idle": "2022-09-07T16:33:22.491266Z",
     "shell.execute_reply": "2022-09-07T16:33:22.490241Z"
    },
    "papermill": {
     "duration": 0.069197,
     "end_time": "2022-09-07T16:33:22.493721",
     "exception": false,
     "start_time": "2022-09-07T16:33:22.424524",
     "status": "completed"
    },
    "tags": []
   },
   "outputs": [],
   "source": [
    "ct = ColumnTransformer(transformers=[('encoder',OneHotEncoder(),[0,1,2,3,5,6])], remainder = 'passthrough')\n",
    "X = np.array(ct.fit_transform(df))"
   ]
  },
  {
   "cell_type": "code",
   "execution_count": 17,
   "id": "b37d8d12",
   "metadata": {
    "execution": {
     "iopub.execute_input": "2022-09-07T16:33:22.575578Z",
     "iopub.status.busy": "2022-09-07T16:33:22.574401Z",
     "iopub.status.idle": "2022-09-07T16:33:22.580018Z",
     "shell.execute_reply": "2022-09-07T16:33:22.579120Z"
    },
    "papermill": {
     "duration": 0.049037,
     "end_time": "2022-09-07T16:33:22.582363",
     "exception": false,
     "start_time": "2022-09-07T16:33:22.533326",
     "status": "completed"
    },
    "tags": []
   },
   "outputs": [],
   "source": [
    "df_encoded = pd.DataFrame(X)"
   ]
  },
  {
   "cell_type": "code",
   "execution_count": 18,
   "id": "bc7e677c",
   "metadata": {
    "execution": {
     "iopub.execute_input": "2022-09-07T16:33:22.663253Z",
     "iopub.status.busy": "2022-09-07T16:33:22.662843Z",
     "iopub.status.idle": "2022-09-07T16:33:22.679341Z",
     "shell.execute_reply": "2022-09-07T16:33:22.678117Z"
    },
    "papermill": {
     "duration": 0.059521,
     "end_time": "2022-09-07T16:33:22.681590",
     "exception": false,
     "start_time": "2022-09-07T16:33:22.622069",
     "status": "completed"
    },
    "tags": []
   },
   "outputs": [
    {
     "data": {
      "text/html": [
       "<div>\n",
       "<style scoped>\n",
       "    .dataframe tbody tr th:only-of-type {\n",
       "        vertical-align: middle;\n",
       "    }\n",
       "\n",
       "    .dataframe tbody tr th {\n",
       "        vertical-align: top;\n",
       "    }\n",
       "\n",
       "    .dataframe thead th {\n",
       "        text-align: right;\n",
       "    }\n",
       "</style>\n",
       "<table border=\"1\" class=\"dataframe\">\n",
       "  <thead>\n",
       "    <tr style=\"text-align: right;\">\n",
       "      <th></th>\n",
       "      <th>Education</th>\n",
       "      <th>JoiningYear</th>\n",
       "      <th>City</th>\n",
       "      <th>PaymentTier</th>\n",
       "      <th>Age</th>\n",
       "      <th>Gender</th>\n",
       "      <th>EverBenched</th>\n",
       "      <th>ExperienceInCurrentDomain</th>\n",
       "      <th>LeaveOrNot</th>\n",
       "    </tr>\n",
       "  </thead>\n",
       "  <tbody>\n",
       "    <tr>\n",
       "      <th>0</th>\n",
       "      <td>Bachelors</td>\n",
       "      <td>2017</td>\n",
       "      <td>Bangalore</td>\n",
       "      <td>3</td>\n",
       "      <td>34</td>\n",
       "      <td>Male</td>\n",
       "      <td>No</td>\n",
       "      <td>0</td>\n",
       "      <td>0</td>\n",
       "    </tr>\n",
       "    <tr>\n",
       "      <th>1</th>\n",
       "      <td>Bachelors</td>\n",
       "      <td>2013</td>\n",
       "      <td>Pune</td>\n",
       "      <td>1</td>\n",
       "      <td>28</td>\n",
       "      <td>Female</td>\n",
       "      <td>No</td>\n",
       "      <td>3</td>\n",
       "      <td>1</td>\n",
       "    </tr>\n",
       "    <tr>\n",
       "      <th>2</th>\n",
       "      <td>Bachelors</td>\n",
       "      <td>2014</td>\n",
       "      <td>New Delhi</td>\n",
       "      <td>3</td>\n",
       "      <td>38</td>\n",
       "      <td>Female</td>\n",
       "      <td>No</td>\n",
       "      <td>2</td>\n",
       "      <td>0</td>\n",
       "    </tr>\n",
       "    <tr>\n",
       "      <th>3</th>\n",
       "      <td>Masters</td>\n",
       "      <td>2016</td>\n",
       "      <td>Bangalore</td>\n",
       "      <td>3</td>\n",
       "      <td>27</td>\n",
       "      <td>Male</td>\n",
       "      <td>No</td>\n",
       "      <td>5</td>\n",
       "      <td>1</td>\n",
       "    </tr>\n",
       "    <tr>\n",
       "      <th>4</th>\n",
       "      <td>Masters</td>\n",
       "      <td>2017</td>\n",
       "      <td>Pune</td>\n",
       "      <td>3</td>\n",
       "      <td>24</td>\n",
       "      <td>Male</td>\n",
       "      <td>Yes</td>\n",
       "      <td>2</td>\n",
       "      <td>1</td>\n",
       "    </tr>\n",
       "  </tbody>\n",
       "</table>\n",
       "</div>"
      ],
      "text/plain": [
       "   Education JoiningYear       City PaymentTier  Age  Gender EverBenched  \\\n",
       "0  Bachelors        2017  Bangalore           3   34    Male          No   \n",
       "1  Bachelors        2013       Pune           1   28  Female          No   \n",
       "2  Bachelors        2014  New Delhi           3   38  Female          No   \n",
       "3    Masters        2016  Bangalore           3   27    Male          No   \n",
       "4    Masters        2017       Pune           3   24    Male         Yes   \n",
       "\n",
       "   ExperienceInCurrentDomain LeaveOrNot  \n",
       "0                          0          0  \n",
       "1                          3          1  \n",
       "2                          2          0  \n",
       "3                          5          1  \n",
       "4                          2          1  "
      ]
     },
     "execution_count": 18,
     "metadata": {},
     "output_type": "execute_result"
    }
   ],
   "source": [
    "df.head()"
   ]
  },
  {
   "cell_type": "code",
   "execution_count": 19,
   "id": "ca1a93ec",
   "metadata": {
    "execution": {
     "iopub.execute_input": "2022-09-07T16:33:22.764967Z",
     "iopub.status.busy": "2022-09-07T16:33:22.764265Z",
     "iopub.status.idle": "2022-09-07T16:33:22.802982Z",
     "shell.execute_reply": "2022-09-07T16:33:22.801711Z"
    },
    "papermill": {
     "duration": 0.084194,
     "end_time": "2022-09-07T16:33:22.805592",
     "exception": false,
     "start_time": "2022-09-07T16:33:22.721398",
     "status": "completed"
    },
    "tags": []
   },
   "outputs": [
    {
     "data": {
      "text/html": [
       "<div>\n",
       "<style scoped>\n",
       "    .dataframe tbody tr th:only-of-type {\n",
       "        vertical-align: middle;\n",
       "    }\n",
       "\n",
       "    .dataframe tbody tr th {\n",
       "        vertical-align: top;\n",
       "    }\n",
       "\n",
       "    .dataframe thead th {\n",
       "        text-align: right;\n",
       "    }\n",
       "</style>\n",
       "<table border=\"1\" class=\"dataframe\">\n",
       "  <thead>\n",
       "    <tr style=\"text-align: right;\">\n",
       "      <th></th>\n",
       "      <th>0</th>\n",
       "      <th>1</th>\n",
       "      <th>2</th>\n",
       "      <th>3</th>\n",
       "      <th>4</th>\n",
       "      <th>5</th>\n",
       "      <th>6</th>\n",
       "      <th>7</th>\n",
       "      <th>8</th>\n",
       "      <th>9</th>\n",
       "      <th>...</th>\n",
       "      <th>13</th>\n",
       "      <th>14</th>\n",
       "      <th>15</th>\n",
       "      <th>16</th>\n",
       "      <th>17</th>\n",
       "      <th>18</th>\n",
       "      <th>19</th>\n",
       "      <th>20</th>\n",
       "      <th>21</th>\n",
       "      <th>22</th>\n",
       "    </tr>\n",
       "  </thead>\n",
       "  <tbody>\n",
       "    <tr>\n",
       "      <th>0</th>\n",
       "      <td>1.0</td>\n",
       "      <td>0.0</td>\n",
       "      <td>0.0</td>\n",
       "      <td>0.0</td>\n",
       "      <td>0.0</td>\n",
       "      <td>0.0</td>\n",
       "      <td>0.0</td>\n",
       "      <td>0.0</td>\n",
       "      <td>1.0</td>\n",
       "      <td>0.0</td>\n",
       "      <td>...</td>\n",
       "      <td>0.0</td>\n",
       "      <td>0.0</td>\n",
       "      <td>1.0</td>\n",
       "      <td>0.0</td>\n",
       "      <td>1.0</td>\n",
       "      <td>1.0</td>\n",
       "      <td>0.0</td>\n",
       "      <td>34.0</td>\n",
       "      <td>0.0</td>\n",
       "      <td>0.0</td>\n",
       "    </tr>\n",
       "    <tr>\n",
       "      <th>1</th>\n",
       "      <td>1.0</td>\n",
       "      <td>0.0</td>\n",
       "      <td>0.0</td>\n",
       "      <td>0.0</td>\n",
       "      <td>1.0</td>\n",
       "      <td>0.0</td>\n",
       "      <td>0.0</td>\n",
       "      <td>0.0</td>\n",
       "      <td>0.0</td>\n",
       "      <td>0.0</td>\n",
       "      <td>...</td>\n",
       "      <td>1.0</td>\n",
       "      <td>0.0</td>\n",
       "      <td>0.0</td>\n",
       "      <td>1.0</td>\n",
       "      <td>0.0</td>\n",
       "      <td>1.0</td>\n",
       "      <td>0.0</td>\n",
       "      <td>28.0</td>\n",
       "      <td>3.0</td>\n",
       "      <td>1.0</td>\n",
       "    </tr>\n",
       "    <tr>\n",
       "      <th>2</th>\n",
       "      <td>1.0</td>\n",
       "      <td>0.0</td>\n",
       "      <td>0.0</td>\n",
       "      <td>0.0</td>\n",
       "      <td>0.0</td>\n",
       "      <td>1.0</td>\n",
       "      <td>0.0</td>\n",
       "      <td>0.0</td>\n",
       "      <td>0.0</td>\n",
       "      <td>0.0</td>\n",
       "      <td>...</td>\n",
       "      <td>0.0</td>\n",
       "      <td>0.0</td>\n",
       "      <td>1.0</td>\n",
       "      <td>1.0</td>\n",
       "      <td>0.0</td>\n",
       "      <td>1.0</td>\n",
       "      <td>0.0</td>\n",
       "      <td>38.0</td>\n",
       "      <td>2.0</td>\n",
       "      <td>0.0</td>\n",
       "    </tr>\n",
       "    <tr>\n",
       "      <th>3</th>\n",
       "      <td>0.0</td>\n",
       "      <td>1.0</td>\n",
       "      <td>0.0</td>\n",
       "      <td>0.0</td>\n",
       "      <td>0.0</td>\n",
       "      <td>0.0</td>\n",
       "      <td>0.0</td>\n",
       "      <td>1.0</td>\n",
       "      <td>0.0</td>\n",
       "      <td>0.0</td>\n",
       "      <td>...</td>\n",
       "      <td>0.0</td>\n",
       "      <td>0.0</td>\n",
       "      <td>1.0</td>\n",
       "      <td>0.0</td>\n",
       "      <td>1.0</td>\n",
       "      <td>1.0</td>\n",
       "      <td>0.0</td>\n",
       "      <td>27.0</td>\n",
       "      <td>5.0</td>\n",
       "      <td>1.0</td>\n",
       "    </tr>\n",
       "    <tr>\n",
       "      <th>4</th>\n",
       "      <td>0.0</td>\n",
       "      <td>1.0</td>\n",
       "      <td>0.0</td>\n",
       "      <td>0.0</td>\n",
       "      <td>0.0</td>\n",
       "      <td>0.0</td>\n",
       "      <td>0.0</td>\n",
       "      <td>0.0</td>\n",
       "      <td>1.0</td>\n",
       "      <td>0.0</td>\n",
       "      <td>...</td>\n",
       "      <td>0.0</td>\n",
       "      <td>0.0</td>\n",
       "      <td>1.0</td>\n",
       "      <td>0.0</td>\n",
       "      <td>1.0</td>\n",
       "      <td>0.0</td>\n",
       "      <td>1.0</td>\n",
       "      <td>24.0</td>\n",
       "      <td>2.0</td>\n",
       "      <td>1.0</td>\n",
       "    </tr>\n",
       "    <tr>\n",
       "      <th>5</th>\n",
       "      <td>1.0</td>\n",
       "      <td>0.0</td>\n",
       "      <td>0.0</td>\n",
       "      <td>0.0</td>\n",
       "      <td>0.0</td>\n",
       "      <td>0.0</td>\n",
       "      <td>0.0</td>\n",
       "      <td>1.0</td>\n",
       "      <td>0.0</td>\n",
       "      <td>0.0</td>\n",
       "      <td>...</td>\n",
       "      <td>0.0</td>\n",
       "      <td>0.0</td>\n",
       "      <td>1.0</td>\n",
       "      <td>0.0</td>\n",
       "      <td>1.0</td>\n",
       "      <td>1.0</td>\n",
       "      <td>0.0</td>\n",
       "      <td>22.0</td>\n",
       "      <td>0.0</td>\n",
       "      <td>0.0</td>\n",
       "    </tr>\n",
       "    <tr>\n",
       "      <th>6</th>\n",
       "      <td>1.0</td>\n",
       "      <td>0.0</td>\n",
       "      <td>0.0</td>\n",
       "      <td>0.0</td>\n",
       "      <td>0.0</td>\n",
       "      <td>0.0</td>\n",
       "      <td>1.0</td>\n",
       "      <td>0.0</td>\n",
       "      <td>0.0</td>\n",
       "      <td>0.0</td>\n",
       "      <td>...</td>\n",
       "      <td>0.0</td>\n",
       "      <td>0.0</td>\n",
       "      <td>1.0</td>\n",
       "      <td>0.0</td>\n",
       "      <td>1.0</td>\n",
       "      <td>1.0</td>\n",
       "      <td>0.0</td>\n",
       "      <td>38.0</td>\n",
       "      <td>0.0</td>\n",
       "      <td>0.0</td>\n",
       "    </tr>\n",
       "    <tr>\n",
       "      <th>7</th>\n",
       "      <td>1.0</td>\n",
       "      <td>0.0</td>\n",
       "      <td>0.0</td>\n",
       "      <td>0.0</td>\n",
       "      <td>0.0</td>\n",
       "      <td>0.0</td>\n",
       "      <td>0.0</td>\n",
       "      <td>1.0</td>\n",
       "      <td>0.0</td>\n",
       "      <td>0.0</td>\n",
       "      <td>...</td>\n",
       "      <td>0.0</td>\n",
       "      <td>0.0</td>\n",
       "      <td>1.0</td>\n",
       "      <td>1.0</td>\n",
       "      <td>0.0</td>\n",
       "      <td>1.0</td>\n",
       "      <td>0.0</td>\n",
       "      <td>34.0</td>\n",
       "      <td>2.0</td>\n",
       "      <td>1.0</td>\n",
       "    </tr>\n",
       "    <tr>\n",
       "      <th>8</th>\n",
       "      <td>1.0</td>\n",
       "      <td>0.0</td>\n",
       "      <td>0.0</td>\n",
       "      <td>0.0</td>\n",
       "      <td>0.0</td>\n",
       "      <td>0.0</td>\n",
       "      <td>0.0</td>\n",
       "      <td>1.0</td>\n",
       "      <td>0.0</td>\n",
       "      <td>0.0</td>\n",
       "      <td>...</td>\n",
       "      <td>0.0</td>\n",
       "      <td>0.0</td>\n",
       "      <td>1.0</td>\n",
       "      <td>0.0</td>\n",
       "      <td>1.0</td>\n",
       "      <td>1.0</td>\n",
       "      <td>0.0</td>\n",
       "      <td>23.0</td>\n",
       "      <td>1.0</td>\n",
       "      <td>0.0</td>\n",
       "    </tr>\n",
       "    <tr>\n",
       "      <th>9</th>\n",
       "      <td>0.0</td>\n",
       "      <td>1.0</td>\n",
       "      <td>0.0</td>\n",
       "      <td>0.0</td>\n",
       "      <td>0.0</td>\n",
       "      <td>0.0</td>\n",
       "      <td>0.0</td>\n",
       "      <td>0.0</td>\n",
       "      <td>1.0</td>\n",
       "      <td>0.0</td>\n",
       "      <td>...</td>\n",
       "      <td>0.0</td>\n",
       "      <td>1.0</td>\n",
       "      <td>0.0</td>\n",
       "      <td>0.0</td>\n",
       "      <td>1.0</td>\n",
       "      <td>1.0</td>\n",
       "      <td>0.0</td>\n",
       "      <td>37.0</td>\n",
       "      <td>2.0</td>\n",
       "      <td>0.0</td>\n",
       "    </tr>\n",
       "  </tbody>\n",
       "</table>\n",
       "<p>10 rows × 23 columns</p>\n",
       "</div>"
      ],
      "text/plain": [
       "    0    1    2    3    4    5    6    7    8    9   ...   13   14   15   16  \\\n",
       "0  1.0  0.0  0.0  0.0  0.0  0.0  0.0  0.0  1.0  0.0  ...  0.0  0.0  1.0  0.0   \n",
       "1  1.0  0.0  0.0  0.0  1.0  0.0  0.0  0.0  0.0  0.0  ...  1.0  0.0  0.0  1.0   \n",
       "2  1.0  0.0  0.0  0.0  0.0  1.0  0.0  0.0  0.0  0.0  ...  0.0  0.0  1.0  1.0   \n",
       "3  0.0  1.0  0.0  0.0  0.0  0.0  0.0  1.0  0.0  0.0  ...  0.0  0.0  1.0  0.0   \n",
       "4  0.0  1.0  0.0  0.0  0.0  0.0  0.0  0.0  1.0  0.0  ...  0.0  0.0  1.0  0.0   \n",
       "5  1.0  0.0  0.0  0.0  0.0  0.0  0.0  1.0  0.0  0.0  ...  0.0  0.0  1.0  0.0   \n",
       "6  1.0  0.0  0.0  0.0  0.0  0.0  1.0  0.0  0.0  0.0  ...  0.0  0.0  1.0  0.0   \n",
       "7  1.0  0.0  0.0  0.0  0.0  0.0  0.0  1.0  0.0  0.0  ...  0.0  0.0  1.0  1.0   \n",
       "8  1.0  0.0  0.0  0.0  0.0  0.0  0.0  1.0  0.0  0.0  ...  0.0  0.0  1.0  0.0   \n",
       "9  0.0  1.0  0.0  0.0  0.0  0.0  0.0  0.0  1.0  0.0  ...  0.0  1.0  0.0  0.0   \n",
       "\n",
       "    17   18   19    20   21   22  \n",
       "0  1.0  1.0  0.0  34.0  0.0  0.0  \n",
       "1  0.0  1.0  0.0  28.0  3.0  1.0  \n",
       "2  0.0  1.0  0.0  38.0  2.0  0.0  \n",
       "3  1.0  1.0  0.0  27.0  5.0  1.0  \n",
       "4  1.0  0.0  1.0  24.0  2.0  1.0  \n",
       "5  1.0  1.0  0.0  22.0  0.0  0.0  \n",
       "6  1.0  1.0  0.0  38.0  0.0  0.0  \n",
       "7  0.0  1.0  0.0  34.0  2.0  1.0  \n",
       "8  1.0  1.0  0.0  23.0  1.0  0.0  \n",
       "9  1.0  1.0  0.0  37.0  2.0  0.0  \n",
       "\n",
       "[10 rows x 23 columns]"
      ]
     },
     "execution_count": 19,
     "metadata": {},
     "output_type": "execute_result"
    }
   ],
   "source": [
    "df_encoded.head(10)"
   ]
  },
  {
   "cell_type": "markdown",
   "id": "fd8f2723",
   "metadata": {
    "papermill": {
     "duration": 0.040164,
     "end_time": "2022-09-07T16:33:22.886414",
     "exception": false,
     "start_time": "2022-09-07T16:33:22.846250",
     "status": "completed"
    },
    "tags": []
   },
   "source": [
    "## Correlation Matrix"
   ]
  },
  {
   "cell_type": "code",
   "execution_count": 20,
   "id": "3b55bb13",
   "metadata": {
    "execution": {
     "iopub.execute_input": "2022-09-07T16:33:22.969109Z",
     "iopub.status.busy": "2022-09-07T16:33:22.968644Z",
     "iopub.status.idle": "2022-09-07T16:33:23.293678Z",
     "shell.execute_reply": "2022-09-07T16:33:23.292461Z"
    },
    "papermill": {
     "duration": 0.369374,
     "end_time": "2022-09-07T16:33:23.296188",
     "exception": false,
     "start_time": "2022-09-07T16:33:22.926814",
     "status": "completed"
    },
    "tags": []
   },
   "outputs": [
    {
     "data": {
      "text/plain": [
       "<Figure size 1152x720 with 0 Axes>"
      ]
     },
     "metadata": {},
     "output_type": "display_data"
    },
    {
     "data": {
      "image/png": "[encoded data removed]",
      "text/plain": [
       "<Figure size 1152x720 with 2 Axes>"
      ]
     },
     "metadata": {},
     "output_type": "display_data"
    }
   ],
   "source": [
    "corr_df = df.corr().round(2)\n",
    "max_corr = 0.4\n",
    "\n",
    "plt.figure(figsize=(16,10))\n",
    "mask = np.zeros_like(corr_df)\n",
    "mask[np.triu_indices_from(mask)] = True\n",
    "mask[np.triu_indices_from(mask)] = True\n",
    "with sns.axes_style(\"dark\"):\n",
    "    f, ax = plt.subplots(figsize=(16, 10))\n",
    "    ax = sns.heatmap(corr_df, mask=mask,vmax=max_corr, square=True, annot=True, cmap=\"YlGnBu\")"
   ]
  },
  {
   "cell_type": "markdown",
   "id": "40dbf8b0",
   "metadata": {
    "papermill": {
     "duration": 0.040873,
     "end_time": "2022-09-07T16:33:23.378015",
     "exception": false,
     "start_time": "2022-09-07T16:33:23.337142",
     "status": "completed"
    },
    "tags": []
   },
   "source": [
    "In a correlation matrix, any value under 0.4 indicates a low correlation between features. Since no observed correlation value exceeded 0.24, it can be stated that there is no significant correlation between any two features. As such, all features will be included in the training set. In this project, correlation was tested only for numerical features."
   ]
  },
  {
   "cell_type": "markdown",
   "id": "5a131e5f",
   "metadata": {
    "papermill": {
     "duration": 0.040853,
     "end_time": "2022-09-07T16:33:23.459600",
     "exception": false,
     "start_time": "2022-09-07T16:33:23.418747",
     "status": "completed"
    },
    "tags": []
   },
   "source": [
    "## Feature Scaling"
   ]
  },
  {
   "cell_type": "code",
   "execution_count": 21,
   "id": "343a4f64",
   "metadata": {
    "execution": {
     "iopub.execute_input": "2022-09-07T16:33:23.546102Z",
     "iopub.status.busy": "2022-09-07T16:33:23.545252Z",
     "iopub.status.idle": "2022-09-07T16:33:23.552986Z",
     "shell.execute_reply": "2022-09-07T16:33:23.552043Z"
    },
    "papermill": {
     "duration": 0.054821,
     "end_time": "2022-09-07T16:33:23.555477",
     "exception": false,
     "start_time": "2022-09-07T16:33:23.500656",
     "status": "completed"
    },
    "tags": []
   },
   "outputs": [],
   "source": [
    "#Independent features(excluding the original non-encoded columns)\n",
    "X = df_encoded.drop(df_encoded.columns[22],axis=1)\n",
    "#Dependent variable\n",
    "y = df_encoded[df_encoded.columns[22]]"
   ]
  },
  {
   "cell_type": "code",
   "execution_count": 22,
   "id": "46f76076",
   "metadata": {
    "execution": {
     "iopub.execute_input": "2022-09-07T16:33:23.639634Z",
     "iopub.status.busy": "2022-09-07T16:33:23.638790Z",
     "iopub.status.idle": "2022-09-07T16:33:23.669756Z",
     "shell.execute_reply": "2022-09-07T16:33:23.668577Z"
    },
    "papermill": {
     "duration": 0.075868,
     "end_time": "2022-09-07T16:33:23.672133",
     "exception": false,
     "start_time": "2022-09-07T16:33:23.596265",
     "status": "completed"
    },
    "tags": []
   },
   "outputs": [
    {
     "data": {
      "text/html": [
       "<div>\n",
       "<style scoped>\n",
       "    .dataframe tbody tr th:only-of-type {\n",
       "        vertical-align: middle;\n",
       "    }\n",
       "\n",
       "    .dataframe tbody tr th {\n",
       "        vertical-align: top;\n",
       "    }\n",
       "\n",
       "    .dataframe thead th {\n",
       "        text-align: right;\n",
       "    }\n",
       "</style>\n",
       "<table border=\"1\" class=\"dataframe\">\n",
       "  <thead>\n",
       "    <tr style=\"text-align: right;\">\n",
       "      <th></th>\n",
       "      <th>0</th>\n",
       "      <th>1</th>\n",
       "      <th>2</th>\n",
       "      <th>3</th>\n",
       "      <th>4</th>\n",
       "      <th>5</th>\n",
       "      <th>6</th>\n",
       "      <th>7</th>\n",
       "      <th>8</th>\n",
       "      <th>9</th>\n",
       "      <th>...</th>\n",
       "      <th>12</th>\n",
       "      <th>13</th>\n",
       "      <th>14</th>\n",
       "      <th>15</th>\n",
       "      <th>16</th>\n",
       "      <th>17</th>\n",
       "      <th>18</th>\n",
       "      <th>19</th>\n",
       "      <th>20</th>\n",
       "      <th>21</th>\n",
       "    </tr>\n",
       "  </thead>\n",
       "  <tbody>\n",
       "    <tr>\n",
       "      <th>0</th>\n",
       "      <td>1.0</td>\n",
       "      <td>0.0</td>\n",
       "      <td>0.0</td>\n",
       "      <td>0.0</td>\n",
       "      <td>0.0</td>\n",
       "      <td>0.0</td>\n",
       "      <td>0.0</td>\n",
       "      <td>0.0</td>\n",
       "      <td>1.0</td>\n",
       "      <td>0.0</td>\n",
       "      <td>...</td>\n",
       "      <td>0.0</td>\n",
       "      <td>0.0</td>\n",
       "      <td>0.0</td>\n",
       "      <td>1.0</td>\n",
       "      <td>0.0</td>\n",
       "      <td>1.0</td>\n",
       "      <td>1.0</td>\n",
       "      <td>0.0</td>\n",
       "      <td>34.0</td>\n",
       "      <td>0.0</td>\n",
       "    </tr>\n",
       "    <tr>\n",
       "      <th>1</th>\n",
       "      <td>1.0</td>\n",
       "      <td>0.0</td>\n",
       "      <td>0.0</td>\n",
       "      <td>0.0</td>\n",
       "      <td>1.0</td>\n",
       "      <td>0.0</td>\n",
       "      <td>0.0</td>\n",
       "      <td>0.0</td>\n",
       "      <td>0.0</td>\n",
       "      <td>0.0</td>\n",
       "      <td>...</td>\n",
       "      <td>1.0</td>\n",
       "      <td>1.0</td>\n",
       "      <td>0.0</td>\n",
       "      <td>0.0</td>\n",
       "      <td>1.0</td>\n",
       "      <td>0.0</td>\n",
       "      <td>1.0</td>\n",
       "      <td>0.0</td>\n",
       "      <td>28.0</td>\n",
       "      <td>3.0</td>\n",
       "    </tr>\n",
       "    <tr>\n",
       "      <th>2</th>\n",
       "      <td>1.0</td>\n",
       "      <td>0.0</td>\n",
       "      <td>0.0</td>\n",
       "      <td>0.0</td>\n",
       "      <td>0.0</td>\n",
       "      <td>1.0</td>\n",
       "      <td>0.0</td>\n",
       "      <td>0.0</td>\n",
       "      <td>0.0</td>\n",
       "      <td>0.0</td>\n",
       "      <td>...</td>\n",
       "      <td>0.0</td>\n",
       "      <td>0.0</td>\n",
       "      <td>0.0</td>\n",
       "      <td>1.0</td>\n",
       "      <td>1.0</td>\n",
       "      <td>0.0</td>\n",
       "      <td>1.0</td>\n",
       "      <td>0.0</td>\n",
       "      <td>38.0</td>\n",
       "      <td>2.0</td>\n",
       "    </tr>\n",
       "    <tr>\n",
       "      <th>3</th>\n",
       "      <td>0.0</td>\n",
       "      <td>1.0</td>\n",
       "      <td>0.0</td>\n",
       "      <td>0.0</td>\n",
       "      <td>0.0</td>\n",
       "      <td>0.0</td>\n",
       "      <td>0.0</td>\n",
       "      <td>1.0</td>\n",
       "      <td>0.0</td>\n",
       "      <td>0.0</td>\n",
       "      <td>...</td>\n",
       "      <td>0.0</td>\n",
       "      <td>0.0</td>\n",
       "      <td>0.0</td>\n",
       "      <td>1.0</td>\n",
       "      <td>0.0</td>\n",
       "      <td>1.0</td>\n",
       "      <td>1.0</td>\n",
       "      <td>0.0</td>\n",
       "      <td>27.0</td>\n",
       "      <td>5.0</td>\n",
       "    </tr>\n",
       "    <tr>\n",
       "      <th>4</th>\n",
       "      <td>0.0</td>\n",
       "      <td>1.0</td>\n",
       "      <td>0.0</td>\n",
       "      <td>0.0</td>\n",
       "      <td>0.0</td>\n",
       "      <td>0.0</td>\n",
       "      <td>0.0</td>\n",
       "      <td>0.0</td>\n",
       "      <td>1.0</td>\n",
       "      <td>0.0</td>\n",
       "      <td>...</td>\n",
       "      <td>1.0</td>\n",
       "      <td>0.0</td>\n",
       "      <td>0.0</td>\n",
       "      <td>1.0</td>\n",
       "      <td>0.0</td>\n",
       "      <td>1.0</td>\n",
       "      <td>0.0</td>\n",
       "      <td>1.0</td>\n",
       "      <td>24.0</td>\n",
       "      <td>2.0</td>\n",
       "    </tr>\n",
       "  </tbody>\n",
       "</table>\n",
       "<p>5 rows × 22 columns</p>\n",
       "</div>"
      ],
      "text/plain": [
       "    0    1    2    3    4    5    6    7    8    9   ...   12   13   14   15  \\\n",
       "0  1.0  0.0  0.0  0.0  0.0  0.0  0.0  0.0  1.0  0.0  ...  0.0  0.0  0.0  1.0   \n",
       "1  1.0  0.0  0.0  0.0  1.0  0.0  0.0  0.0  0.0  0.0  ...  1.0  1.0  0.0  0.0   \n",
       "2  1.0  0.0  0.0  0.0  0.0  1.0  0.0  0.0  0.0  0.0  ...  0.0  0.0  0.0  1.0   \n",
       "3  0.0  1.0  0.0  0.0  0.0  0.0  0.0  1.0  0.0  0.0  ...  0.0  0.0  0.0  1.0   \n",
       "4  0.0  1.0  0.0  0.0  0.0  0.0  0.0  0.0  1.0  0.0  ...  1.0  0.0  0.0  1.0   \n",
       "\n",
       "    16   17   18   19    20   21  \n",
       "0  0.0  1.0  1.0  0.0  34.0  0.0  \n",
       "1  1.0  0.0  1.0  0.0  28.0  3.0  \n",
       "2  1.0  0.0  1.0  0.0  38.0  2.0  \n",
       "3  0.0  1.0  1.0  0.0  27.0  5.0  \n",
       "4  0.0  1.0  0.0  1.0  24.0  2.0  \n",
       "\n",
       "[5 rows x 22 columns]"
      ]
     },
     "execution_count": 22,
     "metadata": {},
     "output_type": "execute_result"
    }
   ],
   "source": [
    "X.head()"
   ]
  },
  {
   "cell_type": "code",
   "execution_count": 23,
   "id": "26c2fc80",
   "metadata": {
    "execution": {
     "iopub.execute_input": "2022-09-07T16:33:23.758480Z",
     "iopub.status.busy": "2022-09-07T16:33:23.757459Z",
     "iopub.status.idle": "2022-09-07T16:33:23.765824Z",
     "shell.execute_reply": "2022-09-07T16:33:23.764947Z"
    },
    "papermill": {
     "duration": 0.054766,
     "end_time": "2022-09-07T16:33:23.768096",
     "exception": false,
     "start_time": "2022-09-07T16:33:23.713330",
     "status": "completed"
    },
    "tags": []
   },
   "outputs": [
    {
     "data": {
      "text/plain": [
       "0    0.0\n",
       "1    1.0\n",
       "2    0.0\n",
       "3    1.0\n",
       "4    1.0\n",
       "Name: 22, dtype: float64"
      ]
     },
     "execution_count": 23,
     "metadata": {},
     "output_type": "execute_result"
    }
   ],
   "source": [
    "y.head()"
   ]
  },
  {
   "cell_type": "code",
   "execution_count": 24,
   "id": "3682c9ab",
   "metadata": {
    "execution": {
     "iopub.execute_input": "2022-09-07T16:33:23.852791Z",
     "iopub.status.busy": "2022-09-07T16:33:23.851979Z",
     "iopub.status.idle": "2022-09-07T16:33:23.862058Z",
     "shell.execute_reply": "2022-09-07T16:33:23.861089Z"
    },
    "papermill": {
     "duration": 0.055134,
     "end_time": "2022-09-07T16:33:23.864693",
     "exception": false,
     "start_time": "2022-09-07T16:33:23.809559",
     "status": "completed"
    },
    "tags": []
   },
   "outputs": [],
   "source": [
    "#Scaling the numeric features\n",
    "from sklearn.preprocessing import MinMaxScaler\n",
    "sc = MinMaxScaler()\n",
    "\n",
    "X.iloc[:,[20,21]] = sc.fit_transform(X.iloc[:,[20,21]])"
   ]
  },
  {
   "cell_type": "code",
   "execution_count": 25,
   "id": "94fe3ead",
   "metadata": {
    "execution": {
     "iopub.execute_input": "2022-09-07T16:33:23.948301Z",
     "iopub.status.busy": "2022-09-07T16:33:23.947897Z",
     "iopub.status.idle": "2022-09-07T16:33:23.978889Z",
     "shell.execute_reply": "2022-09-07T16:33:23.977700Z"
    },
    "papermill": {
     "duration": 0.075645,
     "end_time": "2022-09-07T16:33:23.981271",
     "exception": false,
     "start_time": "2022-09-07T16:33:23.905626",
     "status": "completed"
    },
    "tags": []
   },
   "outputs": [
    {
     "data": {
      "text/html": [
       "<div>\n",
       "<style scoped>\n",
       "    .dataframe tbody tr th:only-of-type {\n",
       "        vertical-align: middle;\n",
       "    }\n",
       "\n",
       "    .dataframe tbody tr th {\n",
       "        vertical-align: top;\n",
       "    }\n",
       "\n",
       "    .dataframe thead th {\n",
       "        text-align: right;\n",
       "    }\n",
       "</style>\n",
       "<table border=\"1\" class=\"dataframe\">\n",
       "  <thead>\n",
       "    <tr style=\"text-align: right;\">\n",
       "      <th></th>\n",
       "      <th>0</th>\n",
       "      <th>1</th>\n",
       "      <th>2</th>\n",
       "      <th>3</th>\n",
       "      <th>4</th>\n",
       "      <th>5</th>\n",
       "      <th>6</th>\n",
       "      <th>7</th>\n",
       "      <th>8</th>\n",
       "      <th>9</th>\n",
       "      <th>...</th>\n",
       "      <th>12</th>\n",
       "      <th>13</th>\n",
       "      <th>14</th>\n",
       "      <th>15</th>\n",
       "      <th>16</th>\n",
       "      <th>17</th>\n",
       "      <th>18</th>\n",
       "      <th>19</th>\n",
       "      <th>20</th>\n",
       "      <th>21</th>\n",
       "    </tr>\n",
       "  </thead>\n",
       "  <tbody>\n",
       "    <tr>\n",
       "      <th>0</th>\n",
       "      <td>1.0</td>\n",
       "      <td>0.0</td>\n",
       "      <td>0.0</td>\n",
       "      <td>0.0</td>\n",
       "      <td>0.0</td>\n",
       "      <td>0.0</td>\n",
       "      <td>0.0</td>\n",
       "      <td>0.0</td>\n",
       "      <td>1.0</td>\n",
       "      <td>0.0</td>\n",
       "      <td>...</td>\n",
       "      <td>0.0</td>\n",
       "      <td>0.0</td>\n",
       "      <td>0.0</td>\n",
       "      <td>1.0</td>\n",
       "      <td>0.0</td>\n",
       "      <td>1.0</td>\n",
       "      <td>1.0</td>\n",
       "      <td>0.0</td>\n",
       "      <td>0.631579</td>\n",
       "      <td>0.000000</td>\n",
       "    </tr>\n",
       "    <tr>\n",
       "      <th>1</th>\n",
       "      <td>1.0</td>\n",
       "      <td>0.0</td>\n",
       "      <td>0.0</td>\n",
       "      <td>0.0</td>\n",
       "      <td>1.0</td>\n",
       "      <td>0.0</td>\n",
       "      <td>0.0</td>\n",
       "      <td>0.0</td>\n",
       "      <td>0.0</td>\n",
       "      <td>0.0</td>\n",
       "      <td>...</td>\n",
       "      <td>1.0</td>\n",
       "      <td>1.0</td>\n",
       "      <td>0.0</td>\n",
       "      <td>0.0</td>\n",
       "      <td>1.0</td>\n",
       "      <td>0.0</td>\n",
       "      <td>1.0</td>\n",
       "      <td>0.0</td>\n",
       "      <td>0.315789</td>\n",
       "      <td>0.428571</td>\n",
       "    </tr>\n",
       "    <tr>\n",
       "      <th>2</th>\n",
       "      <td>1.0</td>\n",
       "      <td>0.0</td>\n",
       "      <td>0.0</td>\n",
       "      <td>0.0</td>\n",
       "      <td>0.0</td>\n",
       "      <td>1.0</td>\n",
       "      <td>0.0</td>\n",
       "      <td>0.0</td>\n",
       "      <td>0.0</td>\n",
       "      <td>0.0</td>\n",
       "      <td>...</td>\n",
       "      <td>0.0</td>\n",
       "      <td>0.0</td>\n",
       "      <td>0.0</td>\n",
       "      <td>1.0</td>\n",
       "      <td>1.0</td>\n",
       "      <td>0.0</td>\n",
       "      <td>1.0</td>\n",
       "      <td>0.0</td>\n",
       "      <td>0.842105</td>\n",
       "      <td>0.285714</td>\n",
       "    </tr>\n",
       "    <tr>\n",
       "      <th>3</th>\n",
       "      <td>0.0</td>\n",
       "      <td>1.0</td>\n",
       "      <td>0.0</td>\n",
       "      <td>0.0</td>\n",
       "      <td>0.0</td>\n",
       "      <td>0.0</td>\n",
       "      <td>0.0</td>\n",
       "      <td>1.0</td>\n",
       "      <td>0.0</td>\n",
       "      <td>0.0</td>\n",
       "      <td>...</td>\n",
       "      <td>0.0</td>\n",
       "      <td>0.0</td>\n",
       "      <td>0.0</td>\n",
       "      <td>1.0</td>\n",
       "      <td>0.0</td>\n",
       "      <td>1.0</td>\n",
       "      <td>1.0</td>\n",
       "      <td>0.0</td>\n",
       "      <td>0.263158</td>\n",
       "      <td>0.714286</td>\n",
       "    </tr>\n",
       "    <tr>\n",
       "      <th>4</th>\n",
       "      <td>0.0</td>\n",
       "      <td>1.0</td>\n",
       "      <td>0.0</td>\n",
       "      <td>0.0</td>\n",
       "      <td>0.0</td>\n",
       "      <td>0.0</td>\n",
       "      <td>0.0</td>\n",
       "      <td>0.0</td>\n",
       "      <td>1.0</td>\n",
       "      <td>0.0</td>\n",
       "      <td>...</td>\n",
       "      <td>1.0</td>\n",
       "      <td>0.0</td>\n",
       "      <td>0.0</td>\n",
       "      <td>1.0</td>\n",
       "      <td>0.0</td>\n",
       "      <td>1.0</td>\n",
       "      <td>0.0</td>\n",
       "      <td>1.0</td>\n",
       "      <td>0.105263</td>\n",
       "      <td>0.285714</td>\n",
       "    </tr>\n",
       "  </tbody>\n",
       "</table>\n",
       "<p>5 rows × 22 columns</p>\n",
       "</div>"
      ],
      "text/plain": [
       "    0    1    2    3    4    5    6    7    8    9   ...   12   13   14   15  \\\n",
       "0  1.0  0.0  0.0  0.0  0.0  0.0  0.0  0.0  1.0  0.0  ...  0.0  0.0  0.0  1.0   \n",
       "1  1.0  0.0  0.0  0.0  1.0  0.0  0.0  0.0  0.0  0.0  ...  1.0  1.0  0.0  0.0   \n",
       "2  1.0  0.0  0.0  0.0  0.0  1.0  0.0  0.0  0.0  0.0  ...  0.0  0.0  0.0  1.0   \n",
       "3  0.0  1.0  0.0  0.0  0.0  0.0  0.0  1.0  0.0  0.0  ...  0.0  0.0  0.0  1.0   \n",
       "4  0.0  1.0  0.0  0.0  0.0  0.0  0.0  0.0  1.0  0.0  ...  1.0  0.0  0.0  1.0   \n",
       "\n",
       "    16   17   18   19        20        21  \n",
       "0  0.0  1.0  1.0  0.0  0.631579  0.000000  \n",
       "1  1.0  0.0  1.0  0.0  0.315789  0.428571  \n",
       "2  1.0  0.0  1.0  0.0  0.842105  0.285714  \n",
       "3  0.0  1.0  1.0  0.0  0.263158  0.714286  \n",
       "4  0.0  1.0  0.0  1.0  0.105263  0.285714  \n",
       "\n",
       "[5 rows x 22 columns]"
      ]
     },
     "execution_count": 25,
     "metadata": {},
     "output_type": "execute_result"
    }
   ],
   "source": [
    "X.head()"
   ]
  },
  {
   "cell_type": "markdown",
   "id": "7e0cb2ed",
   "metadata": {
    "papermill": {
     "duration": 0.040867,
     "end_time": "2022-09-07T16:33:24.128264",
     "exception": false,
     "start_time": "2022-09-07T16:33:24.087397",
     "status": "completed"
    },
    "tags": []
   },
   "source": [
    "## Dataset Split"
   ]
  },
  {
   "cell_type": "code",
   "execution_count": 26,
   "id": "63e38730",
   "metadata": {
    "execution": {
     "iopub.execute_input": "2022-09-07T16:33:24.213602Z",
     "iopub.status.busy": "2022-09-07T16:33:24.212470Z",
     "iopub.status.idle": "2022-09-07T16:33:24.271713Z",
     "shell.execute_reply": "2022-09-07T16:33:24.270344Z"
    },
    "papermill": {
     "duration": 0.105163,
     "end_time": "2022-09-07T16:33:24.274727",
     "exception": false,
     "start_time": "2022-09-07T16:33:24.169564",
     "status": "completed"
    },
    "tags": []
   },
   "outputs": [],
   "source": [
    "from sklearn.model_selection import train_test_split"
   ]
  },
  {
   "cell_type": "code",
   "execution_count": 27,
   "id": "3998b106",
   "metadata": {
    "execution": {
     "iopub.execute_input": "2022-09-07T16:33:24.360119Z",
     "iopub.status.busy": "2022-09-07T16:33:24.359330Z",
     "iopub.status.idle": "2022-09-07T16:33:24.367557Z",
     "shell.execute_reply": "2022-09-07T16:33:24.366614Z"
    },
    "papermill": {
     "duration": 0.053843,
     "end_time": "2022-09-07T16:33:24.370142",
     "exception": false,
     "start_time": "2022-09-07T16:33:24.316299",
     "status": "completed"
    },
    "tags": []
   },
   "outputs": [],
   "source": [
    "#Splitting our dataset into training and test sets, comprised of 80% and 20% of all data, respectively\n",
    "X_train, X_test, y_train, y_test = train_test_split(X, y, test_size=0.2, random_state = 101)"
   ]
  },
  {
   "cell_type": "code",
   "execution_count": 28,
   "id": "75c5fb70",
   "metadata": {
    "execution": {
     "iopub.execute_input": "2022-09-07T16:33:24.455081Z",
     "iopub.status.busy": "2022-09-07T16:33:24.454112Z",
     "iopub.status.idle": "2022-09-07T16:33:24.479133Z",
     "shell.execute_reply": "2022-09-07T16:33:24.477955Z"
    },
    "papermill": {
     "duration": 0.069915,
     "end_time": "2022-09-07T16:33:24.481476",
     "exception": false,
     "start_time": "2022-09-07T16:33:24.411561",
     "status": "completed"
    },
    "tags": []
   },
   "outputs": [
    {
     "name": "stdout",
     "output_type": "stream",
     "text": [
      "       0    1    2    3    4    5    6    7    8    9   ...   12   13   14  \\\n",
      "3150  1.0  0.0  0.0  1.0  0.0  0.0  0.0  0.0  0.0  0.0  ...  0.0  0.0  0.0   \n",
      "929   0.0  1.0  0.0  1.0  0.0  0.0  0.0  0.0  0.0  0.0  ...  0.0  0.0  0.0   \n",
      "657   0.0  1.0  0.0  0.0  0.0  0.0  0.0  0.0  1.0  0.0  ...  1.0  0.0  1.0   \n",
      "3124  1.0  0.0  0.0  1.0  0.0  0.0  0.0  0.0  0.0  0.0  ...  0.0  0.0  0.0   \n",
      "72    1.0  0.0  0.0  0.0  0.0  1.0  0.0  0.0  0.0  0.0  ...  1.0  0.0  0.0   \n",
      "...   ...  ...  ...  ...  ...  ...  ...  ...  ...  ...  ...  ...  ...  ...   \n",
      "4079  1.0  0.0  0.0  0.0  0.0  1.0  0.0  0.0  0.0  0.0  ...  1.0  0.0  0.0   \n",
      "4171  0.0  1.0  0.0  0.0  0.0  0.0  0.0  0.0  1.0  0.0  ...  0.0  0.0  1.0   \n",
      "599   1.0  0.0  0.0  0.0  0.0  0.0  0.0  1.0  0.0  0.0  ...  0.0  0.0  0.0   \n",
      "1361  1.0  0.0  0.0  0.0  0.0  0.0  0.0  0.0  0.0  1.0  ...  0.0  0.0  0.0   \n",
      "1547  1.0  0.0  0.0  0.0  0.0  0.0  1.0  0.0  0.0  0.0  ...  0.0  0.0  0.0   \n",
      "\n",
      "       15   16   17   18   19        20        21  \n",
      "3150  1.0  0.0  1.0  1.0  0.0  0.631579  0.571429  \n",
      "929   1.0  0.0  1.0  1.0  0.0  0.315789  0.285714  \n",
      "657   0.0  1.0  0.0  1.0  0.0  0.315789  0.142857  \n",
      "3124  1.0  0.0  1.0  1.0  0.0  0.473684  0.571429  \n",
      "72    1.0  1.0  0.0  1.0  0.0  0.157895  0.428571  \n",
      "...   ...  ...  ...  ...  ...       ...       ...  \n",
      "4079  1.0  0.0  1.0  1.0  0.0  0.578947  0.571429  \n",
      "4171  0.0  0.0  1.0  1.0  0.0  0.210526  0.571429  \n",
      "599   1.0  0.0  1.0  1.0  0.0  0.315789  0.285714  \n",
      "1361  1.0  1.0  0.0  0.0  1.0  0.263158  0.714286  \n",
      "1547  1.0  1.0  0.0  0.0  1.0  0.263158  0.714286  \n",
      "\n",
      "[3722 rows x 22 columns] 3150    0.0\n",
      "929     0.0\n",
      "657     0.0\n",
      "3124    0.0\n",
      "72      0.0\n",
      "       ... \n",
      "4079    0.0\n",
      "4171    0.0\n",
      "599     0.0\n",
      "1361    1.0\n",
      "1547    1.0\n",
      "Name: 22, Length: 3722, dtype: float64\n"
     ]
    }
   ],
   "source": [
    "print(X_train,y_train)"
   ]
  },
  {
   "cell_type": "code",
   "execution_count": 29,
   "id": "575ca17b",
   "metadata": {
    "execution": {
     "iopub.execute_input": "2022-09-07T16:33:24.566675Z",
     "iopub.status.busy": "2022-09-07T16:33:24.565856Z",
     "iopub.status.idle": "2022-09-07T16:33:24.591803Z",
     "shell.execute_reply": "2022-09-07T16:33:24.590604Z"
    },
    "papermill": {
     "duration": 0.072465,
     "end_time": "2022-09-07T16:33:24.595369",
     "exception": false,
     "start_time": "2022-09-07T16:33:24.522904",
     "status": "completed"
    },
    "tags": []
   },
   "outputs": [
    {
     "name": "stdout",
     "output_type": "stream",
     "text": [
      "       0    1    2    3    4    5    6    7    8    9   ...   12   13   14  \\\n",
      "2911  1.0  0.0  0.0  0.0  1.0  0.0  0.0  0.0  0.0  0.0  ...  0.0  0.0  0.0   \n",
      "2182  1.0  0.0  0.0  0.0  0.0  0.0  0.0  0.0  1.0  0.0  ...  0.0  0.0  0.0   \n",
      "497   1.0  0.0  0.0  0.0  0.0  0.0  0.0  1.0  0.0  0.0  ...  0.0  0.0  0.0   \n",
      "4283  1.0  0.0  0.0  0.0  1.0  0.0  0.0  0.0  0.0  0.0  ...  0.0  0.0  0.0   \n",
      "1661  1.0  0.0  0.0  0.0  0.0  0.0  0.0  0.0  1.0  0.0  ...  0.0  0.0  1.0   \n",
      "...   ...  ...  ...  ...  ...  ...  ...  ...  ...  ...  ...  ...  ...  ...   \n",
      "1739  1.0  0.0  0.0  0.0  0.0  0.0  1.0  0.0  0.0  0.0  ...  1.0  0.0  1.0   \n",
      "2352  1.0  0.0  0.0  0.0  1.0  0.0  0.0  0.0  0.0  0.0  ...  0.0  0.0  0.0   \n",
      "3264  0.0  1.0  0.0  0.0  0.0  0.0  0.0  1.0  0.0  0.0  ...  0.0  0.0  0.0   \n",
      "3172  1.0  0.0  0.0  0.0  0.0  0.0  1.0  0.0  0.0  0.0  ...  0.0  0.0  0.0   \n",
      "1763  1.0  0.0  0.0  0.0  0.0  1.0  0.0  0.0  0.0  0.0  ...  1.0  0.0  0.0   \n",
      "\n",
      "       15   16   17   18   19        20        21  \n",
      "2911  1.0  1.0  0.0  1.0  0.0  0.315789  0.142857  \n",
      "2182  1.0  0.0  1.0  1.0  0.0  0.368421  0.285714  \n",
      "497   1.0  1.0  0.0  1.0  0.0  0.315789  0.428571  \n",
      "4283  1.0  1.0  0.0  1.0  0.0  0.157895  0.428571  \n",
      "1661  0.0  1.0  0.0  1.0  0.0  0.315789  0.142857  \n",
      "...   ...  ...  ...  ...  ...       ...       ...  \n",
      "1739  0.0  1.0  0.0  1.0  0.0  0.105263  0.285714  \n",
      "2352  1.0  1.0  0.0  1.0  0.0  0.263158  0.714286  \n",
      "3264  1.0  1.0  0.0  1.0  0.0  0.578947  0.142857  \n",
      "3172  1.0  0.0  1.0  1.0  0.0  0.526316  0.571429  \n",
      "1763  1.0  0.0  1.0  1.0  0.0  0.105263  0.285714  \n",
      "\n",
      "[931 rows x 22 columns] 2911    0.0\n",
      "2182    0.0\n",
      "497     0.0\n",
      "4283    0.0\n",
      "1661    0.0\n",
      "       ... \n",
      "1739    1.0\n",
      "2352    0.0\n",
      "3264    0.0\n",
      "3172    0.0\n",
      "1763    0.0\n",
      "Name: 22, Length: 931, dtype: float64\n"
     ]
    }
   ],
   "source": [
    "print(X_test,y_test)"
   ]
  },
  {
   "cell_type": "markdown",
   "id": "60977099",
   "metadata": {
    "papermill": {
     "duration": 0.042185,
     "end_time": "2022-09-07T16:33:24.679677",
     "exception": false,
     "start_time": "2022-09-07T16:33:24.637492",
     "status": "completed"
    },
    "tags": []
   },
   "source": [
    "## Model Training"
   ]
  },
  {
   "cell_type": "code",
   "execution_count": 30,
   "id": "35ff04ea",
   "metadata": {
    "execution": {
     "iopub.execute_input": "2022-09-07T16:33:24.765494Z",
     "iopub.status.busy": "2022-09-07T16:33:24.764470Z",
     "iopub.status.idle": "2022-09-07T16:33:24.769426Z",
     "shell.execute_reply": "2022-09-07T16:33:24.768470Z"
    },
    "papermill": {
     "duration": 0.050486,
     "end_time": "2022-09-07T16:33:24.771713",
     "exception": false,
     "start_time": "2022-09-07T16:33:24.721227",
     "status": "completed"
    },
    "tags": []
   },
   "outputs": [],
   "source": [
    "from sklearn.metrics import confusion_matrix, accuracy_score, precision_score, f1_score,recall_score "
   ]
  },
  {
   "cell_type": "markdown",
   "id": "98f9008a",
   "metadata": {
    "papermill": {
     "duration": 0.041729,
     "end_time": "2022-09-07T16:33:24.856268",
     "exception": false,
     "start_time": "2022-09-07T16:33:24.814539",
     "status": "completed"
    },
    "tags": []
   },
   "source": [
    "### Logistic Regression"
   ]
  },
  {
   "cell_type": "code",
   "execution_count": 31,
   "id": "50afd649",
   "metadata": {
    "execution": {
     "iopub.execute_input": "2022-09-07T16:33:24.942499Z",
     "iopub.status.busy": "2022-09-07T16:33:24.941765Z",
     "iopub.status.idle": "2022-09-07T16:33:25.689502Z",
     "shell.execute_reply": "2022-09-07T16:33:25.688374Z"
    },
    "papermill": {
     "duration": 0.793917,
     "end_time": "2022-09-07T16:33:25.692141",
     "exception": false,
     "start_time": "2022-09-07T16:33:24.898224",
     "status": "completed"
    },
    "tags": []
   },
   "outputs": [],
   "source": [
    "import statsmodels.api as sm\n",
    "from sklearn.metrics import classification_report, confusion_matrix,plot_confusion_matrix\n",
    "from sklearn.model_selection import train_test_split\n",
    "from sklearn.preprocessing import StandardScaler\n",
    "from sklearn.linear_model import LogisticRegression"
   ]
  },
  {
   "cell_type": "code",
   "execution_count": 32,
   "id": "f99e3d4a",
   "metadata": {
    "execution": {
     "iopub.execute_input": "2022-09-07T16:33:25.777987Z",
     "iopub.status.busy": "2022-09-07T16:33:25.777582Z",
     "iopub.status.idle": "2022-09-07T16:33:25.831502Z",
     "shell.execute_reply": "2022-09-07T16:33:25.830344Z"
    },
    "papermill": {
     "duration": 0.100358,
     "end_time": "2022-09-07T16:33:25.834374",
     "exception": false,
     "start_time": "2022-09-07T16:33:25.734016",
     "status": "completed"
    },
    "tags": []
   },
   "outputs": [
    {
     "data": {
      "text/plain": [
       "LogisticRegression(random_state=101)"
      ]
     },
     "execution_count": 32,
     "metadata": {},
     "output_type": "execute_result"
    }
   ],
   "source": [
    "#Creating a classifier and training it on our data\n",
    "lg_classifier = LogisticRegression(random_state = 101)\n",
    "lg_classifier.fit(X_train, y_train)"
   ]
  },
  {
   "cell_type": "code",
   "execution_count": 33,
   "id": "3ebaefa2",
   "metadata": {
    "execution": {
     "iopub.execute_input": "2022-09-07T16:33:25.961286Z",
     "iopub.status.busy": "2022-09-07T16:33:25.960897Z",
     "iopub.status.idle": "2022-09-07T16:33:25.969443Z",
     "shell.execute_reply": "2022-09-07T16:33:25.968302Z"
    },
    "papermill": {
     "duration": 0.070898,
     "end_time": "2022-09-07T16:33:25.972334",
     "exception": false,
     "start_time": "2022-09-07T16:33:25.901436",
     "status": "completed"
    },
    "tags": []
   },
   "outputs": [],
   "source": [
    "#Using the model to make a prediction, given our test set\n",
    "y_pred_lg = lg_classifier.predict(X_test)"
   ]
  },
  {
   "cell_type": "code",
   "execution_count": 34,
   "id": "c4ef2d6e",
   "metadata": {
    "execution": {
     "iopub.execute_input": "2022-09-07T16:33:26.100063Z",
     "iopub.status.busy": "2022-09-07T16:33:26.099674Z",
     "iopub.status.idle": "2022-09-07T16:33:26.371692Z",
     "shell.execute_reply": "2022-09-07T16:33:26.370882Z"
    },
    "papermill": {
     "duration": 0.335488,
     "end_time": "2022-09-07T16:33:26.374146",
     "exception": false,
     "start_time": "2022-09-07T16:33:26.038658",
     "status": "completed"
    },
    "tags": []
   },
   "outputs": [
    {
     "name": "stderr",
     "output_type": "stream",
     "text": [
      "/opt/conda/lib/python3.7/site-packages/sklearn/utils/deprecation.py:87: FutureWarning: Function plot_confusion_matrix is deprecated; Function `plot_confusion_matrix` is deprecated in 1.0 and will be removed in 1.2. Use one of the class methods: ConfusionMatrixDisplay.from_predictions or ConfusionMatrixDisplay.from_estimator.\n",
      "  warnings.warn(msg, category=FutureWarning)\n"
     ]
    },
    {
     "data": {
      "text/plain": [
       "<sklearn.metrics._plot.confusion_matrix.ConfusionMatrixDisplay at 0x7f792e2ced50>"
      ]
     },
     "execution_count": 34,
     "metadata": {},
     "output_type": "execute_result"
    },
    {
     "data": {
      "image/png": "[encoded data removed]",
      "text/plain": [
       "<Figure size 432x288 with 2 Axes>"
      ]
     },
     "metadata": {
      "needs_background": "light"
     },
     "output_type": "display_data"
    }
   ],
   "source": [
    "#Generating the confusion matrix\n",
    "plot_confusion_matrix(lg_classifier,\n",
    "                      X_test,\n",
    "                      y_test,\n",
    "                      values_format='d',\n",
    "                      display_labels=['Did not leave','Left'])"
   ]
  },
  {
   "cell_type": "code",
   "execution_count": 35,
   "id": "bd827513",
   "metadata": {
    "execution": {
     "iopub.execute_input": "2022-09-07T16:33:26.460194Z",
     "iopub.status.busy": "2022-09-07T16:33:26.459399Z",
     "iopub.status.idle": "2022-09-07T16:33:26.475711Z",
     "shell.execute_reply": "2022-09-07T16:33:26.474177Z"
    },
    "papermill": {
     "duration": 0.062089,
     "end_time": "2022-09-07T16:33:26.478154",
     "exception": false,
     "start_time": "2022-09-07T16:33:26.416065",
     "status": "completed"
    },
    "tags": []
   },
   "outputs": [
    {
     "name": "stdout",
     "output_type": "stream",
     "text": [
      "              precision    recall  f1-score   support\n",
      "\n",
      "         0.0       0.81      0.93      0.87       639\n",
      "         1.0       0.78      0.53      0.64       292\n",
      "\n",
      "    accuracy                           0.81       931\n",
      "   macro avg       0.80      0.73      0.75       931\n",
      "weighted avg       0.80      0.81      0.80       931\n",
      "\n"
     ]
    },
    {
     "data": {
      "text/plain": [
       "0.807733619763695"
      ]
     },
     "execution_count": 35,
     "metadata": {},
     "output_type": "execute_result"
    }
   ],
   "source": [
    "#Printing the classification report for the prediction, highlighting the accuracy score\n",
    "print(classification_report(y_test, y_pred_lg))\n",
    "accuracy_score(y_test,y_pred_lg)"
   ]
  },
  {
   "cell_type": "markdown",
   "id": "518e23cc",
   "metadata": {
    "papermill": {
     "duration": 0.043083,
     "end_time": "2022-09-07T16:33:26.564447",
     "exception": false,
     "start_time": "2022-09-07T16:33:26.521364",
     "status": "completed"
    },
    "tags": []
   },
   "source": [
    "### K-Nearest Neighbors"
   ]
  },
  {
   "cell_type": "code",
   "execution_count": 36,
   "id": "2f3db776",
   "metadata": {
    "execution": {
     "iopub.execute_input": "2022-09-07T16:33:26.651301Z",
     "iopub.status.busy": "2022-09-07T16:33:26.650332Z",
     "iopub.status.idle": "2022-09-07T16:33:26.703287Z",
     "shell.execute_reply": "2022-09-07T16:33:26.702158Z"
    },
    "papermill": {
     "duration": 0.09904,
     "end_time": "2022-09-07T16:33:26.705965",
     "exception": false,
     "start_time": "2022-09-07T16:33:26.606925",
     "status": "completed"
    },
    "tags": []
   },
   "outputs": [],
   "source": [
    "from sklearn.metrics import classification_report, confusion_matrix\n",
    "from sklearn.neighbors import KNeighborsClassifier"
   ]
  },
  {
   "cell_type": "code",
   "execution_count": 37,
   "id": "87c00d00",
   "metadata": {
    "execution": {
     "iopub.execute_input": "2022-09-07T16:33:26.792928Z",
     "iopub.status.busy": "2022-09-07T16:33:26.792173Z",
     "iopub.status.idle": "2022-09-07T16:33:26.801389Z",
     "shell.execute_reply": "2022-09-07T16:33:26.800547Z"
    },
    "papermill": {
     "duration": 0.055351,
     "end_time": "2022-09-07T16:33:26.803530",
     "exception": false,
     "start_time": "2022-09-07T16:33:26.748179",
     "status": "completed"
    },
    "tags": []
   },
   "outputs": [
    {
     "data": {
      "text/plain": [
       "KNeighborsClassifier(n_neighbors=15)"
      ]
     },
     "execution_count": 37,
     "metadata": {},
     "output_type": "execute_result"
    }
   ],
   "source": [
    "knn_classifier = KNeighborsClassifier(n_neighbors = 15)\n",
    "knn_classifier.fit(X_train, y_train)"
   ]
  },
  {
   "cell_type": "code",
   "execution_count": 38,
   "id": "4dab403c",
   "metadata": {
    "execution": {
     "iopub.execute_input": "2022-09-07T16:33:26.891036Z",
     "iopub.status.busy": "2022-09-07T16:33:26.890578Z",
     "iopub.status.idle": "2022-09-07T16:33:27.043045Z",
     "shell.execute_reply": "2022-09-07T16:33:27.041802Z"
    },
    "papermill": {
     "duration": 0.19981,
     "end_time": "2022-09-07T16:33:27.045750",
     "exception": false,
     "start_time": "2022-09-07T16:33:26.845940",
     "status": "completed"
    },
    "tags": []
   },
   "outputs": [],
   "source": [
    "y_pred_knn = knn_classifier.predict(X_test)"
   ]
  },
  {
   "cell_type": "code",
   "execution_count": 39,
   "id": "27c040c7",
   "metadata": {
    "execution": {
     "iopub.execute_input": "2022-09-07T16:33:27.132743Z",
     "iopub.status.busy": "2022-09-07T16:33:27.132347Z",
     "iopub.status.idle": "2022-09-07T16:33:27.468408Z",
     "shell.execute_reply": "2022-09-07T16:33:27.467154Z"
    },
    "papermill": {
     "duration": 0.382727,
     "end_time": "2022-09-07T16:33:27.471077",
     "exception": false,
     "start_time": "2022-09-07T16:33:27.088350",
     "status": "completed"
    },
    "tags": []
   },
   "outputs": [
    {
     "name": "stderr",
     "output_type": "stream",
     "text": [
      "/opt/conda/lib/python3.7/site-packages/sklearn/utils/deprecation.py:87: FutureWarning: Function plot_confusion_matrix is deprecated; Function `plot_confusion_matrix` is deprecated in 1.0 and will be removed in 1.2. Use one of the class methods: ConfusionMatrixDisplay.from_predictions or ConfusionMatrixDisplay.from_estimator.\n",
      "  warnings.warn(msg, category=FutureWarning)\n"
     ]
    },
    {
     "data": {
      "text/plain": [
       "<sklearn.metrics._plot.confusion_matrix.ConfusionMatrixDisplay at 0x7f792c475bd0>"
      ]
     },
     "execution_count": 39,
     "metadata": {},
     "output_type": "execute_result"
    },
    {
     "data": {
      "image/png": "[encoded data removed]",
      "text/plain": [
       "<Figure size 432x288 with 2 Axes>"
      ]
     },
     "metadata": {
      "needs_background": "light"
     },
     "output_type": "display_data"
    }
   ],
   "source": [
    "plot_confusion_matrix(knn_classifier,\n",
    "                      X_test,\n",
    "                      y_test,\n",
    "                      values_format='d',\n",
    "                      display_labels=['Did not leave','Left'])"
   ]
  },
  {
   "cell_type": "code",
   "execution_count": 40,
   "id": "2397ddca",
   "metadata": {
    "execution": {
     "iopub.execute_input": "2022-09-07T16:33:27.558525Z",
     "iopub.status.busy": "2022-09-07T16:33:27.557793Z",
     "iopub.status.idle": "2022-09-07T16:33:27.572840Z",
     "shell.execute_reply": "2022-09-07T16:33:27.571586Z"
    },
    "papermill": {
     "duration": 0.061808,
     "end_time": "2022-09-07T16:33:27.575594",
     "exception": false,
     "start_time": "2022-09-07T16:33:27.513786",
     "status": "completed"
    },
    "tags": []
   },
   "outputs": [
    {
     "name": "stdout",
     "output_type": "stream",
     "text": [
      "              precision    recall  f1-score   support\n",
      "\n",
      "         0.0       0.84      0.96      0.90       639\n",
      "         1.0       0.87      0.59      0.71       292\n",
      "\n",
      "    accuracy                           0.85       931\n",
      "   macro avg       0.86      0.78      0.80       931\n",
      "weighted avg       0.85      0.85      0.84       931\n",
      "\n"
     ]
    },
    {
     "data": {
      "text/plain": [
       "0.8453276047261009"
      ]
     },
     "execution_count": 40,
     "metadata": {},
     "output_type": "execute_result"
    }
   ],
   "source": [
    "print(classification_report(y_test, y_pred_knn))\n",
    "accuracy_score(y_test,y_pred_knn)"
   ]
  },
  {
   "cell_type": "markdown",
   "id": "c7d8a220",
   "metadata": {
    "papermill": {
     "duration": 0.042314,
     "end_time": "2022-09-07T16:33:27.661597",
     "exception": false,
     "start_time": "2022-09-07T16:33:27.619283",
     "status": "completed"
    },
    "tags": []
   },
   "source": [
    "### Random Forest"
   ]
  },
  {
   "cell_type": "code",
   "execution_count": 41,
   "id": "ffaebcc6",
   "metadata": {
    "execution": {
     "iopub.execute_input": "2022-09-07T16:33:27.749423Z",
     "iopub.status.busy": "2022-09-07T16:33:27.749021Z",
     "iopub.status.idle": "2022-09-07T16:33:27.835233Z",
     "shell.execute_reply": "2022-09-07T16:33:27.834125Z"
    },
    "papermill": {
     "duration": 0.133496,
     "end_time": "2022-09-07T16:33:27.837848",
     "exception": false,
     "start_time": "2022-09-07T16:33:27.704352",
     "status": "completed"
    },
    "tags": []
   },
   "outputs": [],
   "source": [
    "from sklearn.ensemble import RandomForestClassifier"
   ]
  },
  {
   "cell_type": "code",
   "execution_count": 42,
   "id": "cac5773d",
   "metadata": {
    "execution": {
     "iopub.execute_input": "2022-09-07T16:33:27.926849Z",
     "iopub.status.busy": "2022-09-07T16:33:27.925548Z",
     "iopub.status.idle": "2022-09-07T16:33:27.978491Z",
     "shell.execute_reply": "2022-09-07T16:33:27.977377Z"
    },
    "papermill": {
     "duration": 0.099817,
     "end_time": "2022-09-07T16:33:27.980939",
     "exception": false,
     "start_time": "2022-09-07T16:33:27.881122",
     "status": "completed"
    },
    "tags": []
   },
   "outputs": [
    {
     "data": {
      "text/plain": [
       "RandomForestClassifier(criterion='entropy', n_estimators=10, random_state=101)"
      ]
     },
     "execution_count": 42,
     "metadata": {},
     "output_type": "execute_result"
    }
   ],
   "source": [
    "rdf_classifier = RandomForestClassifier(n_estimators = 10,criterion = 'entropy', random_state = 101)\n",
    "rdf_classifier.fit(X_train, y_train)"
   ]
  },
  {
   "cell_type": "code",
   "execution_count": 43,
   "id": "187d0ebd",
   "metadata": {
    "execution": {
     "iopub.execute_input": "2022-09-07T16:33:28.070112Z",
     "iopub.status.busy": "2022-09-07T16:33:28.068895Z",
     "iopub.status.idle": "2022-09-07T16:33:28.080094Z",
     "shell.execute_reply": "2022-09-07T16:33:28.078892Z"
    },
    "papermill": {
     "duration": 0.058564,
     "end_time": "2022-09-07T16:33:28.083012",
     "exception": false,
     "start_time": "2022-09-07T16:33:28.024448",
     "status": "completed"
    },
    "tags": []
   },
   "outputs": [],
   "source": [
    "y_pred_rdf = rdf_classifier.predict(X_test)"
   ]
  },
  {
   "cell_type": "code",
   "execution_count": 44,
   "id": "6ffedd14",
   "metadata": {
    "execution": {
     "iopub.execute_input": "2022-09-07T16:33:28.171728Z",
     "iopub.status.busy": "2022-09-07T16:33:28.171286Z",
     "iopub.status.idle": "2022-09-07T16:33:28.370020Z",
     "shell.execute_reply": "2022-09-07T16:33:28.368722Z"
    },
    "papermill": {
     "duration": 0.246434,
     "end_time": "2022-09-07T16:33:28.373142",
     "exception": false,
     "start_time": "2022-09-07T16:33:28.126708",
     "status": "completed"
    },
    "tags": []
   },
   "outputs": [
    {
     "name": "stderr",
     "output_type": "stream",
     "text": [
      "/opt/conda/lib/python3.7/site-packages/sklearn/utils/deprecation.py:87: FutureWarning: Function plot_confusion_matrix is deprecated; Function `plot_confusion_matrix` is deprecated in 1.0 and will be removed in 1.2. Use one of the class methods: ConfusionMatrixDisplay.from_predictions or ConfusionMatrixDisplay.from_estimator.\n",
      "  warnings.warn(msg, category=FutureWarning)\n"
     ]
    },
    {
     "data": {
      "text/plain": [
       "<sklearn.metrics._plot.confusion_matrix.ConfusionMatrixDisplay at 0x7f792c601310>"
      ]
     },
     "execution_count": 44,
     "metadata": {},
     "output_type": "execute_result"
    },
    {
     "data": {
      "image/png": "[encoded data removed]",
      "text/plain": [
       "<Figure size 432x288 with 2 Axes>"
      ]
     },
     "metadata": {
      "needs_background": "light"
     },
     "output_type": "display_data"
    }
   ],
   "source": [
    "plot_confusion_matrix(rdf_classifier,\n",
    "                      X_test,\n",
    "                      y_test,\n",
    "                      values_format='d',\n",
    "                      display_labels=['Did not leave','Left'])"
   ]
  },
  {
   "cell_type": "code",
   "execution_count": 45,
   "id": "48d62567",
   "metadata": {
    "execution": {
     "iopub.execute_input": "2022-09-07T16:33:28.462165Z",
     "iopub.status.busy": "2022-09-07T16:33:28.461159Z",
     "iopub.status.idle": "2022-09-07T16:33:28.477454Z",
     "shell.execute_reply": "2022-09-07T16:33:28.475984Z"
    },
    "papermill": {
     "duration": 0.063184,
     "end_time": "2022-09-07T16:33:28.479914",
     "exception": false,
     "start_time": "2022-09-07T16:33:28.416730",
     "status": "completed"
    },
    "tags": []
   },
   "outputs": [
    {
     "name": "stdout",
     "output_type": "stream",
     "text": [
      "              precision    recall  f1-score   support\n",
      "\n",
      "         0.0       0.84      0.92      0.88       639\n",
      "         1.0       0.78      0.62      0.69       292\n",
      "\n",
      "    accuracy                           0.83       931\n",
      "   macro avg       0.81      0.77      0.78       931\n",
      "weighted avg       0.82      0.83      0.82       931\n",
      "\n"
     ]
    },
    {
     "data": {
      "text/plain": [
       "0.8259935553168636"
      ]
     },
     "execution_count": 45,
     "metadata": {},
     "output_type": "execute_result"
    }
   ],
   "source": [
    "print(classification_report(y_test, y_pred_rdf))\n",
    "accuracy_score(y_test,y_pred_rdf)"
   ]
  },
  {
   "cell_type": "markdown",
   "id": "4b69c9f1",
   "metadata": {
    "papermill": {
     "duration": 0.043613,
     "end_time": "2022-09-07T16:33:28.567933",
     "exception": false,
     "start_time": "2022-09-07T16:33:28.524320",
     "status": "completed"
    },
    "tags": []
   },
   "source": [
    "### Support Vector Machines (SVM)"
   ]
  },
  {
   "cell_type": "code",
   "execution_count": 46,
   "id": "b158140f",
   "metadata": {
    "execution": {
     "iopub.execute_input": "2022-09-07T16:33:28.658635Z",
     "iopub.status.busy": "2022-09-07T16:33:28.657848Z",
     "iopub.status.idle": "2022-09-07T16:33:28.662406Z",
     "shell.execute_reply": "2022-09-07T16:33:28.661514Z"
    },
    "papermill": {
     "duration": 0.05209,
     "end_time": "2022-09-07T16:33:28.664573",
     "exception": false,
     "start_time": "2022-09-07T16:33:28.612483",
     "status": "completed"
    },
    "tags": []
   },
   "outputs": [],
   "source": [
    "from sklearn.svm import SVC"
   ]
  },
  {
   "cell_type": "code",
   "execution_count": 47,
   "id": "5bfa87d1",
   "metadata": {
    "execution": {
     "iopub.execute_input": "2022-09-07T16:33:28.754629Z",
     "iopub.status.busy": "2022-09-07T16:33:28.753933Z",
     "iopub.status.idle": "2022-09-07T16:33:29.228753Z",
     "shell.execute_reply": "2022-09-07T16:33:29.227545Z"
    },
    "papermill": {
     "duration": 0.522979,
     "end_time": "2022-09-07T16:33:29.231269",
     "exception": false,
     "start_time": "2022-09-07T16:33:28.708290",
     "status": "completed"
    },
    "tags": []
   },
   "outputs": [
    {
     "data": {
      "text/plain": [
       "SVC(kernel='linear', random_state=101)"
      ]
     },
     "execution_count": 47,
     "metadata": {},
     "output_type": "execute_result"
    }
   ],
   "source": [
    "svm_classifier = SVC(kernel='linear',random_state=101)\n",
    "svm_classifier.fit(X_train, y_train)"
   ]
  },
  {
   "cell_type": "code",
   "execution_count": 48,
   "id": "eda9ca35",
   "metadata": {
    "execution": {
     "iopub.execute_input": "2022-09-07T16:33:29.321474Z",
     "iopub.status.busy": "2022-09-07T16:33:29.320675Z",
     "iopub.status.idle": "2022-09-07T16:33:29.382605Z",
     "shell.execute_reply": "2022-09-07T16:33:29.381525Z"
    },
    "papermill": {
     "duration": 0.109961,
     "end_time": "2022-09-07T16:33:29.385128",
     "exception": false,
     "start_time": "2022-09-07T16:33:29.275167",
     "status": "completed"
    },
    "tags": []
   },
   "outputs": [],
   "source": [
    "y_pred_svm = svm_classifier.predict(X_test)"
   ]
  },
  {
   "cell_type": "code",
   "execution_count": 49,
   "id": "edfe8168",
   "metadata": {
    "execution": {
     "iopub.execute_input": "2022-09-07T16:33:29.475602Z",
     "iopub.status.busy": "2022-09-07T16:33:29.474993Z",
     "iopub.status.idle": "2022-09-07T16:33:29.763996Z",
     "shell.execute_reply": "2022-09-07T16:33:29.762772Z"
    },
    "papermill": {
     "duration": 0.337536,
     "end_time": "2022-09-07T16:33:29.766602",
     "exception": false,
     "start_time": "2022-09-07T16:33:29.429066",
     "status": "completed"
    },
    "tags": []
   },
   "outputs": [
    {
     "name": "stderr",
     "output_type": "stream",
     "text": [
      "/opt/conda/lib/python3.7/site-packages/sklearn/utils/deprecation.py:87: FutureWarning: Function plot_confusion_matrix is deprecated; Function `plot_confusion_matrix` is deprecated in 1.0 and will be removed in 1.2. Use one of the class methods: ConfusionMatrixDisplay.from_predictions or ConfusionMatrixDisplay.from_estimator.\n",
      "  warnings.warn(msg, category=FutureWarning)\n"
     ]
    },
    {
     "data": {
      "text/plain": [
       "<sklearn.metrics._plot.confusion_matrix.ConfusionMatrixDisplay at 0x7f792be89a90>"
      ]
     },
     "execution_count": 49,
     "metadata": {},
     "output_type": "execute_result"
    },
    {
     "data": {
      "image/png": "[encoded data removed]",
      "text/plain": [
       "<Figure size 432x288 with 2 Axes>"
      ]
     },
     "metadata": {
      "needs_background": "light"
     },
     "output_type": "display_data"
    }
   ],
   "source": [
    "plot_confusion_matrix(svm_classifier,\n",
    "                      X_test,\n",
    "                      y_test,\n",
    "                      values_format='d',\n",
    "                      display_labels=['Did not leave','Left'])"
   ]
  },
  {
   "cell_type": "code",
   "execution_count": 50,
   "id": "9c206c7e",
   "metadata": {
    "execution": {
     "iopub.execute_input": "2022-09-07T16:33:29.859080Z",
     "iopub.status.busy": "2022-09-07T16:33:29.858356Z",
     "iopub.status.idle": "2022-09-07T16:33:29.873568Z",
     "shell.execute_reply": "2022-09-07T16:33:29.871940Z"
    },
    "papermill": {
     "duration": 0.063343,
     "end_time": "2022-09-07T16:33:29.876007",
     "exception": false,
     "start_time": "2022-09-07T16:33:29.812664",
     "status": "completed"
    },
    "tags": []
   },
   "outputs": [
    {
     "name": "stdout",
     "output_type": "stream",
     "text": [
      "              precision    recall  f1-score   support\n",
      "\n",
      "         0.0       0.79      0.95      0.86       639\n",
      "         1.0       0.81      0.45      0.57       292\n",
      "\n",
      "    accuracy                           0.79       931\n",
      "   macro avg       0.80      0.70      0.72       931\n",
      "weighted avg       0.80      0.79      0.77       931\n",
      "\n"
     ]
    },
    {
     "data": {
      "text/plain": [
       "0.7926960257787325"
      ]
     },
     "execution_count": 50,
     "metadata": {},
     "output_type": "execute_result"
    }
   ],
   "source": [
    "print(classification_report(y_test, y_pred_svm))\n",
    "accuracy_score(y_test,y_pred_svm)"
   ]
  },
  {
   "cell_type": "markdown",
   "id": "e0ddfd97",
   "metadata": {
    "papermill": {
     "duration": 0.044346,
     "end_time": "2022-09-07T16:33:29.965644",
     "exception": false,
     "start_time": "2022-09-07T16:33:29.921298",
     "status": "completed"
    },
    "tags": []
   },
   "source": [
    "### XGBoost"
   ]
  },
  {
   "cell_type": "code",
   "execution_count": 51,
   "id": "3c05e069",
   "metadata": {
    "execution": {
     "iopub.execute_input": "2022-09-07T16:33:30.058726Z",
     "iopub.status.busy": "2022-09-07T16:33:30.057948Z",
     "iopub.status.idle": "2022-09-07T16:33:30.191245Z",
     "shell.execute_reply": "2022-09-07T16:33:30.189797Z"
    },
    "papermill": {
     "duration": 0.182509,
     "end_time": "2022-09-07T16:33:30.194046",
     "exception": false,
     "start_time": "2022-09-07T16:33:30.011537",
     "status": "completed"
    },
    "tags": []
   },
   "outputs": [],
   "source": [
    "import xgboost as xgb"
   ]
  },
  {
   "cell_type": "code",
   "execution_count": 52,
   "id": "b8f27a75",
   "metadata": {
    "execution": {
     "iopub.execute_input": "2022-09-07T16:33:30.284968Z",
     "iopub.status.busy": "2022-09-07T16:33:30.284510Z",
     "iopub.status.idle": "2022-09-07T16:33:30.289751Z",
     "shell.execute_reply": "2022-09-07T16:33:30.288911Z"
    },
    "papermill": {
     "duration": 0.053118,
     "end_time": "2022-09-07T16:33:30.291816",
     "exception": false,
     "start_time": "2022-09-07T16:33:30.238698",
     "status": "completed"
    },
    "tags": []
   },
   "outputs": [],
   "source": [
    "xgb_classifier = xgb.XGBClassifier(objective='binary:logistic',missing=np.nan,seed=101,eval_metric='logloss',use_label_encoder=False)"
   ]
  },
  {
   "cell_type": "code",
   "execution_count": 53,
   "id": "e34abfdd",
   "metadata": {
    "execution": {
     "iopub.execute_input": "2022-09-07T16:33:30.385565Z",
     "iopub.status.busy": "2022-09-07T16:33:30.384813Z",
     "iopub.status.idle": "2022-09-07T16:33:30.636855Z",
     "shell.execute_reply": "2022-09-07T16:33:30.635741Z"
    },
    "papermill": {
     "duration": 0.300166,
     "end_time": "2022-09-07T16:33:30.639248",
     "exception": false,
     "start_time": "2022-09-07T16:33:30.339082",
     "status": "completed"
    },
    "tags": []
   },
   "outputs": [
    {
     "name": "stdout",
     "output_type": "stream",
     "text": [
      "[0]\tvalidation_0-logloss:0.55968\n",
      "[1]\tvalidation_0-logloss:0.48869\n",
      "[2]\tvalidation_0-logloss:0.44751\n",
      "[3]\tvalidation_0-logloss:0.42250\n",
      "[4]\tvalidation_0-logloss:0.40648\n",
      "[5]\tvalidation_0-logloss:0.39823\n",
      "[6]\tvalidation_0-logloss:0.38748\n",
      "[7]\tvalidation_0-logloss:0.38216\n",
      "[8]\tvalidation_0-logloss:0.37729\n",
      "[9]\tvalidation_0-logloss:0.37585\n",
      "[10]\tvalidation_0-logloss:0.37422\n",
      "[11]\tvalidation_0-logloss:0.37513\n",
      "[12]\tvalidation_0-logloss:0.37592\n",
      "[13]\tvalidation_0-logloss:0.37495\n",
      "[14]\tvalidation_0-logloss:0.37569\n",
      "[15]\tvalidation_0-logloss:0.37595\n",
      "[16]\tvalidation_0-logloss:0.37666\n"
     ]
    },
    {
     "name": "stderr",
     "output_type": "stream",
     "text": [
      "/opt/conda/lib/python3.7/site-packages/xgboost/sklearn.py:797: UserWarning: `early_stopping_rounds` in `fit` method is deprecated for better compatibility with scikit-learn, use `early_stopping_rounds` in constructor or`set_params` instead.\n",
      "  UserWarning,\n"
     ]
    },
    {
     "name": "stdout",
     "output_type": "stream",
     "text": [
      "[17]\tvalidation_0-logloss:0.37693\n",
      "[18]\tvalidation_0-logloss:0.37848\n",
      "[19]\tvalidation_0-logloss:0.37849\n"
     ]
    },
    {
     "data": {
      "text/plain": [
       "XGBClassifier(base_score=0.5, booster='gbtree', callbacks=None,\n",
       "              colsample_bylevel=1, colsample_bynode=1, colsample_bytree=1,\n",
       "              early_stopping_rounds=None, enable_categorical=False,\n",
       "              eval_metric='logloss', gamma=0, gpu_id=-1,\n",
       "              grow_policy='depthwise', importance_type=None,\n",
       "              interaction_constraints='', learning_rate=0.300000012,\n",
       "              max_bin=256, max_cat_to_onehot=4, max_delta_step=0, max_depth=6,\n",
       "              max_leaves=0, min_child_weight=1, missing=nan,\n",
       "              monotone_constraints='()', n_estimators=100, n_jobs=0,\n",
       "              num_parallel_tree=1, predictor='auto', random_state=101,\n",
       "              reg_alpha=0, reg_lambda=1, ...)"
      ]
     },
     "execution_count": 53,
     "metadata": {},
     "output_type": "execute_result"
    }
   ],
   "source": [
    "xgb_classifier.fit(X_train,\n",
    "            y_train,\n",
    "            verbose=True,\n",
    "            early_stopping_rounds=10,\n",
    "            eval_set=[(X_test,y_test)])"
   ]
  },
  {
   "cell_type": "code",
   "execution_count": 54,
   "id": "e76d6866",
   "metadata": {
    "execution": {
     "iopub.execute_input": "2022-09-07T16:33:30.733945Z",
     "iopub.status.busy": "2022-09-07T16:33:30.732735Z",
     "iopub.status.idle": "2022-09-07T16:33:30.744262Z",
     "shell.execute_reply": "2022-09-07T16:33:30.742981Z"
    },
    "papermill": {
     "duration": 0.063346,
     "end_time": "2022-09-07T16:33:30.748762",
     "exception": false,
     "start_time": "2022-09-07T16:33:30.685416",
     "status": "completed"
    },
    "tags": []
   },
   "outputs": [],
   "source": [
    "y_pred_xgb = xgb_classifier.predict(X_test)"
   ]
  },
  {
   "cell_type": "code",
   "execution_count": 55,
   "id": "b68dbce8",
   "metadata": {
    "execution": {
     "iopub.execute_input": "2022-09-07T16:33:30.844496Z",
     "iopub.status.busy": "2022-09-07T16:33:30.844112Z",
     "iopub.status.idle": "2022-09-07T16:33:31.212034Z",
     "shell.execute_reply": "2022-09-07T16:33:31.210713Z"
    },
    "papermill": {
     "duration": 0.41848,
     "end_time": "2022-09-07T16:33:31.214846",
     "exception": false,
     "start_time": "2022-09-07T16:33:30.796366",
     "status": "completed"
    },
    "tags": []
   },
   "outputs": [
    {
     "name": "stderr",
     "output_type": "stream",
     "text": [
      "/opt/conda/lib/python3.7/site-packages/sklearn/utils/deprecation.py:87: FutureWarning: Function plot_confusion_matrix is deprecated; Function `plot_confusion_matrix` is deprecated in 1.0 and will be removed in 1.2. Use one of the class methods: ConfusionMatrixDisplay.from_predictions or ConfusionMatrixDisplay.from_estimator.\n",
      "  warnings.warn(msg, category=FutureWarning)\n"
     ]
    },
    {
     "data": {
      "text/plain": [
       "<sklearn.metrics._plot.confusion_matrix.ConfusionMatrixDisplay at 0x7f792be69e50>"
      ]
     },
     "execution_count": 55,
     "metadata": {},
     "output_type": "execute_result"
    },
    {
     "data": {
      "image/png": "[encoded data removed]",
      "text/plain": [
       "<Figure size 432x288 with 2 Axes>"
      ]
     },
     "metadata": {
      "needs_background": "light"
     },
     "output_type": "display_data"
    }
   ],
   "source": [
    "plot_confusion_matrix(xgb_classifier,\n",
    "                      X_test,\n",
    "                      y_test,\n",
    "                      values_format='d',\n",
    "                      display_labels=['Did not leave','Left'])"
   ]
  },
  {
   "cell_type": "code",
   "execution_count": 56,
   "id": "85b0958f",
   "metadata": {
    "execution": {
     "iopub.execute_input": "2022-09-07T16:33:31.310567Z",
     "iopub.status.busy": "2022-09-07T16:33:31.309563Z",
     "iopub.status.idle": "2022-09-07T16:33:31.325080Z",
     "shell.execute_reply": "2022-09-07T16:33:31.323616Z"
    },
    "papermill": {
     "duration": 0.066169,
     "end_time": "2022-09-07T16:33:31.327699",
     "exception": false,
     "start_time": "2022-09-07T16:33:31.261530",
     "status": "completed"
    },
    "tags": []
   },
   "outputs": [
    {
     "name": "stdout",
     "output_type": "stream",
     "text": [
      "              precision    recall  f1-score   support\n",
      "\n",
      "         0.0       0.84      0.96      0.90       639\n",
      "         1.0       0.87      0.61      0.72       292\n",
      "\n",
      "    accuracy                           0.85       931\n",
      "   macro avg       0.86      0.79      0.81       931\n",
      "weighted avg       0.85      0.85      0.84       931\n",
      "\n"
     ]
    },
    {
     "data": {
      "text/plain": [
       "0.849624060150376"
      ]
     },
     "execution_count": 56,
     "metadata": {},
     "output_type": "execute_result"
    }
   ],
   "source": [
    "print(classification_report(y_test, y_pred_xgb))\n",
    "accuracy_score(y_test,y_pred_xgb)"
   ]
  },
  {
   "cell_type": "markdown",
   "id": "162a86f6",
   "metadata": {
    "papermill": {
     "duration": 0.046188,
     "end_time": "2022-09-07T16:33:31.420804",
     "exception": false,
     "start_time": "2022-09-07T16:33:31.374616",
     "status": "completed"
    },
    "tags": []
   },
   "source": [
    "## Adaboost"
   ]
  },
  {
   "cell_type": "code",
   "execution_count": 57,
   "id": "20a961c8",
   "metadata": {
    "execution": {
     "iopub.execute_input": "2022-09-07T16:33:31.516256Z",
     "iopub.status.busy": "2022-09-07T16:33:31.515800Z",
     "iopub.status.idle": "2022-09-07T16:33:31.520569Z",
     "shell.execute_reply": "2022-09-07T16:33:31.519468Z"
    },
    "papermill": {
     "duration": 0.055623,
     "end_time": "2022-09-07T16:33:31.523118",
     "exception": false,
     "start_time": "2022-09-07T16:33:31.467495",
     "status": "completed"
    },
    "tags": []
   },
   "outputs": [],
   "source": [
    "from sklearn.ensemble import AdaBoostClassifier"
   ]
  },
  {
   "cell_type": "code",
   "execution_count": 58,
   "id": "8d05b31d",
   "metadata": {
    "execution": {
     "iopub.execute_input": "2022-09-07T16:33:31.619475Z",
     "iopub.status.busy": "2022-09-07T16:33:31.618779Z",
     "iopub.status.idle": "2022-09-07T16:33:31.623995Z",
     "shell.execute_reply": "2022-09-07T16:33:31.623086Z"
    },
    "papermill": {
     "duration": 0.056432,
     "end_time": "2022-09-07T16:33:31.626202",
     "exception": false,
     "start_time": "2022-09-07T16:33:31.569770",
     "status": "completed"
    },
    "tags": []
   },
   "outputs": [],
   "source": [
    "adb_classifier = AdaBoostClassifier(n_estimators=100,random_state=101)"
   ]
  },
  {
   "cell_type": "code",
   "execution_count": 59,
   "id": "248950c6",
   "metadata": {
    "execution": {
     "iopub.execute_input": "2022-09-07T16:33:31.722953Z",
     "iopub.status.busy": "2022-09-07T16:33:31.722502Z",
     "iopub.status.idle": "2022-09-07T16:33:32.077502Z",
     "shell.execute_reply": "2022-09-07T16:33:32.076476Z"
    },
    "papermill": {
     "duration": 0.406507,
     "end_time": "2022-09-07T16:33:32.079734",
     "exception": false,
     "start_time": "2022-09-07T16:33:31.673227",
     "status": "completed"
    },
    "tags": []
   },
   "outputs": [
    {
     "data": {
      "text/plain": [
       "AdaBoostClassifier(n_estimators=100, random_state=101)"
      ]
     },
     "execution_count": 59,
     "metadata": {},
     "output_type": "execute_result"
    }
   ],
   "source": [
    "adb_classifier.fit(X_train,y_train)"
   ]
  },
  {
   "cell_type": "code",
   "execution_count": 60,
   "id": "f07500a7",
   "metadata": {
    "execution": {
     "iopub.execute_input": "2022-09-07T16:33:32.175434Z",
     "iopub.status.busy": "2022-09-07T16:33:32.174467Z",
     "iopub.status.idle": "2022-09-07T16:33:32.209646Z",
     "shell.execute_reply": "2022-09-07T16:33:32.208405Z"
    },
    "papermill": {
     "duration": 0.085911,
     "end_time": "2022-09-07T16:33:32.212509",
     "exception": false,
     "start_time": "2022-09-07T16:33:32.126598",
     "status": "completed"
    },
    "tags": []
   },
   "outputs": [],
   "source": [
    "y_pred_adb = adb_classifier.predict(X_test)"
   ]
  },
  {
   "cell_type": "code",
   "execution_count": 61,
   "id": "a0f0939b",
   "metadata": {
    "execution": {
     "iopub.execute_input": "2022-09-07T16:33:32.308265Z",
     "iopub.status.busy": "2022-09-07T16:33:32.307727Z",
     "iopub.status.idle": "2022-09-07T16:33:32.564799Z",
     "shell.execute_reply": "2022-09-07T16:33:32.563681Z"
    },
    "papermill": {
     "duration": 0.307697,
     "end_time": "2022-09-07T16:33:32.567315",
     "exception": false,
     "start_time": "2022-09-07T16:33:32.259618",
     "status": "completed"
    },
    "tags": []
   },
   "outputs": [
    {
     "name": "stderr",
     "output_type": "stream",
     "text": [
      "/opt/conda/lib/python3.7/site-packages/sklearn/utils/deprecation.py:87: FutureWarning: Function plot_confusion_matrix is deprecated; Function `plot_confusion_matrix` is deprecated in 1.0 and will be removed in 1.2. Use one of the class methods: ConfusionMatrixDisplay.from_predictions or ConfusionMatrixDisplay.from_estimator.\n",
      "  warnings.warn(msg, category=FutureWarning)\n"
     ]
    },
    {
     "data": {
      "text/plain": [
       "<sklearn.metrics._plot.confusion_matrix.ConfusionMatrixDisplay at 0x7f791a785790>"
      ]
     },
     "execution_count": 61,
     "metadata": {},
     "output_type": "execute_result"
    },
    {
     "data": {
      "image/png": "[encoded data removed]",
      "text/plain": [
       "<Figure size 432x288 with 2 Axes>"
      ]
     },
     "metadata": {
      "needs_background": "light"
     },
     "output_type": "display_data"
    }
   ],
   "source": [
    "plot_confusion_matrix(adb_classifier,\n",
    "                      X_test,\n",
    "                      y_test,\n",
    "                      values_format='d',\n",
    "                      display_labels=['Did not leave','Left'])"
   ]
  },
  {
   "cell_type": "code",
   "execution_count": 62,
   "id": "4dbda88b",
   "metadata": {
    "execution": {
     "iopub.execute_input": "2022-09-07T16:33:32.663301Z",
     "iopub.status.busy": "2022-09-07T16:33:32.662841Z",
     "iopub.status.idle": "2022-09-07T16:33:32.679082Z",
     "shell.execute_reply": "2022-09-07T16:33:32.677693Z"
    },
    "papermill": {
     "duration": 0.067473,
     "end_time": "2022-09-07T16:33:32.681778",
     "exception": false,
     "start_time": "2022-09-07T16:33:32.614305",
     "status": "completed"
    },
    "tags": []
   },
   "outputs": [
    {
     "name": "stdout",
     "output_type": "stream",
     "text": [
      "              precision    recall  f1-score   support\n",
      "\n",
      "         0.0       0.81      0.93      0.87       639\n",
      "         1.0       0.78      0.53      0.63       292\n",
      "\n",
      "    accuracy                           0.80       931\n",
      "   macro avg       0.79      0.73      0.75       931\n",
      "weighted avg       0.80      0.80      0.79       931\n",
      "\n"
     ]
    },
    {
     "data": {
      "text/plain": [
       "0.8045112781954887"
      ]
     },
     "execution_count": 62,
     "metadata": {},
     "output_type": "execute_result"
    }
   ],
   "source": [
    "print(classification_report(y_test, y_pred_adb))\n",
    "accuracy_score(y_test,y_pred_adb)"
   ]
  },
  {
   "cell_type": "markdown",
   "id": "358e32c7",
   "metadata": {
    "papermill": {
     "duration": 0.047539,
     "end_time": "2022-09-07T16:33:32.776750",
     "exception": false,
     "start_time": "2022-09-07T16:33:32.729211",
     "status": "completed"
    },
    "tags": []
   },
   "source": [
    "## Gaussian Naive Bayes"
   ]
  },
  {
   "cell_type": "code",
   "execution_count": 63,
   "id": "fd79d42d",
   "metadata": {
    "execution": {
     "iopub.execute_input": "2022-09-07T16:33:32.874102Z",
     "iopub.status.busy": "2022-09-07T16:33:32.873301Z",
     "iopub.status.idle": "2022-09-07T16:33:32.880442Z",
     "shell.execute_reply": "2022-09-07T16:33:32.879441Z"
    },
    "papermill": {
     "duration": 0.057465,
     "end_time": "2022-09-07T16:33:32.882648",
     "exception": false,
     "start_time": "2022-09-07T16:33:32.825183",
     "status": "completed"
    },
    "tags": []
   },
   "outputs": [],
   "source": [
    "from sklearn.naive_bayes import GaussianNB"
   ]
  },
  {
   "cell_type": "code",
   "execution_count": 64,
   "id": "f42ee213",
   "metadata": {
    "execution": {
     "iopub.execute_input": "2022-09-07T16:33:32.980665Z",
     "iopub.status.busy": "2022-09-07T16:33:32.980258Z",
     "iopub.status.idle": "2022-09-07T16:33:32.984812Z",
     "shell.execute_reply": "2022-09-07T16:33:32.983943Z"
    },
    "papermill": {
     "duration": 0.056514,
     "end_time": "2022-09-07T16:33:32.987055",
     "exception": false,
     "start_time": "2022-09-07T16:33:32.930541",
     "status": "completed"
    },
    "tags": []
   },
   "outputs": [],
   "source": [
    "gnb_classifier = GaussianNB()"
   ]
  },
  {
   "cell_type": "code",
   "execution_count": 65,
   "id": "0dfefb5a",
   "metadata": {
    "execution": {
     "iopub.execute_input": "2022-09-07T16:33:33.084591Z",
     "iopub.status.busy": "2022-09-07T16:33:33.083431Z",
     "iopub.status.idle": "2022-09-07T16:33:33.096373Z",
     "shell.execute_reply": "2022-09-07T16:33:33.095436Z"
    },
    "papermill": {
     "duration": 0.064108,
     "end_time": "2022-09-07T16:33:33.098638",
     "exception": false,
     "start_time": "2022-09-07T16:33:33.034530",
     "status": "completed"
    },
    "tags": []
   },
   "outputs": [
    {
     "data": {
      "text/plain": [
       "GaussianNB()"
      ]
     },
     "execution_count": 65,
     "metadata": {},
     "output_type": "execute_result"
    }
   ],
   "source": [
    "gnb_classifier.fit(X_train,y_train)"
   ]
  },
  {
   "cell_type": "code",
   "execution_count": 66,
   "id": "17d04a1a",
   "metadata": {
    "execution": {
     "iopub.execute_input": "2022-09-07T16:33:33.195838Z",
     "iopub.status.busy": "2022-09-07T16:33:33.194682Z",
     "iopub.status.idle": "2022-09-07T16:33:33.202935Z",
     "shell.execute_reply": "2022-09-07T16:33:33.201807Z"
    },
    "papermill": {
     "duration": 0.059138,
     "end_time": "2022-09-07T16:33:33.205151",
     "exception": false,
     "start_time": "2022-09-07T16:33:33.146013",
     "status": "completed"
    },
    "tags": []
   },
   "outputs": [],
   "source": [
    "y_pred_gnb = gnb_classifier.predict(X_test)"
   ]
  },
  {
   "cell_type": "code",
   "execution_count": 67,
   "id": "8531793d",
   "metadata": {
    "execution": {
     "iopub.execute_input": "2022-09-07T16:33:33.302589Z",
     "iopub.status.busy": "2022-09-07T16:33:33.302169Z",
     "iopub.status.idle": "2022-09-07T16:33:33.560799Z",
     "shell.execute_reply": "2022-09-07T16:33:33.559586Z"
    },
    "papermill": {
     "duration": 0.310338,
     "end_time": "2022-09-07T16:33:33.563704",
     "exception": false,
     "start_time": "2022-09-07T16:33:33.253366",
     "status": "completed"
    },
    "tags": []
   },
   "outputs": [
    {
     "name": "stderr",
     "output_type": "stream",
     "text": [
      "/opt/conda/lib/python3.7/site-packages/sklearn/utils/deprecation.py:87: FutureWarning: Function plot_confusion_matrix is deprecated; Function `plot_confusion_matrix` is deprecated in 1.0 and will be removed in 1.2. Use one of the class methods: ConfusionMatrixDisplay.from_predictions or ConfusionMatrixDisplay.from_estimator.\n",
      "  warnings.warn(msg, category=FutureWarning)\n"
     ]
    },
    {
     "data": {
      "text/plain": [
       "<sklearn.metrics._plot.confusion_matrix.ConfusionMatrixDisplay at 0x7f791c04cb50>"
      ]
     },
     "execution_count": 67,
     "metadata": {},
     "output_type": "execute_result"
    },
    {
     "data": {
      "image/png": "[encoded data removed]",
      "text/plain": [
       "<Figure size 432x288 with 2 Axes>"
      ]
     },
     "metadata": {
      "needs_background": "light"
     },
     "output_type": "display_data"
    }
   ],
   "source": [
    "plot_confusion_matrix(gnb_classifier,\n",
    "                      X_test,\n",
    "                      y_test,\n",
    "                      values_format='d',\n",
    "                      display_labels=['Did not leave','Left'])"
   ]
  },
  {
   "cell_type": "code",
   "execution_count": 68,
   "id": "14917951",
   "metadata": {
    "execution": {
     "iopub.execute_input": "2022-09-07T16:33:33.668622Z",
     "iopub.status.busy": "2022-09-07T16:33:33.667381Z",
     "iopub.status.idle": "2022-09-07T16:33:33.684633Z",
     "shell.execute_reply": "2022-09-07T16:33:33.683261Z"
    },
    "papermill": {
     "duration": 0.072184,
     "end_time": "2022-09-07T16:33:33.687145",
     "exception": false,
     "start_time": "2022-09-07T16:33:33.614961",
     "status": "completed"
    },
    "tags": []
   },
   "outputs": [
    {
     "name": "stdout",
     "output_type": "stream",
     "text": [
      "              precision    recall  f1-score   support\n",
      "\n",
      "         0.0       0.81      0.90      0.85       639\n",
      "         1.0       0.71      0.53      0.61       292\n",
      "\n",
      "    accuracy                           0.78       931\n",
      "   macro avg       0.76      0.72      0.73       931\n",
      "weighted avg       0.78      0.78      0.77       931\n",
      "\n"
     ]
    },
    {
     "data": {
      "text/plain": [
       "0.7841031149301826"
      ]
     },
     "execution_count": 68,
     "metadata": {},
     "output_type": "execute_result"
    }
   ],
   "source": [
    "print(classification_report(y_test, y_pred_gnb))\n",
    "accuracy_score(y_test,y_pred_gnb)"
   ]
  },
  {
   "cell_type": "markdown",
   "id": "5c5ec36c",
   "metadata": {
    "papermill": {
     "duration": 0.049985,
     "end_time": "2022-09-07T16:33:33.787502",
     "exception": false,
     "start_time": "2022-09-07T16:33:33.737517",
     "status": "completed"
    },
    "tags": []
   },
   "source": [
    "## Multinomial Naive Bayes"
   ]
  },
  {
   "cell_type": "code",
   "execution_count": 69,
   "id": "d004d700",
   "metadata": {
    "execution": {
     "iopub.execute_input": "2022-09-07T16:33:33.889947Z",
     "iopub.status.busy": "2022-09-07T16:33:33.889523Z",
     "iopub.status.idle": "2022-09-07T16:33:33.894508Z",
     "shell.execute_reply": "2022-09-07T16:33:33.893160Z"
    },
    "papermill": {
     "duration": 0.058746,
     "end_time": "2022-09-07T16:33:33.896781",
     "exception": false,
     "start_time": "2022-09-07T16:33:33.838035",
     "status": "completed"
    },
    "tags": []
   },
   "outputs": [],
   "source": [
    "from sklearn.naive_bayes import MultinomialNB"
   ]
  },
  {
   "cell_type": "code",
   "execution_count": 70,
   "id": "51e03171",
   "metadata": {
    "execution": {
     "iopub.execute_input": "2022-09-07T16:33:34.000335Z",
     "iopub.status.busy": "2022-09-07T16:33:33.999416Z",
     "iopub.status.idle": "2022-09-07T16:33:34.004761Z",
     "shell.execute_reply": "2022-09-07T16:33:34.003630Z"
    },
    "papermill": {
     "duration": 0.058048,
     "end_time": "2022-09-07T16:33:34.006964",
     "exception": false,
     "start_time": "2022-09-07T16:33:33.948916",
     "status": "completed"
    },
    "tags": []
   },
   "outputs": [],
   "source": [
    "mnb_classifier = MultinomialNB()"
   ]
  },
  {
   "cell_type": "code",
   "execution_count": 71,
   "id": "e42ed009",
   "metadata": {
    "execution": {
     "iopub.execute_input": "2022-09-07T16:33:34.107331Z",
     "iopub.status.busy": "2022-09-07T16:33:34.106276Z",
     "iopub.status.idle": "2022-09-07T16:33:34.111167Z",
     "shell.execute_reply": "2022-09-07T16:33:34.110157Z"
    },
    "papermill": {
     "duration": 0.057779,
     "end_time": "2022-09-07T16:33:34.113439",
     "exception": false,
     "start_time": "2022-09-07T16:33:34.055660",
     "status": "completed"
    },
    "tags": []
   },
   "outputs": [],
   "source": [
    "X_train_mnb = X_train\n",
    "X_test_mnb = X_test"
   ]
  },
  {
   "cell_type": "code",
   "execution_count": 72,
   "id": "7f253a6a",
   "metadata": {
    "execution": {
     "iopub.execute_input": "2022-09-07T16:33:34.212712Z",
     "iopub.status.busy": "2022-09-07T16:33:34.211590Z",
     "iopub.status.idle": "2022-09-07T16:33:34.216575Z",
     "shell.execute_reply": "2022-09-07T16:33:34.215698Z"
    },
    "papermill": {
     "duration": 0.056917,
     "end_time": "2022-09-07T16:33:34.218855",
     "exception": false,
     "start_time": "2022-09-07T16:33:34.161938",
     "status": "completed"
    },
    "tags": []
   },
   "outputs": [],
   "source": [
    "from sklearn.preprocessing import MinMaxScaler"
   ]
  },
  {
   "cell_type": "code",
   "execution_count": 73,
   "id": "39b0d823",
   "metadata": {
    "execution": {
     "iopub.execute_input": "2022-09-07T16:33:34.324420Z",
     "iopub.status.busy": "2022-09-07T16:33:34.323477Z",
     "iopub.status.idle": "2022-09-07T16:33:34.328421Z",
     "shell.execute_reply": "2022-09-07T16:33:34.327504Z"
    },
    "papermill": {
     "duration": 0.059527,
     "end_time": "2022-09-07T16:33:34.330623",
     "exception": false,
     "start_time": "2022-09-07T16:33:34.271096",
     "status": "completed"
    },
    "tags": []
   },
   "outputs": [],
   "source": [
    "scaler_mnb = MinMaxScaler()"
   ]
  },
  {
   "cell_type": "code",
   "execution_count": 74,
   "id": "74482eaf",
   "metadata": {
    "execution": {
     "iopub.execute_input": "2022-09-07T16:33:34.430084Z",
     "iopub.status.busy": "2022-09-07T16:33:34.429612Z",
     "iopub.status.idle": "2022-09-07T16:33:34.439677Z",
     "shell.execute_reply": "2022-09-07T16:33:34.438570Z"
    },
    "papermill": {
     "duration": 0.061501,
     "end_time": "2022-09-07T16:33:34.441884",
     "exception": false,
     "start_time": "2022-09-07T16:33:34.380383",
     "status": "completed"
    },
    "tags": []
   },
   "outputs": [
    {
     "data": {
      "text/plain": [
       "MinMaxScaler()"
      ]
     },
     "execution_count": 74,
     "metadata": {},
     "output_type": "execute_result"
    }
   ],
   "source": [
    "scaler_mnb.fit(X_train_mnb)"
   ]
  },
  {
   "cell_type": "code",
   "execution_count": 75,
   "id": "a95d8587",
   "metadata": {
    "execution": {
     "iopub.execute_input": "2022-09-07T16:33:34.540095Z",
     "iopub.status.busy": "2022-09-07T16:33:34.538898Z",
     "iopub.status.idle": "2022-09-07T16:33:34.548882Z",
     "shell.execute_reply": "2022-09-07T16:33:34.547803Z"
    },
    "papermill": {
     "duration": 0.06155,
     "end_time": "2022-09-07T16:33:34.551314",
     "exception": false,
     "start_time": "2022-09-07T16:33:34.489764",
     "status": "completed"
    },
    "tags": []
   },
   "outputs": [],
   "source": [
    "X_train_mnb = scaler_mnb.transform(X_train_mnb)\n",
    "X_test_mnb = scaler_mnb.transform(X_test_mnb)"
   ]
  },
  {
   "cell_type": "code",
   "execution_count": 76,
   "id": "fab5af21",
   "metadata": {
    "execution": {
     "iopub.execute_input": "2022-09-07T16:33:34.649056Z",
     "iopub.status.busy": "2022-09-07T16:33:34.648251Z",
     "iopub.status.idle": "2022-09-07T16:33:34.657669Z",
     "shell.execute_reply": "2022-09-07T16:33:34.656685Z"
    },
    "papermill": {
     "duration": 0.060535,
     "end_time": "2022-09-07T16:33:34.659724",
     "exception": false,
     "start_time": "2022-09-07T16:33:34.599189",
     "status": "completed"
    },
    "tags": []
   },
   "outputs": [
    {
     "data": {
      "text/plain": [
       "MultinomialNB()"
      ]
     },
     "execution_count": 76,
     "metadata": {},
     "output_type": "execute_result"
    }
   ],
   "source": [
    "mnb_classifier.fit(X_train_mnb,y_train)"
   ]
  },
  {
   "cell_type": "code",
   "execution_count": 77,
   "id": "be504158",
   "metadata": {
    "execution": {
     "iopub.execute_input": "2022-09-07T16:33:34.763486Z",
     "iopub.status.busy": "2022-09-07T16:33:34.762752Z",
     "iopub.status.idle": "2022-09-07T16:33:34.767705Z",
     "shell.execute_reply": "2022-09-07T16:33:34.766811Z"
    },
    "papermill": {
     "duration": 0.060593,
     "end_time": "2022-09-07T16:33:34.770070",
     "exception": false,
     "start_time": "2022-09-07T16:33:34.709477",
     "status": "completed"
    },
    "tags": []
   },
   "outputs": [],
   "source": [
    "y_pred_mnb = mnb_classifier.predict(X_test_mnb)"
   ]
  },
  {
   "cell_type": "code",
   "execution_count": 78,
   "id": "db225794",
   "metadata": {
    "execution": {
     "iopub.execute_input": "2022-09-07T16:33:34.879148Z",
     "iopub.status.busy": "2022-09-07T16:33:34.878509Z",
     "iopub.status.idle": "2022-09-07T16:33:35.114237Z",
     "shell.execute_reply": "2022-09-07T16:33:35.113061Z"
    },
    "papermill": {
     "duration": 0.293576,
     "end_time": "2022-09-07T16:33:35.116951",
     "exception": false,
     "start_time": "2022-09-07T16:33:34.823375",
     "status": "completed"
    },
    "tags": []
   },
   "outputs": [
    {
     "name": "stderr",
     "output_type": "stream",
     "text": [
      "/opt/conda/lib/python3.7/site-packages/sklearn/utils/deprecation.py:87: FutureWarning: Function plot_confusion_matrix is deprecated; Function `plot_confusion_matrix` is deprecated in 1.0 and will be removed in 1.2. Use one of the class methods: ConfusionMatrixDisplay.from_predictions or ConfusionMatrixDisplay.from_estimator.\n",
      "  warnings.warn(msg, category=FutureWarning)\n"
     ]
    },
    {
     "data": {
      "text/plain": [
       "<sklearn.metrics._plot.confusion_matrix.ConfusionMatrixDisplay at 0x7f792e03e210>"
      ]
     },
     "execution_count": 78,
     "metadata": {},
     "output_type": "execute_result"
    },
    {
     "data": {
      "image/png": "[encoded data removed]",
      "text/plain": [
       "<Figure size 432x288 with 2 Axes>"
      ]
     },
     "metadata": {
      "needs_background": "light"
     },
     "output_type": "display_data"
    }
   ],
   "source": [
    "plot_confusion_matrix(mnb_classifier,\n",
    "                      X_test_mnb,\n",
    "                      y_test,\n",
    "                      values_format='d',\n",
    "                      display_labels=['Did not leave','Left'])"
   ]
  },
  {
   "cell_type": "code",
   "execution_count": 79,
   "id": "eaa865ca",
   "metadata": {
    "execution": {
     "iopub.execute_input": "2022-09-07T16:33:35.221267Z",
     "iopub.status.busy": "2022-09-07T16:33:35.220554Z",
     "iopub.status.idle": "2022-09-07T16:33:35.236048Z",
     "shell.execute_reply": "2022-09-07T16:33:35.234678Z"
    },
    "papermill": {
     "duration": 0.070919,
     "end_time": "2022-09-07T16:33:35.238515",
     "exception": false,
     "start_time": "2022-09-07T16:33:35.167596",
     "status": "completed"
    },
    "tags": []
   },
   "outputs": [
    {
     "name": "stdout",
     "output_type": "stream",
     "text": [
      "              precision    recall  f1-score   support\n",
      "\n",
      "         0.0       0.83      0.91      0.87       639\n",
      "         1.0       0.75      0.58      0.65       292\n",
      "\n",
      "    accuracy                           0.81       931\n",
      "   macro avg       0.79      0.75      0.76       931\n",
      "weighted avg       0.80      0.81      0.80       931\n",
      "\n"
     ]
    },
    {
     "data": {
      "text/plain": [
       "0.807733619763695"
      ]
     },
     "execution_count": 79,
     "metadata": {},
     "output_type": "execute_result"
    }
   ],
   "source": [
    "print(classification_report(y_test, y_pred_mnb))\n",
    "accuracy_score(y_test,y_pred_mnb)"
   ]
  },
  {
   "cell_type": "markdown",
   "id": "c18c3653",
   "metadata": {
    "papermill": {
     "duration": 0.050206,
     "end_time": "2022-09-07T16:33:35.340594",
     "exception": false,
     "start_time": "2022-09-07T16:33:35.290388",
     "status": "completed"
    },
    "tags": []
   },
   "source": [
    "## Bernoulli Naive Bayes"
   ]
  },
  {
   "cell_type": "code",
   "execution_count": 80,
   "id": "5a9bf094",
   "metadata": {
    "execution": {
     "iopub.execute_input": "2022-09-07T16:33:35.445914Z",
     "iopub.status.busy": "2022-09-07T16:33:35.445300Z",
     "iopub.status.idle": "2022-09-07T16:33:35.450053Z",
     "shell.execute_reply": "2022-09-07T16:33:35.448973Z"
    },
    "papermill": {
     "duration": 0.0606,
     "end_time": "2022-09-07T16:33:35.452491",
     "exception": false,
     "start_time": "2022-09-07T16:33:35.391891",
     "status": "completed"
    },
    "tags": []
   },
   "outputs": [],
   "source": [
    "from sklearn.naive_bayes import BernoulliNB"
   ]
  },
  {
   "cell_type": "code",
   "execution_count": 81,
   "id": "c1ba7e2b",
   "metadata": {
    "execution": {
     "iopub.execute_input": "2022-09-07T16:33:35.556478Z",
     "iopub.status.busy": "2022-09-07T16:33:35.555784Z",
     "iopub.status.idle": "2022-09-07T16:33:35.560417Z",
     "shell.execute_reply": "2022-09-07T16:33:35.559446Z"
    },
    "papermill": {
     "duration": 0.059789,
     "end_time": "2022-09-07T16:33:35.562629",
     "exception": false,
     "start_time": "2022-09-07T16:33:35.502840",
     "status": "completed"
    },
    "tags": []
   },
   "outputs": [],
   "source": [
    "bnb_classifier = BernoulliNB()"
   ]
  },
  {
   "cell_type": "code",
   "execution_count": 82,
   "id": "f6adae10",
   "metadata": {
    "execution": {
     "iopub.execute_input": "2022-09-07T16:33:35.667741Z",
     "iopub.status.busy": "2022-09-07T16:33:35.666992Z",
     "iopub.status.idle": "2022-09-07T16:33:35.679082Z",
     "shell.execute_reply": "2022-09-07T16:33:35.678153Z"
    },
    "papermill": {
     "duration": 0.067454,
     "end_time": "2022-09-07T16:33:35.681698",
     "exception": false,
     "start_time": "2022-09-07T16:33:35.614244",
     "status": "completed"
    },
    "tags": []
   },
   "outputs": [
    {
     "data": {
      "text/plain": [
       "BernoulliNB()"
      ]
     },
     "execution_count": 82,
     "metadata": {},
     "output_type": "execute_result"
    }
   ],
   "source": [
    "bnb_classifier.fit(X_train,y_train)"
   ]
  },
  {
   "cell_type": "code",
   "execution_count": 83,
   "id": "f302eb44",
   "metadata": {
    "execution": {
     "iopub.execute_input": "2022-09-07T16:33:35.790192Z",
     "iopub.status.busy": "2022-09-07T16:33:35.789466Z",
     "iopub.status.idle": "2022-09-07T16:33:35.796739Z",
     "shell.execute_reply": "2022-09-07T16:33:35.795683Z"
    },
    "papermill": {
     "duration": 0.063697,
     "end_time": "2022-09-07T16:33:35.799166",
     "exception": false,
     "start_time": "2022-09-07T16:33:35.735469",
     "status": "completed"
    },
    "tags": []
   },
   "outputs": [],
   "source": [
    "y_pred_bnb = bnb_classifier.predict(X_test)"
   ]
  },
  {
   "cell_type": "code",
   "execution_count": 84,
   "id": "8af29790",
   "metadata": {
    "execution": {
     "iopub.execute_input": "2022-09-07T16:33:35.928891Z",
     "iopub.status.busy": "2022-09-07T16:33:35.927979Z",
     "iopub.status.idle": "2022-09-07T16:33:36.162044Z",
     "shell.execute_reply": "2022-09-07T16:33:36.161146Z"
    },
    "papermill": {
     "duration": 0.308858,
     "end_time": "2022-09-07T16:33:36.164391",
     "exception": false,
     "start_time": "2022-09-07T16:33:35.855533",
     "status": "completed"
    },
    "tags": []
   },
   "outputs": [
    {
     "name": "stderr",
     "output_type": "stream",
     "text": [
      "/opt/conda/lib/python3.7/site-packages/sklearn/utils/deprecation.py:87: FutureWarning: Function plot_confusion_matrix is deprecated; Function `plot_confusion_matrix` is deprecated in 1.0 and will be removed in 1.2. Use one of the class methods: ConfusionMatrixDisplay.from_predictions or ConfusionMatrixDisplay.from_estimator.\n",
      "  warnings.warn(msg, category=FutureWarning)\n"
     ]
    },
    {
     "data": {
      "text/plain": [
       "<sklearn.metrics._plot.confusion_matrix.ConfusionMatrixDisplay at 0x7f792df0c410>"
      ]
     },
     "execution_count": 84,
     "metadata": {},
     "output_type": "execute_result"
    },
    {
     "data": {
      "image/png": "[encoded data removed]",
      "text/plain": [
       "<Figure size 432x288 with 2 Axes>"
      ]
     },
     "metadata": {
      "needs_background": "light"
     },
     "output_type": "display_data"
    }
   ],
   "source": [
    "plot_confusion_matrix(bnb_classifier,\n",
    "                      X_test,\n",
    "                      y_test,\n",
    "                      values_format='d',\n",
    "                      display_labels=['Did not leave','Left'])"
   ]
  },
  {
   "cell_type": "code",
   "execution_count": 85,
   "id": "85c7132a",
   "metadata": {
    "execution": {
     "iopub.execute_input": "2022-09-07T16:33:36.278611Z",
     "iopub.status.busy": "2022-09-07T16:33:36.278219Z",
     "iopub.status.idle": "2022-09-07T16:33:36.293934Z",
     "shell.execute_reply": "2022-09-07T16:33:36.292792Z"
    },
    "papermill": {
     "duration": 0.082463,
     "end_time": "2022-09-07T16:33:36.296883",
     "exception": false,
     "start_time": "2022-09-07T16:33:36.214420",
     "status": "completed"
    },
    "tags": []
   },
   "outputs": [
    {
     "name": "stdout",
     "output_type": "stream",
     "text": [
      "              precision    recall  f1-score   support\n",
      "\n",
      "         0.0       0.84      0.88      0.86       639\n",
      "         1.0       0.71      0.64      0.67       292\n",
      "\n",
      "    accuracy                           0.80       931\n",
      "   macro avg       0.78      0.76      0.77       931\n",
      "weighted avg       0.80      0.80      0.80       931\n",
      "\n"
     ]
    },
    {
     "data": {
      "text/plain": [
       "0.8045112781954887"
      ]
     },
     "execution_count": 85,
     "metadata": {},
     "output_type": "execute_result"
    }
   ],
   "source": [
    "print(classification_report(y_test, y_pred_bnb))\n",
    "accuracy_score(y_test,y_pred_bnb)"
   ]
  },
  {
   "cell_type": "markdown",
   "id": "f0d92747",
   "metadata": {
    "papermill": {
     "duration": 0.050339,
     "end_time": "2022-09-07T16:33:36.396770",
     "exception": false,
     "start_time": "2022-09-07T16:33:36.346431",
     "status": "completed"
    },
    "tags": []
   },
   "source": [
    "##  Parameter Optimization"
   ]
  },
  {
   "cell_type": "markdown",
   "id": "eb6c71d5",
   "metadata": {
    "papermill": {
     "duration": 0.049141,
     "end_time": "2022-09-07T16:33:36.495237",
     "exception": false,
     "start_time": "2022-09-07T16:33:36.446096",
     "status": "completed"
    },
    "tags": []
   },
   "source": [
    "### Logistic Regression"
   ]
  },
  {
   "cell_type": "code",
   "execution_count": 86,
   "id": "e5747230",
   "metadata": {
    "execution": {
     "iopub.execute_input": "2022-09-07T16:33:36.596219Z",
     "iopub.status.busy": "2022-09-07T16:33:36.595423Z",
     "iopub.status.idle": "2022-09-07T16:33:36.600355Z",
     "shell.execute_reply": "2022-09-07T16:33:36.599571Z"
    },
    "papermill": {
     "duration": 0.057844,
     "end_time": "2022-09-07T16:33:36.602565",
     "exception": false,
     "start_time": "2022-09-07T16:33:36.544721",
     "status": "completed"
    },
    "tags": []
   },
   "outputs": [],
   "source": [
    "#Importing GridSearchCV, a tool that determines the optimal parameters for our model via a cross-validated grid search\n",
    "from sklearn.model_selection import GridSearchCV"
   ]
  },
  {
   "cell_type": "code",
   "execution_count": 87,
   "id": "8e33bd2b",
   "metadata": {
    "execution": {
     "iopub.execute_input": "2022-09-07T16:33:36.702944Z",
     "iopub.status.busy": "2022-09-07T16:33:36.702513Z",
     "iopub.status.idle": "2022-09-07T16:33:36.708163Z",
     "shell.execute_reply": "2022-09-07T16:33:36.706943Z"
    },
    "papermill": {
     "duration": 0.058884,
     "end_time": "2022-09-07T16:33:36.710609",
     "exception": false,
     "start_time": "2022-09-07T16:33:36.651725",
     "status": "completed"
    },
    "tags": []
   },
   "outputs": [],
   "source": [
    "#Creating a dictionary containing lists of parameter settings to try as values \n",
    "lg_param_grid = [\n",
    "    {'penalty' : ['l1','l2','elasticnet'],\n",
    "    'C' : [100,10,1.0,0.1,0.01],\n",
    "     'solver' : ['lbfgs','newton-cg','liblinear','sag','saga'],\n",
    "     'max_iter' : [100,1000,2500,5000]\n",
    "    }\n",
    "]"
   ]
  },
  {
   "cell_type": "code",
   "execution_count": 88,
   "id": "12b84ab9",
   "metadata": {
    "execution": {
     "iopub.execute_input": "2022-09-07T16:33:36.814177Z",
     "iopub.status.busy": "2022-09-07T16:33:36.813492Z",
     "iopub.status.idle": "2022-09-07T16:33:36.819121Z",
     "shell.execute_reply": "2022-09-07T16:33:36.817845Z"
    },
    "papermill": {
     "duration": 0.061342,
     "end_time": "2022-09-07T16:33:36.821456",
     "exception": false,
     "start_time": "2022-09-07T16:33:36.760114",
     "status": "completed"
    },
    "tags": []
   },
   "outputs": [],
   "source": [
    "#Implementing GridSearchCV with the logistic regression estimator\n",
    "lg_clf = GridSearchCV(lg_classifier,lg_param_grid,cv=3,verbose=True,n_jobs=4)"
   ]
  },
  {
   "cell_type": "code",
   "execution_count": 89,
   "id": "9db657a6",
   "metadata": {
    "execution": {
     "iopub.execute_input": "2022-09-07T16:33:36.923545Z",
     "iopub.status.busy": "2022-09-07T16:33:36.922778Z",
     "iopub.status.idle": "2022-09-07T16:33:47.445651Z",
     "shell.execute_reply": "2022-09-07T16:33:47.443965Z"
    },
    "papermill": {
     "duration": 10.578066,
     "end_time": "2022-09-07T16:33:47.449645",
     "exception": false,
     "start_time": "2022-09-07T16:33:36.871579",
     "status": "completed"
    },
    "tags": []
   },
   "outputs": [
    {
     "name": "stdout",
     "output_type": "stream",
     "text": [
      "Fitting 3 folds for each of 300 candidates, totalling 900 fits\n"
     ]
    },
    {
     "name": "stderr",
     "output_type": "stream",
     "text": [
      "/opt/conda/lib/python3.7/site-packages/sklearn/model_selection/_validation.py:372: FitFailedWarning: \n",
      "480 fits failed out of a total of 900.\n",
      "The score on these train-test partitions for these parameters will be set to nan.\n",
      "If these failures are not expected, you can try to debug them by setting error_score='raise'.\n",
      "\n",
      "Below are more details about the failures:\n",
      "--------------------------------------------------------------------------------\n",
      "60 fits failed with the following error:\n",
      "Traceback (most recent call last):\n",
      "  File \"/opt/conda/lib/python3.7/site-packages/sklearn/model_selection/_validation.py\", line 680, in _fit_and_score\n",
      "    estimator.fit(X_train, y_train, **fit_params)\n",
      "  File \"/opt/conda/lib/python3.7/site-packages/sklearn/linear_model/_logistic.py\", line 1461, in fit\n",
      "    solver = _check_solver(self.solver, self.penalty, self.dual)\n",
      "  File \"/opt/conda/lib/python3.7/site-packages/sklearn/linear_model/_logistic.py\", line 449, in _check_solver\n",
      "    % (solver, penalty)\n",
      "ValueError: Solver lbfgs supports only 'l2' or 'none' penalties, got l1 penalty.\n",
      "\n",
      "--------------------------------------------------------------------------------\n",
      "60 fits failed with the following error:\n",
      "Traceback (most recent call last):\n",
      "  File \"/opt/conda/lib/python3.7/site-packages/sklearn/model_selection/_validation.py\", line 680, in _fit_and_score\n",
      "    estimator.fit(X_train, y_train, **fit_params)\n",
      "  File \"/opt/conda/lib/python3.7/site-packages/sklearn/linear_model/_logistic.py\", line 1461, in fit\n",
      "    solver = _check_solver(self.solver, self.penalty, self.dual)\n",
      "  File \"/opt/conda/lib/python3.7/site-packages/sklearn/linear_model/_logistic.py\", line 449, in _check_solver\n",
      "    % (solver, penalty)\n",
      "ValueError: Solver newton-cg supports only 'l2' or 'none' penalties, got l1 penalty.\n",
      "\n",
      "--------------------------------------------------------------------------------\n",
      "60 fits failed with the following error:\n",
      "Traceback (most recent call last):\n",
      "  File \"/opt/conda/lib/python3.7/site-packages/sklearn/model_selection/_validation.py\", line 680, in _fit_and_score\n",
      "    estimator.fit(X_train, y_train, **fit_params)\n",
      "  File \"/opt/conda/lib/python3.7/site-packages/sklearn/linear_model/_logistic.py\", line 1461, in fit\n",
      "    solver = _check_solver(self.solver, self.penalty, self.dual)\n",
      "  File \"/opt/conda/lib/python3.7/site-packages/sklearn/linear_model/_logistic.py\", line 449, in _check_solver\n",
      "    % (solver, penalty)\n",
      "ValueError: Solver sag supports only 'l2' or 'none' penalties, got l1 penalty.\n",
      "\n",
      "--------------------------------------------------------------------------------\n",
      "60 fits failed with the following error:\n",
      "Traceback (most recent call last):\n",
      "  File \"/opt/conda/lib/python3.7/site-packages/sklearn/model_selection/_validation.py\", line 680, in _fit_and_score\n",
      "    estimator.fit(X_train, y_train, **fit_params)\n",
      "  File \"/opt/conda/lib/python3.7/site-packages/sklearn/linear_model/_logistic.py\", line 1461, in fit\n",
      "    solver = _check_solver(self.solver, self.penalty, self.dual)\n",
      "  File \"/opt/conda/lib/python3.7/site-packages/sklearn/linear_model/_logistic.py\", line 449, in _check_solver\n",
      "    % (solver, penalty)\n",
      "ValueError: Solver lbfgs supports only 'l2' or 'none' penalties, got elasticnet penalty.\n",
      "\n",
      "--------------------------------------------------------------------------------\n",
      "60 fits failed with the following error:\n",
      "Traceback (most recent call last):\n",
      "  File \"/opt/conda/lib/python3.7/site-packages/sklearn/model_selection/_validation.py\", line 680, in _fit_and_score\n",
      "    estimator.fit(X_train, y_train, **fit_params)\n",
      "  File \"/opt/conda/lib/python3.7/site-packages/sklearn/linear_model/_logistic.py\", line 1461, in fit\n",
      "    solver = _check_solver(self.solver, self.penalty, self.dual)\n",
      "  File \"/opt/conda/lib/python3.7/site-packages/sklearn/linear_model/_logistic.py\", line 449, in _check_solver\n",
      "    % (solver, penalty)\n",
      "ValueError: Solver newton-cg supports only 'l2' or 'none' penalties, got elasticnet penalty.\n",
      "\n",
      "--------------------------------------------------------------------------------\n",
      "60 fits failed with the following error:\n",
      "Traceback (most recent call last):\n",
      "  File \"/opt/conda/lib/python3.7/site-packages/sklearn/model_selection/_validation.py\", line 680, in _fit_and_score\n",
      "    estimator.fit(X_train, y_train, **fit_params)\n",
      "  File \"/opt/conda/lib/python3.7/site-packages/sklearn/linear_model/_logistic.py\", line 1461, in fit\n",
      "    solver = _check_solver(self.solver, self.penalty, self.dual)\n",
      "  File \"/opt/conda/lib/python3.7/site-packages/sklearn/linear_model/_logistic.py\", line 459, in _check_solver\n",
      "    solver\n",
      "ValueError: Only 'saga' solver supports elasticnet penalty, got solver=liblinear.\n",
      "\n",
      "--------------------------------------------------------------------------------\n",
      "60 fits failed with the following error:\n",
      "Traceback (most recent call last):\n",
      "  File \"/opt/conda/lib/python3.7/site-packages/sklearn/model_selection/_validation.py\", line 680, in _fit_and_score\n",
      "    estimator.fit(X_train, y_train, **fit_params)\n",
      "  File \"/opt/conda/lib/python3.7/site-packages/sklearn/linear_model/_logistic.py\", line 1461, in fit\n",
      "    solver = _check_solver(self.solver, self.penalty, self.dual)\n",
      "  File \"/opt/conda/lib/python3.7/site-packages/sklearn/linear_model/_logistic.py\", line 449, in _check_solver\n",
      "    % (solver, penalty)\n",
      "ValueError: Solver sag supports only 'l2' or 'none' penalties, got elasticnet penalty.\n",
      "\n",
      "--------------------------------------------------------------------------------\n",
      "60 fits failed with the following error:\n",
      "Traceback (most recent call last):\n",
      "  File \"/opt/conda/lib/python3.7/site-packages/sklearn/model_selection/_validation.py\", line 680, in _fit_and_score\n",
      "    estimator.fit(X_train, y_train, **fit_params)\n",
      "  File \"/opt/conda/lib/python3.7/site-packages/sklearn/linear_model/_logistic.py\", line 1473, in fit\n",
      "    % self.l1_ratio\n",
      "ValueError: l1_ratio must be between 0 and 1; got (l1_ratio=None)\n",
      "\n",
      "  warnings.warn(some_fits_failed_message, FitFailedWarning)\n",
      "/opt/conda/lib/python3.7/site-packages/sklearn/model_selection/_search.py:972: UserWarning: One or more of the test scores are non-finite: [       nan        nan 0.79956764        nan 0.79956764 0.79956764\n",
      " 0.79956764 0.79956764 0.79956764 0.79956764        nan        nan\n",
      "        nan        nan        nan        nan        nan 0.79956764\n",
      "        nan 0.79956764 0.79956764 0.79956764 0.79956764 0.79956764\n",
      " 0.79956764        nan        nan        nan        nan        nan\n",
      "        nan        nan 0.79956764        nan 0.79956764 0.79956764\n",
      " 0.79956764 0.79956764 0.79956764 0.79956764        nan        nan\n",
      "        nan        nan        nan        nan        nan 0.79956764\n",
      "        nan 0.79956764 0.79956764 0.79956764 0.79956764 0.79956764\n",
      " 0.79956764        nan        nan        nan        nan        nan\n",
      "        nan        nan 0.79929904        nan 0.79929904 0.79956764\n",
      " 0.79956764 0.79956764 0.79956764 0.79956764        nan        nan\n",
      "        nan        nan        nan        nan        nan 0.79929904\n",
      "        nan 0.79929904 0.79956764 0.79956764 0.79956764 0.79956764\n",
      " 0.79956764        nan        nan        nan        nan        nan\n",
      "        nan        nan 0.79929904        nan 0.79929904 0.79956764\n",
      " 0.79956764 0.79956764 0.79956764 0.79956764        nan        nan\n",
      "        nan        nan        nan        nan        nan 0.79929904\n",
      "        nan 0.79929904 0.79956764 0.79956764 0.79956764 0.79956764\n",
      " 0.79956764        nan        nan        nan        nan        nan\n",
      "        nan        nan 0.79983624        nan 0.79903044 0.80037366\n",
      " 0.80037366 0.80037366 0.80037366 0.80037366        nan        nan\n",
      "        nan        nan        nan        nan        nan 0.79983624\n",
      "        nan 0.79903044 0.80037366 0.80037366 0.80037366 0.80037366\n",
      " 0.80037366        nan        nan        nan        nan        nan\n",
      "        nan        nan 0.79983624        nan 0.79903044 0.80037366\n",
      " 0.80037366 0.80037366 0.80037366 0.80037366        nan        nan\n",
      "        nan        nan        nan        nan        nan 0.79983624\n",
      "        nan 0.79903044 0.80037366 0.80037366 0.80037366 0.80037366\n",
      " 0.80037366        nan        nan        nan        nan        nan\n",
      "        nan        nan 0.79929882        nan 0.79285219 0.79956764\n",
      " 0.79956764 0.79929904 0.79956764 0.79956764        nan        nan\n",
      "        nan        nan        nan        nan        nan 0.79929882\n",
      "        nan 0.79285219 0.79956764 0.79956764 0.79929904 0.79956764\n",
      " 0.79956764        nan        nan        nan        nan        nan\n",
      "        nan        nan 0.79929882        nan 0.79285219 0.79956764\n",
      " 0.79956764 0.79929904 0.79956764 0.79956764        nan        nan\n",
      "        nan        nan        nan        nan        nan 0.79929882\n",
      "        nan 0.79285219 0.79956764 0.79956764 0.79929904 0.79956764\n",
      " 0.79956764        nan        nan        nan        nan        nan\n",
      "        nan        nan 0.67571201        nan 0.67624921 0.76168586\n",
      " 0.76168586 0.76329833 0.76168586 0.76168586        nan        nan\n",
      "        nan        nan        nan        nan        nan 0.67571201\n",
      "        nan 0.67624921 0.76168586 0.76168586 0.76329833 0.76168586\n",
      " 0.76168586        nan        nan        nan        nan        nan\n",
      "        nan        nan 0.67571201        nan 0.67624921 0.76168586\n",
      " 0.76168586 0.76329833 0.76168586 0.76168586        nan        nan\n",
      "        nan        nan        nan        nan        nan 0.67571201\n",
      "        nan 0.67624921 0.76168586 0.76168586 0.76329833 0.76168586\n",
      " 0.76168586        nan        nan        nan        nan        nan]\n",
      "  category=UserWarning,\n"
     ]
    }
   ],
   "source": [
    "#Fitting our new best classifier to the training data \n",
    "lg_best_clf = lg_clf.fit(X_train,y_train)"
   ]
  },
  {
   "cell_type": "code",
   "execution_count": 90,
   "id": "03fb8209",
   "metadata": {
    "execution": {
     "iopub.execute_input": "2022-09-07T16:33:47.593430Z",
     "iopub.status.busy": "2022-09-07T16:33:47.593013Z",
     "iopub.status.idle": "2022-09-07T16:33:47.600813Z",
     "shell.execute_reply": "2022-09-07T16:33:47.599422Z"
    },
    "papermill": {
     "duration": 0.071314,
     "end_time": "2022-09-07T16:33:47.603173",
     "exception": false,
     "start_time": "2022-09-07T16:33:47.531859",
     "status": "completed"
    },
    "tags": []
   },
   "outputs": [
    {
     "data": {
      "text/plain": [
       "{'C': 1.0, 'max_iter': 100, 'penalty': 'l2', 'solver': 'lbfgs'}"
      ]
     },
     "execution_count": 90,
     "metadata": {},
     "output_type": "execute_result"
    }
   ],
   "source": [
    "#Parameters chosen by the search\n",
    "lg_best_clf.best_params_"
   ]
  },
  {
   "cell_type": "code",
   "execution_count": 91,
   "id": "0a63f117",
   "metadata": {
    "execution": {
     "iopub.execute_input": "2022-09-07T16:33:47.754979Z",
     "iopub.status.busy": "2022-09-07T16:33:47.754192Z",
     "iopub.status.idle": "2022-09-07T16:33:47.770743Z",
     "shell.execute_reply": "2022-09-07T16:33:47.769499Z"
    },
    "papermill": {
     "duration": 0.071526,
     "end_time": "2022-09-07T16:33:47.773843",
     "exception": false,
     "start_time": "2022-09-07T16:33:47.702317",
     "status": "completed"
    },
    "tags": []
   },
   "outputs": [
    {
     "name": "stdout",
     "output_type": "stream",
     "text": [
      "0.8033315421816228 0.807733619763695\n"
     ]
    }
   ],
   "source": [
    "#Accuracy score on the training and test set predictions\n",
    "print(lg_best_clf.score(X_train,y_train),\n",
    "lg_best_clf.score(X_test,y_test))"
   ]
  },
  {
   "cell_type": "markdown",
   "id": "30fa1dbb",
   "metadata": {
    "papermill": {
     "duration": 0.062945,
     "end_time": "2022-09-07T16:33:47.917724",
     "exception": false,
     "start_time": "2022-09-07T16:33:47.854779",
     "status": "completed"
    },
    "tags": []
   },
   "source": [
    "### K-Nearest Neighbors"
   ]
  },
  {
   "cell_type": "code",
   "execution_count": 92,
   "id": "45f0fac4",
   "metadata": {
    "execution": {
     "iopub.execute_input": "2022-09-07T16:33:48.025456Z",
     "iopub.status.busy": "2022-09-07T16:33:48.025050Z",
     "iopub.status.idle": "2022-09-07T16:33:48.030734Z",
     "shell.execute_reply": "2022-09-07T16:33:48.029599Z"
    },
    "papermill": {
     "duration": 0.062625,
     "end_time": "2022-09-07T16:33:48.032981",
     "exception": false,
     "start_time": "2022-09-07T16:33:47.970356",
     "status": "completed"
    },
    "tags": []
   },
   "outputs": [],
   "source": [
    "knn_param_grid = {'n_neighbors' : np.arange(1,25)}"
   ]
  },
  {
   "cell_type": "code",
   "execution_count": 93,
   "id": "e40f6a9d",
   "metadata": {
    "execution": {
     "iopub.execute_input": "2022-09-07T16:33:48.134779Z",
     "iopub.status.busy": "2022-09-07T16:33:48.134379Z",
     "iopub.status.idle": "2022-09-07T16:33:48.139156Z",
     "shell.execute_reply": "2022-09-07T16:33:48.138043Z"
    },
    "papermill": {
     "duration": 0.058496,
     "end_time": "2022-09-07T16:33:48.141441",
     "exception": false,
     "start_time": "2022-09-07T16:33:48.082945",
     "status": "completed"
    },
    "tags": []
   },
   "outputs": [],
   "source": [
    "knn_clf = GridSearchCV(knn_classifier,knn_param_grid,cv=10)"
   ]
  },
  {
   "cell_type": "code",
   "execution_count": 94,
   "id": "70d0d9dc",
   "metadata": {
    "execution": {
     "iopub.execute_input": "2022-09-07T16:33:48.243246Z",
     "iopub.status.busy": "2022-09-07T16:33:48.242831Z",
     "iopub.status.idle": "2022-09-07T16:34:01.628753Z",
     "shell.execute_reply": "2022-09-07T16:34:01.627293Z"
    },
    "papermill": {
     "duration": 13.441133,
     "end_time": "2022-09-07T16:34:01.632607",
     "exception": false,
     "start_time": "2022-09-07T16:33:48.191474",
     "status": "completed"
    },
    "tags": []
   },
   "outputs": [],
   "source": [
    "knn_best_clf = knn_clf.fit(X_train,y_train)"
   ]
  },
  {
   "cell_type": "code",
   "execution_count": 95,
   "id": "2acf42d9",
   "metadata": {
    "execution": {
     "iopub.execute_input": "2022-09-07T16:34:01.755918Z",
     "iopub.status.busy": "2022-09-07T16:34:01.755439Z",
     "iopub.status.idle": "2022-09-07T16:34:01.762855Z",
     "shell.execute_reply": "2022-09-07T16:34:01.761644Z"
    },
    "papermill": {
     "duration": 0.061235,
     "end_time": "2022-09-07T16:34:01.765325",
     "exception": false,
     "start_time": "2022-09-07T16:34:01.704090",
     "status": "completed"
    },
    "tags": []
   },
   "outputs": [
    {
     "data": {
      "text/plain": [
       "{'n_neighbors': 8}"
      ]
     },
     "execution_count": 95,
     "metadata": {},
     "output_type": "execute_result"
    }
   ],
   "source": [
    "knn_best_clf.best_params_"
   ]
  },
  {
   "cell_type": "code",
   "execution_count": 96,
   "id": "46ff1586",
   "metadata": {
    "execution": {
     "iopub.execute_input": "2022-09-07T16:34:01.870006Z",
     "iopub.status.busy": "2022-09-07T16:34:01.869298Z",
     "iopub.status.idle": "2022-09-07T16:34:02.513048Z",
     "shell.execute_reply": "2022-09-07T16:34:02.511812Z"
    },
    "papermill": {
     "duration": 0.698495,
     "end_time": "2022-09-07T16:34:02.515753",
     "exception": false,
     "start_time": "2022-09-07T16:34:01.817258",
     "status": "completed"
    },
    "tags": []
   },
   "outputs": [
    {
     "name": "stdout",
     "output_type": "stream",
     "text": [
      "0.8586781300376142 0.8453276047261009\n"
     ]
    }
   ],
   "source": [
    "print(knn_best_clf.score(X_train,y_train),\n",
    "knn_best_clf.score(X_test,y_test))"
   ]
  },
  {
   "cell_type": "markdown",
   "id": "4d6b8976",
   "metadata": {
    "papermill": {
     "duration": 0.049866,
     "end_time": "2022-09-07T16:34:02.616264",
     "exception": false,
     "start_time": "2022-09-07T16:34:02.566398",
     "status": "completed"
    },
    "tags": []
   },
   "source": [
    "### Random Forest"
   ]
  },
  {
   "cell_type": "code",
   "execution_count": 97,
   "id": "ba87cf69",
   "metadata": {
    "execution": {
     "iopub.execute_input": "2022-09-07T16:34:02.717884Z",
     "iopub.status.busy": "2022-09-07T16:34:02.717472Z",
     "iopub.status.idle": "2022-09-07T16:34:02.723854Z",
     "shell.execute_reply": "2022-09-07T16:34:02.722751Z"
    },
    "papermill": {
     "duration": 0.059967,
     "end_time": "2022-09-07T16:34:02.726205",
     "exception": false,
     "start_time": "2022-09-07T16:34:02.666238",
     "status": "completed"
    },
    "tags": []
   },
   "outputs": [],
   "source": [
    "# Number of trees in random forest\n",
    "n_estimators = [int(x) for x in np.linspace(start=10,stop=80,num=10)]\n",
    "# Number of features to consider at every split\n",
    "max_features = ['auto','sqrt']\n",
    "# Maximum number of levels in tree\n",
    "max_depth = [2,4]\n",
    "# Minimum number of samples required to split a node\n",
    "min_samples_split = [2,5]\n",
    "# Minimum number of samples required at each leaf node\n",
    "min_samples_leaf = [1,2]\n",
    "# Method of selecting samples for training each tree\n",
    "bootstrap = [True,False]"
   ]
  },
  {
   "cell_type": "code",
   "execution_count": 98,
   "id": "8085fdf7",
   "metadata": {
    "execution": {
     "iopub.execute_input": "2022-09-07T16:34:02.828890Z",
     "iopub.status.busy": "2022-09-07T16:34:02.828441Z",
     "iopub.status.idle": "2022-09-07T16:34:02.834674Z",
     "shell.execute_reply": "2022-09-07T16:34:02.833509Z"
    },
    "papermill": {
     "duration": 0.060951,
     "end_time": "2022-09-07T16:34:02.837594",
     "exception": false,
     "start_time": "2022-09-07T16:34:02.776643",
     "status": "completed"
    },
    "tags": []
   },
   "outputs": [
    {
     "name": "stdout",
     "output_type": "stream",
     "text": [
      "{'n_estimators': [10, 17, 25, 33, 41, 48, 56, 64, 72, 80], 'max_features': ['auto', 'sqrt'], 'max_depth': [2, 4], 'min_samples_split': [2, 5], 'min_samples_leaf': [1, 2], 'bootstrap': [True, False]}\n"
     ]
    }
   ],
   "source": [
    "rdf_param_grid = {'n_estimators' : n_estimators,\n",
    "     'max_features' : max_features,\n",
    "     'max_depth' : max_depth,\n",
    "     'min_samples_split' : min_samples_split,\n",
    "     'min_samples_leaf' : min_samples_leaf,\n",
    "     'bootstrap' : bootstrap}\n",
    "print(rdf_param_grid)"
   ]
  },
  {
   "cell_type": "code",
   "execution_count": 99,
   "id": "bdfdc168",
   "metadata": {
    "execution": {
     "iopub.execute_input": "2022-09-07T16:34:02.942554Z",
     "iopub.status.busy": "2022-09-07T16:34:02.942154Z",
     "iopub.status.idle": "2022-09-07T16:34:02.947372Z",
     "shell.execute_reply": "2022-09-07T16:34:02.946321Z"
    },
    "papermill": {
     "duration": 0.060214,
     "end_time": "2022-09-07T16:34:02.949537",
     "exception": false,
     "start_time": "2022-09-07T16:34:02.889323",
     "status": "completed"
    },
    "tags": []
   },
   "outputs": [],
   "source": [
    "rdf_clf = GridSearchCV(rdf_classifier,rdf_param_grid,cv=3,verbose=2,n_jobs=4)"
   ]
  },
  {
   "cell_type": "code",
   "execution_count": 100,
   "id": "af986d79",
   "metadata": {
    "execution": {
     "iopub.execute_input": "2022-09-07T16:34:03.052529Z",
     "iopub.status.busy": "2022-09-07T16:34:03.051486Z",
     "iopub.status.idle": "2022-09-07T16:34:37.626980Z",
     "shell.execute_reply": "2022-09-07T16:34:37.625795Z"
    },
    "papermill": {
     "duration": 34.630084,
     "end_time": "2022-09-07T16:34:37.629775",
     "exception": false,
     "start_time": "2022-09-07T16:34:02.999691",
     "status": "completed"
    },
    "tags": []
   },
   "outputs": [
    {
     "name": "stdout",
     "output_type": "stream",
     "text": [
      "Fitting 3 folds for each of 320 candidates, totalling 960 fits\n",
      "[CV] END bootstrap=True, max_depth=2, max_features=auto, min_samples_leaf=1, min_samples_split=2, n_estimators=17; total time=   0.1s\n",
      "[CV] END bootstrap=True, max_depth=2, max_features=auto, min_samples_leaf=1, min_samples_split=2, n_estimators=25; total time=   0.1s\n",
      "[CV] END bootstrap=True, max_depth=2, max_features=auto, min_samples_leaf=1, min_samples_split=2, n_estimators=41; total time=   0.1s\n",
      "[CV] END bootstrap=True, max_depth=2, max_features=auto, min_samples_leaf=1, min_samples_split=2, n_estimators=48; total time=   0.2s\n",
      "[CV] END bootstrap=True, max_depth=2, max_features=auto, min_samples_leaf=1, min_samples_split=2, n_estimators=64; total time=   0.2s\n",
      "[CV] END bootstrap=True, max_depth=2, max_features=auto, min_samples_leaf=1, min_samples_split=2, n_estimators=64; total time=   0.2s\n",
      "[CV] END bootstrap=True, max_depth=2, max_features=auto, min_samples_leaf=1, min_samples_split=5, n_estimators=10; total time=   0.0s\n",
      "[CV] END bootstrap=True, max_depth=2, max_features=auto, min_samples_leaf=1, min_samples_split=5, n_estimators=10; total time=   0.0s\n",
      "[CV] END bootstrap=True, max_depth=2, max_features=auto, min_samples_leaf=1, min_samples_split=5, n_estimators=10; total time=   0.0s\n",
      "[CV] END bootstrap=True, max_depth=2, max_features=auto, min_samples_leaf=1, min_samples_split=5, n_estimators=17; total time=   0.1s\n",
      "[CV] END bootstrap=True, max_depth=2, max_features=auto, min_samples_leaf=1, min_samples_split=5, n_estimators=17; total time=   0.1s\n",
      "[CV] END bootstrap=True, max_depth=2, max_features=auto, min_samples_leaf=1, min_samples_split=5, n_estimators=17; total time=   0.1s\n",
      "[CV] END bootstrap=True, max_depth=2, max_features=auto, min_samples_leaf=1, min_samples_split=5, n_estimators=33; total time=   0.1s\n",
      "[CV] END bootstrap=True, max_depth=2, max_features=auto, min_samples_leaf=1, min_samples_split=5, n_estimators=33; total time=   0.1s\n",
      "[CV] END bootstrap=True, max_depth=2, max_features=auto, min_samples_leaf=1, min_samples_split=5, n_estimators=56; total time=   0.2s\n",
      "[CV] END bootstrap=True, max_depth=2, max_features=auto, min_samples_leaf=1, min_samples_split=5, n_estimators=56; total time=   0.2s\n",
      "[CV] END bootstrap=True, max_depth=2, max_features=auto, min_samples_leaf=1, min_samples_split=5, n_estimators=72; total time=   0.2s\n",
      "[CV] END bootstrap=True, max_depth=2, max_features=auto, min_samples_leaf=1, min_samples_split=5, n_estimators=80; total time=   0.2s\n",
      "[CV] END bootstrap=True, max_depth=2, max_features=auto, min_samples_leaf=2, min_samples_split=2, n_estimators=25; total time=   0.1s\n",
      "[CV] END bootstrap=True, max_depth=2, max_features=auto, min_samples_leaf=2, min_samples_split=2, n_estimators=33; total time=   0.1s\n",
      "[CV] END bootstrap=True, max_depth=2, max_features=auto, min_samples_leaf=2, min_samples_split=2, n_estimators=48; total time=   0.1s\n",
      "[CV] END bootstrap=True, max_depth=2, max_features=auto, min_samples_leaf=2, min_samples_split=2, n_estimators=48; total time=   0.1s\n",
      "[CV] END bootstrap=True, max_depth=2, max_features=auto, min_samples_leaf=2, min_samples_split=2, n_estimators=72; total time=   0.2s\n",
      "[CV] END bootstrap=True, max_depth=2, max_features=auto, min_samples_leaf=2, min_samples_split=2, n_estimators=72; total time=   0.2s\n",
      "[CV] END bootstrap=True, max_depth=2, max_features=auto, min_samples_leaf=2, min_samples_split=5, n_estimators=17; total time=   0.1s\n",
      "[CV] END bootstrap=True, max_depth=2, max_features=auto, min_samples_leaf=2, min_samples_split=5, n_estimators=17; total time=   0.1s\n",
      "[CV] END bootstrap=True, max_depth=2, max_features=auto, min_samples_leaf=2, min_samples_split=5, n_estimators=33; total time=   0.1s\n",
      "[CV] END bootstrap=True, max_depth=2, max_features=auto, min_samples_leaf=2, min_samples_split=5, n_estimators=33; total time=   0.1s\n",
      "[CV] END bootstrap=True, max_depth=2, max_features=auto, min_samples_leaf=2, min_samples_split=5, n_estimators=56; total time=   0.2s\n",
      "[CV] END bootstrap=True, max_depth=2, max_features=auto, min_samples_leaf=2, min_samples_split=5, n_estimators=56; total time=   0.2s\n",
      "[CV] END bootstrap=True, max_depth=2, max_features=auto, min_samples_leaf=2, min_samples_split=5, n_estimators=72; total time=   0.2s\n",
      "[CV] END bootstrap=True, max_depth=2, max_features=auto, min_samples_leaf=2, min_samples_split=5, n_estimators=80; total time=   0.3s\n",
      "[CV] END bootstrap=True, max_depth=2, max_features=sqrt, min_samples_leaf=1, min_samples_split=2, n_estimators=25; total time=   0.1s\n",
      "[CV] END bootstrap=True, max_depth=2, max_features=sqrt, min_samples_leaf=1, min_samples_split=2, n_estimators=25; total time=   0.1s\n",
      "[CV] END bootstrap=True, max_depth=2, max_features=sqrt, min_samples_leaf=1, min_samples_split=2, n_estimators=41; total time=   0.2s\n",
      "[CV] END bootstrap=True, max_depth=2, max_features=sqrt, min_samples_leaf=1, min_samples_split=2, n_estimators=48; total time=   0.2s\n",
      "[CV] END bootstrap=True, max_depth=2, max_features=sqrt, min_samples_leaf=1, min_samples_split=2, n_estimators=64; total time=   0.2s\n",
      "[CV] END bootstrap=True, max_depth=2, max_features=sqrt, min_samples_leaf=1, min_samples_split=2, n_estimators=64; total time=   0.2s\n",
      "[CV] END bootstrap=True, max_depth=2, max_features=sqrt, min_samples_leaf=1, min_samples_split=5, n_estimators=10; total time=   0.1s\n",
      "[CV] END bootstrap=True, max_depth=2, max_features=sqrt, min_samples_leaf=1, min_samples_split=5, n_estimators=10; total time=   0.0s\n",
      "[CV] END bootstrap=True, max_depth=2, max_features=sqrt, min_samples_leaf=1, min_samples_split=5, n_estimators=10; total time=   0.0s\n",
      "[CV] END bootstrap=True, max_depth=2, max_features=sqrt, min_samples_leaf=1, min_samples_split=5, n_estimators=17; total time=   0.1s\n",
      "[CV] END bootstrap=True, max_depth=2, max_features=sqrt, min_samples_leaf=1, min_samples_split=5, n_estimators=17; total time=   0.1s\n",
      "[CV] END bootstrap=True, max_depth=2, max_features=sqrt, min_samples_leaf=1, min_samples_split=5, n_estimators=17; total time=   0.1s\n",
      "[CV] END bootstrap=True, max_depth=2, max_features=sqrt, min_samples_leaf=1, min_samples_split=5, n_estimators=25; total time=   0.1s\n",
      "[CV] END bootstrap=True, max_depth=2, max_features=sqrt, min_samples_leaf=1, min_samples_split=5, n_estimators=33; total time=   0.1s\n",
      "[CV] END bootstrap=True, max_depth=2, max_features=sqrt, min_samples_leaf=1, min_samples_split=5, n_estimators=48; total time=   0.2s\n",
      "[CV] END bootstrap=True, max_depth=2, max_features=sqrt, min_samples_leaf=1, min_samples_split=5, n_estimators=48; total time=   0.1s\n",
      "[CV] END bootstrap=True, max_depth=2, max_features=sqrt, min_samples_leaf=1, min_samples_split=5, n_estimators=72; total time=   0.2s\n",
      "[CV] END bootstrap=True, max_depth=2, max_features=sqrt, min_samples_leaf=1, min_samples_split=5, n_estimators=72; total time=   0.2s\n",
      "[CV] END bootstrap=True, max_depth=2, max_features=sqrt, min_samples_leaf=2, min_samples_split=2, n_estimators=17; total time=   0.1s\n",
      "[CV] END bootstrap=True, max_depth=2, max_features=sqrt, min_samples_leaf=2, min_samples_split=2, n_estimators=17; total time=   0.1s\n",
      "[CV] END bootstrap=True, max_depth=2, max_features=sqrt, min_samples_leaf=2, min_samples_split=2, n_estimators=25; total time=   0.1s\n",
      "[CV] END bootstrap=True, max_depth=2, max_features=sqrt, min_samples_leaf=2, min_samples_split=2, n_estimators=33; total time=   0.1s\n",
      "[CV] END bootstrap=True, max_depth=2, max_features=sqrt, min_samples_leaf=2, min_samples_split=2, n_estimators=48; total time=   0.1s\n",
      "[CV] END bootstrap=True, max_depth=2, max_features=sqrt, min_samples_leaf=2, min_samples_split=2, n_estimators=48; total time=   0.2s\n",
      "[CV] END bootstrap=True, max_depth=2, max_features=sqrt, min_samples_leaf=2, min_samples_split=2, n_estimators=72; total time=   0.2s\n",
      "[CV] END bootstrap=True, max_depth=2, max_features=sqrt, min_samples_leaf=2, min_samples_split=2, n_estimators=72; total time=   0.2s\n",
      "[CV] END bootstrap=True, max_depth=2, max_features=sqrt, min_samples_leaf=2, min_samples_split=5, n_estimators=17; total time=   0.1s\n",
      "[CV] END bootstrap=True, max_depth=2, max_features=sqrt, min_samples_leaf=2, min_samples_split=5, n_estimators=17; total time=   0.1s\n",
      "[CV] END bootstrap=True, max_depth=2, max_features=sqrt, min_samples_leaf=2, min_samples_split=5, n_estimators=25; total time=   0.1s\n",
      "[CV] END bootstrap=True, max_depth=2, max_features=sqrt, min_samples_leaf=2, min_samples_split=5, n_estimators=33; total time=   0.1s[CV] END bootstrap=True, max_depth=2, max_features=auto, min_samples_leaf=1, min_samples_split=2, n_estimators=10; total time=   0.0s\n",
      "[CV] END bootstrap=True, max_depth=2, max_features=auto, min_samples_leaf=1, min_samples_split=2, n_estimators=17; total time=   0.1s\n",
      "[CV] END bootstrap=True, max_depth=2, max_features=auto, min_samples_leaf=1, min_samples_split=2, n_estimators=25; total time=   0.1s\n",
      "[CV] END bootstrap=True, max_depth=2, max_features=auto, min_samples_leaf=1, min_samples_split=2, n_estimators=33; total time=   0.1s\n",
      "[CV] END bootstrap=True, max_depth=2, max_features=auto, min_samples_leaf=1, min_samples_split=2, n_estimators=48; total time=   0.1s\n",
      "[CV] END bootstrap=True, max_depth=2, max_features=auto, min_samples_leaf=1, min_samples_split=2, n_estimators=48; total time=   0.1s\n",
      "[CV] END bootstrap=True, max_depth=2, max_features=auto, min_samples_leaf=1, min_samples_split=2, n_estimators=72; total time=   0.2s\n",
      "[CV] END bootstrap=True, max_depth=2, max_features=auto, min_samples_leaf=1, min_samples_split=2, n_estimators=72; total time=   0.2s\n",
      "[CV] END bootstrap=True, max_depth=2, max_features=auto, min_samples_leaf=1, min_samples_split=5, n_estimators=25; total time=   0.1s\n",
      "[CV] END bootstrap=True, max_depth=2, max_features=auto, min_samples_leaf=1, min_samples_split=5, n_estimators=25; total time=   0.1s\n",
      "[CV] END bootstrap=True, max_depth=2, max_features=auto, min_samples_leaf=1, min_samples_split=5, n_estimators=41; total time=   0.1s\n",
      "[CV] END bootstrap=True, max_depth=2, max_features=auto, min_samples_leaf=1, min_samples_split=5, n_estimators=41; total time=   0.1s\n",
      "[CV] END bootstrap=True, max_depth=2, max_features=auto, min_samples_leaf=1, min_samples_split=5, n_estimators=56; total time=   0.2s\n",
      "[CV] END bootstrap=True, max_depth=2, max_features=auto, min_samples_leaf=1, min_samples_split=5, n_estimators=64; total time=   0.2s\n",
      "[CV] END bootstrap=True, max_depth=2, max_features=auto, min_samples_leaf=1, min_samples_split=5, n_estimators=80; total time=   0.2s\n",
      "[CV] END bootstrap=True, max_depth=2, max_features=auto, min_samples_leaf=1, min_samples_split=5, n_estimators=80; total time=   0.2s\n",
      "[CV] END bootstrap=True, max_depth=2, max_features=auto, min_samples_leaf=2, min_samples_split=2, n_estimators=41; total time=   0.1s\n",
      "[CV] END bootstrap=True, max_depth=2, max_features=auto, min_samples_leaf=2, min_samples_split=2, n_estimators=48; total time=   0.1s\n",
      "[CV] END bootstrap=True, max_depth=2, max_features=auto, min_samples_leaf=2, min_samples_split=2, n_estimators=64; total time=   0.2s\n",
      "[CV] END bootstrap=True, max_depth=2, max_features=auto, min_samples_leaf=2, min_samples_split=2, n_estimators=64; total time=   0.2s\n",
      "[CV] END bootstrap=True, max_depth=2, max_features=auto, min_samples_leaf=2, min_samples_split=5, n_estimators=10; total time=   0.0s\n",
      "[CV] END bootstrap=True, max_depth=2, max_features=auto, min_samples_leaf=2, min_samples_split=5, n_estimators=10; total time=   0.0s\n",
      "[CV] END bootstrap=True, max_depth=2, max_features=auto, min_samples_leaf=2, min_samples_split=5, n_estimators=10; total time=   0.1s\n",
      "[CV] END bootstrap=True, max_depth=2, max_features=auto, min_samples_leaf=2, min_samples_split=5, n_estimators=17; total time=   0.1s\n",
      "[CV] END bootstrap=True, max_depth=2, max_features=auto, min_samples_leaf=2, min_samples_split=5, n_estimators=25; total time=   0.1s\n",
      "[CV] END bootstrap=True, max_depth=2, max_features=auto, min_samples_leaf=2, min_samples_split=5, n_estimators=25; total time=   0.1s\n",
      "[CV] END bootstrap=True, max_depth=2, max_features=auto, min_samples_leaf=2, min_samples_split=5, n_estimators=41; total time=   0.1s\n",
      "[CV] END bootstrap=True, max_depth=2, max_features=auto, min_samples_leaf=2, min_samples_split=5, n_estimators=48; total time=   0.1s\n",
      "[CV] END bootstrap=True, max_depth=2, max_features=auto, min_samples_leaf=2, min_samples_split=5, n_estimators=64; total time=   0.2s\n",
      "[CV] END bootstrap=True, max_depth=2, max_features=auto, min_samples_leaf=2, min_samples_split=5, n_estimators=64; total time=   0.2s\n",
      "[CV] END bootstrap=True, max_depth=2, max_features=sqrt, min_samples_leaf=1, min_samples_split=2, n_estimators=10; total time=   0.0s\n",
      "[CV] END bootstrap=True, max_depth=2, max_features=sqrt, min_samples_leaf=1, min_samples_split=2, n_estimators=10; total time=   0.0s\n",
      "[CV] END bootstrap=True, max_depth=2, max_features=sqrt, min_samples_leaf=1, min_samples_split=2, n_estimators=17; total time=   0.1s\n",
      "[CV] END bootstrap=True, max_depth=2, max_features=sqrt, min_samples_leaf=1, min_samples_split=2, n_estimators=17; total time=   0.1s\n",
      "[CV] END bootstrap=True, max_depth=2, max_features=sqrt, min_samples_leaf=1, min_samples_split=2, n_estimators=33; total time=   0.2s\n",
      "[CV] END bootstrap=True, max_depth=2, max_features=sqrt, min_samples_leaf=1, min_samples_split=2, n_estimators=33; total time=   0.1s\n",
      "[CV] END bootstrap=True, max_depth=2, max_features=sqrt, min_samples_leaf=1, min_samples_split=2, n_estimators=48; total time=   0.2s\n",
      "[CV] END bootstrap=True, max_depth=2, max_features=sqrt, min_samples_leaf=1, min_samples_split=2, n_estimators=48; total time=   0.3s\n",
      "[CV] END bootstrap=True, max_depth=2, max_features=sqrt, min_samples_leaf=1, min_samples_split=2, n_estimators=72; total time=   0.5s\n",
      "[CV] END bootstrap=True, max_depth=2, max_features=sqrt, min_samples_leaf=1, min_samples_split=2, n_estimators=72; total time=   0.3s\n",
      "[CV] END bootstrap=True, max_depth=2, max_features=sqrt, min_samples_leaf=1, min_samples_split=5, n_estimators=41; total time=   0.1s\n",
      "[CV] END bootstrap=True, max_depth=2, max_features=sqrt, min_samples_leaf=1, min_samples_split=5, n_estimators=41; total time=   0.1s\n",
      "[CV] END bootstrap=True, max_depth=2, max_features=sqrt, min_samples_leaf=1, min_samples_split=5, n_estimators=56; total time=   0.2s\n",
      "[CV] END bootstrap=True, max_depth=2, max_features=sqrt, min_samples_leaf=1, min_samples_split=5, n_estimators=64; total time=   0.2s\n",
      "[CV] END bootstrap=True, max_depth=2, max_features=sqrt, min_samples_leaf=1, min_samples_split=5, n_estimators=80; total time=   0.2s\n",
      "[CV] END bootstrap=True, max_depth=2, max_features=sqrt, min_samples_leaf=1, min_samples_split=5, n_estimators=80; total time=   0.2s\n",
      "[CV] END bootstrap=True, max_depth=2, max_features=sqrt, min_samples_leaf=2, min_samples_split=2, n_estimators=41; total time=   0.1s\n",
      "[CV] END bootstrap=True, max_depth=2, max_features=sqrt, min_samples_leaf=2, min_samples_split=2, n_estimators=48; total time=   0.1s\n",
      "[CV] END bootstrap=True, max_depth=2, max_features=sqrt, min_samples_leaf=2, min_samples_split=2, n_estimators=64; total time=   0.2s\n",
      "[CV] END bootstrap=True, max_depth=2, max_features=sqrt, min_samples_leaf=2, min_samples_split=2, n_estimators=64; total time=   0.2s\n",
      "[CV] END bootstrap=True, max_depth=2, max_features=sqrt, min_samples_leaf=2, min_samples_split=5, n_estimators=10; total time=   0.0s\n",
      "[CV] END bootstrap=True, max_depth=2, max_features=sqrt, min_samples_leaf=2, min_samples_split=5, n_estimators=10; total time=   0.0s\n",
      "[CV] END bootstrap=True, max_depth=2, max_features=sqrt, min_samples_leaf=2, min_samples_split=5, n_estimators=10; total time=   0.0s\n",
      "[CV] END bootstrap=True, max_depth=2, max_features=sqrt, min_samples_leaf=2, min_samples_split=5, n_estimators=17; total time=   0.1s\n",
      "[CV] END bootstrap=True, max_depth=2, max_features=sqrt, min_samples_leaf=2, min_samples_split=5, n_estimators=25; total time=   0.1s\n",
      "[CV] END bootstrap=True, max_depth=2, max_features=sqrt, min_samples_leaf=2, min_samples_split=5, n_estimators=25; total time=   0.1s\n",
      "[CV] END bootstrap=True, max_depth=2, max_features=sqrt, min_samples_leaf=2, min_samples_split=5, n_estimators=41; total time=   0.1s\n",
      "[CV] END bootstrap=True, max_depth=2, max_features=sqrt, min_samples_leaf=2, min_samples_split=5, n_estimators=41; total time=   0.1s\n",
      "[CV] END bootstrap=True, max_depth=2, max_features=sqrt, min_samples_leaf=2, min_samples_split=5, n_estimators=56; total time=   0.2s\n",
      "[CV] END bootstrap=True, max_depth=2, max_features=sqrt, min_samples_leaf=2, min_samples_split=5, n_estimators=64; total time=   0.2s\n",
      "[CV] END bootstrap=True, max_depth=2, max_features=sqrt, min_samples_leaf=2, min_samples_split=5, n_estimators=80; total time=   0.2s\n",
      "[CV] END bootstrap=True, max_depth=2, max_features=sqrt, min_samples_leaf=2, min_samples_split=5, n_estimators=80; total time=   0.2s[CV] END bootstrap=True, max_depth=2, max_features=auto, min_samples_leaf=1, min_samples_split=2, n_estimators=10; total time=   0.0s\n",
      "[CV] END bootstrap=True, max_depth=2, max_features=auto, min_samples_leaf=1, min_samples_split=2, n_estimators=25; total time=   0.1s\n",
      "[CV] END bootstrap=True, max_depth=2, max_features=auto, min_samples_leaf=1, min_samples_split=2, n_estimators=41; total time=   0.1s\n",
      "[CV] END bootstrap=True, max_depth=2, max_features=auto, min_samples_leaf=1, min_samples_split=2, n_estimators=41; total time=   0.1s\n",
      "[CV] END bootstrap=True, max_depth=2, max_features=auto, min_samples_leaf=1, min_samples_split=2, n_estimators=56; total time=   0.2s\n",
      "[CV] END bootstrap=True, max_depth=2, max_features=auto, min_samples_leaf=1, min_samples_split=2, n_estimators=64; total time=   0.2s\n",
      "[CV] END bootstrap=True, max_depth=2, max_features=auto, min_samples_leaf=1, min_samples_split=2, n_estimators=80; total time=   0.2s\n",
      "[CV] END bootstrap=True, max_depth=2, max_features=auto, min_samples_leaf=1, min_samples_split=2, n_estimators=80; total time=   0.2s\n",
      "[CV] END bootstrap=True, max_depth=2, max_features=auto, min_samples_leaf=1, min_samples_split=5, n_estimators=41; total time=   0.1s\n",
      "[CV] END bootstrap=True, max_depth=2, max_features=auto, min_samples_leaf=1, min_samples_split=5, n_estimators=48; total time=   0.1s\n",
      "[CV] END bootstrap=True, max_depth=2, max_features=auto, min_samples_leaf=1, min_samples_split=5, n_estimators=64; total time=   0.2s\n",
      "[CV] END bootstrap=True, max_depth=2, max_features=auto, min_samples_leaf=1, min_samples_split=5, n_estimators=64; total time=   0.2s\n",
      "[CV] END bootstrap=True, max_depth=2, max_features=auto, min_samples_leaf=2, min_samples_split=2, n_estimators=10; total time=   0.0s\n",
      "[CV] END bootstrap=True, max_depth=2, max_features=auto, min_samples_leaf=2, min_samples_split=2, n_estimators=10; total time=   0.0s\n",
      "[CV] END bootstrap=True, max_depth=2, max_features=auto, min_samples_leaf=2, min_samples_split=2, n_estimators=10; total time=   0.0s\n",
      "[CV] END bootstrap=True, max_depth=2, max_features=auto, min_samples_leaf=2, min_samples_split=2, n_estimators=17; total time=   0.1s\n",
      "[CV] END bootstrap=True, max_depth=2, max_features=auto, min_samples_leaf=2, min_samples_split=2, n_estimators=25; total time=   0.1s\n",
      "[CV] END bootstrap=True, max_depth=2, max_features=auto, min_samples_leaf=2, min_samples_split=2, n_estimators=25; total time=   0.1s\n",
      "[CV] END bootstrap=True, max_depth=2, max_features=auto, min_samples_leaf=2, min_samples_split=2, n_estimators=41; total time=   0.1s\n",
      "[CV] END bootstrap=True, max_depth=2, max_features=auto, min_samples_leaf=2, min_samples_split=2, n_estimators=41; total time=   0.1s\n",
      "[CV] END bootstrap=True, max_depth=2, max_features=auto, min_samples_leaf=2, min_samples_split=2, n_estimators=56; total time=   0.2s\n",
      "[CV] END bootstrap=True, max_depth=2, max_features=auto, min_samples_leaf=2, min_samples_split=2, n_estimators=64; total time=   0.2s\n",
      "[CV] END bootstrap=True, max_depth=2, max_features=auto, min_samples_leaf=2, min_samples_split=2, n_estimators=80; total time=   0.2s\n",
      "[CV] END bootstrap=True, max_depth=2, max_features=auto, min_samples_leaf=2, min_samples_split=2, n_estimators=80; total time=   0.3s\n",
      "[CV] END bootstrap=True, max_depth=2, max_features=auto, min_samples_leaf=2, min_samples_split=5, n_estimators=41; total time=   0.1s\n",
      "[CV] END bootstrap=True, max_depth=2, max_features=auto, min_samples_leaf=2, min_samples_split=5, n_estimators=41; total time=   0.1s\n",
      "[CV] END bootstrap=True, max_depth=2, max_features=auto, min_samples_leaf=2, min_samples_split=5, n_estimators=56; total time=   0.2s\n",
      "[CV] END bootstrap=True, max_depth=2, max_features=auto, min_samples_leaf=2, min_samples_split=5, n_estimators=64; total time=   0.2s\n",
      "[CV] END bootstrap=True, max_depth=2, max_features=auto, min_samples_leaf=2, min_samples_split=5, n_estimators=80; total time=   0.3s\n",
      "[CV] END bootstrap=True, max_depth=2, max_features=auto, min_samples_leaf=2, min_samples_split=5, n_estimators=80; total time=   0.5s\n",
      "[CV] END bootstrap=True, max_depth=2, max_features=sqrt, min_samples_leaf=1, min_samples_split=2, n_estimators=56; total time=   0.2s\n",
      "[CV] END bootstrap=True, max_depth=2, max_features=sqrt, min_samples_leaf=1, min_samples_split=2, n_estimators=64; total time=   0.2s\n",
      "[CV] END bootstrap=True, max_depth=2, max_features=sqrt, min_samples_leaf=1, min_samples_split=2, n_estimators=80; total time=   0.2s\n",
      "[CV] END bootstrap=True, max_depth=2, max_features=sqrt, min_samples_leaf=1, min_samples_split=2, n_estimators=80; total time=   0.2s\n",
      "[CV] END bootstrap=True, max_depth=2, max_features=sqrt, min_samples_leaf=1, min_samples_split=5, n_estimators=25; total time=   0.1s\n",
      "[CV] END bootstrap=True, max_depth=2, max_features=sqrt, min_samples_leaf=1, min_samples_split=5, n_estimators=25; total time=   0.1s\n",
      "[CV] END bootstrap=True, max_depth=2, max_features=sqrt, min_samples_leaf=1, min_samples_split=5, n_estimators=41; total time=   0.1s\n",
      "[CV] END bootstrap=True, max_depth=2, max_features=sqrt, min_samples_leaf=1, min_samples_split=5, n_estimators=48; total time=   0.2s\n",
      "[CV] END bootstrap=True, max_depth=2, max_features=sqrt, min_samples_leaf=1, min_samples_split=5, n_estimators=64; total time=   0.2s\n",
      "[CV] END bootstrap=True, max_depth=2, max_features=sqrt, min_samples_leaf=1, min_samples_split=5, n_estimators=64; total time=   0.2s\n",
      "[CV] END bootstrap=True, max_depth=2, max_features=sqrt, min_samples_leaf=2, min_samples_split=2, n_estimators=10; total time=   0.0s\n",
      "[CV] END bootstrap=True, max_depth=2, max_features=sqrt, min_samples_leaf=2, min_samples_split=2, n_estimators=10; total time=   0.0s\n",
      "[CV] END bootstrap=True, max_depth=2, max_features=sqrt, min_samples_leaf=2, min_samples_split=2, n_estimators=10; total time=   0.0s\n",
      "[CV] END bootstrap=True, max_depth=2, max_features=sqrt, min_samples_leaf=2, min_samples_split=2, n_estimators=17; total time=   0.1s\n",
      "[CV] END bootstrap=True, max_depth=2, max_features=sqrt, min_samples_leaf=2, min_samples_split=2, n_estimators=25; total time=   0.1s\n",
      "[CV] END bootstrap=True, max_depth=2, max_features=sqrt, min_samples_leaf=2, min_samples_split=2, n_estimators=25; total time=   0.1s\n",
      "[CV] END bootstrap=True, max_depth=2, max_features=sqrt, min_samples_leaf=2, min_samples_split=2, n_estimators=41; total time=   0.1s\n",
      "[CV] END bootstrap=True, max_depth=2, max_features=sqrt, min_samples_leaf=2, min_samples_split=2, n_estimators=41; total time=   0.1s\n",
      "[CV] END bootstrap=True, max_depth=2, max_features=sqrt, min_samples_leaf=2, min_samples_split=2, n_estimators=56; total time=   0.2s\n",
      "[CV] END bootstrap=True, max_depth=2, max_features=sqrt, min_samples_leaf=2, min_samples_split=2, n_estimators=64; total time=   0.2s\n",
      "[CV] END bootstrap=True, max_depth=2, max_features=sqrt, min_samples_leaf=2, min_samples_split=2, n_estimators=80; total time=   0.2s\n",
      "[CV] END bootstrap=True, max_depth=2, max_features=sqrt, min_samples_leaf=2, min_samples_split=2, n_estimators=80; total time=   0.2s\n",
      "[CV] END bootstrap=True, max_depth=2, max_features=sqrt, min_samples_leaf=2, min_samples_split=5, n_estimators=48; total time=   0.2s\n",
      "[CV] END bootstrap=True, max_depth=2, max_features=sqrt, min_samples_leaf=2, min_samples_split=5, n_estimators=48; total time=   0.2s\n",
      "[CV] END bootstrap=True, max_depth=2, max_features=sqrt, min_samples_leaf=2, min_samples_split=5, n_estimators=72; total time=   0.2s\n",
      "[CV] END bootstrap=True, max_depth=2, max_features=sqrt, min_samples_leaf=2, min_samples_split=5, n_estimators=72; total time=   0.2s\n",
      "[CV] END bootstrap=True, max_depth=4, max_features=auto, min_samples_leaf=1, min_samples_split=2, n_estimators=17; total time=   0.1s\n",
      "[CV] END bootstrap=True, max_depth=4, max_features=auto, min_samples_leaf=1, min_samples_split=2, n_estimators=17; total time=   0.1s\n",
      "[CV] END bootstrap=True, max_depth=4, max_features=auto, min_samples_leaf=1, min_samples_split=2, n_estimators=33; total time=   0.1s\n",
      "[CV] END bootstrap=True, max_depth=4, max_features=auto, min_samples_leaf=1, min_samples_split=2, n_estimators=33; total time=   0.1s\n",
      "[CV] END bootstrap=True, max_depth=4, max_features=auto, min_samples_leaf=1, min_samples_split=2, n_estimators=56; total time=   0.2s\n",
      "[CV] END bootstrap=True, max_depth=4, max_features=auto, min_samples_leaf=1, min_samples_split=2, n_estimators=56; total time=   0.2s[CV] END bootstrap=True, max_depth=2, max_features=auto, min_samples_leaf=1, min_samples_split=2, n_estimators=10; total time=   0.0s\n",
      "[CV] END bootstrap=True, max_depth=2, max_features=auto, min_samples_leaf=1, min_samples_split=2, n_estimators=17; total time=   0.1s\n",
      "[CV] END bootstrap=True, max_depth=2, max_features=auto, min_samples_leaf=1, min_samples_split=2, n_estimators=33; total time=   0.1s\n",
      "[CV] END bootstrap=True, max_depth=2, max_features=auto, min_samples_leaf=1, min_samples_split=2, n_estimators=33; total time=   0.1s\n",
      "[CV] END bootstrap=True, max_depth=2, max_features=auto, min_samples_leaf=1, min_samples_split=2, n_estimators=56; total time=   0.2s\n",
      "[CV] END bootstrap=True, max_depth=2, max_features=auto, min_samples_leaf=1, min_samples_split=2, n_estimators=56; total time=   0.2s\n",
      "[CV] END bootstrap=True, max_depth=2, max_features=auto, min_samples_leaf=1, min_samples_split=2, n_estimators=72; total time=   0.2s\n",
      "[CV] END bootstrap=True, max_depth=2, max_features=auto, min_samples_leaf=1, min_samples_split=2, n_estimators=80; total time=   0.2s\n",
      "[CV] END bootstrap=True, max_depth=2, max_features=auto, min_samples_leaf=1, min_samples_split=5, n_estimators=25; total time=   0.1s\n",
      "[CV] END bootstrap=True, max_depth=2, max_features=auto, min_samples_leaf=1, min_samples_split=5, n_estimators=33; total time=   0.1s\n",
      "[CV] END bootstrap=True, max_depth=2, max_features=auto, min_samples_leaf=1, min_samples_split=5, n_estimators=48; total time=   0.1s\n",
      "[CV] END bootstrap=True, max_depth=2, max_features=auto, min_samples_leaf=1, min_samples_split=5, n_estimators=48; total time=   0.2s\n",
      "[CV] END bootstrap=True, max_depth=2, max_features=auto, min_samples_leaf=1, min_samples_split=5, n_estimators=72; total time=   0.2s\n",
      "[CV] END bootstrap=True, max_depth=2, max_features=auto, min_samples_leaf=1, min_samples_split=5, n_estimators=72; total time=   0.2s\n",
      "[CV] END bootstrap=True, max_depth=2, max_features=auto, min_samples_leaf=2, min_samples_split=2, n_estimators=17; total time=   0.1s\n",
      "[CV] END bootstrap=True, max_depth=2, max_features=auto, min_samples_leaf=2, min_samples_split=2, n_estimators=17; total time=   0.1s\n",
      "[CV] END bootstrap=True, max_depth=2, max_features=auto, min_samples_leaf=2, min_samples_split=2, n_estimators=33; total time=   0.1s\n",
      "[CV] END bootstrap=True, max_depth=2, max_features=auto, min_samples_leaf=2, min_samples_split=2, n_estimators=33; total time=   0.1s\n",
      "[CV] END bootstrap=True, max_depth=2, max_features=auto, min_samples_leaf=2, min_samples_split=2, n_estimators=56; total time=   0.2s\n",
      "[CV] END bootstrap=True, max_depth=2, max_features=auto, min_samples_leaf=2, min_samples_split=2, n_estimators=56; total time=   0.2s\n",
      "[CV] END bootstrap=True, max_depth=2, max_features=auto, min_samples_leaf=2, min_samples_split=2, n_estimators=72; total time=   0.2s\n",
      "[CV] END bootstrap=True, max_depth=2, max_features=auto, min_samples_leaf=2, min_samples_split=2, n_estimators=80; total time=   0.3s\n",
      "[CV] END bootstrap=True, max_depth=2, max_features=auto, min_samples_leaf=2, min_samples_split=5, n_estimators=25; total time=   0.1s\n",
      "[CV] END bootstrap=True, max_depth=2, max_features=auto, min_samples_leaf=2, min_samples_split=5, n_estimators=33; total time=   0.1s\n",
      "[CV] END bootstrap=True, max_depth=2, max_features=auto, min_samples_leaf=2, min_samples_split=5, n_estimators=48; total time=   0.2s\n",
      "[CV] END bootstrap=True, max_depth=2, max_features=auto, min_samples_leaf=2, min_samples_split=5, n_estimators=48; total time=   0.1s\n",
      "[CV] END bootstrap=True, max_depth=2, max_features=auto, min_samples_leaf=2, min_samples_split=5, n_estimators=72; total time=   0.2s\n",
      "[CV] END bootstrap=True, max_depth=2, max_features=auto, min_samples_leaf=2, min_samples_split=5, n_estimators=72; total time=   0.2s\n",
      "[CV] END bootstrap=True, max_depth=2, max_features=sqrt, min_samples_leaf=1, min_samples_split=2, n_estimators=10; total time=   0.0s\n",
      "[CV] END bootstrap=True, max_depth=2, max_features=sqrt, min_samples_leaf=1, min_samples_split=2, n_estimators=17; total time=   0.1s\n",
      "[CV] END bootstrap=True, max_depth=2, max_features=sqrt, min_samples_leaf=1, min_samples_split=2, n_estimators=25; total time=   0.1s\n",
      "[CV] END bootstrap=True, max_depth=2, max_features=sqrt, min_samples_leaf=1, min_samples_split=2, n_estimators=33; total time=   0.1s\n",
      "[CV] END bootstrap=True, max_depth=2, max_features=sqrt, min_samples_leaf=1, min_samples_split=2, n_estimators=41; total time=   0.1s\n",
      "[CV] END bootstrap=True, max_depth=2, max_features=sqrt, min_samples_leaf=1, min_samples_split=2, n_estimators=41; total time=   0.2s\n",
      "[CV] END bootstrap=True, max_depth=2, max_features=sqrt, min_samples_leaf=1, min_samples_split=2, n_estimators=56; total time=   0.2s\n",
      "[CV] END bootstrap=True, max_depth=2, max_features=sqrt, min_samples_leaf=1, min_samples_split=2, n_estimators=56; total time=   0.2s\n",
      "[CV] END bootstrap=True, max_depth=2, max_features=sqrt, min_samples_leaf=1, min_samples_split=2, n_estimators=72; total time=   0.3s\n",
      "[CV] END bootstrap=True, max_depth=2, max_features=sqrt, min_samples_leaf=1, min_samples_split=2, n_estimators=80; total time=   0.3s\n",
      "[CV] END bootstrap=True, max_depth=2, max_features=sqrt, min_samples_leaf=1, min_samples_split=5, n_estimators=33; total time=   0.1s\n",
      "[CV] END bootstrap=True, max_depth=2, max_features=sqrt, min_samples_leaf=1, min_samples_split=5, n_estimators=33; total time=   0.1s\n",
      "[CV] END bootstrap=True, max_depth=2, max_features=sqrt, min_samples_leaf=1, min_samples_split=5, n_estimators=56; total time=   0.2s\n",
      "[CV] END bootstrap=True, max_depth=2, max_features=sqrt, min_samples_leaf=1, min_samples_split=5, n_estimators=56; total time=   0.2s\n",
      "[CV] END bootstrap=True, max_depth=2, max_features=sqrt, min_samples_leaf=1, min_samples_split=5, n_estimators=72; total time=   0.2s\n",
      "[CV] END bootstrap=True, max_depth=2, max_features=sqrt, min_samples_leaf=1, min_samples_split=5, n_estimators=80; total time=   0.2s\n",
      "[CV] END bootstrap=True, max_depth=2, max_features=sqrt, min_samples_leaf=2, min_samples_split=2, n_estimators=33; total time=   0.1s\n",
      "[CV] END bootstrap=True, max_depth=2, max_features=sqrt, min_samples_leaf=2, min_samples_split=2, n_estimators=33; total time=   0.1s\n",
      "[CV] END bootstrap=True, max_depth=2, max_features=sqrt, min_samples_leaf=2, min_samples_split=2, n_estimators=56; total time=   0.2s\n",
      "[CV] END bootstrap=True, max_depth=2, max_features=sqrt, min_samples_leaf=2, min_samples_split=2, n_estimators=56; total time=   0.2s\n",
      "[CV] END bootstrap=True, max_depth=2, max_features=sqrt, min_samples_leaf=2, min_samples_split=2, n_estimators=72; total time=   0.2s\n",
      "[CV] END bootstrap=True, max_depth=2, max_features=sqrt, min_samples_leaf=2, min_samples_split=2, n_estimators=80; total time=   0.2s\n",
      "[CV] END bootstrap=True, max_depth=2, max_features=sqrt, min_samples_leaf=2, min_samples_split=5, n_estimators=33; total time=   0.1s\n",
      "[CV] END bootstrap=True, max_depth=2, max_features=sqrt, min_samples_leaf=2, min_samples_split=5, n_estimators=33; total time=   0.1s\n",
      "[CV] END bootstrap=True, max_depth=2, max_features=sqrt, min_samples_leaf=2, min_samples_split=5, n_estimators=56; total time=   0.2s\n",
      "[CV] END bootstrap=True, max_depth=2, max_features=sqrt, min_samples_leaf=2, min_samples_split=5, n_estimators=56; total time=   0.2s\n",
      "[CV] END bootstrap=True, max_depth=2, max_features=sqrt, min_samples_leaf=2, min_samples_split=5, n_estimators=72; total time=   0.2s\n",
      "[CV] END bootstrap=True, max_depth=2, max_features=sqrt, min_samples_leaf=2, min_samples_split=5, n_estimators=80; total time=   0.2s\n",
      "[CV] END bootstrap=True, max_depth=4, max_features=auto, min_samples_leaf=1, min_samples_split=2, n_estimators=25; total time=   0.1s\n",
      "[CV] END bootstrap=True, max_depth=4, max_features=auto, min_samples_leaf=1, min_samples_split=2, n_estimators=25; total time=   0.1s\n",
      "[CV] END bootstrap=True, max_depth=4, max_features=auto, min_samples_leaf=1, min_samples_split=2, n_estimators=41; total time=   0.1s\n",
      "[CV] END bootstrap=True, max_depth=4, max_features=auto, min_samples_leaf=1, min_samples_split=2, n_estimators=41; total time=   0.1s\n",
      "[CV] END bootstrap=True, max_depth=4, max_features=auto, min_samples_leaf=1, min_samples_split=2, n_estimators=56; total time=   0.2s\n",
      "[CV] END bootstrap=True, max_depth=4, max_features=auto, min_samples_leaf=1, min_samples_split=2, n_estimators=64; total time=   0.2s\n",
      "[CV] END bootstrap=True, max_depth=2, max_features=sqrt, min_samples_leaf=2, min_samples_split=5, n_estimators=41; total time=   0.1s\n",
      "[CV] END bootstrap=True, max_depth=2, max_features=sqrt, min_samples_leaf=2, min_samples_split=5, n_estimators=48; total time=   0.2s\n",
      "[CV] END bootstrap=True, max_depth=2, max_features=sqrt, min_samples_leaf=2, min_samples_split=5, n_estimators=64; total time=   0.2s\n",
      "[CV] END bootstrap=True, max_depth=2, max_features=sqrt, min_samples_leaf=2, min_samples_split=5, n_estimators=64; total time=   0.2s\n",
      "[CV] END bootstrap=True, max_depth=4, max_features=auto, min_samples_leaf=1, min_samples_split=2, n_estimators=10; total time=   0.0s\n",
      "[CV] END bootstrap=True, max_depth=4, max_features=auto, min_samples_leaf=1, min_samples_split=2, n_estimators=10; total time=   0.0s\n",
      "[CV] END bootstrap=True, max_depth=4, max_features=auto, min_samples_leaf=1, min_samples_split=2, n_estimators=10; total time=   0.0s\n",
      "[CV] END bootstrap=True, max_depth=4, max_features=auto, min_samples_leaf=1, min_samples_split=2, n_estimators=17; total time=   0.1s\n",
      "[CV] END bootstrap=True, max_depth=4, max_features=auto, min_samples_leaf=1, min_samples_split=2, n_estimators=25; total time=   0.1s\n",
      "[CV] END bootstrap=True, max_depth=4, max_features=auto, min_samples_leaf=1, min_samples_split=2, n_estimators=33; total time=   0.1s\n",
      "[CV] END bootstrap=True, max_depth=4, max_features=auto, min_samples_leaf=1, min_samples_split=2, n_estimators=48; total time=   0.2s\n",
      "[CV] END bootstrap=True, max_depth=4, max_features=auto, min_samples_leaf=1, min_samples_split=2, n_estimators=48; total time=   0.2s\n",
      "[CV] END bootstrap=True, max_depth=4, max_features=auto, min_samples_leaf=1, min_samples_split=2, n_estimators=72; total time=   0.2s\n",
      "[CV] END bootstrap=True, max_depth=4, max_features=auto, min_samples_leaf=1, min_samples_split=2, n_estimators=72; total time=   0.2s\n",
      "[CV] END bootstrap=True, max_depth=4, max_features=auto, min_samples_leaf=1, min_samples_split=5, n_estimators=10; total time=   0.0s\n",
      "[CV] END bootstrap=True, max_depth=4, max_features=auto, min_samples_leaf=1, min_samples_split=5, n_estimators=17; total time=   0.1s\n",
      "[CV] END bootstrap=True, max_depth=4, max_features=auto, min_samples_leaf=1, min_samples_split=5, n_estimators=25; total time=   0.1s\n",
      "[CV] END bootstrap=True, max_depth=4, max_features=auto, min_samples_leaf=1, min_samples_split=5, n_estimators=25; total time=   0.1s\n",
      "[CV] END bootstrap=True, max_depth=4, max_features=auto, min_samples_leaf=1, min_samples_split=5, n_estimators=41; total time=   0.1s\n",
      "[CV] END bootstrap=True, max_depth=4, max_features=auto, min_samples_leaf=1, min_samples_split=5, n_estimators=41; total time=   0.1s\n",
      "[CV] END bootstrap=True, max_depth=4, max_features=auto, min_samples_leaf=1, min_samples_split=5, n_estimators=56; total time=   0.2s\n",
      "[CV] END bootstrap=True, max_depth=4, max_features=auto, min_samples_leaf=1, min_samples_split=5, n_estimators=64; total time=   0.2s\n",
      "[CV] END bootstrap=True, max_depth=4, max_features=auto, min_samples_leaf=1, min_samples_split=5, n_estimators=80; total time=   0.3s\n",
      "[CV] END bootstrap=True, max_depth=4, max_features=auto, min_samples_leaf=1, min_samples_split=5, n_estimators=80; total time=   0.3s\n",
      "[CV] END bootstrap=True, max_depth=4, max_features=auto, min_samples_leaf=2, min_samples_split=2, n_estimators=48; total time=   0.2s\n",
      "[CV] END bootstrap=True, max_depth=4, max_features=auto, min_samples_leaf=2, min_samples_split=2, n_estimators=48; total time=   0.2s\n",
      "[CV] END bootstrap=True, max_depth=4, max_features=auto, min_samples_leaf=2, min_samples_split=2, n_estimators=72; total time=   0.2s\n",
      "[CV] END bootstrap=True, max_depth=4, max_features=auto, min_samples_leaf=2, min_samples_split=2, n_estimators=72; total time=   0.2s\n",
      "[CV] END bootstrap=True, max_depth=4, max_features=auto, min_samples_leaf=2, min_samples_split=5, n_estimators=10; total time=   0.0s\n",
      "[CV] END bootstrap=True, max_depth=4, max_features=auto, min_samples_leaf=2, min_samples_split=5, n_estimators=17; total time=   0.1s\n",
      "[CV] END bootstrap=True, max_depth=4, max_features=auto, min_samples_leaf=2, min_samples_split=5, n_estimators=25; total time=   0.1s\n",
      "[CV] END bootstrap=True, max_depth=4, max_features=auto, min_samples_leaf=2, min_samples_split=5, n_estimators=25; total time=   0.1s\n",
      "[CV] END bootstrap=True, max_depth=4, max_features=auto, min_samples_leaf=2, min_samples_split=5, n_estimators=41; total time=   0.1s\n",
      "[CV] END bootstrap=True, max_depth=4, max_features=auto, min_samples_leaf=2, min_samples_split=5, n_estimators=41; total time=   0.1s\n",
      "[CV] END bootstrap=True, max_depth=4, max_features=auto, min_samples_leaf=2, min_samples_split=5, n_estimators=56; total time=   0.2s\n",
      "[CV] END bootstrap=True, max_depth=4, max_features=auto, min_samples_leaf=2, min_samples_split=5, n_estimators=64; total time=   0.2s\n",
      "[CV] END bootstrap=True, max_depth=4, max_features=auto, min_samples_leaf=2, min_samples_split=5, n_estimators=80; total time=   0.3s\n",
      "[CV] END bootstrap=True, max_depth=4, max_features=auto, min_samples_leaf=2, min_samples_split=5, n_estimators=80; total time=   0.3s\n",
      "[CV] END bootstrap=True, max_depth=4, max_features=sqrt, min_samples_leaf=1, min_samples_split=2, n_estimators=48; total time=   0.2s\n",
      "[CV] END bootstrap=True, max_depth=4, max_features=sqrt, min_samples_leaf=1, min_samples_split=2, n_estimators=48; total time=   0.2s\n",
      "[CV] END bootstrap=True, max_depth=4, max_features=sqrt, min_samples_leaf=1, min_samples_split=2, n_estimators=72; total time=   0.2s\n",
      "[CV] END bootstrap=True, max_depth=4, max_features=sqrt, min_samples_leaf=1, min_samples_split=2, n_estimators=72; total time=   0.2s\n",
      "[CV] END bootstrap=True, max_depth=4, max_features=sqrt, min_samples_leaf=1, min_samples_split=5, n_estimators=17; total time=   0.1s\n",
      "[CV] END bootstrap=True, max_depth=4, max_features=sqrt, min_samples_leaf=1, min_samples_split=5, n_estimators=17; total time=   0.1s\n",
      "[CV] END bootstrap=True, max_depth=4, max_features=sqrt, min_samples_leaf=1, min_samples_split=5, n_estimators=33; total time=   0.1s\n",
      "[CV] END bootstrap=True, max_depth=4, max_features=sqrt, min_samples_leaf=1, min_samples_split=5, n_estimators=33; total time=   0.1s\n",
      "[CV] END bootstrap=True, max_depth=4, max_features=sqrt, min_samples_leaf=1, min_samples_split=5, n_estimators=56; total time=   0.2s\n",
      "[CV] END bootstrap=True, max_depth=4, max_features=sqrt, min_samples_leaf=1, min_samples_split=5, n_estimators=56; total time=   0.2s\n",
      "[CV] END bootstrap=True, max_depth=4, max_features=sqrt, min_samples_leaf=1, min_samples_split=5, n_estimators=72; total time=   0.2s\n",
      "[CV] END bootstrap=True, max_depth=4, max_features=sqrt, min_samples_leaf=1, min_samples_split=5, n_estimators=80; total time=   0.3s\n",
      "[CV] END bootstrap=True, max_depth=4, max_features=sqrt, min_samples_leaf=2, min_samples_split=2, n_estimators=25; total time=   0.1s\n",
      "[CV] END bootstrap=True, max_depth=4, max_features=sqrt, min_samples_leaf=2, min_samples_split=2, n_estimators=25; total time=   0.1s\n",
      "[CV] END bootstrap=True, max_depth=4, max_features=sqrt, min_samples_leaf=2, min_samples_split=2, n_estimators=41; total time=   0.1s\n",
      "[CV] END bootstrap=True, max_depth=4, max_features=sqrt, min_samples_leaf=2, min_samples_split=2, n_estimators=41; total time=   0.1s\n",
      "[CV] END bootstrap=True, max_depth=4, max_features=sqrt, min_samples_leaf=2, min_samples_split=2, n_estimators=56; total time=   0.2s\n",
      "[CV] END bootstrap=True, max_depth=4, max_features=sqrt, min_samples_leaf=2, min_samples_split=2, n_estimators=64; total time=   0.2s\n",
      "[CV] END bootstrap=True, max_depth=4, max_features=sqrt, min_samples_leaf=2, min_samples_split=2, n_estimators=80; total time=   0.3s\n",
      "[CV] END bootstrap=True, max_depth=4, max_features=sqrt, min_samples_leaf=2, min_samples_split=2, n_estimators=80; total time=   0.3s\n",
      "[CV] END bootstrap=True, max_depth=4, max_features=sqrt, min_samples_leaf=2, min_samples_split=5, n_estimators=48; total time=   0.2s\n",
      "[CV] END bootstrap=True, max_depth=4, max_features=sqrt, min_samples_leaf=2, min_samples_split=5, n_estimators=48; total time=   0.2s\n",
      "[CV] END bootstrap=True, max_depth=4, max_features=sqrt, min_samples_leaf=2, min_samples_split=5, n_estimators=72; total time=   0.2s\n",
      "[CV] END bootstrap=True, max_depth=4, max_features=sqrt, min_samples_leaf=2, min_samples_split=5, n_estimators=72; total time=   0.2s\n",
      "[CV] END bootstrap=True, max_depth=4, max_features=auto, min_samples_leaf=1, min_samples_split=2, n_estimators=80; total time=   0.3s\n",
      "[CV] END bootstrap=True, max_depth=4, max_features=auto, min_samples_leaf=1, min_samples_split=2, n_estimators=80; total time=   0.3s\n",
      "[CV] END bootstrap=True, max_depth=4, max_features=auto, min_samples_leaf=1, min_samples_split=5, n_estimators=48; total time=   0.2s\n",
      "[CV] END bootstrap=True, max_depth=4, max_features=auto, min_samples_leaf=1, min_samples_split=5, n_estimators=48; total time=   0.2s\n",
      "[CV] END bootstrap=True, max_depth=4, max_features=auto, min_samples_leaf=1, min_samples_split=5, n_estimators=72; total time=   0.2s\n",
      "[CV] END bootstrap=True, max_depth=4, max_features=auto, min_samples_leaf=1, min_samples_split=5, n_estimators=72; total time=   0.2s\n",
      "[CV] END bootstrap=True, max_depth=4, max_features=auto, min_samples_leaf=2, min_samples_split=2, n_estimators=10; total time=   0.0s\n",
      "[CV] END bootstrap=True, max_depth=4, max_features=auto, min_samples_leaf=2, min_samples_split=2, n_estimators=17; total time=   0.1s\n",
      "[CV] END bootstrap=True, max_depth=4, max_features=auto, min_samples_leaf=2, min_samples_split=2, n_estimators=25; total time=   0.1s\n",
      "[CV] END bootstrap=True, max_depth=4, max_features=auto, min_samples_leaf=2, min_samples_split=2, n_estimators=33; total time=   0.1s\n",
      "[CV] END bootstrap=True, max_depth=4, max_features=auto, min_samples_leaf=2, min_samples_split=2, n_estimators=41; total time=   0.1s\n",
      "[CV] END bootstrap=True, max_depth=4, max_features=auto, min_samples_leaf=2, min_samples_split=2, n_estimators=48; total time=   0.2s\n",
      "[CV] END bootstrap=True, max_depth=4, max_features=auto, min_samples_leaf=2, min_samples_split=2, n_estimators=64; total time=   0.2s\n",
      "[CV] END bootstrap=True, max_depth=4, max_features=auto, min_samples_leaf=2, min_samples_split=2, n_estimators=64; total time=   0.2s\n",
      "[CV] END bootstrap=True, max_depth=4, max_features=auto, min_samples_leaf=2, min_samples_split=5, n_estimators=10; total time=   0.0s\n",
      "[CV] END bootstrap=True, max_depth=4, max_features=auto, min_samples_leaf=2, min_samples_split=5, n_estimators=10; total time=   0.0s\n",
      "[CV] END bootstrap=True, max_depth=4, max_features=auto, min_samples_leaf=2, min_samples_split=5, n_estimators=17; total time=   0.1s\n",
      "[CV] END bootstrap=True, max_depth=4, max_features=auto, min_samples_leaf=2, min_samples_split=5, n_estimators=17; total time=   0.1s\n",
      "[CV] END bootstrap=True, max_depth=4, max_features=auto, min_samples_leaf=2, min_samples_split=5, n_estimators=25; total time=   0.1s\n",
      "[CV] END bootstrap=True, max_depth=4, max_features=auto, min_samples_leaf=2, min_samples_split=5, n_estimators=33; total time=   0.1s\n",
      "[CV] END bootstrap=True, max_depth=4, max_features=auto, min_samples_leaf=2, min_samples_split=5, n_estimators=41; total time=   0.1s\n",
      "[CV] END bootstrap=True, max_depth=4, max_features=auto, min_samples_leaf=2, min_samples_split=5, n_estimators=48; total time=   0.2s\n",
      "[CV] END bootstrap=True, max_depth=4, max_features=auto, min_samples_leaf=2, min_samples_split=5, n_estimators=64; total time=   0.2s\n",
      "[CV] END bootstrap=True, max_depth=4, max_features=auto, min_samples_leaf=2, min_samples_split=5, n_estimators=64; total time=   0.2s\n",
      "[CV] END bootstrap=True, max_depth=4, max_features=sqrt, min_samples_leaf=1, min_samples_split=2, n_estimators=10; total time=   0.0s\n",
      "[CV] END bootstrap=True, max_depth=4, max_features=sqrt, min_samples_leaf=1, min_samples_split=2, n_estimators=10; total time=   0.0s\n",
      "[CV] END bootstrap=True, max_depth=4, max_features=sqrt, min_samples_leaf=1, min_samples_split=2, n_estimators=17; total time=   0.1s\n",
      "[CV] END bootstrap=True, max_depth=4, max_features=sqrt, min_samples_leaf=1, min_samples_split=2, n_estimators=17; total time=   0.1s\n",
      "[CV] END bootstrap=True, max_depth=4, max_features=sqrt, min_samples_leaf=1, min_samples_split=2, n_estimators=33; total time=   0.1s\n",
      "[CV] END bootstrap=True, max_depth=4, max_features=sqrt, min_samples_leaf=1, min_samples_split=2, n_estimators=33; total time=   0.1s\n",
      "[CV] END bootstrap=True, max_depth=4, max_features=sqrt, min_samples_leaf=1, min_samples_split=2, n_estimators=56; total time=   0.2s\n",
      "[CV] END bootstrap=True, max_depth=4, max_features=sqrt, min_samples_leaf=1, min_samples_split=2, n_estimators=56; total time=   0.2s\n",
      "[CV] END bootstrap=True, max_depth=4, max_features=sqrt, min_samples_leaf=1, min_samples_split=2, n_estimators=72; total time=   0.2s\n",
      "[CV] END bootstrap=True, max_depth=4, max_features=sqrt, min_samples_leaf=1, min_samples_split=2, n_estimators=80; total time=   0.3s\n",
      "[CV] END bootstrap=True, max_depth=4, max_features=sqrt, min_samples_leaf=1, min_samples_split=5, n_estimators=25; total time=   0.1s\n",
      "[CV] END bootstrap=True, max_depth=4, max_features=sqrt, min_samples_leaf=1, min_samples_split=5, n_estimators=25; total time=   0.1s\n",
      "[CV] END bootstrap=True, max_depth=4, max_features=sqrt, min_samples_leaf=1, min_samples_split=5, n_estimators=41; total time=   0.1s\n",
      "[CV] END bootstrap=True, max_depth=4, max_features=sqrt, min_samples_leaf=1, min_samples_split=5, n_estimators=41; total time=   0.1s\n",
      "[CV] END bootstrap=True, max_depth=4, max_features=sqrt, min_samples_leaf=1, min_samples_split=5, n_estimators=56; total time=   0.2s\n",
      "[CV] END bootstrap=True, max_depth=4, max_features=sqrt, min_samples_leaf=1, min_samples_split=5, n_estimators=64; total time=   0.2s\n",
      "[CV] END bootstrap=True, max_depth=4, max_features=sqrt, min_samples_leaf=1, min_samples_split=5, n_estimators=80; total time=   0.3s\n",
      "[CV] END bootstrap=True, max_depth=4, max_features=sqrt, min_samples_leaf=1, min_samples_split=5, n_estimators=80; total time=   0.3s\n",
      "[CV] END bootstrap=True, max_depth=4, max_features=sqrt, min_samples_leaf=2, min_samples_split=2, n_estimators=41; total time=   0.1s\n",
      "[CV] END bootstrap=True, max_depth=4, max_features=sqrt, min_samples_leaf=2, min_samples_split=2, n_estimators=48; total time=   0.2s\n",
      "[CV] END bootstrap=True, max_depth=4, max_features=sqrt, min_samples_leaf=2, min_samples_split=2, n_estimators=64; total time=   0.2s\n",
      "[CV] END bootstrap=True, max_depth=4, max_features=sqrt, min_samples_leaf=2, min_samples_split=2, n_estimators=64; total time=   0.2s\n",
      "[CV] END bootstrap=True, max_depth=4, max_features=sqrt, min_samples_leaf=2, min_samples_split=5, n_estimators=10; total time=   0.0s\n",
      "[CV] END bootstrap=True, max_depth=4, max_features=sqrt, min_samples_leaf=2, min_samples_split=5, n_estimators=10; total time=   0.0s\n",
      "[CV] END bootstrap=True, max_depth=4, max_features=sqrt, min_samples_leaf=2, min_samples_split=5, n_estimators=17; total time=   0.1s\n",
      "[CV] END bootstrap=True, max_depth=4, max_features=sqrt, min_samples_leaf=2, min_samples_split=5, n_estimators=17; total time=   0.1s\n",
      "[CV] END bootstrap=True, max_depth=4, max_features=sqrt, min_samples_leaf=2, min_samples_split=5, n_estimators=25; total time=   0.1s\n",
      "[CV] END bootstrap=True, max_depth=4, max_features=sqrt, min_samples_leaf=2, min_samples_split=5, n_estimators=33; total time=   0.1s\n",
      "[CV] END bootstrap=True, max_depth=4, max_features=sqrt, min_samples_leaf=2, min_samples_split=5, n_estimators=41; total time=   0.1s\n",
      "[CV] END bootstrap=True, max_depth=4, max_features=sqrt, min_samples_leaf=2, min_samples_split=5, n_estimators=48; total time=   0.2s\n",
      "[CV] END bootstrap=True, max_depth=4, max_features=sqrt, min_samples_leaf=2, min_samples_split=5, n_estimators=64; total time=   0.2s\n",
      "[CV] END bootstrap=True, max_depth=4, max_features=sqrt, min_samples_leaf=2, min_samples_split=5, n_estimators=64; total time=   0.2s\n",
      "[CV] END bootstrap=False, max_depth=2, max_features=auto, min_samples_leaf=1, min_samples_split=2, n_estimators=10; total time=   0.0s\n",
      "[CV] END bootstrap=False, max_depth=2, max_features=auto, min_samples_leaf=1, min_samples_split=2, n_estimators=10; total time=   0.0s\n",
      "[CV] END bootstrap=False, max_depth=2, max_features=auto, min_samples_leaf=1, min_samples_split=2, n_estimators=17; total time=   0.1s\n",
      "[CV] END bootstrap=False, max_depth=2, max_features=auto, min_samples_leaf=1, min_samples_split=2, n_estimators=17; total time=   0.1s\n",
      "[CV] END bootstrap=False, max_depth=2, max_features=auto, min_samples_leaf=1, min_samples_split=2, n_estimators=33; total time=   0.1s\n",
      "[CV] END bootstrap=False, max_depth=2, max_features=auto, min_samples_leaf=1, min_samples_split=2, n_estimators=33; total time=   0.1s\n",
      "[CV] END bootstrap=True, max_depth=4, max_features=auto, min_samples_leaf=1, min_samples_split=2, n_estimators=41; total time=   0.1s\n",
      "[CV] END bootstrap=True, max_depth=4, max_features=auto, min_samples_leaf=1, min_samples_split=2, n_estimators=48; total time=   0.2s\n",
      "[CV] END bootstrap=True, max_depth=4, max_features=auto, min_samples_leaf=1, min_samples_split=2, n_estimators=64; total time=   0.2s\n",
      "[CV] END bootstrap=True, max_depth=4, max_features=auto, min_samples_leaf=1, min_samples_split=2, n_estimators=64; total time=   0.2s\n",
      "[CV] END bootstrap=True, max_depth=4, max_features=auto, min_samples_leaf=1, min_samples_split=5, n_estimators=10; total time=   0.0s\n",
      "[CV] END bootstrap=True, max_depth=4, max_features=auto, min_samples_leaf=1, min_samples_split=5, n_estimators=10; total time=   0.0s\n",
      "[CV] END bootstrap=True, max_depth=4, max_features=auto, min_samples_leaf=1, min_samples_split=5, n_estimators=17; total time=   0.1s\n",
      "[CV] END bootstrap=True, max_depth=4, max_features=auto, min_samples_leaf=1, min_samples_split=5, n_estimators=17; total time=   0.1s\n",
      "[CV] END bootstrap=True, max_depth=4, max_features=auto, min_samples_leaf=1, min_samples_split=5, n_estimators=25; total time=   0.1s\n",
      "[CV] END bootstrap=True, max_depth=4, max_features=auto, min_samples_leaf=1, min_samples_split=5, n_estimators=33; total time=   0.1s\n",
      "[CV] END bootstrap=True, max_depth=4, max_features=auto, min_samples_leaf=1, min_samples_split=5, n_estimators=41; total time=   0.1s\n",
      "[CV] END bootstrap=True, max_depth=4, max_features=auto, min_samples_leaf=1, min_samples_split=5, n_estimators=48; total time=   0.2s\n",
      "[CV] END bootstrap=True, max_depth=4, max_features=auto, min_samples_leaf=1, min_samples_split=5, n_estimators=64; total time=   0.2s\n",
      "[CV] END bootstrap=True, max_depth=4, max_features=auto, min_samples_leaf=1, min_samples_split=5, n_estimators=64; total time=   0.2s\n",
      "[CV] END bootstrap=True, max_depth=4, max_features=auto, min_samples_leaf=2, min_samples_split=2, n_estimators=10; total time=   0.0s\n",
      "[CV] END bootstrap=True, max_depth=4, max_features=auto, min_samples_leaf=2, min_samples_split=2, n_estimators=10; total time=   0.0s\n",
      "[CV] END bootstrap=True, max_depth=4, max_features=auto, min_samples_leaf=2, min_samples_split=2, n_estimators=17; total time=   0.1s\n",
      "[CV] END bootstrap=True, max_depth=4, max_features=auto, min_samples_leaf=2, min_samples_split=2, n_estimators=17; total time=   0.1s\n",
      "[CV] END bootstrap=True, max_depth=4, max_features=auto, min_samples_leaf=2, min_samples_split=2, n_estimators=33; total time=   0.1s\n",
      "[CV] END bootstrap=True, max_depth=4, max_features=auto, min_samples_leaf=2, min_samples_split=2, n_estimators=33; total time=   0.1s\n",
      "[CV] END bootstrap=True, max_depth=4, max_features=auto, min_samples_leaf=2, min_samples_split=2, n_estimators=56; total time=   0.2s\n",
      "[CV] END bootstrap=True, max_depth=4, max_features=auto, min_samples_leaf=2, min_samples_split=2, n_estimators=56; total time=   0.2s\n",
      "[CV] END bootstrap=True, max_depth=4, max_features=auto, min_samples_leaf=2, min_samples_split=2, n_estimators=72; total time=   0.2s\n",
      "[CV] END bootstrap=True, max_depth=4, max_features=auto, min_samples_leaf=2, min_samples_split=2, n_estimators=80; total time=   0.3s\n",
      "[CV] END bootstrap=True, max_depth=4, max_features=auto, min_samples_leaf=2, min_samples_split=5, n_estimators=33; total time=   0.1s\n",
      "[CV] END bootstrap=True, max_depth=4, max_features=auto, min_samples_leaf=2, min_samples_split=5, n_estimators=33; total time=   0.1s\n",
      "[CV] END bootstrap=True, max_depth=4, max_features=auto, min_samples_leaf=2, min_samples_split=5, n_estimators=56; total time=   0.2s\n",
      "[CV] END bootstrap=True, max_depth=4, max_features=auto, min_samples_leaf=2, min_samples_split=5, n_estimators=56; total time=   0.2s\n",
      "[CV] END bootstrap=True, max_depth=4, max_features=auto, min_samples_leaf=2, min_samples_split=5, n_estimators=72; total time=   0.2s\n",
      "[CV] END bootstrap=True, max_depth=4, max_features=auto, min_samples_leaf=2, min_samples_split=5, n_estimators=80; total time=   0.3s\n",
      "[CV] END bootstrap=True, max_depth=4, max_features=sqrt, min_samples_leaf=1, min_samples_split=2, n_estimators=25; total time=   0.1s\n",
      "[CV] END bootstrap=True, max_depth=4, max_features=sqrt, min_samples_leaf=1, min_samples_split=2, n_estimators=25; total time=   0.1s\n",
      "[CV] END bootstrap=True, max_depth=4, max_features=sqrt, min_samples_leaf=1, min_samples_split=2, n_estimators=41; total time=   0.2s\n",
      "[CV] END bootstrap=True, max_depth=4, max_features=sqrt, min_samples_leaf=1, min_samples_split=2, n_estimators=41; total time=   0.2s\n",
      "[CV] END bootstrap=True, max_depth=4, max_features=sqrt, min_samples_leaf=1, min_samples_split=2, n_estimators=56; total time=   0.2s\n",
      "[CV] END bootstrap=True, max_depth=4, max_features=sqrt, min_samples_leaf=1, min_samples_split=2, n_estimators=64; total time=   0.2s\n",
      "[CV] END bootstrap=True, max_depth=4, max_features=sqrt, min_samples_leaf=1, min_samples_split=2, n_estimators=80; total time=   0.3s\n",
      "[CV] END bootstrap=True, max_depth=4, max_features=sqrt, min_samples_leaf=1, min_samples_split=2, n_estimators=80; total time=   0.3s\n",
      "[CV] END bootstrap=True, max_depth=4, max_features=sqrt, min_samples_leaf=1, min_samples_split=5, n_estimators=48; total time=   0.2s\n",
      "[CV] END bootstrap=True, max_depth=4, max_features=sqrt, min_samples_leaf=1, min_samples_split=5, n_estimators=48; total time=   0.2s\n",
      "[CV] END bootstrap=True, max_depth=4, max_features=sqrt, min_samples_leaf=1, min_samples_split=5, n_estimators=72; total time=   0.2s\n",
      "[CV] END bootstrap=True, max_depth=4, max_features=sqrt, min_samples_leaf=1, min_samples_split=5, n_estimators=72; total time=   0.2s\n",
      "[CV] END bootstrap=True, max_depth=4, max_features=sqrt, min_samples_leaf=2, min_samples_split=2, n_estimators=17; total time=   0.1s\n",
      "[CV] END bootstrap=True, max_depth=4, max_features=sqrt, min_samples_leaf=2, min_samples_split=2, n_estimators=17; total time=   0.1s\n",
      "[CV] END bootstrap=True, max_depth=4, max_features=sqrt, min_samples_leaf=2, min_samples_split=2, n_estimators=33; total time=   0.1s\n",
      "[CV] END bootstrap=True, max_depth=4, max_features=sqrt, min_samples_leaf=2, min_samples_split=2, n_estimators=33; total time=   0.1s\n",
      "[CV] END bootstrap=True, max_depth=4, max_features=sqrt, min_samples_leaf=2, min_samples_split=2, n_estimators=56; total time=   0.2s\n",
      "[CV] END bootstrap=True, max_depth=4, max_features=sqrt, min_samples_leaf=2, min_samples_split=2, n_estimators=56; total time=   0.2s\n",
      "[CV] END bootstrap=True, max_depth=4, max_features=sqrt, min_samples_leaf=2, min_samples_split=2, n_estimators=72; total time=   0.3s\n",
      "[CV] END bootstrap=True, max_depth=4, max_features=sqrt, min_samples_leaf=2, min_samples_split=2, n_estimators=80; total time=   0.3s\n",
      "[CV] END bootstrap=True, max_depth=4, max_features=sqrt, min_samples_leaf=2, min_samples_split=5, n_estimators=33; total time=   0.1s\n",
      "[CV] END bootstrap=True, max_depth=4, max_features=sqrt, min_samples_leaf=2, min_samples_split=5, n_estimators=33; total time=   0.1s\n",
      "[CV] END bootstrap=True, max_depth=4, max_features=sqrt, min_samples_leaf=2, min_samples_split=5, n_estimators=56; total time=   0.2s\n",
      "[CV] END bootstrap=True, max_depth=4, max_features=sqrt, min_samples_leaf=2, min_samples_split=5, n_estimators=56; total time=   0.2s\n",
      "[CV] END bootstrap=True, max_depth=4, max_features=sqrt, min_samples_leaf=2, min_samples_split=5, n_estimators=72; total time=   0.2s\n",
      "[CV] END bootstrap=True, max_depth=4, max_features=sqrt, min_samples_leaf=2, min_samples_split=5, n_estimators=80; total time=   0.3s\n",
      "[CV] END bootstrap=False, max_depth=2, max_features=auto, min_samples_leaf=1, min_samples_split=2, n_estimators=25; total time=   0.1s\n",
      "[CV] END bootstrap=False, max_depth=2, max_features=auto, min_samples_leaf=1, min_samples_split=2, n_estimators=33; total time=   0.1s\n",
      "[CV] END bootstrap=False, max_depth=2, max_features=auto, min_samples_leaf=1, min_samples_split=2, n_estimators=41; total time=   0.1s\n",
      "[CV] END bootstrap=False, max_depth=2, max_features=auto, min_samples_leaf=1, min_samples_split=2, n_estimators=48; total time=   0.1s\n",
      "[CV] END bootstrap=False, max_depth=2, max_features=auto, min_samples_leaf=1, min_samples_split=2, n_estimators=64; total time=   0.2s\n",
      "[CV] END bootstrap=False, max_depth=2, max_features=auto, min_samples_leaf=1, min_samples_split=2, n_estimators=64; total time=   0.2s\n",
      "[CV] END bootstrap=True, max_depth=4, max_features=auto, min_samples_leaf=1, min_samples_split=2, n_estimators=72; total time=   0.2s\n",
      "[CV] END bootstrap=True, max_depth=4, max_features=auto, min_samples_leaf=1, min_samples_split=2, n_estimators=80; total time=   0.3s\n",
      "[CV] END bootstrap=True, max_depth=4, max_features=auto, min_samples_leaf=1, min_samples_split=5, n_estimators=33; total time=   0.1s\n",
      "[CV] END bootstrap=True, max_depth=4, max_features=auto, min_samples_leaf=1, min_samples_split=5, n_estimators=33; total time=   0.1s\n",
      "[CV] END bootstrap=True, max_depth=4, max_features=auto, min_samples_leaf=1, min_samples_split=5, n_estimators=56; total time=   0.2s\n",
      "[CV] END bootstrap=True, max_depth=4, max_features=auto, min_samples_leaf=1, min_samples_split=5, n_estimators=56; total time=   0.2s\n",
      "[CV] END bootstrap=True, max_depth=4, max_features=auto, min_samples_leaf=1, min_samples_split=5, n_estimators=72; total time=   0.2s\n",
      "[CV] END bootstrap=True, max_depth=4, max_features=auto, min_samples_leaf=1, min_samples_split=5, n_estimators=80; total time=   0.3s\n",
      "[CV] END bootstrap=True, max_depth=4, max_features=auto, min_samples_leaf=2, min_samples_split=2, n_estimators=25; total time=   0.1s\n",
      "[CV] END bootstrap=True, max_depth=4, max_features=auto, min_samples_leaf=2, min_samples_split=2, n_estimators=25; total time=   0.1s\n",
      "[CV] END bootstrap=True, max_depth=4, max_features=auto, min_samples_leaf=2, min_samples_split=2, n_estimators=41; total time=   0.1s\n",
      "[CV] END bootstrap=True, max_depth=4, max_features=auto, min_samples_leaf=2, min_samples_split=2, n_estimators=41; total time=   0.1s\n",
      "[CV] END bootstrap=True, max_depth=4, max_features=auto, min_samples_leaf=2, min_samples_split=2, n_estimators=56; total time=   0.2s\n",
      "[CV] END bootstrap=True, max_depth=4, max_features=auto, min_samples_leaf=2, min_samples_split=2, n_estimators=64; total time=   0.2s\n",
      "[CV] END bootstrap=True, max_depth=4, max_features=auto, min_samples_leaf=2, min_samples_split=2, n_estimators=80; total time=   0.3s\n",
      "[CV] END bootstrap=True, max_depth=4, max_features=auto, min_samples_leaf=2, min_samples_split=2, n_estimators=80; total time=   0.3s\n",
      "[CV] END bootstrap=True, max_depth=4, max_features=auto, min_samples_leaf=2, min_samples_split=5, n_estimators=48; total time=   0.2s\n",
      "[CV] END bootstrap=True, max_depth=4, max_features=auto, min_samples_leaf=2, min_samples_split=5, n_estimators=48; total time=   0.2s\n",
      "[CV] END bootstrap=True, max_depth=4, max_features=auto, min_samples_leaf=2, min_samples_split=5, n_estimators=72; total time=   0.2s\n",
      "[CV] END bootstrap=True, max_depth=4, max_features=auto, min_samples_leaf=2, min_samples_split=5, n_estimators=72; total time=   0.2s\n",
      "[CV] END bootstrap=True, max_depth=4, max_features=sqrt, min_samples_leaf=1, min_samples_split=2, n_estimators=10; total time=   0.0s\n",
      "[CV] END bootstrap=True, max_depth=4, max_features=sqrt, min_samples_leaf=1, min_samples_split=2, n_estimators=17; total time=   0.1s\n",
      "[CV] END bootstrap=True, max_depth=4, max_features=sqrt, min_samples_leaf=1, min_samples_split=2, n_estimators=25; total time=   0.1s\n",
      "[CV] END bootstrap=True, max_depth=4, max_features=sqrt, min_samples_leaf=1, min_samples_split=2, n_estimators=33; total time=   0.1s\n",
      "[CV] END bootstrap=True, max_depth=4, max_features=sqrt, min_samples_leaf=1, min_samples_split=2, n_estimators=41; total time=   0.2s\n",
      "[CV] END bootstrap=True, max_depth=4, max_features=sqrt, min_samples_leaf=1, min_samples_split=2, n_estimators=48; total time=   0.2s\n",
      "[CV] END bootstrap=True, max_depth=4, max_features=sqrt, min_samples_leaf=1, min_samples_split=2, n_estimators=64; total time=   0.2s\n",
      "[CV] END bootstrap=True, max_depth=4, max_features=sqrt, min_samples_leaf=1, min_samples_split=2, n_estimators=64; total time=   0.2s\n",
      "[CV] END bootstrap=True, max_depth=4, max_features=sqrt, min_samples_leaf=1, min_samples_split=5, n_estimators=10; total time=   0.0s\n",
      "[CV] END bootstrap=True, max_depth=4, max_features=sqrt, min_samples_leaf=1, min_samples_split=5, n_estimators=10; total time=   0.0s\n",
      "[CV] END bootstrap=True, max_depth=4, max_features=sqrt, min_samples_leaf=1, min_samples_split=5, n_estimators=10; total time=   0.1s\n",
      "[CV] END bootstrap=True, max_depth=4, max_features=sqrt, min_samples_leaf=1, min_samples_split=5, n_estimators=17; total time=   0.1s\n",
      "[CV] END bootstrap=True, max_depth=4, max_features=sqrt, min_samples_leaf=1, min_samples_split=5, n_estimators=25; total time=   0.1s\n",
      "[CV] END bootstrap=True, max_depth=4, max_features=sqrt, min_samples_leaf=1, min_samples_split=5, n_estimators=33; total time=   0.1s\n",
      "[CV] END bootstrap=True, max_depth=4, max_features=sqrt, min_samples_leaf=1, min_samples_split=5, n_estimators=41; total time=   0.1s\n",
      "[CV] END bootstrap=True, max_depth=4, max_features=sqrt, min_samples_leaf=1, min_samples_split=5, n_estimators=48; total time=   0.2s\n",
      "[CV] END bootstrap=True, max_depth=4, max_features=sqrt, min_samples_leaf=1, min_samples_split=5, n_estimators=64; total time=   0.2s\n",
      "[CV] END bootstrap=True, max_depth=4, max_features=sqrt, min_samples_leaf=1, min_samples_split=5, n_estimators=64; total time=   0.2s\n",
      "[CV] END bootstrap=True, max_depth=4, max_features=sqrt, min_samples_leaf=2, min_samples_split=2, n_estimators=10; total time=   0.0s\n",
      "[CV] END bootstrap=True, max_depth=4, max_features=sqrt, min_samples_leaf=2, min_samples_split=2, n_estimators=10; total time=   0.0s\n",
      "[CV] END bootstrap=True, max_depth=4, max_features=sqrt, min_samples_leaf=2, min_samples_split=2, n_estimators=10; total time=   0.0s\n",
      "[CV] END bootstrap=True, max_depth=4, max_features=sqrt, min_samples_leaf=2, min_samples_split=2, n_estimators=17; total time=   0.1s\n",
      "[CV] END bootstrap=True, max_depth=4, max_features=sqrt, min_samples_leaf=2, min_samples_split=2, n_estimators=25; total time=   0.1s\n",
      "[CV] END bootstrap=True, max_depth=4, max_features=sqrt, min_samples_leaf=2, min_samples_split=2, n_estimators=33; total time=   0.1s\n",
      "[CV] END bootstrap=True, max_depth=4, max_features=sqrt, min_samples_leaf=2, min_samples_split=2, n_estimators=48; total time=   0.2s\n",
      "[CV] END bootstrap=True, max_depth=4, max_features=sqrt, min_samples_leaf=2, min_samples_split=2, n_estimators=48; total time=   0.2s\n",
      "[CV] END bootstrap=True, max_depth=4, max_features=sqrt, min_samples_leaf=2, min_samples_split=2, n_estimators=72; total time=   0.2s\n",
      "[CV] END bootstrap=True, max_depth=4, max_features=sqrt, min_samples_leaf=2, min_samples_split=2, n_estimators=72; total time=   0.2s\n",
      "[CV] END bootstrap=True, max_depth=4, max_features=sqrt, min_samples_leaf=2, min_samples_split=5, n_estimators=10; total time=   0.0s\n",
      "[CV] END bootstrap=True, max_depth=4, max_features=sqrt, min_samples_leaf=2, min_samples_split=5, n_estimators=17; total time=   0.1s\n",
      "[CV] END bootstrap=True, max_depth=4, max_features=sqrt, min_samples_leaf=2, min_samples_split=5, n_estimators=25; total time=   0.1s\n",
      "[CV] END bootstrap=True, max_depth=4, max_features=sqrt, min_samples_leaf=2, min_samples_split=5, n_estimators=25; total time=   0.1s\n",
      "[CV] END bootstrap=True, max_depth=4, max_features=sqrt, min_samples_leaf=2, min_samples_split=5, n_estimators=41; total time=   0.1s\n",
      "[CV] END bootstrap=True, max_depth=4, max_features=sqrt, min_samples_leaf=2, min_samples_split=5, n_estimators=41; total time=   0.1s\n",
      "[CV] END bootstrap=True, max_depth=4, max_features=sqrt, min_samples_leaf=2, min_samples_split=5, n_estimators=56; total time=   0.2s\n",
      "[CV] END bootstrap=True, max_depth=4, max_features=sqrt, min_samples_leaf=2, min_samples_split=5, n_estimators=64; total time=   0.2s\n",
      "[CV] END bootstrap=True, max_depth=4, max_features=sqrt, min_samples_leaf=2, min_samples_split=5, n_estimators=80; total time=   0.3s\n",
      "[CV] END bootstrap=True, max_depth=4, max_features=sqrt, min_samples_leaf=2, min_samples_split=5, n_estimators=80; total time=   0.3s\n",
      "[CV] END bootstrap=False, max_depth=2, max_features=auto, min_samples_leaf=1, min_samples_split=2, n_estimators=56; total time=   0.1s\n",
      "[CV] END bootstrap=False, max_depth=2, max_features=auto, min_samples_leaf=1, min_samples_split=2, n_estimators=56; total time=   0.1s\n",
      "[CV] END bootstrap=False, max_depth=2, max_features=auto, min_samples_leaf=1, min_samples_split=2, n_estimators=72; total time=   0.2s\n",
      "[CV] END bootstrap=False, max_depth=2, max_features=auto, min_samples_leaf=1, min_samples_split=2, n_estimators=80; total time=   0.2s\n",
      "[CV] END bootstrap=False, max_depth=2, max_features=auto, min_samples_leaf=1, min_samples_split=2, n_estimators=10; total time=   0.0s\n",
      "[CV] END bootstrap=False, max_depth=2, max_features=auto, min_samples_leaf=1, min_samples_split=2, n_estimators=17; total time=   0.0s\n",
      "[CV] END bootstrap=False, max_depth=2, max_features=auto, min_samples_leaf=1, min_samples_split=2, n_estimators=25; total time=   0.1s\n",
      "[CV] END bootstrap=False, max_depth=2, max_features=auto, min_samples_leaf=1, min_samples_split=2, n_estimators=25; total time=   0.1s\n",
      "[CV] END bootstrap=False, max_depth=2, max_features=auto, min_samples_leaf=1, min_samples_split=2, n_estimators=41; total time=   0.1s\n",
      "[CV] END bootstrap=False, max_depth=2, max_features=auto, min_samples_leaf=1, min_samples_split=2, n_estimators=41; total time=   0.1s\n",
      "[CV] END bootstrap=False, max_depth=2, max_features=auto, min_samples_leaf=1, min_samples_split=2, n_estimators=56; total time=   0.1s\n",
      "[CV] END bootstrap=False, max_depth=2, max_features=auto, min_samples_leaf=1, min_samples_split=2, n_estimators=64; total time=   0.2s\n",
      "[CV] END bootstrap=False, max_depth=2, max_features=auto, min_samples_leaf=1, min_samples_split=2, n_estimators=80; total time=   0.2s\n",
      "[CV] END bootstrap=False, max_depth=2, max_features=auto, min_samples_leaf=1, min_samples_split=2, n_estimators=80; total time=   0.2s\n",
      "[CV] END bootstrap=False, max_depth=2, max_features=auto, min_samples_leaf=1, min_samples_split=5, n_estimators=41; total time=   0.1s\n",
      "[CV] END bootstrap=False, max_depth=2, max_features=auto, min_samples_leaf=1, min_samples_split=5, n_estimators=48; total time=   0.1s\n",
      "[CV] END bootstrap=False, max_depth=2, max_features=auto, min_samples_leaf=1, min_samples_split=5, n_estimators=64; total time=   0.2s\n",
      "[CV] END bootstrap=False, max_depth=2, max_features=auto, min_samples_leaf=1, min_samples_split=5, n_estimators=64; total time=   0.2s\n",
      "[CV] END bootstrap=False, max_depth=2, max_features=auto, min_samples_leaf=2, min_samples_split=2, n_estimators=10; total time=   0.0s\n",
      "[CV] END bootstrap=False, max_depth=2, max_features=auto, min_samples_leaf=2, min_samples_split=2, n_estimators=10; total time=   0.0s\n",
      "[CV] END bootstrap=False, max_depth=2, max_features=auto, min_samples_leaf=2, min_samples_split=2, n_estimators=17; total time=   0.0s\n",
      "[CV] END bootstrap=False, max_depth=2, max_features=auto, min_samples_leaf=2, min_samples_split=2, n_estimators=17; total time=   0.0s\n",
      "[CV] END bootstrap=False, max_depth=2, max_features=auto, min_samples_leaf=2, min_samples_split=2, n_estimators=33; total time=   0.1s\n",
      "[CV] END bootstrap=False, max_depth=2, max_features=auto, min_samples_leaf=2, min_samples_split=2, n_estimators=33; total time=   0.1s\n",
      "[CV] END bootstrap=False, max_depth=2, max_features=auto, min_samples_leaf=2, min_samples_split=2, n_estimators=48; total time=   0.1s\n",
      "[CV] END bootstrap=False, max_depth=2, max_features=auto, min_samples_leaf=2, min_samples_split=2, n_estimators=48; total time=   0.1s\n",
      "[CV] END bootstrap=False, max_depth=2, max_features=auto, min_samples_leaf=2, min_samples_split=2, n_estimators=72; total time=   0.2s\n",
      "[CV] END bootstrap=False, max_depth=2, max_features=auto, min_samples_leaf=2, min_samples_split=2, n_estimators=72; total time=   0.2s\n",
      "[CV] END bootstrap=False, max_depth=2, max_features=auto, min_samples_leaf=2, min_samples_split=5, n_estimators=10; total time=   0.0s\n",
      "[CV] END bootstrap=False, max_depth=2, max_features=auto, min_samples_leaf=2, min_samples_split=5, n_estimators=17; total time=   0.0s\n",
      "[CV] END bootstrap=False, max_depth=2, max_features=auto, min_samples_leaf=2, min_samples_split=5, n_estimators=25; total time=   0.1s\n",
      "[CV] END bootstrap=False, max_depth=2, max_features=auto, min_samples_leaf=2, min_samples_split=5, n_estimators=25; total time=   0.1s\n",
      "[CV] END bootstrap=False, max_depth=2, max_features=auto, min_samples_leaf=2, min_samples_split=5, n_estimators=41; total time=   0.1s\n",
      "[CV] END bootstrap=False, max_depth=2, max_features=auto, min_samples_leaf=2, min_samples_split=5, n_estimators=41; total time=   0.1s\n",
      "[CV] END bootstrap=False, max_depth=2, max_features=auto, min_samples_leaf=2, min_samples_split=5, n_estimators=56; total time=   0.1s\n",
      "[CV] END bootstrap=False, max_depth=2, max_features=auto, min_samples_leaf=2, min_samples_split=5, n_estimators=64; total time=   0.2s\n",
      "[CV] END bootstrap=False, max_depth=2, max_features=auto, min_samples_leaf=2, min_samples_split=5, n_estimators=80; total time=   0.2s\n",
      "[CV] END bootstrap=False, max_depth=2, max_features=auto, min_samples_leaf=2, min_samples_split=5, n_estimators=80; total time=   0.2s\n",
      "[CV] END bootstrap=False, max_depth=2, max_features=sqrt, min_samples_leaf=1, min_samples_split=2, n_estimators=48; total time=   0.1s\n",
      "[CV] END bootstrap=False, max_depth=2, max_features=sqrt, min_samples_leaf=1, min_samples_split=2, n_estimators=48; total time=   0.1s\n",
      "[CV] END bootstrap=False, max_depth=2, max_features=sqrt, min_samples_leaf=1, min_samples_split=2, n_estimators=72; total time=   0.2s\n",
      "[CV] END bootstrap=False, max_depth=2, max_features=sqrt, min_samples_leaf=1, min_samples_split=2, n_estimators=72; total time=   0.2s\n",
      "[CV] END bootstrap=False, max_depth=2, max_features=sqrt, min_samples_leaf=1, min_samples_split=5, n_estimators=17; total time=   0.0s\n",
      "[CV] END bootstrap=False, max_depth=2, max_features=sqrt, min_samples_leaf=1, min_samples_split=5, n_estimators=17; total time=   0.1s\n",
      "[CV] END bootstrap=False, max_depth=2, max_features=sqrt, min_samples_leaf=1, min_samples_split=5, n_estimators=33; total time=   0.1s\n",
      "[CV] END bootstrap=False, max_depth=2, max_features=sqrt, min_samples_leaf=1, min_samples_split=5, n_estimators=33; total time=   0.1s\n",
      "[CV] END bootstrap=False, max_depth=2, max_features=sqrt, min_samples_leaf=1, min_samples_split=5, n_estimators=56; total time=   0.1s\n",
      "[CV] END bootstrap=False, max_depth=2, max_features=sqrt, min_samples_leaf=1, min_samples_split=5, n_estimators=56; total time=   0.1s\n",
      "[CV] END bootstrap=False, max_depth=2, max_features=sqrt, min_samples_leaf=1, min_samples_split=5, n_estimators=72; total time=   0.2s\n",
      "[CV] END bootstrap=False, max_depth=2, max_features=sqrt, min_samples_leaf=1, min_samples_split=5, n_estimators=80; total time=   0.2s\n",
      "[CV] END bootstrap=False, max_depth=2, max_features=sqrt, min_samples_leaf=2, min_samples_split=2, n_estimators=25; total time=   0.1s\n",
      "[CV] END bootstrap=False, max_depth=2, max_features=sqrt, min_samples_leaf=2, min_samples_split=2, n_estimators=33; total time=   0.1s\n",
      "[CV] END bootstrap=False, max_depth=2, max_features=sqrt, min_samples_leaf=2, min_samples_split=2, n_estimators=41; total time=   0.1s\n",
      "[CV] END bootstrap=False, max_depth=2, max_features=sqrt, min_samples_leaf=2, min_samples_split=2, n_estimators=48; total time=   0.1s\n",
      "[CV] END bootstrap=False, max_depth=2, max_features=sqrt, min_samples_leaf=2, min_samples_split=2, n_estimators=64; total time=   0.2s\n",
      "[CV] END bootstrap=False, max_depth=2, max_features=sqrt, min_samples_leaf=2, min_samples_split=2, n_estimators=64; total time=   0.2s\n",
      "[CV] END bootstrap=False, max_depth=2, max_features=sqrt, min_samples_leaf=2, min_samples_split=5, n_estimators=10; total time=   0.0s\n",
      "[CV] END bootstrap=False, max_depth=2, max_features=sqrt, min_samples_leaf=2, min_samples_split=5, n_estimators=10; total time=   0.0s\n",
      "[CV] END bootstrap=False, max_depth=2, max_features=sqrt, min_samples_leaf=2, min_samples_split=5, n_estimators=10; total time=   0.0s\n",
      "[CV] END bootstrap=False, max_depth=2, max_features=sqrt, min_samples_leaf=2, min_samples_split=5, n_estimators=17; total time=   0.1s\n",
      "[CV] END bootstrap=False, max_depth=2, max_features=sqrt, min_samples_leaf=2, min_samples_split=5, n_estimators=25; total time=   0.1s\n",
      "[CV] END bootstrap=False, max_depth=2, max_features=sqrt, min_samples_leaf=2, min_samples_split=5, n_estimators=25; total time=   0.1s\n",
      "[CV] END bootstrap=False, max_depth=2, max_features=sqrt, min_samples_leaf=2, min_samples_split=5, n_estimators=41; total time=   0.1s\n",
      "[CV] END bootstrap=False, max_depth=2, max_features=sqrt, min_samples_leaf=2, min_samples_split=5, n_estimators=41; total time=   0.1s\n",
      "[CV] END bootstrap=False, max_depth=2, max_features=sqrt, min_samples_leaf=2, min_samples_split=5, n_estimators=56; total time=   0.2s\n",
      "[CV] END bootstrap=False, max_depth=2, max_features=auto, min_samples_leaf=1, min_samples_split=2, n_estimators=48; total time=   0.1s\n",
      "[CV] END bootstrap=False, max_depth=2, max_features=auto, min_samples_leaf=1, min_samples_split=2, n_estimators=48; total time=   0.1s\n",
      "[CV] END bootstrap=False, max_depth=2, max_features=auto, min_samples_leaf=1, min_samples_split=2, n_estimators=72; total time=   0.2s\n",
      "[CV] END bootstrap=False, max_depth=2, max_features=auto, min_samples_leaf=1, min_samples_split=2, n_estimators=72; total time=   0.2s\n",
      "[CV] END bootstrap=False, max_depth=2, max_features=auto, min_samples_leaf=1, min_samples_split=5, n_estimators=17; total time=   0.0s\n",
      "[CV] END bootstrap=False, max_depth=2, max_features=auto, min_samples_leaf=1, min_samples_split=5, n_estimators=17; total time=   0.0s\n",
      "[CV] END bootstrap=False, max_depth=2, max_features=auto, min_samples_leaf=1, min_samples_split=5, n_estimators=33; total time=   0.1s\n",
      "[CV] END bootstrap=False, max_depth=2, max_features=auto, min_samples_leaf=1, min_samples_split=5, n_estimators=33; total time=   0.1s\n",
      "[CV] END bootstrap=False, max_depth=2, max_features=auto, min_samples_leaf=1, min_samples_split=5, n_estimators=56; total time=   0.1s\n",
      "[CV] END bootstrap=False, max_depth=2, max_features=auto, min_samples_leaf=1, min_samples_split=5, n_estimators=56; total time=   0.1s\n",
      "[CV] END bootstrap=False, max_depth=2, max_features=auto, min_samples_leaf=1, min_samples_split=5, n_estimators=72; total time=   0.2s\n",
      "[CV] END bootstrap=False, max_depth=2, max_features=auto, min_samples_leaf=1, min_samples_split=5, n_estimators=80; total time=   0.2s\n",
      "[CV] END bootstrap=False, max_depth=2, max_features=auto, min_samples_leaf=2, min_samples_split=2, n_estimators=25; total time=   0.1s\n",
      "[CV] END bootstrap=False, max_depth=2, max_features=auto, min_samples_leaf=2, min_samples_split=2, n_estimators=33; total time=   0.1s\n",
      "[CV] END bootstrap=False, max_depth=2, max_features=auto, min_samples_leaf=2, min_samples_split=2, n_estimators=41; total time=   0.1s\n",
      "[CV] END bootstrap=False, max_depth=2, max_features=auto, min_samples_leaf=2, min_samples_split=2, n_estimators=48; total time=   0.1s\n",
      "[CV] END bootstrap=False, max_depth=2, max_features=auto, min_samples_leaf=2, min_samples_split=2, n_estimators=64; total time=   0.2s\n",
      "[CV] END bootstrap=False, max_depth=2, max_features=auto, min_samples_leaf=2, min_samples_split=2, n_estimators=64; total time=   0.2s\n",
      "[CV] END bootstrap=False, max_depth=2, max_features=auto, min_samples_leaf=2, min_samples_split=5, n_estimators=10; total time=   0.0s\n",
      "[CV] END bootstrap=False, max_depth=2, max_features=auto, min_samples_leaf=2, min_samples_split=5, n_estimators=10; total time=   0.0s\n",
      "[CV] END bootstrap=False, max_depth=2, max_features=auto, min_samples_leaf=2, min_samples_split=5, n_estimators=17; total time=   0.0s\n",
      "[CV] END bootstrap=False, max_depth=2, max_features=auto, min_samples_leaf=2, min_samples_split=5, n_estimators=17; total time=   0.1s\n",
      "[CV] END bootstrap=False, max_depth=2, max_features=auto, min_samples_leaf=2, min_samples_split=5, n_estimators=33; total time=   0.1s\n",
      "[CV] END bootstrap=False, max_depth=2, max_features=auto, min_samples_leaf=2, min_samples_split=5, n_estimators=33; total time=   0.1s\n",
      "[CV] END bootstrap=False, max_depth=2, max_features=auto, min_samples_leaf=2, min_samples_split=5, n_estimators=56; total time=   0.1s\n",
      "[CV] END bootstrap=False, max_depth=2, max_features=auto, min_samples_leaf=2, min_samples_split=5, n_estimators=56; total time=   0.1s\n",
      "[CV] END bootstrap=False, max_depth=2, max_features=auto, min_samples_leaf=2, min_samples_split=5, n_estimators=72; total time=   0.2s\n",
      "[CV] END bootstrap=False, max_depth=2, max_features=auto, min_samples_leaf=2, min_samples_split=5, n_estimators=80; total time=   0.2s\n",
      "[CV] END bootstrap=False, max_depth=2, max_features=sqrt, min_samples_leaf=1, min_samples_split=2, n_estimators=25; total time=   0.1s\n",
      "[CV] END bootstrap=False, max_depth=2, max_features=sqrt, min_samples_leaf=1, min_samples_split=2, n_estimators=33; total time=   0.1s\n",
      "[CV] END bootstrap=False, max_depth=2, max_features=sqrt, min_samples_leaf=1, min_samples_split=2, n_estimators=41; total time=   0.1s\n",
      "[CV] END bootstrap=False, max_depth=2, max_features=sqrt, min_samples_leaf=1, min_samples_split=2, n_estimators=48; total time=   0.1s\n",
      "[CV] END bootstrap=False, max_depth=2, max_features=sqrt, min_samples_leaf=1, min_samples_split=2, n_estimators=64; total time=   0.2s\n",
      "[CV] END bootstrap=False, max_depth=2, max_features=sqrt, min_samples_leaf=1, min_samples_split=2, n_estimators=64; total time=   0.2s\n",
      "[CV] END bootstrap=False, max_depth=2, max_features=sqrt, min_samples_leaf=1, min_samples_split=5, n_estimators=10; total time=   0.0s\n",
      "[CV] END bootstrap=False, max_depth=2, max_features=sqrt, min_samples_leaf=1, min_samples_split=5, n_estimators=10; total time=   0.0s\n",
      "[CV] END bootstrap=False, max_depth=2, max_features=sqrt, min_samples_leaf=1, min_samples_split=5, n_estimators=10; total time=   0.0s\n",
      "[CV] END bootstrap=False, max_depth=2, max_features=sqrt, min_samples_leaf=1, min_samples_split=5, n_estimators=17; total time=   0.0s\n",
      "[CV] END bootstrap=False, max_depth=2, max_features=sqrt, min_samples_leaf=1, min_samples_split=5, n_estimators=25; total time=   0.1s\n",
      "[CV] END bootstrap=False, max_depth=2, max_features=sqrt, min_samples_leaf=1, min_samples_split=5, n_estimators=33; total time=   0.1s\n",
      "[CV] END bootstrap=False, max_depth=2, max_features=sqrt, min_samples_leaf=1, min_samples_split=5, n_estimators=41; total time=   0.1s\n",
      "[CV] END bootstrap=False, max_depth=2, max_features=sqrt, min_samples_leaf=1, min_samples_split=5, n_estimators=48; total time=   0.1s\n",
      "[CV] END bootstrap=False, max_depth=2, max_features=sqrt, min_samples_leaf=1, min_samples_split=5, n_estimators=64; total time=   0.2s\n",
      "[CV] END bootstrap=False, max_depth=2, max_features=sqrt, min_samples_leaf=1, min_samples_split=5, n_estimators=64; total time=   0.2s\n",
      "[CV] END bootstrap=False, max_depth=2, max_features=sqrt, min_samples_leaf=2, min_samples_split=2, n_estimators=10; total time=   0.0s\n",
      "[CV] END bootstrap=False, max_depth=2, max_features=sqrt, min_samples_leaf=2, min_samples_split=2, n_estimators=10; total time=   0.0s\n",
      "[CV] END bootstrap=False, max_depth=2, max_features=sqrt, min_samples_leaf=2, min_samples_split=2, n_estimators=17; total time=   0.0s\n",
      "[CV] END bootstrap=False, max_depth=2, max_features=sqrt, min_samples_leaf=2, min_samples_split=2, n_estimators=17; total time=   0.1s\n",
      "[CV] END bootstrap=False, max_depth=2, max_features=sqrt, min_samples_leaf=2, min_samples_split=2, n_estimators=33; total time=   0.1s\n",
      "[CV] END bootstrap=False, max_depth=2, max_features=sqrt, min_samples_leaf=2, min_samples_split=2, n_estimators=33; total time=   0.1s\n",
      "[CV] END bootstrap=False, max_depth=2, max_features=sqrt, min_samples_leaf=2, min_samples_split=2, n_estimators=56; total time=   0.1s\n",
      "[CV] END bootstrap=False, max_depth=2, max_features=sqrt, min_samples_leaf=2, min_samples_split=2, n_estimators=56; total time=   0.1s\n",
      "[CV] END bootstrap=False, max_depth=2, max_features=sqrt, min_samples_leaf=2, min_samples_split=2, n_estimators=72; total time=   0.2s\n",
      "[CV] END bootstrap=False, max_depth=2, max_features=sqrt, min_samples_leaf=2, min_samples_split=2, n_estimators=80; total time=   0.2s\n",
      "[CV] END bootstrap=False, max_depth=2, max_features=sqrt, min_samples_leaf=2, min_samples_split=5, n_estimators=25; total time=   0.1s\n",
      "[CV] END bootstrap=False, max_depth=2, max_features=sqrt, min_samples_leaf=2, min_samples_split=5, n_estimators=33; total time=   0.1s\n",
      "[CV] END bootstrap=False, max_depth=2, max_features=sqrt, min_samples_leaf=2, min_samples_split=5, n_estimators=41; total time=   0.1s\n",
      "[CV] END bootstrap=False, max_depth=2, max_features=sqrt, min_samples_leaf=2, min_samples_split=5, n_estimators=48; total time=   0.1s\n",
      "[CV] END bootstrap=False, max_depth=2, max_features=sqrt, min_samples_leaf=2, min_samples_split=5, n_estimators=64; total time=   0.2s\n",
      "[CV] END bootstrap=False, max_depth=2, max_features=sqrt, min_samples_leaf=2, min_samples_split=5, n_estimators=64; total time=   0.2s\n",
      "[CV] END bootstrap=False, max_depth=4, max_features=auto, min_samples_leaf=1, min_samples_split=2, n_estimators=10; total time=   0.0s\n",
      "[CV] END bootstrap=False, max_depth=2, max_features=auto, min_samples_leaf=1, min_samples_split=5, n_estimators=10; total time=   0.0s\n",
      "[CV] END bootstrap=False, max_depth=2, max_features=auto, min_samples_leaf=1, min_samples_split=5, n_estimators=10; total time=   0.0s\n",
      "[CV] END bootstrap=False, max_depth=2, max_features=auto, min_samples_leaf=1, min_samples_split=5, n_estimators=10; total time=   0.0s\n",
      "[CV] END bootstrap=False, max_depth=2, max_features=auto, min_samples_leaf=1, min_samples_split=5, n_estimators=17; total time=   0.1s\n",
      "[CV] END bootstrap=False, max_depth=2, max_features=auto, min_samples_leaf=1, min_samples_split=5, n_estimators=25; total time=   0.1s\n",
      "[CV] END bootstrap=False, max_depth=2, max_features=auto, min_samples_leaf=1, min_samples_split=5, n_estimators=33; total time=   0.1s\n",
      "[CV] END bootstrap=False, max_depth=2, max_features=auto, min_samples_leaf=1, min_samples_split=5, n_estimators=48; total time=   0.1s\n",
      "[CV] END bootstrap=False, max_depth=2, max_features=auto, min_samples_leaf=1, min_samples_split=5, n_estimators=48; total time=   0.1s\n",
      "[CV] END bootstrap=False, max_depth=2, max_features=auto, min_samples_leaf=1, min_samples_split=5, n_estimators=72; total time=   0.2s\n",
      "[CV] END bootstrap=False, max_depth=2, max_features=auto, min_samples_leaf=1, min_samples_split=5, n_estimators=72; total time=   0.2s\n",
      "[CV] END bootstrap=False, max_depth=2, max_features=auto, min_samples_leaf=2, min_samples_split=2, n_estimators=10; total time=   0.0s\n",
      "[CV] END bootstrap=False, max_depth=2, max_features=auto, min_samples_leaf=2, min_samples_split=2, n_estimators=17; total time=   0.0s\n",
      "[CV] END bootstrap=False, max_depth=2, max_features=auto, min_samples_leaf=2, min_samples_split=2, n_estimators=25; total time=   0.1s\n",
      "[CV] END bootstrap=False, max_depth=2, max_features=auto, min_samples_leaf=2, min_samples_split=2, n_estimators=25; total time=   0.1s\n",
      "[CV] END bootstrap=False, max_depth=2, max_features=auto, min_samples_leaf=2, min_samples_split=2, n_estimators=41; total time=   0.1s\n",
      "[CV] END bootstrap=False, max_depth=2, max_features=auto, min_samples_leaf=2, min_samples_split=2, n_estimators=41; total time=   0.1s\n",
      "[CV] END bootstrap=False, max_depth=2, max_features=auto, min_samples_leaf=2, min_samples_split=2, n_estimators=56; total time=   0.1s\n",
      "[CV] END bootstrap=False, max_depth=2, max_features=auto, min_samples_leaf=2, min_samples_split=2, n_estimators=64; total time=   0.2s\n",
      "[CV] END bootstrap=False, max_depth=2, max_features=auto, min_samples_leaf=2, min_samples_split=2, n_estimators=80; total time=   0.2s\n",
      "[CV] END bootstrap=False, max_depth=2, max_features=auto, min_samples_leaf=2, min_samples_split=2, n_estimators=80; total time=   0.2s\n",
      "[CV] END bootstrap=False, max_depth=2, max_features=auto, min_samples_leaf=2, min_samples_split=5, n_estimators=48; total time=   0.1s\n",
      "[CV] END bootstrap=False, max_depth=2, max_features=auto, min_samples_leaf=2, min_samples_split=5, n_estimators=48; total time=   0.1s\n",
      "[CV] END bootstrap=False, max_depth=2, max_features=auto, min_samples_leaf=2, min_samples_split=5, n_estimators=72; total time=   0.2s\n",
      "[CV] END bootstrap=False, max_depth=2, max_features=auto, min_samples_leaf=2, min_samples_split=5, n_estimators=72; total time=   0.2s\n",
      "[CV] END bootstrap=False, max_depth=2, max_features=sqrt, min_samples_leaf=1, min_samples_split=2, n_estimators=10; total time=   0.0s\n",
      "[CV] END bootstrap=False, max_depth=2, max_features=sqrt, min_samples_leaf=1, min_samples_split=2, n_estimators=17; total time=   0.0s\n",
      "[CV] END bootstrap=False, max_depth=2, max_features=sqrt, min_samples_leaf=1, min_samples_split=2, n_estimators=25; total time=   0.1s\n",
      "[CV] END bootstrap=False, max_depth=2, max_features=sqrt, min_samples_leaf=1, min_samples_split=2, n_estimators=25; total time=   0.1s\n",
      "[CV] END bootstrap=False, max_depth=2, max_features=sqrt, min_samples_leaf=1, min_samples_split=2, n_estimators=41; total time=   0.1s\n",
      "[CV] END bootstrap=False, max_depth=2, max_features=sqrt, min_samples_leaf=1, min_samples_split=2, n_estimators=41; total time=   0.1s\n",
      "[CV] END bootstrap=False, max_depth=2, max_features=sqrt, min_samples_leaf=1, min_samples_split=2, n_estimators=56; total time=   0.1s\n",
      "[CV] END bootstrap=False, max_depth=2, max_features=sqrt, min_samples_leaf=1, min_samples_split=2, n_estimators=64; total time=   0.2s\n",
      "[CV] END bootstrap=False, max_depth=2, max_features=sqrt, min_samples_leaf=1, min_samples_split=2, n_estimators=80; total time=   0.2s\n",
      "[CV] END bootstrap=False, max_depth=2, max_features=sqrt, min_samples_leaf=1, min_samples_split=2, n_estimators=80; total time=   0.2s\n",
      "[CV] END bootstrap=False, max_depth=2, max_features=sqrt, min_samples_leaf=1, min_samples_split=5, n_estimators=48; total time=   0.1s\n",
      "[CV] END bootstrap=False, max_depth=2, max_features=sqrt, min_samples_leaf=1, min_samples_split=5, n_estimators=48; total time=   0.1s\n",
      "[CV] END bootstrap=False, max_depth=2, max_features=sqrt, min_samples_leaf=1, min_samples_split=5, n_estimators=72; total time=   0.2s\n",
      "[CV] END bootstrap=False, max_depth=2, max_features=sqrt, min_samples_leaf=1, min_samples_split=5, n_estimators=72; total time=   0.2s\n",
      "[CV] END bootstrap=False, max_depth=2, max_features=sqrt, min_samples_leaf=2, min_samples_split=2, n_estimators=10; total time=   0.0s\n",
      "[CV] END bootstrap=False, max_depth=2, max_features=sqrt, min_samples_leaf=2, min_samples_split=2, n_estimators=17; total time=   0.0s\n",
      "[CV] END bootstrap=False, max_depth=2, max_features=sqrt, min_samples_leaf=2, min_samples_split=2, n_estimators=25; total time=   0.1s\n",
      "[CV] END bootstrap=False, max_depth=2, max_features=sqrt, min_samples_leaf=2, min_samples_split=2, n_estimators=25; total time=   0.1s\n",
      "[CV] END bootstrap=False, max_depth=2, max_features=sqrt, min_samples_leaf=2, min_samples_split=2, n_estimators=41; total time=   0.1s\n",
      "[CV] END bootstrap=False, max_depth=2, max_features=sqrt, min_samples_leaf=2, min_samples_split=2, n_estimators=41; total time=   0.1s\n",
      "[CV] END bootstrap=False, max_depth=2, max_features=sqrt, min_samples_leaf=2, min_samples_split=2, n_estimators=56; total time=   0.2s\n",
      "[CV] END bootstrap=False, max_depth=2, max_features=sqrt, min_samples_leaf=2, min_samples_split=2, n_estimators=64; total time=   0.2s\n",
      "[CV] END bootstrap=False, max_depth=2, max_features=sqrt, min_samples_leaf=2, min_samples_split=2, n_estimators=80; total time=   0.2s\n",
      "[CV] END bootstrap=False, max_depth=2, max_features=sqrt, min_samples_leaf=2, min_samples_split=2, n_estimators=80; total time=   0.2s\n",
      "[CV] END bootstrap=False, max_depth=2, max_features=sqrt, min_samples_leaf=2, min_samples_split=5, n_estimators=48; total time=   0.1s\n",
      "[CV] END bootstrap=False, max_depth=2, max_features=sqrt, min_samples_leaf=2, min_samples_split=5, n_estimators=48; total time=   0.1s\n",
      "[CV] END bootstrap=False, max_depth=2, max_features=sqrt, min_samples_leaf=2, min_samples_split=5, n_estimators=72; total time=   0.2s\n",
      "[CV] END bootstrap=False, max_depth=2, max_features=sqrt, min_samples_leaf=2, min_samples_split=5, n_estimators=72; total time=   0.2s\n",
      "[CV] END bootstrap=False, max_depth=4, max_features=auto, min_samples_leaf=1, min_samples_split=2, n_estimators=17; total time=   0.1s\n",
      "[CV] END bootstrap=False, max_depth=4, max_features=auto, min_samples_leaf=1, min_samples_split=2, n_estimators=17; total time=   0.1s\n",
      "[CV] END bootstrap=False, max_depth=4, max_features=auto, min_samples_leaf=1, min_samples_split=2, n_estimators=33; total time=   0.1s\n",
      "[CV] END bootstrap=False, max_depth=4, max_features=auto, min_samples_leaf=1, min_samples_split=2, n_estimators=33; total time=   0.1s\n",
      "[CV] END bootstrap=False, max_depth=4, max_features=auto, min_samples_leaf=1, min_samples_split=2, n_estimators=56; total time=   0.2s\n",
      "[CV] END bootstrap=False, max_depth=4, max_features=auto, min_samples_leaf=1, min_samples_split=2, n_estimators=56; total time=   0.2s\n",
      "[CV] END bootstrap=False, max_depth=4, max_features=auto, min_samples_leaf=1, min_samples_split=2, n_estimators=72; total time=   0.2s\n",
      "[CV] END bootstrap=False, max_depth=4, max_features=auto, min_samples_leaf=1, min_samples_split=2, n_estimators=80; total time=   0.2s\n",
      "[CV] END bootstrap=False, max_depth=4, max_features=auto, min_samples_leaf=1, min_samples_split=5, n_estimators=33; total time=   0.1s\n",
      "[CV] END bootstrap=False, max_depth=2, max_features=auto, min_samples_leaf=1, min_samples_split=5, n_estimators=25; total time=   0.1s\n",
      "[CV] END bootstrap=False, max_depth=2, max_features=auto, min_samples_leaf=1, min_samples_split=5, n_estimators=25; total time=   0.1s\n",
      "[CV] END bootstrap=False, max_depth=2, max_features=auto, min_samples_leaf=1, min_samples_split=5, n_estimators=41; total time=   0.1s\n",
      "[CV] END bootstrap=False, max_depth=2, max_features=auto, min_samples_leaf=1, min_samples_split=5, n_estimators=41; total time=   0.1s\n",
      "[CV] END bootstrap=False, max_depth=2, max_features=auto, min_samples_leaf=1, min_samples_split=5, n_estimators=56; total time=   0.1s\n",
      "[CV] END bootstrap=False, max_depth=2, max_features=auto, min_samples_leaf=1, min_samples_split=5, n_estimators=64; total time=   0.2s\n",
      "[CV] END bootstrap=False, max_depth=2, max_features=auto, min_samples_leaf=1, min_samples_split=5, n_estimators=80; total time=   0.2s\n",
      "[CV] END bootstrap=False, max_depth=2, max_features=auto, min_samples_leaf=1, min_samples_split=5, n_estimators=80; total time=   0.2s\n",
      "[CV] END bootstrap=False, max_depth=2, max_features=auto, min_samples_leaf=2, min_samples_split=2, n_estimators=56; total time=   0.1s\n",
      "[CV] END bootstrap=False, max_depth=2, max_features=auto, min_samples_leaf=2, min_samples_split=2, n_estimators=56; total time=   0.1s\n",
      "[CV] END bootstrap=False, max_depth=2, max_features=auto, min_samples_leaf=2, min_samples_split=2, n_estimators=72; total time=   0.2s\n",
      "[CV] END bootstrap=False, max_depth=2, max_features=auto, min_samples_leaf=2, min_samples_split=2, n_estimators=80; total time=   0.2s\n",
      "[CV] END bootstrap=False, max_depth=2, max_features=auto, min_samples_leaf=2, min_samples_split=5, n_estimators=25; total time=   0.1s\n",
      "[CV] END bootstrap=False, max_depth=2, max_features=auto, min_samples_leaf=2, min_samples_split=5, n_estimators=33; total time=   0.1s\n",
      "[CV] END bootstrap=False, max_depth=2, max_features=auto, min_samples_leaf=2, min_samples_split=5, n_estimators=41; total time=   0.1s\n",
      "[CV] END bootstrap=False, max_depth=2, max_features=auto, min_samples_leaf=2, min_samples_split=5, n_estimators=48; total time=   0.1s\n",
      "[CV] END bootstrap=False, max_depth=2, max_features=auto, min_samples_leaf=2, min_samples_split=5, n_estimators=64; total time=   0.2s\n",
      "[CV] END bootstrap=False, max_depth=2, max_features=auto, min_samples_leaf=2, min_samples_split=5, n_estimators=64; total time=   0.2s\n",
      "[CV] END bootstrap=False, max_depth=2, max_features=sqrt, min_samples_leaf=1, min_samples_split=2, n_estimators=10; total time=   0.0s\n",
      "[CV] END bootstrap=False, max_depth=2, max_features=sqrt, min_samples_leaf=1, min_samples_split=2, n_estimators=10; total time=   0.0s\n",
      "[CV] END bootstrap=False, max_depth=2, max_features=sqrt, min_samples_leaf=1, min_samples_split=2, n_estimators=17; total time=   0.0s\n",
      "[CV] END bootstrap=False, max_depth=2, max_features=sqrt, min_samples_leaf=1, min_samples_split=2, n_estimators=17; total time=   0.1s\n",
      "[CV] END bootstrap=False, max_depth=2, max_features=sqrt, min_samples_leaf=1, min_samples_split=2, n_estimators=33; total time=   0.1s\n",
      "[CV] END bootstrap=False, max_depth=2, max_features=sqrt, min_samples_leaf=1, min_samples_split=2, n_estimators=33; total time=   0.1s\n",
      "[CV] END bootstrap=False, max_depth=2, max_features=sqrt, min_samples_leaf=1, min_samples_split=2, n_estimators=56; total time=   0.1s\n",
      "[CV] END bootstrap=False, max_depth=2, max_features=sqrt, min_samples_leaf=1, min_samples_split=2, n_estimators=56; total time=   0.1s\n",
      "[CV] END bootstrap=False, max_depth=2, max_features=sqrt, min_samples_leaf=1, min_samples_split=2, n_estimators=72; total time=   0.2s\n",
      "[CV] END bootstrap=False, max_depth=2, max_features=sqrt, min_samples_leaf=1, min_samples_split=2, n_estimators=80; total time=   0.2s\n",
      "[CV] END bootstrap=False, max_depth=2, max_features=sqrt, min_samples_leaf=1, min_samples_split=5, n_estimators=25; total time=   0.1s\n",
      "[CV] END bootstrap=False, max_depth=2, max_features=sqrt, min_samples_leaf=1, min_samples_split=5, n_estimators=25; total time=   0.1s\n",
      "[CV] END bootstrap=False, max_depth=2, max_features=sqrt, min_samples_leaf=1, min_samples_split=5, n_estimators=41; total time=   0.1s\n",
      "[CV] END bootstrap=False, max_depth=2, max_features=sqrt, min_samples_leaf=1, min_samples_split=5, n_estimators=41; total time=   0.1s\n",
      "[CV] END bootstrap=False, max_depth=2, max_features=sqrt, min_samples_leaf=1, min_samples_split=5, n_estimators=56; total time=   0.1s\n",
      "[CV] END bootstrap=False, max_depth=2, max_features=sqrt, min_samples_leaf=1, min_samples_split=5, n_estimators=64; total time=   0.2s\n",
      "[CV] END bootstrap=False, max_depth=2, max_features=sqrt, min_samples_leaf=1, min_samples_split=5, n_estimators=80; total time=   0.2s\n",
      "[CV] END bootstrap=False, max_depth=2, max_features=sqrt, min_samples_leaf=1, min_samples_split=5, n_estimators=80; total time=   0.2s\n",
      "[CV] END bootstrap=False, max_depth=2, max_features=sqrt, min_samples_leaf=2, min_samples_split=2, n_estimators=48; total time=   0.1s\n",
      "[CV] END bootstrap=False, max_depth=2, max_features=sqrt, min_samples_leaf=2, min_samples_split=2, n_estimators=48; total time=   0.1s\n",
      "[CV] END bootstrap=False, max_depth=2, max_features=sqrt, min_samples_leaf=2, min_samples_split=2, n_estimators=72; total time=   0.2s\n",
      "[CV] END bootstrap=False, max_depth=2, max_features=sqrt, min_samples_leaf=2, min_samples_split=2, n_estimators=72; total time=   0.2s\n",
      "[CV] END bootstrap=False, max_depth=2, max_features=sqrt, min_samples_leaf=2, min_samples_split=5, n_estimators=17; total time=   0.0s\n",
      "[CV] END bootstrap=False, max_depth=2, max_features=sqrt, min_samples_leaf=2, min_samples_split=5, n_estimators=17; total time=   0.1s\n",
      "[CV] END bootstrap=False, max_depth=2, max_features=sqrt, min_samples_leaf=2, min_samples_split=5, n_estimators=33; total time=   0.1s\n",
      "[CV] END bootstrap=False, max_depth=2, max_features=sqrt, min_samples_leaf=2, min_samples_split=5, n_estimators=33; total time=   0.1s\n",
      "[CV] END bootstrap=False, max_depth=2, max_features=sqrt, min_samples_leaf=2, min_samples_split=5, n_estimators=56; total time=   0.1s\n",
      "[CV] END bootstrap=False, max_depth=2, max_features=sqrt, min_samples_leaf=2, min_samples_split=5, n_estimators=56; total time=   0.1s\n",
      "[CV] END bootstrap=False, max_depth=2, max_features=sqrt, min_samples_leaf=2, min_samples_split=5, n_estimators=72; total time=   0.2s\n",
      "[CV] END bootstrap=False, max_depth=2, max_features=sqrt, min_samples_leaf=2, min_samples_split=5, n_estimators=80; total time=   0.2s\n",
      "[CV] END bootstrap=False, max_depth=4, max_features=auto, min_samples_leaf=1, min_samples_split=2, n_estimators=25; total time=   0.1s\n",
      "[CV] END bootstrap=False, max_depth=4, max_features=auto, min_samples_leaf=1, min_samples_split=2, n_estimators=33; total time=   0.1s\n",
      "[CV] END bootstrap=False, max_depth=4, max_features=auto, min_samples_leaf=1, min_samples_split=2, n_estimators=48; total time=   0.1s\n",
      "[CV] END bootstrap=False, max_depth=4, max_features=auto, min_samples_leaf=1, min_samples_split=2, n_estimators=48; total time=   0.1s\n",
      "[CV] END bootstrap=False, max_depth=4, max_features=auto, min_samples_leaf=1, min_samples_split=2, n_estimators=72; total time=   0.2s\n",
      "[CV] END bootstrap=False, max_depth=4, max_features=auto, min_samples_leaf=1, min_samples_split=2, n_estimators=72; total time=   0.2s\n",
      "[CV] END bootstrap=False, max_depth=4, max_features=auto, min_samples_leaf=1, min_samples_split=5, n_estimators=17; total time=   0.1s\n",
      "[CV] END bootstrap=False, max_depth=4, max_features=auto, min_samples_leaf=1, min_samples_split=5, n_estimators=17; total time=   0.1s\n",
      "[CV] END bootstrap=False, max_depth=4, max_features=auto, min_samples_leaf=1, min_samples_split=5, n_estimators=25; total time=   0.1s\n",
      "[CV] END bootstrap=False, max_depth=4, max_features=auto, min_samples_leaf=1, min_samples_split=5, n_estimators=33; total time=   0.1s\n",
      "[CV] END bootstrap=False, max_depth=4, max_features=auto, min_samples_leaf=1, min_samples_split=5, n_estimators=41; total time=   0.1s\n",
      "[CV] END bootstrap=False, max_depth=4, max_features=auto, min_samples_leaf=1, min_samples_split=5, n_estimators=48; total time=   0.1s\n",
      "[CV] END bootstrap=False, max_depth=4, max_features=auto, min_samples_leaf=1, min_samples_split=5, n_estimators=64; total time=   0.2s\n",
      "[CV] END bootstrap=False, max_depth=4, max_features=auto, min_samples_leaf=1, min_samples_split=2, n_estimators=10; total time=   0.0s\n",
      "[CV] END bootstrap=False, max_depth=4, max_features=auto, min_samples_leaf=1, min_samples_split=2, n_estimators=10; total time=   0.0s\n",
      "[CV] END bootstrap=False, max_depth=4, max_features=auto, min_samples_leaf=1, min_samples_split=2, n_estimators=17; total time=   0.1s\n",
      "[CV] END bootstrap=False, max_depth=4, max_features=auto, min_samples_leaf=1, min_samples_split=2, n_estimators=25; total time=   0.1s\n",
      "[CV] END bootstrap=False, max_depth=4, max_features=auto, min_samples_leaf=1, min_samples_split=2, n_estimators=25; total time=   0.1s\n",
      "[CV] END bootstrap=False, max_depth=4, max_features=auto, min_samples_leaf=1, min_samples_split=2, n_estimators=41; total time=   0.1s\n",
      "[CV] END bootstrap=False, max_depth=4, max_features=auto, min_samples_leaf=1, min_samples_split=2, n_estimators=41; total time=   0.1s\n",
      "[CV] END bootstrap=False, max_depth=4, max_features=auto, min_samples_leaf=1, min_samples_split=2, n_estimators=56; total time=   0.2s\n",
      "[CV] END bootstrap=False, max_depth=4, max_features=auto, min_samples_leaf=1, min_samples_split=2, n_estimators=64; total time=   0.2s\n",
      "[CV] END bootstrap=False, max_depth=4, max_features=auto, min_samples_leaf=1, min_samples_split=2, n_estimators=80; total time=   0.2s\n",
      "[CV] END bootstrap=False, max_depth=4, max_features=auto, min_samples_leaf=1, min_samples_split=2, n_estimators=80; total time=   0.2s\n",
      "[CV] END bootstrap=False, max_depth=4, max_features=auto, min_samples_leaf=1, min_samples_split=5, n_estimators=48; total time=   0.1s\n",
      "[CV] END bootstrap=False, max_depth=4, max_features=auto, min_samples_leaf=1, min_samples_split=5, n_estimators=48; total time=   0.1s\n",
      "[CV] END bootstrap=False, max_depth=4, max_features=auto, min_samples_leaf=1, min_samples_split=5, n_estimators=72; total time=   0.2s\n",
      "[CV] END bootstrap=False, max_depth=4, max_features=auto, min_samples_leaf=1, min_samples_split=5, n_estimators=72; total time=   0.2s\n",
      "[CV] END bootstrap=False, max_depth=4, max_features=auto, min_samples_leaf=2, min_samples_split=2, n_estimators=10; total time=   0.0s\n",
      "[CV] END bootstrap=False, max_depth=4, max_features=auto, min_samples_leaf=2, min_samples_split=2, n_estimators=17; total time=   0.1s\n",
      "[CV] END bootstrap=False, max_depth=4, max_features=auto, min_samples_leaf=2, min_samples_split=2, n_estimators=25; total time=   0.1s\n",
      "[CV] END bootstrap=False, max_depth=4, max_features=auto, min_samples_leaf=2, min_samples_split=2, n_estimators=33; total time=   0.1s\n",
      "[CV] END bootstrap=False, max_depth=4, max_features=auto, min_samples_leaf=2, min_samples_split=2, n_estimators=41; total time=   0.1s\n",
      "[CV] END bootstrap=False, max_depth=4, max_features=auto, min_samples_leaf=2, min_samples_split=2, n_estimators=48; total time=   0.1s\n",
      "[CV] END bootstrap=False, max_depth=4, max_features=auto, min_samples_leaf=2, min_samples_split=2, n_estimators=64; total time=   0.2s\n",
      "[CV] END bootstrap=False, max_depth=4, max_features=auto, min_samples_leaf=2, min_samples_split=2, n_estimators=64; total time=   0.2s\n",
      "[CV] END bootstrap=False, max_depth=4, max_features=auto, min_samples_leaf=2, min_samples_split=5, n_estimators=10; total time=   0.0s\n",
      "[CV] END bootstrap=False, max_depth=4, max_features=auto, min_samples_leaf=2, min_samples_split=5, n_estimators=10; total time=   0.0s\n",
      "[CV] END bootstrap=False, max_depth=4, max_features=auto, min_samples_leaf=2, min_samples_split=5, n_estimators=17; total time=   0.1s\n",
      "[CV] END bootstrap=False, max_depth=4, max_features=auto, min_samples_leaf=2, min_samples_split=5, n_estimators=17; total time=   0.1s\n",
      "[CV] END bootstrap=False, max_depth=4, max_features=auto, min_samples_leaf=2, min_samples_split=5, n_estimators=33; total time=   0.1s\n",
      "[CV] END bootstrap=False, max_depth=4, max_features=auto, min_samples_leaf=2, min_samples_split=5, n_estimators=33; total time=   0.1s\n",
      "[CV] END bootstrap=False, max_depth=4, max_features=auto, min_samples_leaf=2, min_samples_split=5, n_estimators=56; total time=   0.2s\n",
      "[CV] END bootstrap=False, max_depth=4, max_features=auto, min_samples_leaf=2, min_samples_split=5, n_estimators=56; total time=   0.2s\n",
      "[CV] END bootstrap=False, max_depth=4, max_features=auto, min_samples_leaf=2, min_samples_split=5, n_estimators=72; total time=   0.2s\n",
      "[CV] END bootstrap=False, max_depth=4, max_features=auto, min_samples_leaf=2, min_samples_split=5, n_estimators=80; total time=   0.2s\n",
      "[CV] END bootstrap=False, max_depth=4, max_features=sqrt, min_samples_leaf=1, min_samples_split=2, n_estimators=25; total time=   0.1s\n",
      "[CV] END bootstrap=False, max_depth=4, max_features=sqrt, min_samples_leaf=1, min_samples_split=2, n_estimators=33; total time=   0.1s\n",
      "[CV] END bootstrap=False, max_depth=4, max_features=sqrt, min_samples_leaf=1, min_samples_split=2, n_estimators=48; total time=   0.1s\n",
      "[CV] END bootstrap=False, max_depth=4, max_features=sqrt, min_samples_leaf=1, min_samples_split=2, n_estimators=48; total time=   0.1s\n",
      "[CV] END bootstrap=False, max_depth=4, max_features=sqrt, min_samples_leaf=1, min_samples_split=2, n_estimators=72; total time=   0.2s\n",
      "[CV] END bootstrap=False, max_depth=4, max_features=sqrt, min_samples_leaf=1, min_samples_split=2, n_estimators=72; total time=   0.2s\n",
      "[CV] END bootstrap=False, max_depth=4, max_features=sqrt, min_samples_leaf=1, min_samples_split=5, n_estimators=17; total time=   0.1s\n",
      "[CV] END bootstrap=False, max_depth=4, max_features=sqrt, min_samples_leaf=1, min_samples_split=5, n_estimators=17; total time=   0.1s\n",
      "[CV] END bootstrap=False, max_depth=4, max_features=sqrt, min_samples_leaf=1, min_samples_split=5, n_estimators=33; total time=   0.1s\n",
      "[CV] END bootstrap=False, max_depth=4, max_features=sqrt, min_samples_leaf=1, min_samples_split=5, n_estimators=33; total time=   0.1s\n",
      "[CV] END bootstrap=False, max_depth=4, max_features=sqrt, min_samples_leaf=1, min_samples_split=5, n_estimators=56; total time=   0.2s\n",
      "[CV] END bootstrap=False, max_depth=4, max_features=sqrt, min_samples_leaf=1, min_samples_split=5, n_estimators=56; total time=   0.2s\n",
      "[CV] END bootstrap=False, max_depth=4, max_features=sqrt, min_samples_leaf=1, min_samples_split=5, n_estimators=72; total time=   0.2s\n",
      "[CV] END bootstrap=False, max_depth=4, max_features=sqrt, min_samples_leaf=1, min_samples_split=5, n_estimators=80; total time=   0.2s\n",
      "[CV] END bootstrap=False, max_depth=4, max_features=sqrt, min_samples_leaf=2, min_samples_split=2, n_estimators=25; total time=   0.1s\n",
      "[CV] END bootstrap=False, max_depth=4, max_features=sqrt, min_samples_leaf=2, min_samples_split=2, n_estimators=33; total time=   0.1s\n",
      "[CV] END bootstrap=False, max_depth=4, max_features=sqrt, min_samples_leaf=2, min_samples_split=2, n_estimators=41; total time=   0.1s\n",
      "[CV] END bootstrap=False, max_depth=4, max_features=sqrt, min_samples_leaf=2, min_samples_split=2, n_estimators=48; total time=   0.1s\n",
      "[CV] END bootstrap=False, max_depth=4, max_features=sqrt, min_samples_leaf=2, min_samples_split=2, n_estimators=64; total time=   0.2s\n",
      "[CV] END bootstrap=False, max_depth=4, max_features=sqrt, min_samples_leaf=2, min_samples_split=2, n_estimators=64; total time=   0.2s\n",
      "[CV] END bootstrap=False, max_depth=4, max_features=sqrt, min_samples_leaf=2, min_samples_split=5, n_estimators=10; total time=   0.0s\n",
      "[CV] END bootstrap=False, max_depth=4, max_features=sqrt, min_samples_leaf=2, min_samples_split=5, n_estimators=10; total time=   0.0s\n",
      "[CV] END bootstrap=False, max_depth=4, max_features=sqrt, min_samples_leaf=2, min_samples_split=5, n_estimators=17; total time=   0.1s\n",
      "[CV] END bootstrap=False, max_depth=4, max_features=sqrt, min_samples_leaf=2, min_samples_split=5, n_estimators=17; total time=   0.1s\n",
      "[CV] END bootstrap=False, max_depth=4, max_features=sqrt, min_samples_leaf=2, min_samples_split=5, n_estimators=33; total time=   0.1s\n",
      "[CV] END bootstrap=False, max_depth=4, max_features=sqrt, min_samples_leaf=2, min_samples_split=5, n_estimators=33; total time=   0.1s\n",
      "[CV] END bootstrap=False, max_depth=4, max_features=sqrt, min_samples_leaf=2, min_samples_split=5, n_estimators=56; total time=   0.2s\n",
      "[CV] END bootstrap=False, max_depth=4, max_features=sqrt, min_samples_leaf=2, min_samples_split=5, n_estimators=56; total time=   0.2s\n",
      "[CV] END bootstrap=False, max_depth=2, max_features=sqrt, min_samples_leaf=2, min_samples_split=5, n_estimators=64; total time=   0.2s\n",
      "[CV] END bootstrap=False, max_depth=2, max_features=sqrt, min_samples_leaf=2, min_samples_split=5, n_estimators=80; total time=   0.2s\n",
      "[CV] END bootstrap=False, max_depth=2, max_features=sqrt, min_samples_leaf=2, min_samples_split=5, n_estimators=80; total time=   0.2s\n",
      "[CV] END bootstrap=False, max_depth=4, max_features=auto, min_samples_leaf=1, min_samples_split=2, n_estimators=41; total time=   0.1s\n",
      "[CV] END bootstrap=False, max_depth=4, max_features=auto, min_samples_leaf=1, min_samples_split=2, n_estimators=48; total time=   0.1s\n",
      "[CV] END bootstrap=False, max_depth=4, max_features=auto, min_samples_leaf=1, min_samples_split=2, n_estimators=64; total time=   0.2s\n",
      "[CV] END bootstrap=False, max_depth=4, max_features=auto, min_samples_leaf=1, min_samples_split=2, n_estimators=64; total time=   0.2s\n",
      "[CV] END bootstrap=False, max_depth=4, max_features=auto, min_samples_leaf=1, min_samples_split=5, n_estimators=10; total time=   0.0s\n",
      "[CV] END bootstrap=False, max_depth=4, max_features=auto, min_samples_leaf=1, min_samples_split=5, n_estimators=10; total time=   0.0s\n",
      "[CV] END bootstrap=False, max_depth=4, max_features=auto, min_samples_leaf=1, min_samples_split=5, n_estimators=10; total time=   0.0s\n",
      "[CV] END bootstrap=False, max_depth=4, max_features=auto, min_samples_leaf=1, min_samples_split=5, n_estimators=17; total time=   0.1s\n",
      "[CV] END bootstrap=False, max_depth=4, max_features=auto, min_samples_leaf=1, min_samples_split=5, n_estimators=25; total time=   0.1s\n",
      "[CV] END bootstrap=False, max_depth=4, max_features=auto, min_samples_leaf=1, min_samples_split=5, n_estimators=25; total time=   0.1s\n",
      "[CV] END bootstrap=False, max_depth=4, max_features=auto, min_samples_leaf=1, min_samples_split=5, n_estimators=41; total time=   0.1s\n",
      "[CV] END bootstrap=False, max_depth=4, max_features=auto, min_samples_leaf=1, min_samples_split=5, n_estimators=41; total time=   0.1s\n",
      "[CV] END bootstrap=False, max_depth=4, max_features=auto, min_samples_leaf=1, min_samples_split=5, n_estimators=56; total time=   0.2s\n",
      "[CV] END bootstrap=False, max_depth=4, max_features=auto, min_samples_leaf=1, min_samples_split=5, n_estimators=64; total time=   0.2s\n",
      "[CV] END bootstrap=False, max_depth=4, max_features=auto, min_samples_leaf=1, min_samples_split=5, n_estimators=80; total time=   0.2s\n",
      "[CV] END bootstrap=False, max_depth=4, max_features=auto, min_samples_leaf=1, min_samples_split=5, n_estimators=80; total time=   0.2s\n",
      "[CV] END bootstrap=False, max_depth=4, max_features=auto, min_samples_leaf=2, min_samples_split=2, n_estimators=48; total time=   0.1s\n",
      "[CV] END bootstrap=False, max_depth=4, max_features=auto, min_samples_leaf=2, min_samples_split=2, n_estimators=48; total time=   0.1s\n",
      "[CV] END bootstrap=False, max_depth=4, max_features=auto, min_samples_leaf=2, min_samples_split=2, n_estimators=72; total time=   0.2s\n",
      "[CV] END bootstrap=False, max_depth=4, max_features=auto, min_samples_leaf=2, min_samples_split=2, n_estimators=72; total time=   0.2s\n",
      "[CV] END bootstrap=False, max_depth=4, max_features=auto, min_samples_leaf=2, min_samples_split=5, n_estimators=10; total time=   0.0s\n",
      "[CV] END bootstrap=False, max_depth=4, max_features=auto, min_samples_leaf=2, min_samples_split=5, n_estimators=17; total time=   0.1s\n",
      "[CV] END bootstrap=False, max_depth=4, max_features=auto, min_samples_leaf=2, min_samples_split=5, n_estimators=25; total time=   0.1s\n",
      "[CV] END bootstrap=False, max_depth=4, max_features=auto, min_samples_leaf=2, min_samples_split=5, n_estimators=33; total time=   0.1s\n",
      "[CV] END bootstrap=False, max_depth=4, max_features=auto, min_samples_leaf=2, min_samples_split=5, n_estimators=41; total time=   0.1s\n",
      "[CV] END bootstrap=False, max_depth=4, max_features=auto, min_samples_leaf=2, min_samples_split=5, n_estimators=48; total time=   0.1s\n",
      "[CV] END bootstrap=False, max_depth=4, max_features=auto, min_samples_leaf=2, min_samples_split=5, n_estimators=64; total time=   0.2s\n",
      "[CV] END bootstrap=False, max_depth=4, max_features=auto, min_samples_leaf=2, min_samples_split=5, n_estimators=64; total time=   0.2s\n",
      "[CV] END bootstrap=False, max_depth=4, max_features=sqrt, min_samples_leaf=1, min_samples_split=2, n_estimators=10; total time=   0.0s\n",
      "[CV] END bootstrap=False, max_depth=4, max_features=sqrt, min_samples_leaf=1, min_samples_split=2, n_estimators=10; total time=   0.0s\n",
      "[CV] END bootstrap=False, max_depth=4, max_features=sqrt, min_samples_leaf=1, min_samples_split=2, n_estimators=17; total time=   0.1s\n",
      "[CV] END bootstrap=False, max_depth=4, max_features=sqrt, min_samples_leaf=1, min_samples_split=2, n_estimators=17; total time=   0.1s\n",
      "[CV] END bootstrap=False, max_depth=4, max_features=sqrt, min_samples_leaf=1, min_samples_split=2, n_estimators=33; total time=   0.1s\n",
      "[CV] END bootstrap=False, max_depth=4, max_features=sqrt, min_samples_leaf=1, min_samples_split=2, n_estimators=33; total time=   0.1s\n",
      "[CV] END bootstrap=False, max_depth=4, max_features=sqrt, min_samples_leaf=1, min_samples_split=2, n_estimators=56; total time=   0.2s\n",
      "[CV] END bootstrap=False, max_depth=4, max_features=sqrt, min_samples_leaf=1, min_samples_split=2, n_estimators=56; total time=   0.2s\n",
      "[CV] END bootstrap=False, max_depth=4, max_features=sqrt, min_samples_leaf=1, min_samples_split=2, n_estimators=72; total time=   0.2s\n",
      "[CV] END bootstrap=False, max_depth=4, max_features=sqrt, min_samples_leaf=1, min_samples_split=2, n_estimators=80; total time=   0.2s\n",
      "[CV] END bootstrap=False, max_depth=4, max_features=sqrt, min_samples_leaf=1, min_samples_split=5, n_estimators=25; total time=   0.1s\n",
      "[CV] END bootstrap=False, max_depth=4, max_features=sqrt, min_samples_leaf=1, min_samples_split=5, n_estimators=33; total time=   0.1s\n",
      "[CV] END bootstrap=False, max_depth=4, max_features=sqrt, min_samples_leaf=1, min_samples_split=5, n_estimators=48; total time=   0.1s\n",
      "[CV] END bootstrap=False, max_depth=4, max_features=sqrt, min_samples_leaf=1, min_samples_split=5, n_estimators=48; total time=   0.1s\n",
      "[CV] END bootstrap=False, max_depth=4, max_features=sqrt, min_samples_leaf=1, min_samples_split=5, n_estimators=72; total time=   0.2s\n",
      "[CV] END bootstrap=False, max_depth=4, max_features=sqrt, min_samples_leaf=1, min_samples_split=5, n_estimators=72; total time=   0.2s\n",
      "[CV] END bootstrap=False, max_depth=4, max_features=sqrt, min_samples_leaf=2, min_samples_split=2, n_estimators=10; total time=   0.0s\n",
      "[CV] END bootstrap=False, max_depth=4, max_features=sqrt, min_samples_leaf=2, min_samples_split=2, n_estimators=17; total time=   0.1s\n",
      "[CV] END bootstrap=False, max_depth=4, max_features=sqrt, min_samples_leaf=2, min_samples_split=2, n_estimators=25; total time=   0.1s\n",
      "[CV] END bootstrap=False, max_depth=4, max_features=sqrt, min_samples_leaf=2, min_samples_split=2, n_estimators=25; total time=   0.1s\n",
      "[CV] END bootstrap=False, max_depth=4, max_features=sqrt, min_samples_leaf=2, min_samples_split=2, n_estimators=41; total time=   0.1s\n",
      "[CV] END bootstrap=False, max_depth=4, max_features=sqrt, min_samples_leaf=2, min_samples_split=2, n_estimators=41; total time=   0.1s\n",
      "[CV] END bootstrap=False, max_depth=4, max_features=sqrt, min_samples_leaf=2, min_samples_split=2, n_estimators=56; total time=   0.2s\n",
      "[CV] END bootstrap=False, max_depth=4, max_features=sqrt, min_samples_leaf=2, min_samples_split=2, n_estimators=64; total time=   0.2s\n",
      "[CV] END bootstrap=False, max_depth=4, max_features=sqrt, min_samples_leaf=2, min_samples_split=2, n_estimators=80; total time=   0.2s\n",
      "[CV] END bootstrap=False, max_depth=4, max_features=sqrt, min_samples_leaf=2, min_samples_split=2, n_estimators=80; total time=   0.2s\n",
      "[CV] END bootstrap=False, max_depth=4, max_features=sqrt, min_samples_leaf=2, min_samples_split=5, n_estimators=48; total time=   0.1s\n",
      "[CV] END bootstrap=False, max_depth=4, max_features=sqrt, min_samples_leaf=2, min_samples_split=5, n_estimators=48; total time=   0.1s\n",
      "[CV] END bootstrap=False, max_depth=4, max_features=sqrt, min_samples_leaf=2, min_samples_split=5, n_estimators=72; total time=   0.2s\n",
      "[CV] END bootstrap=False, max_depth=4, max_features=sqrt, min_samples_leaf=2, min_samples_split=5, n_estimators=72; total time=   0.2s"
     ]
    }
   ],
   "source": [
    "rdf_best_clf = rdf_clf.fit(X_train,y_train)"
   ]
  },
  {
   "cell_type": "code",
   "execution_count": 101,
   "id": "e2e38b42",
   "metadata": {
    "execution": {
     "iopub.execute_input": "2022-09-07T16:34:37.738947Z",
     "iopub.status.busy": "2022-09-07T16:34:37.737833Z",
     "iopub.status.idle": "2022-09-07T16:34:37.745134Z",
     "shell.execute_reply": "2022-09-07T16:34:37.744013Z"
    },
    "papermill": {
     "duration": 0.064253,
     "end_time": "2022-09-07T16:34:37.747349",
     "exception": false,
     "start_time": "2022-09-07T16:34:37.683096",
     "status": "completed"
    },
    "tags": []
   },
   "outputs": [
    {
     "data": {
      "text/plain": [
       "{'bootstrap': True,\n",
       " 'max_depth': 4,\n",
       " 'max_features': 'auto',\n",
       " 'min_samples_leaf': 1,\n",
       " 'min_samples_split': 5,\n",
       " 'n_estimators': 10}"
      ]
     },
     "execution_count": 101,
     "metadata": {},
     "output_type": "execute_result"
    }
   ],
   "source": [
    "rdf_best_clf.best_params_"
   ]
  },
  {
   "cell_type": "code",
   "execution_count": 102,
   "id": "1d7df5f7",
   "metadata": {
    "execution": {
     "iopub.execute_input": "2022-09-07T16:34:37.856008Z",
     "iopub.status.busy": "2022-09-07T16:34:37.855586Z",
     "iopub.status.idle": "2022-09-07T16:34:37.872925Z",
     "shell.execute_reply": "2022-09-07T16:34:37.871632Z"
    },
    "papermill": {
     "duration": 0.075101,
     "end_time": "2022-09-07T16:34:37.876028",
     "exception": false,
     "start_time": "2022-09-07T16:34:37.800927",
     "status": "completed"
    },
    "tags": []
   },
   "outputs": [
    {
     "name": "stdout",
     "output_type": "stream",
     "text": [
      "0.8205265986029017 0.8259935553168636\n"
     ]
    }
   ],
   "source": [
    "print(rdf_best_clf.score(X_train,y_train),\n",
    "rdf_best_clf.score(X_test,y_test))"
   ]
  },
  {
   "cell_type": "markdown",
   "id": "75318071",
   "metadata": {
    "papermill": {
     "duration": 0.05292,
     "end_time": "2022-09-07T16:34:37.983742",
     "exception": false,
     "start_time": "2022-09-07T16:34:37.930822",
     "status": "completed"
    },
    "tags": []
   },
   "source": [
    "### Support Vector Machines (SVM)"
   ]
  },
  {
   "cell_type": "code",
   "execution_count": 103,
   "id": "b7bf4665",
   "metadata": {
    "execution": {
     "iopub.execute_input": "2022-09-07T16:34:38.093649Z",
     "iopub.status.busy": "2022-09-07T16:34:38.093234Z",
     "iopub.status.idle": "2022-09-07T16:34:38.098838Z",
     "shell.execute_reply": "2022-09-07T16:34:38.097462Z"
    },
    "papermill": {
     "duration": 0.063104,
     "end_time": "2022-09-07T16:34:38.101369",
     "exception": false,
     "start_time": "2022-09-07T16:34:38.038265",
     "status": "completed"
    },
    "tags": []
   },
   "outputs": [],
   "source": [
    "svm_param_grid = [\n",
    "    {'C' : [0.1,1,10,100],\n",
    "    'gamma' : [1,0.1,0.01,0.001],\n",
    "     'kernel' : ['linear','rbf']\n",
    "    }\n",
    "]"
   ]
  },
  {
   "cell_type": "code",
   "execution_count": 104,
   "id": "c93937f4",
   "metadata": {
    "execution": {
     "iopub.execute_input": "2022-09-07T16:34:38.210637Z",
     "iopub.status.busy": "2022-09-07T16:34:38.209892Z",
     "iopub.status.idle": "2022-09-07T16:34:38.214664Z",
     "shell.execute_reply": "2022-09-07T16:34:38.213826Z"
    },
    "papermill": {
     "duration": 0.061901,
     "end_time": "2022-09-07T16:34:38.216835",
     "exception": false,
     "start_time": "2022-09-07T16:34:38.154934",
     "status": "completed"
    },
    "tags": []
   },
   "outputs": [],
   "source": [
    "svm_clf = GridSearchCV(svm_classifier,svm_param_grid,cv=3,verbose=2,n_jobs=4)"
   ]
  },
  {
   "cell_type": "code",
   "execution_count": 105,
   "id": "d95a0266",
   "metadata": {
    "execution": {
     "iopub.execute_input": "2022-09-07T16:34:38.328875Z",
     "iopub.status.busy": "2022-09-07T16:34:38.328174Z",
     "iopub.status.idle": "2022-09-07T16:36:06.125476Z",
     "shell.execute_reply": "2022-09-07T16:36:06.124269Z"
    },
    "papermill": {
     "duration": 87.857601,
     "end_time": "2022-09-07T16:36:06.128362",
     "exception": false,
     "start_time": "2022-09-07T16:34:38.270761",
     "status": "completed"
    },
    "tags": []
   },
   "outputs": [
    {
     "name": "stdout",
     "output_type": "stream",
     "text": [
      "Fitting 3 folds for each of 32 candidates, totalling 96 fits\n",
      "\n",
      "[CV] END bootstrap=False, max_depth=4, max_features=auto, min_samples_leaf=1, min_samples_split=5, n_estimators=33; total time=   0.1s\n",
      "[CV] END bootstrap=False, max_depth=4, max_features=auto, min_samples_leaf=1, min_samples_split=5, n_estimators=56; total time=   0.2s\n",
      "[CV] END bootstrap=False, max_depth=4, max_features=auto, min_samples_leaf=1, min_samples_split=5, n_estimators=56; total time=   0.2s\n",
      "[CV] END bootstrap=False, max_depth=4, max_features=auto, min_samples_leaf=1, min_samples_split=5, n_estimators=72; total time=   0.2s\n",
      "[CV] END bootstrap=False, max_depth=4, max_features=auto, min_samples_leaf=1, min_samples_split=5, n_estimators=80; total time=   0.2s\n",
      "[CV] END bootstrap=False, max_depth=4, max_features=auto, min_samples_leaf=2, min_samples_split=2, n_estimators=25; total time=   0.1s\n",
      "[CV] END bootstrap=False, max_depth=4, max_features=auto, min_samples_leaf=2, min_samples_split=2, n_estimators=25; total time=   0.1s\n",
      "[CV] END bootstrap=False, max_depth=4, max_features=auto, min_samples_leaf=2, min_samples_split=2, n_estimators=41; total time=   0.1s\n",
      "[CV] END bootstrap=False, max_depth=4, max_features=auto, min_samples_leaf=2, min_samples_split=2, n_estimators=41; total time=   0.1s\n",
      "[CV] END bootstrap=False, max_depth=4, max_features=auto, min_samples_leaf=2, min_samples_split=2, n_estimators=56; total time=   0.2s\n",
      "[CV] END bootstrap=False, max_depth=4, max_features=auto, min_samples_leaf=2, min_samples_split=2, n_estimators=64; total time=   0.2s\n",
      "[CV] END bootstrap=False, max_depth=4, max_features=auto, min_samples_leaf=2, min_samples_split=2, n_estimators=80; total time=   0.2s\n",
      "[CV] END bootstrap=False, max_depth=4, max_features=auto, min_samples_leaf=2, min_samples_split=2, n_estimators=80; total time=   0.2s\n",
      "[CV] END bootstrap=False, max_depth=4, max_features=auto, min_samples_leaf=2, min_samples_split=5, n_estimators=48; total time=   0.1s\n",
      "[CV] END bootstrap=False, max_depth=4, max_features=auto, min_samples_leaf=2, min_samples_split=5, n_estimators=48; total time=   0.1s\n",
      "[CV] END bootstrap=False, max_depth=4, max_features=auto, min_samples_leaf=2, min_samples_split=5, n_estimators=72; total time=   0.2s\n",
      "[CV] END bootstrap=False, max_depth=4, max_features=auto, min_samples_leaf=2, min_samples_split=5, n_estimators=72; total time=   0.2s\n",
      "[CV] END bootstrap=False, max_depth=4, max_features=sqrt, min_samples_leaf=1, min_samples_split=2, n_estimators=10; total time=   0.0s\n",
      "[CV] END bootstrap=False, max_depth=4, max_features=sqrt, min_samples_leaf=1, min_samples_split=2, n_estimators=17; total time=   0.1s\n",
      "[CV] END bootstrap=False, max_depth=4, max_features=sqrt, min_samples_leaf=1, min_samples_split=2, n_estimators=25; total time=   0.1s\n",
      "[CV] END bootstrap=False, max_depth=4, max_features=sqrt, min_samples_leaf=1, min_samples_split=2, n_estimators=25; total time=   0.1s\n",
      "[CV] END bootstrap=False, max_depth=4, max_features=sqrt, min_samples_leaf=1, min_samples_split=2, n_estimators=41; total time=   0.1s\n",
      "[CV] END bootstrap=False, max_depth=4, max_features=sqrt, min_samples_leaf=1, min_samples_split=2, n_estimators=41; total time=   0.1s\n",
      "[CV] END bootstrap=False, max_depth=4, max_features=sqrt, min_samples_leaf=1, min_samples_split=2, n_estimators=56; total time=   0.2s\n",
      "[CV] END bootstrap=False, max_depth=4, max_features=sqrt, min_samples_leaf=1, min_samples_split=2, n_estimators=64; total time=   0.2s\n",
      "[CV] END bootstrap=False, max_depth=4, max_features=sqrt, min_samples_leaf=1, min_samples_split=2, n_estimators=80; total time=   0.2s\n",
      "[CV] END bootstrap=False, max_depth=4, max_features=sqrt, min_samples_leaf=1, min_samples_split=2, n_estimators=80; total time=   0.2s\n",
      "[CV] END bootstrap=False, max_depth=4, max_features=sqrt, min_samples_leaf=1, min_samples_split=5, n_estimators=41; total time=   0.1s\n",
      "[CV] END bootstrap=False, max_depth=4, max_features=sqrt, min_samples_leaf=1, min_samples_split=5, n_estimators=48; total time=   0.1s\n",
      "[CV] END bootstrap=False, max_depth=4, max_features=sqrt, min_samples_leaf=1, min_samples_split=5, n_estimators=64; total time=   0.2s\n",
      "[CV] END bootstrap=False, max_depth=4, max_features=sqrt, min_samples_leaf=1, min_samples_split=5, n_estimators=64; total time=   0.2s\n",
      "[CV] END bootstrap=False, max_depth=4, max_features=sqrt, min_samples_leaf=2, min_samples_split=2, n_estimators=10; total time=   0.0s\n",
      "[CV] END bootstrap=False, max_depth=4, max_features=sqrt, min_samples_leaf=2, min_samples_split=2, n_estimators=10; total time=   0.0s\n",
      "[CV] END bootstrap=False, max_depth=4, max_features=sqrt, min_samples_leaf=2, min_samples_split=2, n_estimators=17; total time=   0.1s\n",
      "[CV] END bootstrap=False, max_depth=4, max_features=sqrt, min_samples_leaf=2, min_samples_split=2, n_estimators=17; total time=   0.1s\n",
      "[CV] END bootstrap=False, max_depth=4, max_features=sqrt, min_samples_leaf=2, min_samples_split=2, n_estimators=33; total time=   0.1s\n",
      "[CV] END bootstrap=False, max_depth=4, max_features=sqrt, min_samples_leaf=2, min_samples_split=2, n_estimators=33; total time=   0.1s\n",
      "[CV] END bootstrap=False, max_depth=4, max_features=sqrt, min_samples_leaf=2, min_samples_split=2, n_estimators=56; total time=   0.2s\n",
      "[CV] END bootstrap=False, max_depth=4, max_features=sqrt, min_samples_leaf=2, min_samples_split=2, n_estimators=56; total time=   0.2s\n",
      "[CV] END bootstrap=False, max_depth=4, max_features=sqrt, min_samples_leaf=2, min_samples_split=2, n_estimators=72; total time=   0.2s\n",
      "[CV] END bootstrap=False, max_depth=4, max_features=sqrt, min_samples_leaf=2, min_samples_split=2, n_estimators=80; total time=   0.2s\n",
      "[CV] END bootstrap=False, max_depth=4, max_features=sqrt, min_samples_leaf=2, min_samples_split=5, n_estimators=25; total time=   0.1s\n",
      "[CV] END bootstrap=False, max_depth=4, max_features=sqrt, min_samples_leaf=2, min_samples_split=5, n_estimators=25; total time=   0.1s\n",
      "[CV] END bootstrap=False, max_depth=4, max_features=sqrt, min_samples_leaf=2, min_samples_split=5, n_estimators=41; total time=   0.1s\n",
      "[CV] END bootstrap=False, max_depth=4, max_features=sqrt, min_samples_leaf=2, min_samples_split=5, n_estimators=41; total time=   0.1s\n",
      "[CV] END bootstrap=False, max_depth=4, max_features=sqrt, min_samples_leaf=2, min_samples_split=5, n_estimators=56; total time=   0.2s\n",
      "[CV] END bootstrap=False, max_depth=4, max_features=sqrt, min_samples_leaf=2, min_samples_split=5, n_estimators=64; total time=   0.2s\n",
      "[CV] END bootstrap=False, max_depth=4, max_features=sqrt, min_samples_leaf=2, min_samples_split=5, n_estimators=80; total time=   0.2s\n",
      "[CV] END bootstrap=False, max_depth=4, max_features=sqrt, min_samples_leaf=2, min_samples_split=5, n_estimators=80; total time=   0.2s\n",
      "[CV] END .........................C=0.1, gamma=1, kernel=rbf; total time=   0.7s\n",
      "[CV] END ....................C=0.1, gamma=0.1, kernel=linear; total time=   0.4s\n",
      "[CV] END .......................C=0.1, gamma=0.1, kernel=rbf; total time=   0.9s\n",
      "[CV] END ......................C=0.1, gamma=0.01, kernel=rbf; total time=   1.1s\n",
      "[CV] END .....................C=0.1, gamma=0.001, kernel=rbf; total time=   0.8s\n",
      "[CV] END ...........................C=1, gamma=1, kernel=rbf; total time=   0.6s\n",
      "[CV] END ......................C=1, gamma=0.1, kernel=linear; total time=   0.5s\n",
      "[CV] END .........................C=1, gamma=0.1, kernel=rbf; total time=   0.5s\n",
      "[CV] END ........................C=1, gamma=0.01, kernel=rbf; total time=   0.7s\n",
      "[CV] END ....................C=1, gamma=0.001, kernel=linear; total time=   0.5s\n",
      "[CV] END .......................C=10, gamma=1, kernel=linear; total time=   0.7s\n",
      "[CV] END ..........................C=10, gamma=1, kernel=rbf; total time=   0.8s\n",
      "[CV] END .....................C=10, gamma=0.1, kernel=linear; total time=   0.7s\n",
      "[CV] END ........................C=10, gamma=0.1, kernel=rbf; total time=   0.6s\n",
      "[CV] END .......................C=10, gamma=0.01, kernel=rbf; total time=   0.6s\n",
      "[CV] END ...................C=10, gamma=0.001, kernel=linear; total time=   0.8s\n",
      "[CV] END ......................C=10, gamma=0.001, kernel=rbf; total time=   0.6s\n",
      "[CV] END .........................C=100, gamma=1, kernel=rbf; total time=   1.5s\n",
      "[CV] END .........................C=100, gamma=1, kernel=rbf; total time=   1.7s\n",
      "[CV] END .........................C=100, gamma=1, kernel=rbf; total time=   2.3s\n",
      "[CV] END bootstrap=False, max_depth=4, max_features=auto, min_samples_leaf=1, min_samples_split=5, n_estimators=64; total time=   0.2s\n",
      "[CV] END bootstrap=False, max_depth=4, max_features=auto, min_samples_leaf=2, min_samples_split=2, n_estimators=10; total time=   0.0s\n",
      "[CV] END bootstrap=False, max_depth=4, max_features=auto, min_samples_leaf=2, min_samples_split=2, n_estimators=10; total time=   0.0s\n",
      "[CV] END bootstrap=False, max_depth=4, max_features=auto, min_samples_leaf=2, min_samples_split=2, n_estimators=17; total time=   0.1s\n",
      "[CV] END bootstrap=False, max_depth=4, max_features=auto, min_samples_leaf=2, min_samples_split=2, n_estimators=17; total time=   0.1s\n",
      "[CV] END bootstrap=False, max_depth=4, max_features=auto, min_samples_leaf=2, min_samples_split=2, n_estimators=33; total time=   0.1s\n",
      "[CV] END bootstrap=False, max_depth=4, max_features=auto, min_samples_leaf=2, min_samples_split=2, n_estimators=33; total time=   0.1s\n",
      "[CV] END bootstrap=False, max_depth=4, max_features=auto, min_samples_leaf=2, min_samples_split=2, n_estimators=56; total time=   0.2s\n",
      "[CV] END bootstrap=False, max_depth=4, max_features=auto, min_samples_leaf=2, min_samples_split=2, n_estimators=56; total time=   0.2s\n",
      "[CV] END bootstrap=False, max_depth=4, max_features=auto, min_samples_leaf=2, min_samples_split=2, n_estimators=72; total time=   0.2s\n",
      "[CV] END bootstrap=False, max_depth=4, max_features=auto, min_samples_leaf=2, min_samples_split=2, n_estimators=80; total time=   0.2s\n",
      "[CV] END bootstrap=False, max_depth=4, max_features=auto, min_samples_leaf=2, min_samples_split=5, n_estimators=25; total time=   0.1s\n",
      "[CV] END bootstrap=False, max_depth=4, max_features=auto, min_samples_leaf=2, min_samples_split=5, n_estimators=25; total time=   0.1s\n",
      "[CV] END bootstrap=False, max_depth=4, max_features=auto, min_samples_leaf=2, min_samples_split=5, n_estimators=41; total time=   0.1s\n",
      "[CV] END bootstrap=False, max_depth=4, max_features=auto, min_samples_leaf=2, min_samples_split=5, n_estimators=41; total time=   0.1s\n",
      "[CV] END bootstrap=False, max_depth=4, max_features=auto, min_samples_leaf=2, min_samples_split=5, n_estimators=56; total time=   0.2s\n",
      "[CV] END bootstrap=False, max_depth=4, max_features=auto, min_samples_leaf=2, min_samples_split=5, n_estimators=64; total time=   0.2s\n",
      "[CV] END bootstrap=False, max_depth=4, max_features=auto, min_samples_leaf=2, min_samples_split=5, n_estimators=80; total time=   0.2s\n",
      "[CV] END bootstrap=False, max_depth=4, max_features=auto, min_samples_leaf=2, min_samples_split=5, n_estimators=80; total time=   0.2s\n",
      "[CV] END bootstrap=False, max_depth=4, max_features=sqrt, min_samples_leaf=1, min_samples_split=2, n_estimators=41; total time=   0.1s\n",
      "[CV] END bootstrap=False, max_depth=4, max_features=sqrt, min_samples_leaf=1, min_samples_split=2, n_estimators=48; total time=   0.1s\n",
      "[CV] END bootstrap=False, max_depth=4, max_features=sqrt, min_samples_leaf=1, min_samples_split=2, n_estimators=64; total time=   0.2s\n",
      "[CV] END bootstrap=False, max_depth=4, max_features=sqrt, min_samples_leaf=1, min_samples_split=2, n_estimators=64; total time=   0.2s\n",
      "[CV] END bootstrap=False, max_depth=4, max_features=sqrt, min_samples_leaf=1, min_samples_split=5, n_estimators=10; total time=   0.0s\n",
      "[CV] END bootstrap=False, max_depth=4, max_features=sqrt, min_samples_leaf=1, min_samples_split=5, n_estimators=10; total time=   0.0s\n",
      "[CV] END bootstrap=False, max_depth=4, max_features=sqrt, min_samples_leaf=1, min_samples_split=5, n_estimators=10; total time=   0.0s\n",
      "[CV] END bootstrap=False, max_depth=4, max_features=sqrt, min_samples_leaf=1, min_samples_split=5, n_estimators=17; total time=   0.1s\n",
      "[CV] END bootstrap=False, max_depth=4, max_features=sqrt, min_samples_leaf=1, min_samples_split=5, n_estimators=25; total time=   0.1s\n",
      "[CV] END bootstrap=False, max_depth=4, max_features=sqrt, min_samples_leaf=1, min_samples_split=5, n_estimators=25; total time=   0.1s\n",
      "[CV] END bootstrap=False, max_depth=4, max_features=sqrt, min_samples_leaf=1, min_samples_split=5, n_estimators=41; total time=   0.1s\n",
      "[CV] END bootstrap=False, max_depth=4, max_features=sqrt, min_samples_leaf=1, min_samples_split=5, n_estimators=41; total time=   0.1s\n",
      "[CV] END bootstrap=False, max_depth=4, max_features=sqrt, min_samples_leaf=1, min_samples_split=5, n_estimators=56; total time=   0.2s\n",
      "[CV] END bootstrap=False, max_depth=4, max_features=sqrt, min_samples_leaf=1, min_samples_split=5, n_estimators=64; total time=   0.2s\n",
      "[CV] END bootstrap=False, max_depth=4, max_features=sqrt, min_samples_leaf=1, min_samples_split=5, n_estimators=80; total time=   0.2s\n",
      "[CV] END bootstrap=False, max_depth=4, max_features=sqrt, min_samples_leaf=1, min_samples_split=5, n_estimators=80; total time=   0.2s\n",
      "[CV] END bootstrap=False, max_depth=4, max_features=sqrt, min_samples_leaf=2, min_samples_split=2, n_estimators=48; total time=   0.1s\n",
      "[CV] END bootstrap=False, max_depth=4, max_features=sqrt, min_samples_leaf=2, min_samples_split=2, n_estimators=48; total time=   0.1s\n",
      "[CV] END bootstrap=False, max_depth=4, max_features=sqrt, min_samples_leaf=2, min_samples_split=2, n_estimators=72; total time=   0.2s\n",
      "[CV] END bootstrap=False, max_depth=4, max_features=sqrt, min_samples_leaf=2, min_samples_split=2, n_estimators=72; total time=   0.2s\n",
      "[CV] END bootstrap=False, max_depth=4, max_features=sqrt, min_samples_leaf=2, min_samples_split=5, n_estimators=10; total time=   0.0s\n",
      "[CV] END bootstrap=False, max_depth=4, max_features=sqrt, min_samples_leaf=2, min_samples_split=5, n_estimators=17; total time=   0.1s\n",
      "[CV] END bootstrap=False, max_depth=4, max_features=sqrt, min_samples_leaf=2, min_samples_split=5, n_estimators=25; total time=   0.1s\n",
      "[CV] END bootstrap=False, max_depth=4, max_features=sqrt, min_samples_leaf=2, min_samples_split=5, n_estimators=33; total time=   0.1s\n",
      "[CV] END bootstrap=False, max_depth=4, max_features=sqrt, min_samples_leaf=2, min_samples_split=5, n_estimators=41; total time=   0.1s\n",
      "[CV] END bootstrap=False, max_depth=4, max_features=sqrt, min_samples_leaf=2, min_samples_split=5, n_estimators=48; total time=   0.1s\n",
      "[CV] END bootstrap=False, max_depth=4, max_features=sqrt, min_samples_leaf=2, min_samples_split=5, n_estimators=64; total time=   0.2s\n",
      "[CV] END bootstrap=False, max_depth=4, max_features=sqrt, min_samples_leaf=2, min_samples_split=5, n_estimators=64; total time=   0.2s\n",
      "[CV] END ......................C=0.1, gamma=1, kernel=linear; total time=   0.4s\n",
      "[CV] END .........................C=0.1, gamma=1, kernel=rbf; total time=   0.7s\n",
      "[CV] END .......................C=0.1, gamma=0.1, kernel=rbf; total time=   0.8s\n",
      "[CV] END ...................C=0.1, gamma=0.01, kernel=linear; total time=   0.6s\n",
      "[CV] END ..................C=0.1, gamma=0.001, kernel=linear; total time=   0.6s\n",
      "[CV] END .....................C=0.1, gamma=0.001, kernel=rbf; total time=   0.7s\n",
      "[CV] END ........................C=1, gamma=1, kernel=linear; total time=   0.4s\n",
      "[CV] END ......................C=1, gamma=0.1, kernel=linear; total time=   0.4s\n",
      "[CV] END ......................C=1, gamma=0.1, kernel=linear; total time=   0.4s\n",
      "[CV] END .....................C=1, gamma=0.01, kernel=linear; total time=   0.4s\n",
      "[CV] END ........................C=1, gamma=0.01, kernel=rbf; total time=   0.7s\n",
      "[CV] END .......................C=1, gamma=0.001, kernel=rbf; total time=   0.7s\n",
      "[CV] END .......................C=10, gamma=1, kernel=linear; total time=   0.8s\n",
      "[CV] END ..........................C=10, gamma=1, kernel=rbf; total time=   0.8s\n",
      "[CV] END ........................C=10, gamma=0.1, kernel=rbf; total time=   0.6s\n",
      "[CV] END ....................C=10, gamma=0.01, kernel=linear; total time=   0.7s\n",
      "[CV] END ...................C=10, gamma=0.001, kernel=linear; total time=   0.7s\n",
      "[CV] END ......................C=10, gamma=0.001, kernel=rbf; total time=   0.7s\n",
      "[CV] END ......................C=100, gamma=1, kernel=linear; total time=   9.1s\n",
      "[CV] END ....................C=100, gamma=0.1, kernel=linear; total time=  25.7s\n",
      "[CV] END .......................C=100, gamma=0.1, kernel=rbf; total time=   1.2s\n",
      "[CV] END ...................C=100, gamma=0.01, kernel=linear; total time=  35.0s\n",
      "[CV] END .....................C=100, gamma=0.001, kernel=rbf; total time=   0.5s"
     ]
    }
   ],
   "source": [
    "svm_best_clf = svm_clf.fit(X_train,y_train)"
   ]
  },
  {
   "cell_type": "code",
   "execution_count": 106,
   "id": "76c541d5",
   "metadata": {
    "execution": {
     "iopub.execute_input": "2022-09-07T16:36:06.239034Z",
     "iopub.status.busy": "2022-09-07T16:36:06.238378Z",
     "iopub.status.idle": "2022-09-07T16:36:06.244990Z",
     "shell.execute_reply": "2022-09-07T16:36:06.244074Z"
    },
    "papermill": {
     "duration": 0.064636,
     "end_time": "2022-09-07T16:36:06.247070",
     "exception": false,
     "start_time": "2022-09-07T16:36:06.182434",
     "status": "completed"
    },
    "tags": []
   },
   "outputs": [
    {
     "data": {
      "text/plain": [
       "{'C': 100, 'gamma': 0.1, 'kernel': 'rbf'}"
      ]
     },
     "execution_count": 106,
     "metadata": {},
     "output_type": "execute_result"
    }
   ],
   "source": [
    "svm_best_clf.best_params_"
   ]
  },
  {
   "cell_type": "code",
   "execution_count": 107,
   "id": "b103de46",
   "metadata": {
    "execution": {
     "iopub.execute_input": "2022-09-07T16:36:06.358743Z",
     "iopub.status.busy": "2022-09-07T16:36:06.358315Z",
     "iopub.status.idle": "2022-09-07T16:36:06.821389Z",
     "shell.execute_reply": "2022-09-07T16:36:06.819905Z"
    },
    "papermill": {
     "duration": 0.523433,
     "end_time": "2022-09-07T16:36:06.824211",
     "exception": false,
     "start_time": "2022-09-07T16:36:06.300778",
     "status": "completed"
    },
    "tags": []
   },
   "outputs": [
    {
     "name": "stdout",
     "output_type": "stream",
     "text": [
      "0.8707684040838259 0.849624060150376\n"
     ]
    }
   ],
   "source": [
    "print(svm_best_clf.score(X_train,y_train),\n",
    "svm_best_clf.score(X_test,y_test))"
   ]
  },
  {
   "cell_type": "markdown",
   "id": "610c2f73",
   "metadata": {
    "papermill": {
     "duration": 0.057061,
     "end_time": "2022-09-07T16:36:06.938742",
     "exception": false,
     "start_time": "2022-09-07T16:36:06.881681",
     "status": "completed"
    },
    "tags": []
   },
   "source": [
    "### XGBoost"
   ]
  },
  {
   "cell_type": "markdown",
   "id": "d1e95b85",
   "metadata": {
    "papermill": {
     "duration": 0.05456,
     "end_time": "2022-09-07T16:36:07.049439",
     "exception": false,
     "start_time": "2022-09-07T16:36:06.994879",
     "status": "completed"
    },
    "tags": []
   },
   "source": [
    "In the case of the XGBoost model, GridSearchCV was run sequentially on subsets of parameter options,in order to optimize parameters in a short amount of time. When applying an XGBoost model on imbalanced data, it is particularly important to choose the best value for the scale_post_weight parameter."
   ]
  },
  {
   "cell_type": "code",
   "execution_count": 108,
   "id": "61654947",
   "metadata": {
    "execution": {
     "iopub.execute_input": "2022-09-07T16:36:07.160783Z",
     "iopub.status.busy": "2022-09-07T16:36:07.160061Z",
     "iopub.status.idle": "2022-09-07T16:36:07.165528Z",
     "shell.execute_reply": "2022-09-07T16:36:07.164743Z"
    },
    "papermill": {
     "duration": 0.063591,
     "end_time": "2022-09-07T16:36:07.167786",
     "exception": false,
     "start_time": "2022-09-07T16:36:07.104195",
     "status": "completed"
    },
    "tags": []
   },
   "outputs": [],
   "source": [
    "## First iteration\n",
    "xgb_param_grid1 = {\n",
    "    'max_depth':[3,6,9,12,15],\n",
    "    'learning_rate':[0.1,0.01,0.05],\n",
    "    'gamma':[0,0.25,1],\n",
    "    'reg_lambda':[0,1.0,10.0],\n",
    "    'scale_pos_weight':[1,3,5]\n",
    "} \n",
    "#OUTPUT                  #OUTPUT INTERPRETATION\n",
    "#{'scale_pos_weight': 1, --Should the value be lower than 1?\n",
    " #'reg_lambda': 1.0,     --Best value for reg_lambda\n",
    " #'max_depth': 12,       --Best value for max_depth\n",
    " #'learning_rate': 0.05, --Should the value be higher than 0.05?\n",
    " #'gamma': 1}            --Should the value be higher than 1?"
   ]
  },
  {
   "cell_type": "code",
   "execution_count": 109,
   "id": "86f0c695",
   "metadata": {
    "execution": {
     "iopub.execute_input": "2022-09-07T16:36:07.281605Z",
     "iopub.status.busy": "2022-09-07T16:36:07.280756Z",
     "iopub.status.idle": "2022-09-07T16:36:07.285152Z",
     "shell.execute_reply": "2022-09-07T16:36:07.284252Z"
    },
    "papermill": {
     "duration": 0.064104,
     "end_time": "2022-09-07T16:36:07.287301",
     "exception": false,
     "start_time": "2022-09-07T16:36:07.223197",
     "status": "completed"
    },
    "tags": []
   },
   "outputs": [],
   "source": [
    "#Method for trying each iteration, until optimal parameters were found\n",
    "\n",
    "#xgb_clf = GridSearchCV(xgb_classifier,xgb_param_gridn,cv=3,verbose=2,n_jobs=4)\n",
    "#xgb_best_clf = xgb_clf.fit(X_train,y_train)"
   ]
  },
  {
   "cell_type": "code",
   "execution_count": 110,
   "id": "96f7732d",
   "metadata": {
    "execution": {
     "iopub.execute_input": "2022-09-07T16:36:07.416441Z",
     "iopub.status.busy": "2022-09-07T16:36:07.415488Z",
     "iopub.status.idle": "2022-09-07T16:36:07.424140Z",
     "shell.execute_reply": "2022-09-07T16:36:07.422181Z"
    },
    "papermill": {
     "duration": 0.083882,
     "end_time": "2022-09-07T16:36:07.428281",
     "exception": false,
     "start_time": "2022-09-07T16:36:07.344399",
     "status": "completed"
    },
    "tags": []
   },
   "outputs": [],
   "source": [
    "## Second Iteration\n",
    "xgb_param_grid2 = {\n",
    "    'max_depth':[12],\n",
    "    'learning_rate':[0.05,0.1,0.15,0.2],\n",
    "    'gamma':[1,1.25,1.5],\n",
    "    'reg_lambda':[1],\n",
    "    'scale_pos_weight':[0.83,0.84,0.85,0.86,0.87]\n",
    "} \n",
    "#OUTPUT                      #OUTPUT INTERPRETATION\n",
    "#{'scale_pos_weight': 0.86,  --Best value for scale_pos_weight\n",
    " #'reg_lambda': 1,         \n",
    " #'max_depth': 12,\n",
    " #'learning_rate': 0.05,     --Should the value be somewhere between 0.05 and 1?\n",
    " #'gamma': 1.5}              --Should the value be higher than 1.5?"
   ]
  },
  {
   "cell_type": "code",
   "execution_count": 111,
   "id": "3cc7f7e2",
   "metadata": {
    "execution": {
     "iopub.execute_input": "2022-09-07T16:36:07.541249Z",
     "iopub.status.busy": "2022-09-07T16:36:07.540375Z",
     "iopub.status.idle": "2022-09-07T16:36:07.546258Z",
     "shell.execute_reply": "2022-09-07T16:36:07.545290Z"
    },
    "papermill": {
     "duration": 0.063843,
     "end_time": "2022-09-07T16:36:07.548562",
     "exception": false,
     "start_time": "2022-09-07T16:36:07.484719",
     "status": "completed"
    },
    "tags": []
   },
   "outputs": [],
   "source": [
    "## ROUND N - CHOSEN PARAMETER GRID\n",
    "xgb_param_gridn = {\n",
    "    'max_depth':[12],\n",
    "    'learning_rate':[0.08],\n",
    "    'gamma':[2.5],\n",
    "    'reg_lambda':[1],\n",
    "    'scale_pos_weight':[0.86]\n",
    "} "
   ]
  },
  {
   "cell_type": "code",
   "execution_count": 112,
   "id": "3f28b72a",
   "metadata": {
    "execution": {
     "iopub.execute_input": "2022-09-07T16:36:07.661090Z",
     "iopub.status.busy": "2022-09-07T16:36:07.659974Z",
     "iopub.status.idle": "2022-09-07T16:36:07.666572Z",
     "shell.execute_reply": "2022-09-07T16:36:07.665756Z"
    },
    "papermill": {
     "duration": 0.065644,
     "end_time": "2022-09-07T16:36:07.668840",
     "exception": false,
     "start_time": "2022-09-07T16:36:07.603196",
     "status": "completed"
    },
    "tags": []
   },
   "outputs": [],
   "source": [
    "xgb_final_clf = xgb.XGBClassifier(seed=101,\n",
    "                                  objective='binary:logistic',\n",
    "                                  gamma=2.5,\n",
    "                                  learn_rate=0.08,\n",
    "                                  max_depth=12,\n",
    "                                  reg_lambda=1,\n",
    "                                  scale_pos_weight=0.86,\n",
    "                                  subsample=0.9,\n",
    "                                  colsample_bytree=0.5)"
   ]
  },
  {
   "cell_type": "code",
   "execution_count": 113,
   "id": "14ea5a8b",
   "metadata": {
    "execution": {
     "iopub.execute_input": "2022-09-07T16:36:07.780938Z",
     "iopub.status.busy": "2022-09-07T16:36:07.779800Z",
     "iopub.status.idle": "2022-09-07T16:36:08.099501Z",
     "shell.execute_reply": "2022-09-07T16:36:08.098041Z"
    },
    "papermill": {
     "duration": 0.378769,
     "end_time": "2022-09-07T16:36:08.102347",
     "exception": false,
     "start_time": "2022-09-07T16:36:07.723578",
     "status": "completed"
    },
    "tags": []
   },
   "outputs": [
    {
     "name": "stdout",
     "output_type": "stream",
     "text": [
      "[16:36:07] WARNING: ../src/learner.cc:627: \n",
      "Parameters: { \"learn_rate\" } might not be used.\n",
      "\n",
      "  This could be a false alarm, with some parameters getting used by language bindings but\n",
      "  then being mistakenly passed down to XGBoost core, or some parameter actually being used\n",
      "  but getting flagged wrongly here. Please open an issue if you find any such cases.\n",
      "\n",
      "\n",
      "[0]\tvalidation_0-aucpr:0.80050\n",
      "[1]\tvalidation_0-aucpr:0.80458\n",
      "[2]\tvalidation_0-aucpr:0.81723\n",
      "[3]\tvalidation_0-aucpr:0.82174\n",
      "[4]\tvalidation_0-aucpr:0.82419\n",
      "[5]\tvalidation_0-aucpr:0.82285\n",
      "[6]\tvalidation_0-aucpr:0.82300\n",
      "[7]\tvalidation_0-aucpr:0.82211\n",
      "[8]\tvalidation_0-aucpr:0.82539\n",
      "[9]\tvalidation_0-aucpr:0.82440\n",
      "[10]\tvalidation_0-aucpr:0.82534\n",
      "[11]\tvalidation_0-aucpr:0.82534\n",
      "[12]\tvalidation_0-aucpr:0.82623\n",
      "[13]\tvalidation_0-aucpr:0.82680\n",
      "[14]\tvalidation_0-aucpr:0.82277\n"
     ]
    },
    {
     "name": "stderr",
     "output_type": "stream",
     "text": [
      "/opt/conda/lib/python3.7/site-packages/xgboost/sklearn.py:797: UserWarning: `eval_metric` in `fit` method is deprecated for better compatibility with scikit-learn, use `eval_metric` in constructor or`set_params` instead.\n",
      "  UserWarning,\n",
      "/opt/conda/lib/python3.7/site-packages/xgboost/sklearn.py:797: UserWarning: `early_stopping_rounds` in `fit` method is deprecated for better compatibility with scikit-learn, use `early_stopping_rounds` in constructor or`set_params` instead.\n",
      "  UserWarning,\n"
     ]
    },
    {
     "name": "stdout",
     "output_type": "stream",
     "text": [
      "[15]\tvalidation_0-aucpr:0.82229\n",
      "[16]\tvalidation_0-aucpr:0.82174\n",
      "[17]\tvalidation_0-aucpr:0.82191\n",
      "[18]\tvalidation_0-aucpr:0.82171\n",
      "[19]\tvalidation_0-aucpr:0.82153\n",
      "[20]\tvalidation_0-aucpr:0.82116\n",
      "[21]\tvalidation_0-aucpr:0.82232\n",
      "[22]\tvalidation_0-aucpr:0.82112\n"
     ]
    },
    {
     "data": {
      "text/plain": [
       "XGBClassifier(base_score=0.5, booster='gbtree', callbacks=None,\n",
       "              colsample_bylevel=1, colsample_bynode=1, colsample_bytree=0.5,\n",
       "              early_stopping_rounds=None, enable_categorical=False,\n",
       "              eval_metric=None, gamma=2.5, gpu_id=-1, grow_policy='depthwise',\n",
       "              importance_type=None, interaction_constraints='', learn_rate=0.08,\n",
       "              learning_rate=0.300000012, max_bin=256, max_cat_to_onehot=4,\n",
       "              max_delta_step=0, max_depth=12, max_leaves=0, min_child_weight=1,\n",
       "              missing=nan, monotone_constraints='()', n_estimators=100,\n",
       "              n_jobs=0, num_parallel_tree=1, predictor='auto', random_state=101,\n",
       "              reg_alpha=0, ...)"
      ]
     },
     "execution_count": 113,
     "metadata": {},
     "output_type": "execute_result"
    }
   ],
   "source": [
    "xgb_final_clf.fit(X_train,\n",
    "                  y_train,\n",
    "                  verbose=True,\n",
    "                  early_stopping_rounds=10,\n",
    "                  eval_metric='aucpr',\n",
    "                  eval_set=[(X_test,y_test)])"
   ]
  },
  {
   "cell_type": "code",
   "execution_count": 114,
   "id": "9ba577db",
   "metadata": {
    "execution": {
     "iopub.execute_input": "2022-09-07T16:36:08.228993Z",
     "iopub.status.busy": "2022-09-07T16:36:08.228484Z",
     "iopub.status.idle": "2022-09-07T16:36:08.454105Z",
     "shell.execute_reply": "2022-09-07T16:36:08.452836Z"
    },
    "papermill": {
     "duration": 0.28702,
     "end_time": "2022-09-07T16:36:08.456603",
     "exception": false,
     "start_time": "2022-09-07T16:36:08.169583",
     "status": "completed"
    },
    "tags": []
   },
   "outputs": [
    {
     "name": "stderr",
     "output_type": "stream",
     "text": [
      "/opt/conda/lib/python3.7/site-packages/sklearn/utils/deprecation.py:87: FutureWarning: Function plot_confusion_matrix is deprecated; Function `plot_confusion_matrix` is deprecated in 1.0 and will be removed in 1.2. Use one of the class methods: ConfusionMatrixDisplay.from_predictions or ConfusionMatrixDisplay.from_estimator.\n",
      "  warnings.warn(msg, category=FutureWarning)\n"
     ]
    },
    {
     "data": {
      "text/plain": [
       "<sklearn.metrics._plot.confusion_matrix.ConfusionMatrixDisplay at 0x7f794bff0350>"
      ]
     },
     "execution_count": 114,
     "metadata": {},
     "output_type": "execute_result"
    },
    {
     "data": {
      "image/png": "[encoded data removed]",
      "text/plain": [
       "<Figure size 432x288 with 2 Axes>"
      ]
     },
     "metadata": {
      "needs_background": "light"
     },
     "output_type": "display_data"
    }
   ],
   "source": [
    "plot_confusion_matrix(xgb_final_clf,\n",
    "                      X_test,\n",
    "                      y_test,\n",
    "                      values_format='d',\n",
    "                      display_labels=['Did not leave','Left'])"
   ]
  },
  {
   "cell_type": "code",
   "execution_count": 115,
   "id": "80de2f28",
   "metadata": {
    "execution": {
     "iopub.execute_input": "2022-09-07T16:36:08.577388Z",
     "iopub.status.busy": "2022-09-07T16:36:08.576250Z",
     "iopub.status.idle": "2022-09-07T16:36:08.599070Z",
     "shell.execute_reply": "2022-09-07T16:36:08.597619Z"
    },
    "papermill": {
     "duration": 0.085415,
     "end_time": "2022-09-07T16:36:08.601659",
     "exception": false,
     "start_time": "2022-09-07T16:36:08.516244",
     "status": "completed"
    },
    "tags": []
   },
   "outputs": [
    {
     "name": "stdout",
     "output_type": "stream",
     "text": [
      "0.868081676518001 0.8528464017185822\n"
     ]
    }
   ],
   "source": [
    "print(xgb_final_clf.score(X_train,y_train),\n",
    "xgb_final_clf.score(X_test,y_test))"
   ]
  },
  {
   "cell_type": "code",
   "execution_count": 116,
   "id": "377abfdf",
   "metadata": {
    "execution": {
     "iopub.execute_input": "2022-09-07T16:36:08.726462Z",
     "iopub.status.busy": "2022-09-07T16:36:08.725760Z",
     "iopub.status.idle": "2022-09-07T16:36:08.741578Z",
     "shell.execute_reply": "2022-09-07T16:36:08.740532Z"
    },
    "papermill": {
     "duration": 0.081017,
     "end_time": "2022-09-07T16:36:08.744143",
     "exception": false,
     "start_time": "2022-09-07T16:36:08.663126",
     "status": "completed"
    },
    "tags": []
   },
   "outputs": [],
   "source": [
    "y_pred_xgb = xgb_final_clf.predict(X_test)"
   ]
  },
  {
   "cell_type": "code",
   "execution_count": 117,
   "id": "decd3821",
   "metadata": {
    "execution": {
     "iopub.execute_input": "2022-09-07T16:36:08.862531Z",
     "iopub.status.busy": "2022-09-07T16:36:08.861477Z",
     "iopub.status.idle": "2022-09-07T16:36:08.874515Z",
     "shell.execute_reply": "2022-09-07T16:36:08.873074Z"
    },
    "papermill": {
     "duration": 0.074854,
     "end_time": "2022-09-07T16:36:08.877272",
     "exception": false,
     "start_time": "2022-09-07T16:36:08.802418",
     "status": "completed"
    },
    "tags": []
   },
   "outputs": [
    {
     "name": "stdout",
     "output_type": "stream",
     "text": [
      "              precision    recall  f1-score   support\n",
      "\n",
      "         0.0       0.85      0.96      0.90       639\n",
      "         1.0       0.88      0.62      0.72       292\n",
      "\n",
      "    accuracy                           0.85       931\n",
      "   macro avg       0.86      0.79      0.81       931\n",
      "weighted avg       0.86      0.85      0.84       931\n",
      "\n"
     ]
    }
   ],
   "source": [
    "print(classification_report(y_test, y_pred_xgb))"
   ]
  },
  {
   "cell_type": "markdown",
   "id": "03c2b545",
   "metadata": {
    "papermill": {
     "duration": 0.0596,
     "end_time": "2022-09-07T16:36:08.993394",
     "exception": false,
     "start_time": "2022-09-07T16:36:08.933794",
     "status": "completed"
    },
    "tags": []
   },
   "source": [
    "## Adaboost"
   ]
  },
  {
   "cell_type": "code",
   "execution_count": 118,
   "id": "74b3060d",
   "metadata": {
    "execution": {
     "iopub.execute_input": "2022-09-07T16:36:09.113425Z",
     "iopub.status.busy": "2022-09-07T16:36:09.113005Z",
     "iopub.status.idle": "2022-09-07T16:36:09.118928Z",
     "shell.execute_reply": "2022-09-07T16:36:09.117962Z"
    },
    "papermill": {
     "duration": 0.067336,
     "end_time": "2022-09-07T16:36:09.121236",
     "exception": false,
     "start_time": "2022-09-07T16:36:09.053900",
     "status": "completed"
    },
    "tags": []
   },
   "outputs": [],
   "source": [
    "adb_param_grid = {\n",
    "    'n_estimators':[20,30,40,50,60,70,80,90,100],\n",
    "    'learning_rate':[(0.97 + x / 100) for x in range(0, 8)],\n",
    "    'algorithm':['SAMME','SAMME.R']\n",
    "} "
   ]
  },
  {
   "cell_type": "code",
   "execution_count": 119,
   "id": "a9e02e34",
   "metadata": {
    "execution": {
     "iopub.execute_input": "2022-09-07T16:36:09.237422Z",
     "iopub.status.busy": "2022-09-07T16:36:09.237006Z",
     "iopub.status.idle": "2022-09-07T16:36:09.242187Z",
     "shell.execute_reply": "2022-09-07T16:36:09.241114Z"
    },
    "papermill": {
     "duration": 0.065667,
     "end_time": "2022-09-07T16:36:09.244244",
     "exception": false,
     "start_time": "2022-09-07T16:36:09.178577",
     "status": "completed"
    },
    "tags": []
   },
   "outputs": [],
   "source": [
    "adb_clf = GridSearchCV(adb_classifier,adb_param_grid,cv=5,verbose=2,n_jobs=4)"
   ]
  },
  {
   "cell_type": "code",
   "execution_count": 120,
   "id": "c9798c34",
   "metadata": {
    "execution": {
     "iopub.execute_input": "2022-09-07T16:36:09.360999Z",
     "iopub.status.busy": "2022-09-07T16:36:09.360086Z",
     "iopub.status.idle": "2022-09-07T16:37:00.847056Z",
     "shell.execute_reply": "2022-09-07T16:37:00.845932Z"
    },
    "papermill": {
     "duration": 51.547869,
     "end_time": "2022-09-07T16:37:00.849902",
     "exception": false,
     "start_time": "2022-09-07T16:36:09.302033",
     "status": "completed"
    },
    "tags": []
   },
   "outputs": [
    {
     "name": "stdout",
     "output_type": "stream",
     "text": [
      "Fitting 5 folds for each of 144 candidates, totalling 720 fits\n",
      "\n",
      "[CV] END ......................C=0.1, gamma=1, kernel=linear; total time=   0.4s\n",
      "[CV] END ....................C=0.1, gamma=0.1, kernel=linear; total time=   0.4s\n",
      "[CV] END ....................C=0.1, gamma=0.1, kernel=linear; total time=   0.4s\n",
      "[CV] END ...................C=0.1, gamma=0.01, kernel=linear; total time=   0.5s\n",
      "[CV] END ...................C=0.1, gamma=0.01, kernel=linear; total time=   0.5s\n",
      "[CV] END ......................C=0.1, gamma=0.01, kernel=rbf; total time=   0.8s\n",
      "[CV] END ..................C=0.1, gamma=0.001, kernel=linear; total time=   0.4s\n",
      "[CV] END .....................C=0.1, gamma=0.001, kernel=rbf; total time=   0.8s\n",
      "[CV] END ...........................C=1, gamma=1, kernel=rbf; total time=   0.6s\n",
      "[CV] END .........................C=1, gamma=0.1, kernel=rbf; total time=   0.5s\n",
      "[CV] END .....................C=1, gamma=0.01, kernel=linear; total time=   0.5s\n",
      "[CV] END ........................C=1, gamma=0.01, kernel=rbf; total time=   0.7s\n",
      "[CV] END .......................C=1, gamma=0.001, kernel=rbf; total time=   0.8s\n",
      "[CV] END .......................C=10, gamma=1, kernel=linear; total time=   0.7s\n",
      "[CV] END .....................C=10, gamma=0.1, kernel=linear; total time=   0.7s\n",
      "[CV] END ........................C=10, gamma=0.1, kernel=rbf; total time=   0.6s\n",
      "[CV] END ....................C=10, gamma=0.01, kernel=linear; total time=   0.8s\n",
      "[CV] END .......................C=10, gamma=0.01, kernel=rbf; total time=   0.5s\n",
      "[CV] END ......................C=10, gamma=0.001, kernel=rbf; total time=   0.7s\n",
      "[CV] END ......................C=100, gamma=1, kernel=linear; total time=  25.7s\n",
      "[CV] END ....................C=100, gamma=0.1, kernel=linear; total time=   8.9s\n",
      "[CV] END .......................C=100, gamma=0.1, kernel=rbf; total time=   1.5s\n",
      "[CV] END ...................C=100, gamma=0.01, kernel=linear; total time=  25.5s\n",
      "[CV] END ..................C=100, gamma=0.001, kernel=linear; total time=   9.0s\n",
      "[CV] END .....................C=100, gamma=0.001, kernel=rbf; total time=   0.6s\n",
      "[CV] END algorithm=SAMME, learning_rate=0.97, n_estimators=20; total time=   0.1s\n",
      "[CV] END algorithm=SAMME, learning_rate=0.97, n_estimators=20; total time=   0.1s\n",
      "[CV] END algorithm=SAMME, learning_rate=0.97, n_estimators=30; total time=   0.1s\n",
      "[CV] END algorithm=SAMME, learning_rate=0.97, n_estimators=30; total time=   0.1s\n",
      "[CV] END algorithm=SAMME, learning_rate=0.97, n_estimators=50; total time=   0.2s\n",
      "[CV] END algorithm=SAMME, learning_rate=0.97, n_estimators=50; total time=   0.2s\n",
      "[CV] END algorithm=SAMME, learning_rate=0.97, n_estimators=60; total time=   0.3s\n",
      "[CV] END algorithm=SAMME, learning_rate=0.97, n_estimators=70; total time=   0.3s\n",
      "[CV] END algorithm=SAMME, learning_rate=0.97, n_estimators=80; total time=   0.3s\n",
      "[CV] END algorithm=SAMME, learning_rate=0.97, n_estimators=80; total time=   0.3s\n",
      "[CV] END algorithm=SAMME, learning_rate=0.97, n_estimators=100; total time=   0.4s\n",
      "[CV] END algorithm=SAMME, learning_rate=0.97, n_estimators=100; total time=   0.4s\n",
      "[CV] END algorithm=SAMME, learning_rate=0.98, n_estimators=30; total time=   0.1s\n",
      "[CV] END algorithm=SAMME, learning_rate=0.98, n_estimators=30; total time=   0.1s\n",
      "[CV] END algorithm=SAMME, learning_rate=0.98, n_estimators=40; total time=   0.2s\n",
      "[CV] END algorithm=SAMME, learning_rate=0.98, n_estimators=40; total time=   0.2s\n",
      "[CV] END algorithm=SAMME, learning_rate=0.98, n_estimators=60; total time=   0.3s\n",
      "[CV] END algorithm=SAMME, learning_rate=0.98, n_estimators=60; total time=   0.2s\n",
      "[CV] END algorithm=SAMME, learning_rate=0.98, n_estimators=70; total time=   0.3s\n",
      "[CV] END algorithm=SAMME, learning_rate=0.98, n_estimators=80; total time=   0.3s\n",
      "[CV] END algorithm=SAMME, learning_rate=0.98, n_estimators=90; total time=   0.4s\n",
      "[CV] END algorithm=SAMME, learning_rate=0.98, n_estimators=90; total time=   0.4s\n",
      "[CV] END algorithm=SAMME, learning_rate=0.99, n_estimators=20; total time=   0.1s\n",
      "[CV] END algorithm=SAMME, learning_rate=0.99, n_estimators=20; total time=   0.1s\n",
      "[CV] END algorithm=SAMME, learning_rate=0.99, n_estimators=20; total time=   0.1s\n",
      "[CV] END algorithm=SAMME, learning_rate=0.99, n_estimators=20; total time=   0.1s\n",
      "[CV] END algorithm=SAMME, learning_rate=0.99, n_estimators=30; total time=   0.1s\n",
      "[CV] END algorithm=SAMME, learning_rate=0.99, n_estimators=30; total time=   0.1s\n",
      "[CV] END algorithm=SAMME, learning_rate=0.99, n_estimators=40; total time=   0.2s\n",
      "[CV] END algorithm=SAMME, learning_rate=0.99, n_estimators=40; total time=   0.2s\n",
      "[CV] END algorithm=SAMME, learning_rate=0.99, n_estimators=60; total time=   0.3s\n",
      "[CV] END algorithm=SAMME, learning_rate=0.99, n_estimators=60; total time=   0.3s\n",
      "[CV] END algorithm=SAMME, learning_rate=0.99, n_estimators=70; total time=   0.4s\n",
      "[CV] END algorithm=SAMME, learning_rate=0.99, n_estimators=70; total time=   0.4s\n",
      "[CV] END algorithm=SAMME, learning_rate=0.99, n_estimators=90; total time=   0.4s\n",
      "[CV] END algorithm=SAMME, learning_rate=0.99, n_estimators=90; total time=   0.4s\n",
      "[CV] END algorithm=SAMME, learning_rate=0.99, n_estimators=100; total time=   0.4s\n",
      "[CV] END algorithm=SAMME, learning_rate=1.0, n_estimators=20; total time=   0.1s\n",
      "[CV] END algorithm=SAMME, learning_rate=1.0, n_estimators=20; total time=   0.1s\n",
      "[CV] END algorithm=SAMME, learning_rate=1.0, n_estimators=20; total time=   0.1s\n",
      "[CV] END algorithm=SAMME, learning_rate=1.0, n_estimators=30; total time=   0.1s\n",
      "[CV] END algorithm=SAMME, learning_rate=1.0, n_estimators=40; total time=   0.2s\n",
      "[CV] END algorithm=SAMME, learning_rate=1.0, n_estimators=50; total time=   0.2s\n",
      "[CV] END algorithm=SAMME, learning_rate=1.0, n_estimators=50; total time=   0.2s\n",
      "[CV] END algorithm=SAMME, learning_rate=1.0, n_estimators=70; total time=   0.3s\n",
      "[CV] END algorithm=SAMME, learning_rate=1.0, n_estimators=70; total time=   0.3s\n",
      "[CV] END algorithm=SAMME, learning_rate=1.0, n_estimators=80; total time=   0.3s\n",
      "[CV] END algorithm=SAMME, learning_rate=1.0, n_estimators=80; total time=   0.3s\n",
      "[CV] END algorithm=SAMME, learning_rate=1.0, n_estimators=100; total time=   0.4s\n",
      "[CV] END algorithm=SAMME, learning_rate=1.0, n_estimators=100; total time=   0.4s\n",
      "[CV] END algorithm=SAMME, learning_rate=1.01, n_estimators=30; total time=   0.1s\n",
      "[CV] END algorithm=SAMME, learning_rate=1.01, n_estimators=30; total time=   0.1s\n",
      "[CV] END algorithm=SAMME, learning_rate=1.01, n_estimators=50; total time=   0.2s\n",
      "[CV] END algorithm=SAMME, learning_rate=1.01, n_estimators=50; total time=   0.2s\n",
      "[CV] END algorithm=SAMME, learning_rate=1.01, n_estimators=60; total time=   0.3s\n",
      "[CV] END algorithm=SAMME, learning_rate=1.01, n_estimators=70; total time=   0.3s\n",
      "[CV] END algorithm=SAMME, learning_rate=1.01, n_estimators=80; total time=   0.3s\n",
      "[CV] END algorithm=SAMME, learning_rate=1.01, n_estimators=80; total time=   0.3s\n",
      "[CV] END algorithm=SAMME, learning_rate=1.01, n_estimators=100; total time=   0.4s\n",
      "[CV] END algorithm=SAMME, learning_rate=1.01, n_estimators=100; total time=   0.4s\n",
      "[CV] END algorithm=SAMME, learning_rate=1.02, n_estimators=30; total time=   0.1s\n",
      "[CV] END algorithm=SAMME, learning_rate=1.02, n_estimators=30; total time=   0.1s\n",
      "[CV] END algorithm=SAMME, learning_rate=1.02, n_estimators=40; total time=   0.2s\n",
      "[CV] END algorithm=SAMME, learning_rate=1.02, n_estimators=40; total time=   0.2s\n",
      "[CV] END algorithm=SAMME, learning_rate=1.02, n_estimators=60; total time=   0.3s\n",
      "[CV] END algorithm=SAMME, learning_rate=1.02, n_estimators=60; total time=   0.3s\n",
      "[CV] END algorithm=SAMME, learning_rate=1.02, n_estimators=70; total time=   0.3s\n",
      "[CV] END algorithm=SAMME, learning_rate=1.02, n_estimators=80; total time=   0.3s\n",
      "[CV] END algorithm=SAMME, learning_rate=1.02, n_estimators=90; total time=   0.4s\n",
      "[CV] END algorithm=SAMME, learning_rate=1.02, n_estimators=90; total time=   0.4s\n",
      "[CV] END algorithm=SAMME, learning_rate=1.03, n_estimators=20; total time=   0.1s\n",
      "[CV] END algorithm=SAMME, learning_rate=1.03, n_estimators=20; total time=   0.1s\n",
      "[CV] END algorithm=SAMME, learning_rate=1.03, n_estimators=20; total time=   0.1s\n",
      "[CV] END algorithm=SAMME, learning_rate=1.03, n_estimators=20; total time=   0.1s\n",
      "[CV] END algorithm=SAMME, learning_rate=1.03, n_estimators=30; total time=   0.1s\n",
      "[CV] END algorithm=SAMME, learning_rate=1.03, n_estimators=30; total time=   0.1s\n",
      "[CV] END bootstrap=False, max_depth=4, max_features=sqrt, min_samples_leaf=2, min_samples_split=5, n_estimators=72; total time=   0.2s\n",
      "[CV] END bootstrap=False, max_depth=4, max_features=sqrt, min_samples_leaf=2, min_samples_split=5, n_estimators=80; total time=   0.2s\n",
      "[CV] END ......................C=0.1, gamma=1, kernel=linear; total time=   0.4s\n",
      "[CV] END .........................C=0.1, gamma=1, kernel=rbf; total time=   0.7s\n",
      "[CV] END .......................C=0.1, gamma=0.1, kernel=rbf; total time=   0.9s\n",
      "[CV] END ......................C=0.1, gamma=0.01, kernel=rbf; total time=   1.1s\n",
      "[CV] END ..................C=0.1, gamma=0.001, kernel=linear; total time=   0.4s\n",
      "[CV] END ........................C=1, gamma=1, kernel=linear; total time=   0.4s\n",
      "[CV] END ........................C=1, gamma=1, kernel=linear; total time=   0.4s\n",
      "[CV] END ...........................C=1, gamma=1, kernel=rbf; total time=   0.6s\n",
      "[CV] END .........................C=1, gamma=0.1, kernel=rbf; total time=   0.5s\n",
      "[CV] END .....................C=1, gamma=0.01, kernel=linear; total time=   0.4s\n",
      "[CV] END ....................C=1, gamma=0.001, kernel=linear; total time=   0.4s\n",
      "[CV] END ....................C=1, gamma=0.001, kernel=linear; total time=   0.4s\n",
      "[CV] END .......................C=1, gamma=0.001, kernel=rbf; total time=   0.8s\n",
      "[CV] END ..........................C=10, gamma=1, kernel=rbf; total time=   0.8s\n",
      "[CV] END .....................C=10, gamma=0.1, kernel=linear; total time=   0.8s\n",
      "[CV] END ....................C=10, gamma=0.01, kernel=linear; total time=   0.7s\n",
      "[CV] END .......................C=10, gamma=0.01, kernel=rbf; total time=   0.6s\n",
      "[CV] END ...................C=10, gamma=0.001, kernel=linear; total time=   0.7s\n",
      "[CV] END ......................C=100, gamma=1, kernel=linear; total time=  35.4s\n",
      "[CV] END .......................C=100, gamma=0.1, kernel=rbf; total time=   1.2s\n",
      "[CV] END ...................C=100, gamma=0.01, kernel=linear; total time=   9.1s\n",
      "[CV] END ..................C=100, gamma=0.001, kernel=linear; total time=  25.4s\n",
      "[CV] END .....................C=100, gamma=0.001, kernel=rbf; total time=   0.6s\n",
      "[CV] END algorithm=SAMME, learning_rate=0.97, n_estimators=20; total time=   0.1s\n",
      "[CV] END algorithm=SAMME, learning_rate=0.97, n_estimators=30; total time=   0.1s\n",
      "[CV] END algorithm=SAMME, learning_rate=0.97, n_estimators=40; total time=   0.2s\n",
      "[CV] END algorithm=SAMME, learning_rate=0.97, n_estimators=40; total time=   0.2s\n",
      "[CV] END algorithm=SAMME, learning_rate=0.97, n_estimators=50; total time=   0.2s\n",
      "[CV] END algorithm=SAMME, learning_rate=0.97, n_estimators=50; total time=   0.2s\n",
      "[CV] END algorithm=SAMME, learning_rate=0.97, n_estimators=70; total time=   0.3s\n",
      "[CV] END algorithm=SAMME, learning_rate=0.97, n_estimators=70; total time=   0.3s\n",
      "[CV] END algorithm=SAMME, learning_rate=0.97, n_estimators=80; total time=   0.3s\n",
      "[CV] END algorithm=SAMME, learning_rate=0.97, n_estimators=90; total time=   0.4s\n",
      "[CV] END algorithm=SAMME, learning_rate=0.97, n_estimators=100; total time=   0.4s\n",
      "[CV] END algorithm=SAMME, learning_rate=0.97, n_estimators=100; total time=   0.4s\n",
      "[CV] END algorithm=SAMME, learning_rate=0.98, n_estimators=40; total time=   0.2s\n",
      "[CV] END algorithm=SAMME, learning_rate=0.98, n_estimators=40; total time=   0.2s\n",
      "[CV] END algorithm=SAMME, learning_rate=0.98, n_estimators=50; total time=   0.2s\n",
      "[CV] END algorithm=SAMME, learning_rate=0.98, n_estimators=60; total time=   0.2s\n",
      "[CV] END algorithm=SAMME, learning_rate=0.98, n_estimators=70; total time=   0.3s\n",
      "[CV] END algorithm=SAMME, learning_rate=0.98, n_estimators=70; total time=   0.3s\n",
      "[CV] END algorithm=SAMME, learning_rate=0.98, n_estimators=90; total time=   0.4s\n",
      "[CV] END algorithm=SAMME, learning_rate=0.98, n_estimators=90; total time=   0.4s\n",
      "[CV] END algorithm=SAMME, learning_rate=0.98, n_estimators=100; total time=   0.4s\n",
      "[CV] END algorithm=SAMME, learning_rate=0.98, n_estimators=100; total time=   0.4s\n",
      "[CV] END algorithm=SAMME, learning_rate=0.99, n_estimators=50; total time=   0.2s\n",
      "[CV] END algorithm=SAMME, learning_rate=0.99, n_estimators=50; total time=   0.2s\n",
      "[CV] END algorithm=SAMME, learning_rate=0.99, n_estimators=60; total time=   0.2s\n",
      "[CV] END algorithm=SAMME, learning_rate=0.99, n_estimators=70; total time=   0.4s\n",
      "[CV] END algorithm=SAMME, learning_rate=0.99, n_estimators=80; total time=   0.4s\n",
      "[CV] END algorithm=SAMME, learning_rate=0.99, n_estimators=80; total time=   0.4s\n",
      "[CV] END algorithm=SAMME, learning_rate=0.99, n_estimators=100; total time=   0.5s\n",
      "[CV] END algorithm=SAMME, learning_rate=0.99, n_estimators=100; total time=   0.5s\n",
      "[CV] END algorithm=SAMME, learning_rate=1.0, n_estimators=30; total time=   0.2s\n",
      "[CV] END algorithm=SAMME, learning_rate=1.0, n_estimators=30; total time=   0.1s\n",
      "[CV] END algorithm=SAMME, learning_rate=1.0, n_estimators=40; total time=   0.2s\n",
      "[CV] END algorithm=SAMME, learning_rate=1.0, n_estimators=40; total time=   0.2s\n",
      "[CV] END algorithm=SAMME, learning_rate=1.0, n_estimators=60; total time=   0.2s\n",
      "[CV] END algorithm=SAMME, learning_rate=1.0, n_estimators=60; total time=   0.3s\n",
      "[CV] END algorithm=SAMME, learning_rate=1.0, n_estimators=70; total time=   0.3s\n",
      "[CV] END algorithm=SAMME, learning_rate=1.0, n_estimators=80; total time=   0.3s\n",
      "[CV] END algorithm=SAMME, learning_rate=1.0, n_estimators=90; total time=   0.4s\n",
      "[CV] END algorithm=SAMME, learning_rate=1.0, n_estimators=90; total time=   0.4s\n",
      "[CV] END algorithm=SAMME, learning_rate=1.01, n_estimators=20; total time=   0.1s\n",
      "[CV] END algorithm=SAMME, learning_rate=1.01, n_estimators=20; total time=   0.1s\n",
      "[CV] END algorithm=SAMME, learning_rate=1.01, n_estimators=20; total time=   0.1s\n",
      "[CV] END algorithm=SAMME, learning_rate=1.01, n_estimators=20; total time=   0.1s\n",
      "[CV] END algorithm=SAMME, learning_rate=1.01, n_estimators=30; total time=   0.1s\n",
      "[CV] END algorithm=SAMME, learning_rate=1.01, n_estimators=30; total time=   0.1s\n",
      "[CV] END algorithm=SAMME, learning_rate=1.01, n_estimators=40; total time=   0.2s\n",
      "[CV] END algorithm=SAMME, learning_rate=1.01, n_estimators=40; total time=   0.2s\n",
      "[CV] END algorithm=SAMME, learning_rate=1.01, n_estimators=60; total time=   0.2s\n",
      "[CV] END algorithm=SAMME, learning_rate=1.01, n_estimators=60; total time=   0.3s\n",
      "[CV] END algorithm=SAMME, learning_rate=1.01, n_estimators=70; total time=   0.3s\n",
      "[CV] END algorithm=SAMME, learning_rate=1.01, n_estimators=70; total time=   0.3s\n",
      "[CV] END algorithm=SAMME, learning_rate=1.01, n_estimators=90; total time=   0.4s\n",
      "[CV] END algorithm=SAMME, learning_rate=1.01, n_estimators=90; total time=   0.4s\n",
      "[CV] END algorithm=SAMME, learning_rate=1.01, n_estimators=100; total time=   0.4s\n",
      "[CV] END algorithm=SAMME, learning_rate=1.02, n_estimators=20; total time=   0.1s\n",
      "[CV] END algorithm=SAMME, learning_rate=1.02, n_estimators=30; total time=   0.1s\n",
      "[CV] END algorithm=SAMME, learning_rate=1.02, n_estimators=30; total time=   0.1s\n",
      "[CV] END algorithm=SAMME, learning_rate=1.02, n_estimators=50; total time=   0.2s\n",
      "[CV] END algorithm=SAMME, learning_rate=1.02, n_estimators=50; total time=   0.2s\n",
      "[CV] END algorithm=SAMME, learning_rate=1.02, n_estimators=60; total time=   0.3s\n",
      "[CV] END algorithm=SAMME, learning_rate=1.02, n_estimators=60; total time=   0.2s\n",
      "[CV] END algorithm=SAMME, learning_rate=1.02, n_estimators=80; total time=   0.3s\n",
      "[CV] END algorithm=SAMME, learning_rate=1.02, n_estimators=80; total time=   0.3s\n",
      "[CV] END algorithm=SAMME, learning_rate=1.02, n_estimators=90; total time=   0.4s\n",
      "[CV] END algorithm=SAMME, learning_rate=1.02, n_estimators=100; total time=   0.4s\n",
      "[CV] END algorithm=SAMME, learning_rate=1.03, n_estimators=20; total time=   0.1s\n",
      "[CV] END algorithm=SAMME, learning_rate=1.03, n_estimators=30; total time=   0.1s\n",
      "[CV] END algorithm=SAMME, learning_rate=1.03, n_estimators=40; total time=   0.2s\n",
      "[CV] END algorithm=SAMME, learning_rate=1.03, n_estimators=40; total time=   0.2s\n",
      "[CV] END algorithm=SAMME, learning_rate=1.03, n_estimators=50; total time=   0.2s\n",
      "[CV] END algorithm=SAMME, learning_rate=1.03, n_estimators=50; total time=   0.2s\n",
      "[CV] END algorithm=SAMME, learning_rate=1.03, n_estimators=70; total time=   0.3s\n",
      "[CV] END algorithm=SAMME, learning_rate=1.03, n_estimators=70; total time=   0.3s\n",
      "[CV] END ....................C=100, gamma=0.1, kernel=linear; total time=  34.9s\n",
      "[CV] END ......................C=100, gamma=0.01, kernel=rbf; total time=   0.9s\n",
      "[CV] END ......................C=100, gamma=0.01, kernel=rbf; total time=   0.9s\n",
      "[CV] END ......................C=100, gamma=0.01, kernel=rbf; total time=   0.9s\n",
      "[CV] END ..................C=100, gamma=0.001, kernel=linear; total time=  31.6s\n",
      "[CV] END algorithm=SAMME, learning_rate=0.97, n_estimators=20; total time=   0.1s\n",
      "[CV] END algorithm=SAMME, learning_rate=0.97, n_estimators=30; total time=   0.1s\n",
      "[CV] END algorithm=SAMME, learning_rate=0.97, n_estimators=40; total time=   0.2s\n",
      "[CV] END algorithm=SAMME, learning_rate=0.97, n_estimators=50; total time=   0.3s\n",
      "[CV] END algorithm=SAMME, learning_rate=0.97, n_estimators=60; total time=   0.3s\n",
      "[CV] END algorithm=SAMME, learning_rate=0.97, n_estimators=60; total time=   0.3s\n",
      "[CV] END algorithm=SAMME, learning_rate=0.97, n_estimators=80; total time=   0.3s\n",
      "[CV] END algorithm=SAMME, learning_rate=0.97, n_estimators=80; total time=   0.3s\n",
      "[CV] END algorithm=SAMME, learning_rate=0.97, n_estimators=90; total time=   0.4s\n",
      "[CV] END algorithm=SAMME, learning_rate=0.97, n_estimators=90; total time=   0.4s\n",
      "[CV] END algorithm=SAMME, learning_rate=0.98, n_estimators=20; total time=   0.1s\n",
      "[CV] END algorithm=SAMME, learning_rate=0.98, n_estimators=20; total time=   0.1s\n",
      "[CV] END algorithm=SAMME, learning_rate=0.98, n_estimators=20; total time=   0.1s\n",
      "[CV] END algorithm=SAMME, learning_rate=0.98, n_estimators=20; total time=   0.1s\n",
      "[CV] END algorithm=SAMME, learning_rate=0.98, n_estimators=30; total time=   0.1s\n",
      "[CV] END algorithm=SAMME, learning_rate=0.98, n_estimators=40; total time=   0.2s\n",
      "[CV] END algorithm=SAMME, learning_rate=0.98, n_estimators=50; total time=   0.2s\n",
      "[CV] END algorithm=SAMME, learning_rate=0.98, n_estimators=50; total time=   0.2s\n",
      "[CV] END algorithm=SAMME, learning_rate=0.98, n_estimators=70; total time=   0.3s\n",
      "[CV] END algorithm=SAMME, learning_rate=0.98, n_estimators=70; total time=   0.3s\n",
      "[CV] END algorithm=SAMME, learning_rate=0.98, n_estimators=80; total time=   0.3s\n",
      "[CV] END algorithm=SAMME, learning_rate=0.98, n_estimators=80; total time=   0.3s\n",
      "[CV] END algorithm=SAMME, learning_rate=0.98, n_estimators=100; total time=   0.4s\n",
      "[CV] END algorithm=SAMME, learning_rate=0.98, n_estimators=100; total time=   0.4s\n",
      "[CV] END algorithm=SAMME, learning_rate=0.99, n_estimators=30; total time=   0.1s\n",
      "[CV] END algorithm=SAMME, learning_rate=0.99, n_estimators=30; total time=   0.1s\n",
      "[CV] END algorithm=SAMME, learning_rate=0.99, n_estimators=40; total time=   0.2s\n",
      "[CV] END algorithm=SAMME, learning_rate=0.99, n_estimators=50; total time=   0.2s\n",
      "[CV] END algorithm=SAMME, learning_rate=0.99, n_estimators=60; total time=   0.2s\n",
      "[CV] END algorithm=SAMME, learning_rate=0.99, n_estimators=60; total time=   0.3s\n",
      "[CV] END algorithm=SAMME, learning_rate=0.99, n_estimators=80; total time=   0.4s\n",
      "[CV] END algorithm=SAMME, learning_rate=0.99, n_estimators=80; total time=   0.6s\n",
      "[CV] END algorithm=SAMME, learning_rate=0.99, n_estimators=90; total time=   0.6s\n",
      "[CV] END algorithm=SAMME, learning_rate=0.99, n_estimators=90; total time=   0.4s\n",
      "[CV] END algorithm=SAMME, learning_rate=1.0, n_estimators=20; total time=   0.1s\n",
      "[CV] END algorithm=SAMME, learning_rate=1.0, n_estimators=20; total time=   0.1s\n",
      "[CV] END algorithm=SAMME, learning_rate=1.0, n_estimators=30; total time=   0.1s\n",
      "[CV] END algorithm=SAMME, learning_rate=1.0, n_estimators=30; total time=   0.1s\n",
      "[CV] END algorithm=SAMME, learning_rate=1.0, n_estimators=50; total time=   0.2s\n",
      "[CV] END algorithm=SAMME, learning_rate=1.0, n_estimators=50; total time=   0.2s\n",
      "[CV] END algorithm=SAMME, learning_rate=1.0, n_estimators=60; total time=   0.2s\n",
      "[CV] END algorithm=SAMME, learning_rate=1.0, n_estimators=60; total time=   0.2s\n",
      "[CV] END algorithm=SAMME, learning_rate=1.0, n_estimators=80; total time=   0.3s\n",
      "[CV] END algorithm=SAMME, learning_rate=1.0, n_estimators=80; total time=   0.3s\n",
      "[CV] END algorithm=SAMME, learning_rate=1.0, n_estimators=90; total time=   0.4s\n",
      "[CV] END algorithm=SAMME, learning_rate=1.0, n_estimators=100; total time=   0.4s\n",
      "[CV] END algorithm=SAMME, learning_rate=1.01, n_estimators=20; total time=   0.1s\n",
      "[CV] END algorithm=SAMME, learning_rate=1.01, n_estimators=30; total time=   0.1s\n",
      "[CV] END algorithm=SAMME, learning_rate=1.01, n_estimators=40; total time=   0.2s\n",
      "[CV] END algorithm=SAMME, learning_rate=1.01, n_estimators=40; total time=   0.2s\n",
      "[CV] END algorithm=SAMME, learning_rate=1.01, n_estimators=50; total time=   0.2s\n",
      "[CV] END algorithm=SAMME, learning_rate=1.01, n_estimators=50; total time=   0.2s\n",
      "[CV] END algorithm=SAMME, learning_rate=1.01, n_estimators=70; total time=   0.3s\n",
      "[CV] END algorithm=SAMME, learning_rate=1.01, n_estimators=70; total time=   0.3s\n",
      "[CV] END algorithm=SAMME, learning_rate=1.01, n_estimators=80; total time=   0.3s\n",
      "[CV] END algorithm=SAMME, learning_rate=1.01, n_estimators=90; total time=   0.4s\n",
      "[CV] END algorithm=SAMME, learning_rate=1.01, n_estimators=100; total time=   0.4s\n",
      "[CV] END algorithm=SAMME, learning_rate=1.01, n_estimators=100; total time=   0.4s\n",
      "[CV] END algorithm=SAMME, learning_rate=1.02, n_estimators=40; total time=   0.2s\n",
      "[CV] END algorithm=SAMME, learning_rate=1.02, n_estimators=40; total time=   0.2s\n",
      "[CV] END algorithm=SAMME, learning_rate=1.02, n_estimators=50; total time=   0.2s\n",
      "[CV] END algorithm=SAMME, learning_rate=1.02, n_estimators=60; total time=   0.3s\n",
      "[CV] END algorithm=SAMME, learning_rate=1.02, n_estimators=70; total time=   0.3s\n",
      "[CV] END algorithm=SAMME, learning_rate=1.02, n_estimators=70; total time=   0.3s\n",
      "[CV] END algorithm=SAMME, learning_rate=1.02, n_estimators=90; total time=   0.4s\n",
      "[CV] END algorithm=SAMME, learning_rate=1.02, n_estimators=90; total time=   0.4s\n",
      "[CV] END algorithm=SAMME, learning_rate=1.02, n_estimators=100; total time=   0.4s\n",
      "[CV] END algorithm=SAMME, learning_rate=1.02, n_estimators=100; total time=   0.4s\n",
      "[CV] END algorithm=SAMME, learning_rate=1.03, n_estimators=40; total time=   0.2s\n",
      "[CV] END algorithm=SAMME, learning_rate=1.03, n_estimators=40; total time=   0.2s\n",
      "[CV] END algorithm=SAMME, learning_rate=1.03, n_estimators=60; total time=   0.2s\n",
      "[CV] END algorithm=SAMME, learning_rate=1.03, n_estimators=60; total time=   0.2s\n",
      "[CV] END algorithm=SAMME, learning_rate=1.03, n_estimators=70; total time=   0.3s\n",
      "[CV] END algorithm=SAMME, learning_rate=1.03, n_estimators=70; total time=   0.3s\n",
      "[CV] END algorithm=SAMME, learning_rate=1.03, n_estimators=90; total time=   0.4s\n",
      "[CV] END algorithm=SAMME, learning_rate=1.03, n_estimators=90; total time=   0.4s\n",
      "[CV] END algorithm=SAMME, learning_rate=1.03, n_estimators=100; total time=   0.4s\n",
      "[CV] END algorithm=SAMME, learning_rate=1.04, n_estimators=20; total time=   0.1s\n",
      "[CV] END algorithm=SAMME, learning_rate=1.04, n_estimators=30; total time=   0.1s\n",
      "[CV] END algorithm=SAMME, learning_rate=1.04, n_estimators=30; total time=   0.1s\n",
      "[CV] END algorithm=SAMME, learning_rate=1.04, n_estimators=50; total time=   0.2s\n",
      "[CV] END algorithm=SAMME, learning_rate=1.04, n_estimators=50; total time=   0.2s\n",
      "[CV] END algorithm=SAMME, learning_rate=1.04, n_estimators=60; total time=   0.3s\n",
      "[CV] END algorithm=SAMME, learning_rate=1.04, n_estimators=60; total time=   0.3s\n",
      "[CV] END algorithm=SAMME, learning_rate=1.04, n_estimators=80; total time=   0.3s\n",
      "[CV] END algorithm=SAMME, learning_rate=1.04, n_estimators=80; total time=   0.3s\n",
      "[CV] END algorithm=SAMME, learning_rate=1.04, n_estimators=90; total time=   0.4s\n",
      "[CV] END algorithm=SAMME, learning_rate=1.04, n_estimators=100; total time=   0.4s\n",
      "[CV] END algorithm=SAMME.R, learning_rate=0.97, n_estimators=20; total time=   0.1s\n",
      "[CV] END algorithm=SAMME.R, learning_rate=0.97, n_estimators=30; total time=   0.2s\n",
      "[CV] END algorithm=SAMME.R, learning_rate=0.97, n_estimators=40; total time=   0.2s\n",
      "[CV] END algorithm=SAMME.R, learning_rate=0.97, n_estimators=40; total time=   0.2s\n",
      "[CV] END algorithm=SAMME.R, learning_rate=0.97, n_estimators=50; total time=   0.2s\n",
      "[CV] END algorithm=SAMME.R, learning_rate=0.97, n_estimators=50; total time=   0.2s\n",
      "[CV] END algorithm=SAMME.R, learning_rate=0.97, n_estimators=70; total time=   0.3s\n",
      "[CV] END algorithm=SAMME, learning_rate=0.97, n_estimators=20; total time=   0.1s\n",
      "[CV] END algorithm=SAMME, learning_rate=0.97, n_estimators=30; total time=   0.2s\n",
      "[CV] END algorithm=SAMME, learning_rate=0.97, n_estimators=40; total time=   0.2s\n",
      "[CV] END algorithm=SAMME, learning_rate=0.97, n_estimators=40; total time=   0.2s\n",
      "[CV] END algorithm=SAMME, learning_rate=0.97, n_estimators=60; total time=   0.3s\n",
      "[CV] END algorithm=SAMME, learning_rate=0.97, n_estimators=60; total time=   0.3s\n",
      "[CV] END algorithm=SAMME, learning_rate=0.97, n_estimators=70; total time=   0.3s\n",
      "[CV] END algorithm=SAMME, learning_rate=0.97, n_estimators=70; total time=   0.3s\n",
      "[CV] END algorithm=SAMME, learning_rate=0.97, n_estimators=90; total time=   0.4s\n",
      "[CV] END algorithm=SAMME, learning_rate=0.97, n_estimators=90; total time=   0.4s\n",
      "[CV] END algorithm=SAMME, learning_rate=0.97, n_estimators=100; total time=   0.4s\n",
      "[CV] END algorithm=SAMME, learning_rate=0.98, n_estimators=20; total time=   0.1s\n",
      "[CV] END algorithm=SAMME, learning_rate=0.98, n_estimators=30; total time=   0.1s\n",
      "[CV] END algorithm=SAMME, learning_rate=0.98, n_estimators=30; total time=   0.1s\n",
      "[CV] END algorithm=SAMME, learning_rate=0.98, n_estimators=50; total time=   0.2s\n",
      "[CV] END algorithm=SAMME, learning_rate=0.98, n_estimators=50; total time=   0.2s\n",
      "[CV] END algorithm=SAMME, learning_rate=0.98, n_estimators=60; total time=   0.2s\n",
      "[CV] END algorithm=SAMME, learning_rate=0.98, n_estimators=60; total time=   0.2s\n",
      "[CV] END algorithm=SAMME, learning_rate=0.98, n_estimators=80; total time=   0.3s\n",
      "[CV] END algorithm=SAMME, learning_rate=0.98, n_estimators=80; total time=   0.3s\n",
      "[CV] END algorithm=SAMME, learning_rate=0.98, n_estimators=90; total time=   0.4s\n",
      "[CV] END algorithm=SAMME, learning_rate=0.98, n_estimators=100; total time=   0.4s\n",
      "[CV] END algorithm=SAMME, learning_rate=0.99, n_estimators=20; total time=   0.1s\n",
      "[CV] END algorithm=SAMME, learning_rate=0.99, n_estimators=30; total time=   0.1s\n",
      "[CV] END algorithm=SAMME, learning_rate=0.99, n_estimators=40; total time=   0.2s\n",
      "[CV] END algorithm=SAMME, learning_rate=0.99, n_estimators=40; total time=   0.2s\n",
      "[CV] END algorithm=SAMME, learning_rate=0.99, n_estimators=50; total time=   0.2s\n",
      "[CV] END algorithm=SAMME, learning_rate=0.99, n_estimators=50; total time=   0.2s\n",
      "[CV] END algorithm=SAMME, learning_rate=0.99, n_estimators=70; total time=   0.3s\n",
      "[CV] END algorithm=SAMME, learning_rate=0.99, n_estimators=70; total time=   0.4s\n",
      "[CV] END algorithm=SAMME, learning_rate=0.99, n_estimators=80; total time=   0.4s\n",
      "[CV] END algorithm=SAMME, learning_rate=0.99, n_estimators=90; total time=   0.5s\n",
      "[CV] END algorithm=SAMME, learning_rate=0.99, n_estimators=100; total time=   0.5s\n",
      "[CV] END algorithm=SAMME, learning_rate=0.99, n_estimators=100; total time=   0.5s\n",
      "[CV] END algorithm=SAMME, learning_rate=1.0, n_estimators=40; total time=   0.2s\n",
      "[CV] END algorithm=SAMME, learning_rate=1.0, n_estimators=40; total time=   0.2s\n",
      "[CV] END algorithm=SAMME, learning_rate=1.0, n_estimators=50; total time=   0.2s\n",
      "[CV] END algorithm=SAMME, learning_rate=1.0, n_estimators=60; total time=   0.3s\n",
      "[CV] END algorithm=SAMME, learning_rate=1.0, n_estimators=70; total time=   0.3s\n",
      "[CV] END algorithm=SAMME, learning_rate=1.0, n_estimators=70; total time=   0.3s\n",
      "[CV] END algorithm=SAMME, learning_rate=1.0, n_estimators=90; total time=   0.4s\n",
      "[CV] END algorithm=SAMME, learning_rate=1.0, n_estimators=90; total time=   0.4s\n",
      "[CV] END algorithm=SAMME, learning_rate=1.0, n_estimators=100; total time=   0.4s\n",
      "[CV] END algorithm=SAMME, learning_rate=1.0, n_estimators=100; total time=   0.4s\n",
      "[CV] END algorithm=SAMME, learning_rate=1.01, n_estimators=40; total time=   0.2s\n",
      "[CV] END algorithm=SAMME, learning_rate=1.01, n_estimators=50; total time=   0.2s\n",
      "[CV] END algorithm=SAMME, learning_rate=1.01, n_estimators=60; total time=   0.3s\n",
      "[CV] END algorithm=SAMME, learning_rate=1.01, n_estimators=60; total time=   0.2s\n",
      "[CV] END algorithm=SAMME, learning_rate=1.01, n_estimators=80; total time=   0.3s\n",
      "[CV] END algorithm=SAMME, learning_rate=1.01, n_estimators=80; total time=   0.3s\n",
      "[CV] END algorithm=SAMME, learning_rate=1.01, n_estimators=90; total time=   0.4s\n",
      "[CV] END algorithm=SAMME, learning_rate=1.01, n_estimators=90; total time=   0.4s\n",
      "[CV] END algorithm=SAMME, learning_rate=1.02, n_estimators=20; total time=   0.1s\n",
      "[CV] END algorithm=SAMME, learning_rate=1.02, n_estimators=20; total time=   0.1s\n",
      "[CV] END algorithm=SAMME, learning_rate=1.02, n_estimators=20; total time=   0.1s\n",
      "[CV] END algorithm=SAMME, learning_rate=1.02, n_estimators=20; total time=   0.1s\n",
      "[CV] END algorithm=SAMME, learning_rate=1.02, n_estimators=30; total time=   0.1s\n",
      "[CV] END algorithm=SAMME, learning_rate=1.02, n_estimators=40; total time=   0.2s\n",
      "[CV] END algorithm=SAMME, learning_rate=1.02, n_estimators=50; total time=   0.2s\n",
      "[CV] END algorithm=SAMME, learning_rate=1.02, n_estimators=50; total time=   0.2s\n",
      "[CV] END algorithm=SAMME, learning_rate=1.02, n_estimators=70; total time=   0.3s\n",
      "[CV] END algorithm=SAMME, learning_rate=1.02, n_estimators=70; total time=   0.3s\n",
      "[CV] END algorithm=SAMME, learning_rate=1.02, n_estimators=80; total time=   0.3s\n",
      "[CV] END algorithm=SAMME, learning_rate=1.02, n_estimators=80; total time=   0.3s\n",
      "[CV] END algorithm=SAMME, learning_rate=1.02, n_estimators=100; total time=   0.4s\n",
      "[CV] END algorithm=SAMME, learning_rate=1.02, n_estimators=100; total time=   0.4s\n",
      "[CV] END algorithm=SAMME, learning_rate=1.03, n_estimators=30; total time=   0.1s\n",
      "[CV] END algorithm=SAMME, learning_rate=1.03, n_estimators=30; total time=   0.1s\n",
      "[CV] END algorithm=SAMME, learning_rate=1.03, n_estimators=50; total time=   0.2s\n",
      "[CV] END algorithm=SAMME, learning_rate=1.03, n_estimators=50; total time=   0.2s\n",
      "[CV] END algorithm=SAMME, learning_rate=1.03, n_estimators=60; total time=   0.3s\n",
      "[CV] END algorithm=SAMME, learning_rate=1.03, n_estimators=70; total time=   0.3s\n",
      "[CV] END algorithm=SAMME, learning_rate=1.03, n_estimators=80; total time=   0.3s\n",
      "[CV] END algorithm=SAMME, learning_rate=1.03, n_estimators=80; total time=   0.3s\n",
      "[CV] END algorithm=SAMME, learning_rate=1.03, n_estimators=100; total time=   0.4s\n",
      "[CV] END algorithm=SAMME, learning_rate=1.03, n_estimators=100; total time=   0.4s\n",
      "[CV] END algorithm=SAMME, learning_rate=1.04, n_estimators=30; total time=   0.1s\n",
      "[CV] END algorithm=SAMME, learning_rate=1.04, n_estimators=30; total time=   0.1s\n",
      "[CV] END algorithm=SAMME, learning_rate=1.04, n_estimators=40; total time=   0.2s\n",
      "[CV] END algorithm=SAMME, learning_rate=1.04, n_estimators=40; total time=   0.2s\n",
      "[CV] END algorithm=SAMME, learning_rate=1.04, n_estimators=60; total time=   0.3s\n",
      "[CV] END algorithm=SAMME, learning_rate=1.04, n_estimators=60; total time=   0.3s\n",
      "[CV] END algorithm=SAMME, learning_rate=1.04, n_estimators=70; total time=   0.3s\n",
      "[CV] END algorithm=SAMME, learning_rate=1.04, n_estimators=80; total time=   0.3s\n",
      "[CV] END algorithm=SAMME, learning_rate=1.04, n_estimators=90; total time=   0.4s\n",
      "[CV] END algorithm=SAMME, learning_rate=1.04, n_estimators=90; total time=   0.4s\n",
      "[CV] END algorithm=SAMME.R, learning_rate=0.97, n_estimators=20; total time=   0.1s\n",
      "[CV] END algorithm=SAMME.R, learning_rate=0.97, n_estimators=20; total time=   0.1s\n",
      "[CV] END algorithm=SAMME.R, learning_rate=0.97, n_estimators=20; total time=   0.1s\n",
      "[CV] END algorithm=SAMME.R, learning_rate=0.97, n_estimators=20; total time=   0.1s\n",
      "[CV] END algorithm=SAMME.R, learning_rate=0.97, n_estimators=30; total time=   0.1s\n",
      "[CV] END algorithm=SAMME.R, learning_rate=0.97, n_estimators=30; total time=   0.2s\n",
      "[CV] END algorithm=SAMME.R, learning_rate=0.97, n_estimators=40; total time=   0.2s\n",
      "[CV] END algorithm=SAMME.R, learning_rate=0.97, n_estimators=50; total time=   0.2s\n",
      "[CV] END algorithm=SAMME.R, learning_rate=0.97, n_estimators=60; total time=   0.3s\n",
      "[CV] END algorithm=SAMME.R, learning_rate=0.97, n_estimators=60; total time=   0.3s\n",
      "[CV] END algorithm=SAMME.R, learning_rate=0.97, n_estimators=80; total time=   0.4s\n",
      "[CV] END algorithm=SAMME.R, learning_rate=0.97, n_estimators=80; total time=   0.4s\n",
      "[CV] END algorithm=SAMME.R, learning_rate=0.97, n_estimators=90; total time=   0.4s\n",
      "[CV] END algorithm=SAMME.R, learning_rate=0.97, n_estimators=90; total time=   0.4s\n",
      "[CV] END algorithm=SAMME, learning_rate=1.03, n_estimators=40; total time=   0.2s\n",
      "[CV] END algorithm=SAMME, learning_rate=1.03, n_estimators=50; total time=   0.2s\n",
      "[CV] END algorithm=SAMME, learning_rate=1.03, n_estimators=60; total time=   0.2s\n",
      "[CV] END algorithm=SAMME, learning_rate=1.03, n_estimators=60; total time=   0.2s\n",
      "[CV] END algorithm=SAMME, learning_rate=1.03, n_estimators=80; total time=   0.3s\n",
      "[CV] END algorithm=SAMME, learning_rate=1.03, n_estimators=80; total time=   0.3s\n",
      "[CV] END algorithm=SAMME, learning_rate=1.03, n_estimators=90; total time=   0.4s\n",
      "[CV] END algorithm=SAMME, learning_rate=1.03, n_estimators=90; total time=   0.4s\n",
      "[CV] END algorithm=SAMME, learning_rate=1.04, n_estimators=20; total time=   0.1s\n",
      "[CV] END algorithm=SAMME, learning_rate=1.04, n_estimators=20; total time=   0.1s\n",
      "[CV] END algorithm=SAMME, learning_rate=1.04, n_estimators=20; total time=   0.1s\n",
      "[CV] END algorithm=SAMME, learning_rate=1.04, n_estimators=20; total time=   0.1s\n",
      "[CV] END algorithm=SAMME, learning_rate=1.04, n_estimators=30; total time=   0.1s\n",
      "[CV] END algorithm=SAMME, learning_rate=1.04, n_estimators=40; total time=   0.2s\n",
      "[CV] END algorithm=SAMME, learning_rate=1.04, n_estimators=50; total time=   0.2s\n",
      "[CV] END algorithm=SAMME, learning_rate=1.04, n_estimators=50; total time=   0.2s\n",
      "[CV] END algorithm=SAMME, learning_rate=1.04, n_estimators=70; total time=   0.3s\n",
      "[CV] END algorithm=SAMME, learning_rate=1.04, n_estimators=70; total time=   0.3s\n",
      "[CV] END algorithm=SAMME, learning_rate=1.04, n_estimators=80; total time=   0.3s\n",
      "[CV] END algorithm=SAMME, learning_rate=1.04, n_estimators=80; total time=   0.3s\n",
      "[CV] END algorithm=SAMME, learning_rate=1.04, n_estimators=100; total time=   0.4s\n",
      "[CV] END algorithm=SAMME, learning_rate=1.04, n_estimators=100; total time=   0.4s\n",
      "[CV] END algorithm=SAMME.R, learning_rate=0.97, n_estimators=30; total time=   0.2s\n",
      "[CV] END algorithm=SAMME.R, learning_rate=0.97, n_estimators=30; total time=   0.2s\n",
      "[CV] END algorithm=SAMME.R, learning_rate=0.97, n_estimators=50; total time=   0.2s\n",
      "[CV] END algorithm=SAMME.R, learning_rate=0.97, n_estimators=50; total time=   0.2s\n",
      "[CV] END algorithm=SAMME.R, learning_rate=0.97, n_estimators=60; total time=   0.3s\n",
      "[CV] END algorithm=SAMME.R, learning_rate=0.97, n_estimators=70; total time=   0.3s\n",
      "[CV] END algorithm=SAMME.R, learning_rate=0.97, n_estimators=80; total time=   0.4s\n",
      "[CV] END algorithm=SAMME.R, learning_rate=0.97, n_estimators=80; total time=   0.4s\n",
      "[CV] END algorithm=SAMME.R, learning_rate=0.97, n_estimators=100; total time=   0.5s\n",
      "[CV] END algorithm=SAMME.R, learning_rate=0.97, n_estimators=100; total time=   0.5s\n",
      "[CV] END algorithm=SAMME.R, learning_rate=0.98, n_estimators=20; total time=   0.1s\n",
      "[CV] END algorithm=SAMME.R, learning_rate=0.98, n_estimators=20; total time=   0.1s\n",
      "[CV] END algorithm=SAMME.R, learning_rate=0.98, n_estimators=30; total time=   0.2s\n",
      "[CV] END algorithm=SAMME.R, learning_rate=0.98, n_estimators=40; total time=   0.2s\n",
      "[CV] END algorithm=SAMME.R, learning_rate=0.98, n_estimators=50; total time=   0.3s\n",
      "[CV] END algorithm=SAMME.R, learning_rate=0.98, n_estimators=50; total time=   0.3s\n",
      "[CV] END algorithm=SAMME.R, learning_rate=0.98, n_estimators=70; total time=   0.4s\n",
      "[CV] END algorithm=SAMME.R, learning_rate=0.98, n_estimators=70; total time=   0.3s\n",
      "[CV] END algorithm=SAMME.R, learning_rate=0.98, n_estimators=80; total time=   0.4s\n",
      "[CV] END algorithm=SAMME.R, learning_rate=0.98, n_estimators=80; total time=   0.4s\n",
      "[CV] END algorithm=SAMME.R, learning_rate=0.98, n_estimators=100; total time=   0.5s\n",
      "[CV] END algorithm=SAMME.R, learning_rate=0.98, n_estimators=100; total time=   0.5s\n",
      "[CV] END algorithm=SAMME.R, learning_rate=0.99, n_estimators=40; total time=   0.2s\n",
      "[CV] END algorithm=SAMME.R, learning_rate=0.99, n_estimators=40; total time=   0.2s\n",
      "[CV] END algorithm=SAMME.R, learning_rate=0.99, n_estimators=50; total time=   0.3s\n",
      "[CV] END algorithm=SAMME.R, learning_rate=0.99, n_estimators=50; total time=   0.3s\n",
      "[CV] END algorithm=SAMME.R, learning_rate=0.99, n_estimators=70; total time=   0.4s\n",
      "[CV] END algorithm=SAMME.R, learning_rate=0.99, n_estimators=70; total time=   0.3s\n",
      "[CV] END algorithm=SAMME.R, learning_rate=0.99, n_estimators=80; total time=   0.4s\n",
      "[CV] END algorithm=SAMME.R, learning_rate=0.99, n_estimators=90; total time=   0.4s\n",
      "[CV] END algorithm=SAMME.R, learning_rate=0.99, n_estimators=100; total time=   0.5s\n",
      "[CV] END algorithm=SAMME.R, learning_rate=0.99, n_estimators=100; total time=   0.5s\n",
      "[CV] END algorithm=SAMME.R, learning_rate=1.0, n_estimators=30; total time=   0.2s\n",
      "[CV] END algorithm=SAMME.R, learning_rate=1.0, n_estimators=40; total time=   0.2s\n",
      "[CV] END algorithm=SAMME.R, learning_rate=1.0, n_estimators=50; total time=   0.3s\n",
      "[CV] END algorithm=SAMME.R, learning_rate=1.0, n_estimators=50; total time=   0.2s\n",
      "[CV] END algorithm=SAMME.R, learning_rate=1.0, n_estimators=70; total time=   0.4s\n",
      "[CV] END algorithm=SAMME.R, learning_rate=1.0, n_estimators=70; total time=   0.3s\n",
      "[CV] END algorithm=SAMME.R, learning_rate=1.0, n_estimators=80; total time=   0.4s\n",
      "[CV] END algorithm=SAMME.R, learning_rate=1.0, n_estimators=80; total time=   0.4s\n",
      "[CV] END algorithm=SAMME.R, learning_rate=1.0, n_estimators=100; total time=   0.5s\n",
      "[CV] END algorithm=SAMME.R, learning_rate=1.0, n_estimators=100; total time=   0.5s\n",
      "[CV] END algorithm=SAMME.R, learning_rate=1.01, n_estimators=40; total time=   0.2s\n",
      "[CV] END algorithm=SAMME.R, learning_rate=1.01, n_estimators=40; total time=   0.2s\n",
      "[CV] END algorithm=SAMME.R, learning_rate=1.01, n_estimators=50; total time=   0.2s\n",
      "[CV] END algorithm=SAMME.R, learning_rate=1.01, n_estimators=50; total time=   0.2s\n",
      "[CV] END algorithm=SAMME.R, learning_rate=1.01, n_estimators=70; total time=   0.3s\n",
      "[CV] END algorithm=SAMME.R, learning_rate=1.01, n_estimators=70; total time=   0.4s\n",
      "[CV] END algorithm=SAMME.R, learning_rate=1.01, n_estimators=80; total time=   0.4s\n",
      "[CV] END algorithm=SAMME.R, learning_rate=1.01, n_estimators=90; total time=   0.7s\n",
      "[CV] END algorithm=SAMME.R, learning_rate=1.01, n_estimators=100; total time=   0.7s\n",
      "[CV] END algorithm=SAMME.R, learning_rate=1.01, n_estimators=100; total time=   0.6s\n",
      "[CV] END algorithm=SAMME.R, learning_rate=1.02, n_estimators=40; total time=   0.2s\n",
      "[CV] END algorithm=SAMME.R, learning_rate=1.02, n_estimators=40; total time=   0.2s\n",
      "[CV] END algorithm=SAMME.R, learning_rate=1.02, n_estimators=60; total time=   0.3s\n",
      "[CV] END algorithm=SAMME.R, learning_rate=1.02, n_estimators=60; total time=   0.3s\n",
      "[CV] END algorithm=SAMME.R, learning_rate=1.02, n_estimators=70; total time=   0.3s\n",
      "[CV] END algorithm=SAMME.R, learning_rate=1.02, n_estimators=80; total time=   0.4s\n",
      "[CV] END algorithm=SAMME.R, learning_rate=1.02, n_estimators=90; total time=   0.4s\n",
      "[CV] END algorithm=SAMME.R, learning_rate=1.02, n_estimators=90; total time=   0.4s\n",
      "[CV] END algorithm=SAMME.R, learning_rate=1.03, n_estimators=20; total time=   0.1s\n",
      "[CV] END algorithm=SAMME.R, learning_rate=1.03, n_estimators=20; total time=   0.1s\n",
      "[CV] END algorithm=SAMME.R, learning_rate=1.03, n_estimators=20; total time=   0.1s\n",
      "[CV] END algorithm=SAMME.R, learning_rate=1.03, n_estimators=20; total time=   0.1s\n",
      "[CV] END algorithm=SAMME.R, learning_rate=1.03, n_estimators=30; total time=   0.1s\n",
      "[CV] END algorithm=SAMME.R, learning_rate=1.03, n_estimators=30; total time=   0.1s\n",
      "[CV] END algorithm=SAMME.R, learning_rate=1.03, n_estimators=40; total time=   0.2s\n",
      "[CV] END algorithm=SAMME.R, learning_rate=1.03, n_estimators=40; total time=   0.2s\n",
      "[CV] END algorithm=SAMME.R, learning_rate=1.03, n_estimators=60; total time=   0.3s\n",
      "[CV] END algorithm=SAMME.R, learning_rate=1.03, n_estimators=60; total time=   0.3s\n",
      "[CV] END algorithm=SAMME.R, learning_rate=1.03, n_estimators=70; total time=   0.3s\n",
      "[CV] END algorithm=SAMME.R, learning_rate=1.03, n_estimators=70; total time=   0.3s\n",
      "[CV] END algorithm=SAMME.R, learning_rate=1.03, n_estimators=90; total time=   0.4s\n",
      "[CV] END algorithm=SAMME.R, learning_rate=1.03, n_estimators=90; total time=   0.4s\n",
      "[CV] END algorithm=SAMME.R, learning_rate=1.03, n_estimators=100; total time=   0.5s\n",
      "[CV] END algorithm=SAMME.R, learning_rate=1.04, n_estimators=20; total time=   0.1s\n",
      "[CV] END algorithm=SAMME.R, learning_rate=1.04, n_estimators=40; total time=   0.2s\n",
      "[CV] END algorithm=SAMME, learning_rate=1.03, n_estimators=80; total time=   0.3s\n",
      "[CV] END algorithm=SAMME, learning_rate=1.03, n_estimators=90; total time=   0.4s\n",
      "[CV] END algorithm=SAMME, learning_rate=1.03, n_estimators=100; total time=   0.4s\n",
      "[CV] END algorithm=SAMME, learning_rate=1.03, n_estimators=100; total time=   0.4s\n",
      "[CV] END algorithm=SAMME, learning_rate=1.04, n_estimators=40; total time=   0.2s\n",
      "[CV] END algorithm=SAMME, learning_rate=1.04, n_estimators=40; total time=   0.2s\n",
      "[CV] END algorithm=SAMME, learning_rate=1.04, n_estimators=50; total time=   0.2s\n",
      "[CV] END algorithm=SAMME, learning_rate=1.04, n_estimators=60; total time=   0.3s\n",
      "[CV] END algorithm=SAMME, learning_rate=1.04, n_estimators=70; total time=   0.3s\n",
      "[CV] END algorithm=SAMME, learning_rate=1.04, n_estimators=70; total time=   0.3s\n",
      "[CV] END algorithm=SAMME, learning_rate=1.04, n_estimators=90; total time=   0.4s\n",
      "[CV] END algorithm=SAMME, learning_rate=1.04, n_estimators=90; total time=   0.4s\n",
      "[CV] END algorithm=SAMME, learning_rate=1.04, n_estimators=100; total time=   0.4s\n",
      "[CV] END algorithm=SAMME, learning_rate=1.04, n_estimators=100; total time=   0.4s\n",
      "[CV] END algorithm=SAMME.R, learning_rate=0.97, n_estimators=40; total time=   0.2s\n",
      "[CV] END algorithm=SAMME.R, learning_rate=0.97, n_estimators=40; total time=   0.2s\n",
      "[CV] END algorithm=SAMME.R, learning_rate=0.97, n_estimators=60; total time=   0.3s\n",
      "[CV] END algorithm=SAMME.R, learning_rate=0.97, n_estimators=60; total time=   0.3s\n",
      "[CV] END algorithm=SAMME.R, learning_rate=0.97, n_estimators=70; total time=   0.3s\n",
      "[CV] END algorithm=SAMME.R, learning_rate=0.97, n_estimators=70; total time=   0.3s\n",
      "[CV] END algorithm=SAMME.R, learning_rate=0.97, n_estimators=90; total time=   0.4s\n",
      "[CV] END algorithm=SAMME.R, learning_rate=0.97, n_estimators=90; total time=   0.4s\n",
      "[CV] END algorithm=SAMME.R, learning_rate=0.97, n_estimators=100; total time=   0.5s\n",
      "[CV] END algorithm=SAMME.R, learning_rate=0.98, n_estimators=20; total time=   0.1s\n",
      "[CV] END algorithm=SAMME.R, learning_rate=0.98, n_estimators=30; total time=   0.2s\n",
      "[CV] END algorithm=SAMME.R, learning_rate=0.98, n_estimators=30; total time=   0.2s\n",
      "[CV] END algorithm=SAMME.R, learning_rate=0.98, n_estimators=50; total time=   0.2s\n",
      "[CV] END algorithm=SAMME.R, learning_rate=0.98, n_estimators=50; total time=   0.3s\n",
      "[CV] END algorithm=SAMME.R, learning_rate=0.98, n_estimators=60; total time=   0.3s\n",
      "[CV] END algorithm=SAMME.R, learning_rate=0.98, n_estimators=60; total time=   0.3s\n",
      "[CV] END algorithm=SAMME.R, learning_rate=0.98, n_estimators=80; total time=   0.4s\n",
      "[CV] END algorithm=SAMME.R, learning_rate=0.98, n_estimators=80; total time=   0.4s\n",
      "[CV] END algorithm=SAMME.R, learning_rate=0.98, n_estimators=90; total time=   0.4s\n",
      "[CV] END algorithm=SAMME.R, learning_rate=0.98, n_estimators=100; total time=   0.5s\n",
      "[CV] END algorithm=SAMME.R, learning_rate=0.99, n_estimators=20; total time=   0.1s\n",
      "[CV] END algorithm=SAMME.R, learning_rate=0.99, n_estimators=30; total time=   0.2s\n",
      "[CV] END algorithm=SAMME.R, learning_rate=0.99, n_estimators=30; total time=   0.2s\n",
      "[CV] END algorithm=SAMME.R, learning_rate=0.99, n_estimators=30; total time=   0.1s\n",
      "[CV] END algorithm=SAMME.R, learning_rate=0.99, n_estimators=50; total time=   0.2s\n",
      "[CV] END algorithm=SAMME.R, learning_rate=0.99, n_estimators=50; total time=   0.3s\n",
      "[CV] END algorithm=SAMME.R, learning_rate=0.99, n_estimators=60; total time=   0.3s\n",
      "[CV] END algorithm=SAMME.R, learning_rate=0.99, n_estimators=70; total time=   0.3s\n",
      "[CV] END algorithm=SAMME.R, learning_rate=0.99, n_estimators=80; total time=   0.4s\n",
      "[CV] END algorithm=SAMME.R, learning_rate=0.99, n_estimators=80; total time=   0.4s\n",
      "[CV] END algorithm=SAMME.R, learning_rate=0.99, n_estimators=100; total time=   0.5s\n",
      "[CV] END algorithm=SAMME.R, learning_rate=0.99, n_estimators=100; total time=   0.5s\n",
      "[CV] END algorithm=SAMME.R, learning_rate=1.0, n_estimators=30; total time=   0.2s\n",
      "[CV] END algorithm=SAMME.R, learning_rate=1.0, n_estimators=30; total time=   0.2s\n",
      "[CV] END algorithm=SAMME.R, learning_rate=1.0, n_estimators=40; total time=   0.2s\n",
      "[CV] END algorithm=SAMME.R, learning_rate=1.0, n_estimators=40; total time=   0.2s\n",
      "[CV] END algorithm=SAMME.R, learning_rate=1.0, n_estimators=60; total time=   0.3s\n",
      "[CV] END algorithm=SAMME.R, learning_rate=1.0, n_estimators=60; total time=   0.3s\n",
      "[CV] END algorithm=SAMME.R, learning_rate=1.0, n_estimators=70; total time=   0.3s\n",
      "[CV] END algorithm=SAMME.R, learning_rate=1.0, n_estimators=80; total time=   0.4s\n",
      "[CV] END algorithm=SAMME.R, learning_rate=1.0, n_estimators=90; total time=   0.4s\n",
      "[CV] END algorithm=SAMME.R, learning_rate=1.0, n_estimators=90; total time=   0.4s\n",
      "[CV] END algorithm=SAMME.R, learning_rate=1.01, n_estimators=20; total time=   0.1s\n",
      "[CV] END algorithm=SAMME.R, learning_rate=1.01, n_estimators=20; total time=   0.1s\n",
      "[CV] END algorithm=SAMME.R, learning_rate=1.01, n_estimators=20; total time=   0.1s\n",
      "[CV] END algorithm=SAMME.R, learning_rate=1.01, n_estimators=20; total time=   0.1s\n",
      "[CV] END algorithm=SAMME.R, learning_rate=1.01, n_estimators=30; total time=   0.1s\n",
      "[CV] END algorithm=SAMME.R, learning_rate=1.01, n_estimators=30; total time=   0.1s\n",
      "[CV] END algorithm=SAMME.R, learning_rate=1.01, n_estimators=40; total time=   0.2s\n",
      "[CV] END algorithm=SAMME.R, learning_rate=1.01, n_estimators=40; total time=   0.2s\n",
      "[CV] END algorithm=SAMME.R, learning_rate=1.01, n_estimators=60; total time=   0.3s\n",
      "[CV] END algorithm=SAMME.R, learning_rate=1.01, n_estimators=60; total time=   0.3s\n",
      "[CV] END algorithm=SAMME.R, learning_rate=1.01, n_estimators=70; total time=   0.3s\n",
      "[CV] END algorithm=SAMME.R, learning_rate=1.01, n_estimators=70; total time=   0.4s\n",
      "[CV] END algorithm=SAMME.R, learning_rate=1.01, n_estimators=90; total time=   0.5s\n",
      "[CV] END algorithm=SAMME.R, learning_rate=1.01, n_estimators=90; total time=   0.5s\n",
      "[CV] END algorithm=SAMME.R, learning_rate=1.01, n_estimators=100; total time=   0.5s\n",
      "[CV] END algorithm=SAMME.R, learning_rate=1.02, n_estimators=20; total time=   0.1s\n",
      "[CV] END algorithm=SAMME.R, learning_rate=1.02, n_estimators=20; total time=   0.1s\n",
      "[CV] END algorithm=SAMME.R, learning_rate=1.02, n_estimators=20; total time=   0.1s\n",
      "[CV] END algorithm=SAMME.R, learning_rate=1.02, n_estimators=30; total time=   0.2s\n",
      "[CV] END algorithm=SAMME.R, learning_rate=1.02, n_estimators=30; total time=   0.2s\n",
      "[CV] END algorithm=SAMME.R, learning_rate=1.02, n_estimators=40; total time=   0.2s\n",
      "[CV] END algorithm=SAMME.R, learning_rate=1.02, n_estimators=40; total time=   0.2s\n",
      "[CV] END algorithm=SAMME.R, learning_rate=1.02, n_estimators=50; total time=   0.3s\n",
      "[CV] END algorithm=SAMME.R, learning_rate=1.02, n_estimators=60; total time=   0.3s\n",
      "[CV] END algorithm=SAMME.R, learning_rate=1.02, n_estimators=70; total time=   0.4s\n",
      "[CV] END algorithm=SAMME.R, learning_rate=1.02, n_estimators=70; total time=   0.3s\n",
      "[CV] END algorithm=SAMME.R, learning_rate=1.02, n_estimators=90; total time=   0.4s\n",
      "[CV] END algorithm=SAMME.R, learning_rate=1.02, n_estimators=90; total time=   0.4s\n",
      "[CV] END algorithm=SAMME.R, learning_rate=1.02, n_estimators=100; total time=   0.5s\n",
      "[CV] END algorithm=SAMME.R, learning_rate=1.02, n_estimators=100; total time=   0.5s\n",
      "[CV] END algorithm=SAMME.R, learning_rate=1.03, n_estimators=50; total time=   0.2s\n",
      "[CV] END algorithm=SAMME.R, learning_rate=1.03, n_estimators=50; total time=   0.3s\n",
      "[CV] END algorithm=SAMME.R, learning_rate=1.03, n_estimators=60; total time=   0.3s\n",
      "[CV] END algorithm=SAMME.R, learning_rate=1.03, n_estimators=70; total time=   0.3s\n",
      "[CV] END algorithm=SAMME.R, learning_rate=1.03, n_estimators=80; total time=   0.4s\n",
      "[CV] END algorithm=SAMME.R, learning_rate=1.03, n_estimators=80; total time=   0.4s\n",
      "[CV] END algorithm=SAMME.R, learning_rate=1.03, n_estimators=100; total time=   0.5s\n",
      "[CV] END algorithm=SAMME.R, learning_rate=1.03, n_estimators=100; total time=   0.5s\n",
      "[CV] END algorithm=SAMME.R, learning_rate=1.04, n_estimators=30; total time=   0.2s\n",
      "[CV] END algorithm=SAMME.R, learning_rate=1.04, n_estimators=30; total time=   0.1s\n",
      "[CV] END algorithm=SAMME.R, learning_rate=1.04, n_estimators=40; total time=   0.2s\n",
      "[CV] END algorithm=SAMME.R, learning_rate=1.04, n_estimators=40; total time=   0.2s"
     ]
    }
   ],
   "source": [
    "adb_best_clf = adb_clf.fit(X_train,y_train)"
   ]
  },
  {
   "cell_type": "code",
   "execution_count": 121,
   "id": "39d8f6cc",
   "metadata": {
    "execution": {
     "iopub.execute_input": "2022-09-07T16:37:00.968793Z",
     "iopub.status.busy": "2022-09-07T16:37:00.968400Z",
     "iopub.status.idle": "2022-09-07T16:37:00.975325Z",
     "shell.execute_reply": "2022-09-07T16:37:00.974156Z"
    },
    "papermill": {
     "duration": 0.069689,
     "end_time": "2022-09-07T16:37:00.977522",
     "exception": false,
     "start_time": "2022-09-07T16:37:00.907833",
     "status": "completed"
    },
    "tags": []
   },
   "outputs": [
    {
     "data": {
      "text/plain": [
       "{'algorithm': 'SAMME.R', 'learning_rate': 0.99, 'n_estimators': 90}"
      ]
     },
     "execution_count": 121,
     "metadata": {},
     "output_type": "execute_result"
    }
   ],
   "source": [
    "adb_best_clf.best_params_"
   ]
  },
  {
   "cell_type": "code",
   "execution_count": 122,
   "id": "3085beb4",
   "metadata": {
    "execution": {
     "iopub.execute_input": "2022-09-07T16:37:01.097102Z",
     "iopub.status.busy": "2022-09-07T16:37:01.096377Z",
     "iopub.status.idle": "2022-09-07T16:37:01.341081Z",
     "shell.execute_reply": "2022-09-07T16:37:01.339958Z"
    },
    "papermill": {
     "duration": 0.307598,
     "end_time": "2022-09-07T16:37:01.343719",
     "exception": false,
     "start_time": "2022-09-07T16:37:01.036121",
     "status": "completed"
    },
    "tags": []
   },
   "outputs": [
    {
     "name": "stderr",
     "output_type": "stream",
     "text": [
      "/opt/conda/lib/python3.7/site-packages/sklearn/utils/deprecation.py:87: FutureWarning: Function plot_confusion_matrix is deprecated; Function `plot_confusion_matrix` is deprecated in 1.0 and will be removed in 1.2. Use one of the class methods: ConfusionMatrixDisplay.from_predictions or ConfusionMatrixDisplay.from_estimator.\n",
      "  warnings.warn(msg, category=FutureWarning)\n"
     ]
    },
    {
     "data": {
      "text/plain": [
       "<sklearn.metrics._plot.confusion_matrix.ConfusionMatrixDisplay at 0x7f791a763fd0>"
      ]
     },
     "execution_count": 122,
     "metadata": {},
     "output_type": "execute_result"
    },
    {
     "data": {
      "image/png": "[encoded data removed]",
      "text/plain": [
       "<Figure size 432x288 with 2 Axes>"
      ]
     },
     "metadata": {
      "needs_background": "light"
     },
     "output_type": "display_data"
    }
   ],
   "source": [
    "plot_confusion_matrix(adb_best_clf,\n",
    "                      X_test,\n",
    "                      y_test,\n",
    "                      values_format='d',\n",
    "                      display_labels=['Did not leave','Left'])"
   ]
  },
  {
   "cell_type": "code",
   "execution_count": 123,
   "id": "18daec7a",
   "metadata": {
    "execution": {
     "iopub.execute_input": "2022-09-07T16:37:01.469282Z",
     "iopub.status.busy": "2022-09-07T16:37:01.468515Z",
     "iopub.status.idle": "2022-09-07T16:37:01.501568Z",
     "shell.execute_reply": "2022-09-07T16:37:01.500313Z"
    },
    "papermill": {
     "duration": 0.095382,
     "end_time": "2022-09-07T16:37:01.504346",
     "exception": false,
     "start_time": "2022-09-07T16:37:01.408964",
     "status": "completed"
    },
    "tags": []
   },
   "outputs": [],
   "source": [
    "y_pred_adb = adb_best_clf.predict(X_test)"
   ]
  },
  {
   "cell_type": "code",
   "execution_count": 124,
   "id": "f4abf6c5",
   "metadata": {
    "execution": {
     "iopub.execute_input": "2022-09-07T16:37:01.623515Z",
     "iopub.status.busy": "2022-09-07T16:37:01.622377Z",
     "iopub.status.idle": "2022-09-07T16:37:01.635754Z",
     "shell.execute_reply": "2022-09-07T16:37:01.634253Z"
    },
    "papermill": {
     "duration": 0.075658,
     "end_time": "2022-09-07T16:37:01.638517",
     "exception": false,
     "start_time": "2022-09-07T16:37:01.562859",
     "status": "completed"
    },
    "tags": []
   },
   "outputs": [
    {
     "name": "stdout",
     "output_type": "stream",
     "text": [
      "              precision    recall  f1-score   support\n",
      "\n",
      "         0.0       0.81      0.93      0.87       639\n",
      "         1.0       0.79      0.53      0.63       292\n",
      "\n",
      "    accuracy                           0.81       931\n",
      "   macro avg       0.80      0.73      0.75       931\n",
      "weighted avg       0.81      0.81      0.80       931\n",
      "\n"
     ]
    }
   ],
   "source": [
    "print(classification_report(y_test, y_pred_adb))"
   ]
  },
  {
   "cell_type": "markdown",
   "id": "4fd941be",
   "metadata": {
    "papermill": {
     "duration": 0.058811,
     "end_time": "2022-09-07T16:37:01.757999",
     "exception": false,
     "start_time": "2022-09-07T16:37:01.699188",
     "status": "completed"
    },
    "tags": []
   },
   "source": [
    "## ROC (Receiver Operating Characteristic) Curves"
   ]
  },
  {
   "cell_type": "code",
   "execution_count": 125,
   "id": "dbf94ebf",
   "metadata": {
    "execution": {
     "iopub.execute_input": "2022-09-07T16:37:01.877791Z",
     "iopub.status.busy": "2022-09-07T16:37:01.877042Z",
     "iopub.status.idle": "2022-09-07T16:37:01.881576Z",
     "shell.execute_reply": "2022-09-07T16:37:01.880547Z"
    },
    "papermill": {
     "duration": 0.067017,
     "end_time": "2022-09-07T16:37:01.883918",
     "exception": false,
     "start_time": "2022-09-07T16:37:01.816901",
     "status": "completed"
    },
    "tags": []
   },
   "outputs": [],
   "source": [
    "from sklearn.metrics import roc_curve, roc_auc_score"
   ]
  },
  {
   "cell_type": "markdown",
   "id": "7f0ed707",
   "metadata": {
    "papermill": {
     "duration": 0.058239,
     "end_time": "2022-09-07T16:37:02.000511",
     "exception": false,
     "start_time": "2022-09-07T16:37:01.942272",
     "status": "completed"
    },
    "tags": []
   },
   "source": [
    "### Predicting Probabilities"
   ]
  },
  {
   "cell_type": "code",
   "execution_count": 126,
   "id": "5d3633de",
   "metadata": {
    "execution": {
     "iopub.execute_input": "2022-09-07T16:37:02.120581Z",
     "iopub.status.busy": "2022-09-07T16:37:02.119531Z",
     "iopub.status.idle": "2022-09-07T16:37:02.258784Z",
     "shell.execute_reply": "2022-09-07T16:37:02.257383Z"
    },
    "papermill": {
     "duration": 0.202755,
     "end_time": "2022-09-07T16:37:02.262302",
     "exception": false,
     "start_time": "2022-09-07T16:37:02.059547",
     "status": "completed"
    },
    "tags": []
   },
   "outputs": [],
   "source": [
    "lg_probs = lg_best_clf.predict_proba(X_test)\n",
    "knn_probs = knn_best_clf.predict_proba(X_test)\n",
    "rdf_probs = rdf_best_clf.predict_proba(X_test)\n",
    "xgb_probs = xgb_final_clf.predict_proba(X_test)\n",
    "gnb_probs = gnb_classifier.predict_proba(X_test)\n",
    "mnb_probs = mnb_classifier.predict_proba(X_test)\n",
    "bnb_probs = bnb_classifier.predict_proba(X_test)"
   ]
  },
  {
   "cell_type": "code",
   "execution_count": 127,
   "id": "d49dc171",
   "metadata": {
    "execution": {
     "iopub.execute_input": "2022-09-07T16:37:02.394799Z",
     "iopub.status.busy": "2022-09-07T16:37:02.393669Z",
     "iopub.status.idle": "2022-09-07T16:37:02.400432Z",
     "shell.execute_reply": "2022-09-07T16:37:02.399555Z"
    },
    "papermill": {
     "duration": 0.079115,
     "end_time": "2022-09-07T16:37:02.402668",
     "exception": false,
     "start_time": "2022-09-07T16:37:02.323553",
     "status": "completed"
    },
    "tags": []
   },
   "outputs": [],
   "source": [
    "lg_probs = lg_probs[:,1]\n",
    "knn_probs = knn_probs[:,1]\n",
    "rdf_probs = rdf_probs[:,1]\n",
    "xgb_probs = xgb_probs[:,1]\n",
    "gnb_probs = gnb_probs[:,1]\n",
    "mnb_probs = mnb_probs[:,1]\n",
    "bnb_probs = bnb_probs[:,1]"
   ]
  },
  {
   "cell_type": "markdown",
   "id": "1660d1f9",
   "metadata": {
    "papermill": {
     "duration": 0.059094,
     "end_time": "2022-09-07T16:37:02.526122",
     "exception": false,
     "start_time": "2022-09-07T16:37:02.467028",
     "status": "completed"
    },
    "tags": []
   },
   "source": [
    "### AUROC Calculation (Area under the ROC curve)"
   ]
  },
  {
   "cell_type": "code",
   "execution_count": 128,
   "id": "13904790",
   "metadata": {
    "execution": {
     "iopub.execute_input": "2022-09-07T16:37:02.645133Z",
     "iopub.status.busy": "2022-09-07T16:37:02.644419Z",
     "iopub.status.idle": "2022-09-07T16:37:02.660846Z",
     "shell.execute_reply": "2022-09-07T16:37:02.659955Z"
    },
    "papermill": {
     "duration": 0.078744,
     "end_time": "2022-09-07T16:37:02.663420",
     "exception": false,
     "start_time": "2022-09-07T16:37:02.584676",
     "status": "completed"
    },
    "tags": []
   },
   "outputs": [],
   "source": [
    "lg_auc = roc_auc_score(y_test,lg_probs)\n",
    "knn_auc = roc_auc_score(y_test,knn_probs)\n",
    "rdf_auc = roc_auc_score(y_test,rdf_probs)\n",
    "xgb_auc = roc_auc_score(y_test,xgb_probs)\n",
    "gnb_auc = roc_auc_score(y_test,gnb_probs)\n",
    "mnb_auc = roc_auc_score(y_test,mnb_probs)\n",
    "bnb_auc = roc_auc_score(y_test,bnb_probs)"
   ]
  },
  {
   "cell_type": "markdown",
   "id": "285e1d03",
   "metadata": {
    "papermill": {
     "duration": 0.114416,
     "end_time": "2022-09-07T16:37:02.837074",
     "exception": false,
     "start_time": "2022-09-07T16:37:02.722658",
     "status": "completed"
    },
    "tags": []
   },
   "source": [
    "### AUROC scores"
   ]
  },
  {
   "cell_type": "code",
   "execution_count": 129,
   "id": "6467944b",
   "metadata": {
    "execution": {
     "iopub.execute_input": "2022-09-07T16:37:02.956130Z",
     "iopub.status.busy": "2022-09-07T16:37:02.955413Z",
     "iopub.status.idle": "2022-09-07T16:37:02.962486Z",
     "shell.execute_reply": "2022-09-07T16:37:02.961093Z"
    },
    "papermill": {
     "duration": 0.069612,
     "end_time": "2022-09-07T16:37:02.965008",
     "exception": false,
     "start_time": "2022-09-07T16:37:02.895396",
     "status": "completed"
    },
    "tags": []
   },
   "outputs": [
    {
     "name": "stdout",
     "output_type": "stream",
     "text": [
      "Logistic Regression:AUROC = 0.824\n",
      "K-Nearest Neighbors:AUROC = 0.816\n",
      "Random Forest:AUROC = 0.834\n",
      "XGBoost:AUROC = 0.854\n",
      "Gaussian Naive Bayes = 0.782\n",
      "Multinomial Naive Bayes = 0.795\n",
      "Bernoulli Naive Bayes = 0.792\n"
     ]
    }
   ],
   "source": [
    "print('Logistic Regression:AUROC = %.3f' % (lg_auc))\n",
    "print('K-Nearest Neighbors:AUROC = %.3f' % (knn_auc))\n",
    "print('Random Forest:AUROC = %.3f' % (rdf_auc))\n",
    "print('XGBoost:AUROC = %.3f' % (xgb_auc))\n",
    "print('Gaussian Naive Bayes = %.3f' % (gnb_auc))\n",
    "print('Multinomial Naive Bayes = %.3f' % (mnb_auc))\n",
    "print('Bernoulli Naive Bayes = %.3f' % (bnb_auc))"
   ]
  },
  {
   "cell_type": "markdown",
   "id": "035780e4",
   "metadata": {
    "papermill": {
     "duration": 0.060732,
     "end_time": "2022-09-07T16:37:03.085019",
     "exception": false,
     "start_time": "2022-09-07T16:37:03.024287",
     "status": "completed"
    },
    "tags": []
   },
   "source": [
    "### ROC Curve Calculation"
   ]
  },
  {
   "cell_type": "code",
   "execution_count": 130,
   "id": "742feb64",
   "metadata": {
    "execution": {
     "iopub.execute_input": "2022-09-07T16:37:03.205132Z",
     "iopub.status.busy": "2022-09-07T16:37:03.204396Z",
     "iopub.status.idle": "2022-09-07T16:37:03.215792Z",
     "shell.execute_reply": "2022-09-07T16:37:03.214895Z"
    },
    "papermill": {
     "duration": 0.074107,
     "end_time": "2022-09-07T16:37:03.218177",
     "exception": false,
     "start_time": "2022-09-07T16:37:03.144070",
     "status": "completed"
    },
    "tags": []
   },
   "outputs": [],
   "source": [
    "lg_fpr,lg_tpr,_ = roc_curve(y_test,lg_probs)\n",
    "knn_fpr,knn_tpr,_ = roc_curve(y_test,knn_probs)\n",
    "rdf_fpr,rdf_tpr,_ = roc_curve(y_test,rdf_probs)\n",
    "xgb_fpr,xgb_tpr,_ = roc_curve(y_test,xgb_probs)\n",
    "gnb_fpr,gnb_tpr,_ = roc_curve(y_test,gnb_probs)\n",
    "mnb_fpr,mnb_tpr,_ = roc_curve(y_test,mnb_probs)\n",
    "bnb_fpr,bnb_tpr,_ = roc_curve(y_test,bnb_probs)"
   ]
  },
  {
   "cell_type": "markdown",
   "id": "ab2419a8",
   "metadata": {
    "papermill": {
     "duration": 0.05846,
     "end_time": "2022-09-07T16:37:03.335742",
     "exception": false,
     "start_time": "2022-09-07T16:37:03.277282",
     "status": "completed"
    },
    "tags": []
   },
   "source": [
    "### ROC Curve Plotting"
   ]
  },
  {
   "cell_type": "code",
   "execution_count": 131,
   "id": "17d67c5f",
   "metadata": {
    "execution": {
     "iopub.execute_input": "2022-09-07T16:37:03.455498Z",
     "iopub.status.busy": "2022-09-07T16:37:03.454728Z",
     "iopub.status.idle": "2022-09-07T16:37:03.716088Z",
     "shell.execute_reply": "2022-09-07T16:37:03.714921Z"
    },
    "papermill": {
     "duration": 0.324183,
     "end_time": "2022-09-07T16:37:03.718532",
     "exception": false,
     "start_time": "2022-09-07T16:37:03.394349",
     "status": "completed"
    },
    "tags": []
   },
   "outputs": [
    {
     "data": {
      "image/png": "[encoded data removed]",
      "text/plain": [
       "<Figure size 432x288 with 1 Axes>"
      ]
     },
     "metadata": {
      "needs_background": "light"
     },
     "output_type": "display_data"
    }
   ],
   "source": [
    "plt.plot(xgb_fpr,xgb_tpr,linestyle='--', label = 'XGBoost (AUROC = %0.3f)' % xgb_auc)\n",
    "plt.plot(rdf_fpr,rdf_tpr,linestyle='--', label = 'Random Forest (AUROC = %0.3f)' % rdf_auc)\n",
    "plt.plot(knn_fpr,knn_tpr,linestyle='--', label = 'K-Nearest Neighbors (AUROC = %0.3f)' % knn_auc)\n",
    "plt.plot(lg_fpr,lg_tpr,linestyle='--', label = 'Logistic Regression (AUROC = %0.3f)' % lg_auc)\n",
    "plt.plot(gnb_fpr,gnb_tpr,linestyle='--', label = 'Gaussian Naive Bayes (AUROC = %0.3f)' % gnb_auc)\n",
    "plt.plot(mnb_fpr,mnb_tpr,linestyle='--', label = 'Multinomial Naive Bayes (AUROC = %0.3f)' % mnb_auc)\n",
    "plt.plot(bnb_fpr,bnb_tpr,linestyle='--', label = 'Bernoulli Naive Bayes (AUROC = %0.3f)' % bnb_auc)\n",
    "plt.title('ROC Plot')\n",
    "plt.xlabel('False Positive Rate')\n",
    "plt.ylabel('True Positive Rate')\n",
    "plt.rcParams['figure.figsize']=(12,8)\n",
    "plt.legend()\n",
    "plt.show()"
   ]
  },
  {
   "cell_type": "markdown",
   "id": "218b4c52",
   "metadata": {
    "papermill": {
     "duration": 0.059235,
     "end_time": "2022-09-07T16:37:03.837803",
     "exception": false,
     "start_time": "2022-09-07T16:37:03.778568",
     "status": "completed"
    },
    "tags": []
   },
   "source": [
    "It is clear that, since the XGBoost model exhibits the highest ROC AUC score, it is the best performing model of all the models trained on this dataset. As this model is an optimized implementation of the gradient boosted trees algorithm, the random forest model fit the data similarly well."
   ]
  },
  {
   "cell_type": "markdown",
   "id": "e443520d",
   "metadata": {
    "papermill": {
     "duration": 0.059712,
     "end_time": "2022-09-07T16:37:03.956958",
     "exception": false,
     "start_time": "2022-09-07T16:37:03.897246",
     "status": "completed"
    },
    "tags": []
   },
   "source": [
    "## Performance Metrics Comparison"
   ]
  },
  {
   "cell_type": "code",
   "execution_count": 132,
   "id": "cdde9eaa",
   "metadata": {
    "execution": {
     "iopub.execute_input": "2022-09-07T16:37:04.078670Z",
     "iopub.status.busy": "2022-09-07T16:37:04.078238Z",
     "iopub.status.idle": "2022-09-07T16:37:04.331365Z",
     "shell.execute_reply": "2022-09-07T16:37:04.330318Z"
    },
    "papermill": {
     "duration": 0.317601,
     "end_time": "2022-09-07T16:37:04.333982",
     "exception": false,
     "start_time": "2022-09-07T16:37:04.016381",
     "status": "completed"
    },
    "tags": []
   },
   "outputs": [],
   "source": [
    "lg_ypred = lg_best_clf.predict(X_test)\n",
    "knn_ypred = knn_best_clf.predict(X_test)\n",
    "rdf_ypred = rdf_best_clf.predict(X_test)\n",
    "svm_ypred = svm_best_clf.predict(X_test)\n",
    "xgb_ypred = xgb_final_clf.predict(X_test)\n",
    "gnb_ypred = gnb_classifier.predict(X_test)\n",
    "mnb_ypred = mnb_classifier.predict(X_test)\n",
    "bnb_ypred = bnb_classifier.predict(X_test)"
   ]
  },
  {
   "cell_type": "code",
   "execution_count": 133,
   "id": "1e504efa",
   "metadata": {
    "execution": {
     "iopub.execute_input": "2022-09-07T16:37:04.454443Z",
     "iopub.status.busy": "2022-09-07T16:37:04.454030Z",
     "iopub.status.idle": "2022-09-07T16:37:04.496181Z",
     "shell.execute_reply": "2022-09-07T16:37:04.495051Z"
    },
    "papermill": {
     "duration": 0.105294,
     "end_time": "2022-09-07T16:37:04.498743",
     "exception": false,
     "start_time": "2022-09-07T16:37:04.393449",
     "status": "completed"
    },
    "tags": []
   },
   "outputs": [],
   "source": [
    "matrix_data ={'Name':['XGBoost','Random Forest','K-Nearest Neighbors','Logistic Regression',\n",
    "                      'Gaussian Naive Bayes','Multinomial Naive Bayes','Bernoulli Naive Bayes'],\n",
    "              \n",
    "              'Precision':[precision_score(y_test,xgb_ypred),precision_score(y_test,rdf_ypred),\n",
    "                           precision_score(y_test,knn_ypred),precision_score(y_test,lg_ypred),\n",
    "                           precision_score(y_test,gnb_ypred),precision_score(y_test,mnb_ypred),\n",
    "                           precision_score(y_test,bnb_ypred)],\n",
    "              'Accuracy':[accuracy_score(y_test,xgb_ypred),accuracy_score(y_test,rdf_ypred),\n",
    "                          accuracy_score(y_test,knn_ypred),accuracy_score(y_test,lg_ypred),\n",
    "                          accuracy_score(y_test,gnb_ypred),accuracy_score(y_test,mnb_ypred),\n",
    "                          accuracy_score(y_test,bnb_ypred)],\n",
    "              'Recall':[recall_score(y_test,xgb_ypred),recall_score(y_test,rdf_ypred),\n",
    "                        recall_score(y_test,knn_ypred),recall_score(y_test,lg_ypred),\n",
    "                        recall_score(y_test,gnb_ypred),recall_score(y_test,mnb_ypred),\n",
    "                        recall_score(y_test,bnb_ypred)],\n",
    "              'F1 Score':[f1_score(y_test,xgb_ypred),f1_score(y_test,rdf_ypred),\n",
    "                        f1_score(y_test,knn_ypred),f1_score(y_test,lg_ypred),\n",
    "                        f1_score(y_test,gnb_ypred),f1_score(y_test,mnb_ypred),\n",
    "                        f1_score(y_test,bnb_ypred)],\n",
    "              'ROC Score':[xgb_auc,rdf_auc,knn_auc,lg_auc,gnb_auc,mnb_auc,bnb_auc]\n",
    "             }"
   ]
  },
  {
   "cell_type": "code",
   "execution_count": 134,
   "id": "d5971ed8",
   "metadata": {
    "execution": {
     "iopub.execute_input": "2022-09-07T16:37:04.618816Z",
     "iopub.status.busy": "2022-09-07T16:37:04.618405Z",
     "iopub.status.idle": "2022-09-07T16:37:04.624393Z",
     "shell.execute_reply": "2022-09-07T16:37:04.623227Z"
    },
    "papermill": {
     "duration": 0.068548,
     "end_time": "2022-09-07T16:37:04.626589",
     "exception": false,
     "start_time": "2022-09-07T16:37:04.558041",
     "status": "completed"
    },
    "tags": []
   },
   "outputs": [],
   "source": [
    "matrix_df = pd.DataFrame(matrix_data)"
   ]
  },
  {
   "cell_type": "code",
   "execution_count": 135,
   "id": "2bdc6f3f",
   "metadata": {
    "execution": {
     "iopub.execute_input": "2022-09-07T16:37:04.746746Z",
     "iopub.status.busy": "2022-09-07T16:37:04.746145Z",
     "iopub.status.idle": "2022-09-07T16:37:04.824648Z",
     "shell.execute_reply": "2022-09-07T16:37:04.823561Z"
    },
    "papermill": {
     "duration": 0.141216,
     "end_time": "2022-09-07T16:37:04.827220",
     "exception": false,
     "start_time": "2022-09-07T16:37:04.686004",
     "status": "completed"
    },
    "tags": []
   },
   "outputs": [
    {
     "data": {
      "text/html": [
       "<style type=\"text/css\">\n",
       "#T_0a8da_row0_col1 {\n",
       "  background-color: #eae51a;\n",
       "  color: #000000;\n",
       "}\n",
       "#T_0a8da_row0_col2 {\n",
       "  background-color: #bade28;\n",
       "  color: #000000;\n",
       "}\n",
       "#T_0a8da_row0_col3 {\n",
       "  background-color: #3c4f8a;\n",
       "  color: #f1f1f1;\n",
       "}\n",
       "#T_0a8da_row0_col4 {\n",
       "  background-color: #1f9a8a;\n",
       "  color: #f1f1f1;\n",
       "}\n",
       "#T_0a8da_row0_col5 {\n",
       "  background-color: #bddf26;\n",
       "  color: #000000;\n",
       "}\n",
       "#T_0a8da_row1_col1 {\n",
       "  background-color: #cae11f;\n",
       "  color: #000000;\n",
       "}\n",
       "#T_0a8da_row1_col2 {\n",
       "  background-color: #89d548;\n",
       "  color: #000000;\n",
       "}\n",
       "#T_0a8da_row1_col3 {\n",
       "  background-color: #440154;\n",
       "  color: #f1f1f1;\n",
       "}\n",
       "#T_0a8da_row1_col4 {\n",
       "  background-color: #2f6c8e;\n",
       "  color: #f1f1f1;\n",
       "}\n",
       "#T_0a8da_row1_col5 {\n",
       "  background-color: #98d83e;\n",
       "  color: #000000;\n",
       "}\n",
       "#T_0a8da_row2_col1 {\n",
       "  background-color: #fde725;\n",
       "  color: #000000;\n",
       "}\n",
       "#T_0a8da_row2_col2 {\n",
       "  background-color: #addc30;\n",
       "  color: #000000;\n",
       "}\n",
       "#T_0a8da_row2_col3, #T_0a8da_row5_col3 {\n",
       "  background-color: #472f7d;\n",
       "  color: #f1f1f1;\n",
       "}\n",
       "#T_0a8da_row2_col4 {\n",
       "  background-color: #238a8d;\n",
       "  color: #f1f1f1;\n",
       "}\n",
       "#T_0a8da_row2_col5 {\n",
       "  background-color: #77d153;\n",
       "  color: #000000;\n",
       "}\n",
       "#T_0a8da_row3_col1, #T_0a8da_row4_col2 {\n",
       "  background-color: #46c06f;\n",
       "  color: #f1f1f1;\n",
       "}\n",
       "#T_0a8da_row3_col2, #T_0a8da_row5_col2 {\n",
       "  background-color: #69cd5b;\n",
       "  color: #000000;\n",
       "}\n",
       "#T_0a8da_row3_col3, #T_0a8da_row4_col3 {\n",
       "  background-color: #450457;\n",
       "  color: #f1f1f1;\n",
       "}\n",
       "#T_0a8da_row3_col4 {\n",
       "  background-color: #365d8d;\n",
       "  color: #f1f1f1;\n",
       "}\n",
       "#T_0a8da_row3_col5 {\n",
       "  background-color: #84d44b;\n",
       "  color: #000000;\n",
       "}\n",
       "#T_0a8da_row4_col1 {\n",
       "  background-color: #228d8d;\n",
       "  color: #f1f1f1;\n",
       "}\n",
       "#T_0a8da_row4_col4 {\n",
       "  background-color: #3f4889;\n",
       "  color: #f1f1f1;\n",
       "}\n",
       "#T_0a8da_row4_col5 {\n",
       "  background-color: #44bf70;\n",
       "  color: #f1f1f1;\n",
       "}\n",
       "#T_0a8da_row5_col1 {\n",
       "  background-color: #25ac82;\n",
       "  color: #f1f1f1;\n",
       "}\n",
       "#T_0a8da_row5_col4 {\n",
       "  background-color: #306a8e;\n",
       "  color: #f1f1f1;\n",
       "}\n",
       "#T_0a8da_row5_col5 {\n",
       "  background-color: #56c667;\n",
       "  color: #000000;\n",
       "}\n",
       "#T_0a8da_row6_col1 {\n",
       "  background-color: #218e8d;\n",
       "  color: #f1f1f1;\n",
       "}\n",
       "#T_0a8da_row6_col2 {\n",
       "  background-color: #65cb5e;\n",
       "  color: #000000;\n",
       "}\n",
       "#T_0a8da_row6_col3 {\n",
       "  background-color: #33638d;\n",
       "  color: #f1f1f1;\n",
       "}\n",
       "#T_0a8da_row6_col4 {\n",
       "  background-color: #2a788e;\n",
       "  color: #f1f1f1;\n",
       "}\n",
       "#T_0a8da_row6_col5 {\n",
       "  background-color: #52c569;\n",
       "  color: #000000;\n",
       "}\n",
       "</style>\n",
       "<table id=\"T_0a8da_\">\n",
       "  <thead>\n",
       "    <tr>\n",
       "      <th class=\"blank level0\" >&nbsp;</th>\n",
       "      <th class=\"col_heading level0 col0\" >Name</th>\n",
       "      <th class=\"col_heading level0 col1\" >Precision</th>\n",
       "      <th class=\"col_heading level0 col2\" >Accuracy</th>\n",
       "      <th class=\"col_heading level0 col3\" >Recall</th>\n",
       "      <th class=\"col_heading level0 col4\" >F1 Score</th>\n",
       "      <th class=\"col_heading level0 col5\" >ROC Score</th>\n",
       "    </tr>\n",
       "  </thead>\n",
       "  <tbody>\n",
       "    <tr>\n",
       "      <th id=\"T_0a8da_level0_row0\" class=\"row_heading level0 row0\" >0</th>\n",
       "      <td id=\"T_0a8da_row0_col0\" class=\"data row0 col0\" >XGBoost</td>\n",
       "      <td id=\"T_0a8da_row0_col1\" class=\"data row0 col1\" >0.878049</td>\n",
       "      <td id=\"T_0a8da_row0_col2\" class=\"data row0 col2\" >0.852846</td>\n",
       "      <td id=\"T_0a8da_row0_col3\" class=\"data row0 col3\" >0.616438</td>\n",
       "      <td id=\"T_0a8da_row0_col4\" class=\"data row0 col4\" >0.724346</td>\n",
       "      <td id=\"T_0a8da_row0_col5\" class=\"data row0 col5\" >0.854090</td>\n",
       "    </tr>\n",
       "    <tr>\n",
       "      <th id=\"T_0a8da_level0_row1\" class=\"row_heading level0 row1\" >1</th>\n",
       "      <td id=\"T_0a8da_row1_col0\" class=\"data row1 col0\" >Random Forest</td>\n",
       "      <td id=\"T_0a8da_row1_col1\" class=\"data row1 col1\" >0.861111</td>\n",
       "      <td id=\"T_0a8da_row1_col2\" class=\"data row1 col2\" >0.825994</td>\n",
       "      <td id=\"T_0a8da_row1_col3\" class=\"data row1 col3\" >0.530822</td>\n",
       "      <td id=\"T_0a8da_row1_col4\" class=\"data row1 col4\" >0.656780</td>\n",
       "      <td id=\"T_0a8da_row1_col5\" class=\"data row1 col5\" >0.834242</td>\n",
       "    </tr>\n",
       "    <tr>\n",
       "      <th id=\"T_0a8da_level0_row2\" class=\"row_heading level0 row2\" >2</th>\n",
       "      <td id=\"T_0a8da_row2_col0\" class=\"data row2 col0\" >K-Nearest Neighbors</td>\n",
       "      <td id=\"T_0a8da_row2_col1\" class=\"data row2 col1\" >0.889474</td>\n",
       "      <td id=\"T_0a8da_row2_col2\" class=\"data row2 col2\" >0.845328</td>\n",
       "      <td id=\"T_0a8da_row2_col3\" class=\"data row2 col3\" >0.578767</td>\n",
       "      <td id=\"T_0a8da_row2_col4\" class=\"data row2 col4\" >0.701245</td>\n",
       "      <td id=\"T_0a8da_row2_col5\" class=\"data row2 col5\" >0.816124</td>\n",
       "    </tr>\n",
       "    <tr>\n",
       "      <th id=\"T_0a8da_level0_row3\" class=\"row_heading level0 row3\" >3</th>\n",
       "      <td id=\"T_0a8da_row3_col0\" class=\"data row3 col0\" >Logistic Regression</td>\n",
       "      <td id=\"T_0a8da_row3_col1\" class=\"data row3 col1\" >0.783920</td>\n",
       "      <td id=\"T_0a8da_row3_col2\" class=\"data row3 col2\" >0.807734</td>\n",
       "      <td id=\"T_0a8da_row3_col3\" class=\"data row3 col3\" >0.534247</td>\n",
       "      <td id=\"T_0a8da_row3_col4\" class=\"data row3 col4\" >0.635438</td>\n",
       "      <td id=\"T_0a8da_row3_col5\" class=\"data row3 col5\" >0.823603</td>\n",
       "    </tr>\n",
       "    <tr>\n",
       "      <th id=\"T_0a8da_level0_row4\" class=\"row_heading level0 row4\" >4</th>\n",
       "      <td id=\"T_0a8da_row4_col0\" class=\"data row4 col0\" >Gaussian Naive Bayes</td>\n",
       "      <td id=\"T_0a8da_row4_col1\" class=\"data row4 col1\" >0.705882</td>\n",
       "      <td id=\"T_0a8da_row4_col2\" class=\"data row4 col2\" >0.784103</td>\n",
       "      <td id=\"T_0a8da_row4_col3\" class=\"data row4 col3\" >0.534247</td>\n",
       "      <td id=\"T_0a8da_row4_col4\" class=\"data row4 col4\" >0.608187</td>\n",
       "      <td id=\"T_0a8da_row4_col5\" class=\"data row4 col5\" >0.782138</td>\n",
       "    </tr>\n",
       "    <tr>\n",
       "      <th id=\"T_0a8da_level0_row5\" class=\"row_heading level0 row5\" >5</th>\n",
       "      <td id=\"T_0a8da_row5_col0\" class=\"data row5 col0\" >Multinomial Naive Bayes</td>\n",
       "      <td id=\"T_0a8da_row5_col1\" class=\"data row5 col1\" >0.751111</td>\n",
       "      <td id=\"T_0a8da_row5_col2\" class=\"data row5 col2\" >0.807734</td>\n",
       "      <td id=\"T_0a8da_row5_col3\" class=\"data row5 col3\" >0.578767</td>\n",
       "      <td id=\"T_0a8da_row5_col4\" class=\"data row5 col4\" >0.653772</td>\n",
       "      <td id=\"T_0a8da_row5_col5\" class=\"data row5 col5\" >0.794588</td>\n",
       "    </tr>\n",
       "    <tr>\n",
       "      <th id=\"T_0a8da_level0_row6\" class=\"row_heading level0 row6\" >6</th>\n",
       "      <td id=\"T_0a8da_row6_col0\" class=\"data row6 col0\" >Bernoulli Naive Bayes</td>\n",
       "      <td id=\"T_0a8da_row6_col1\" class=\"data row6 col1\" >0.706767</td>\n",
       "      <td id=\"T_0a8da_row6_col2\" class=\"data row6 col2\" >0.804511</td>\n",
       "      <td id=\"T_0a8da_row6_col3\" class=\"data row6 col3\" >0.643836</td>\n",
       "      <td id=\"T_0a8da_row6_col4\" class=\"data row6 col4\" >0.673835</td>\n",
       "      <td id=\"T_0a8da_row6_col5\" class=\"data row6 col5\" >0.792294</td>\n",
       "    </tr>\n",
       "  </tbody>\n",
       "</table>\n"
      ],
      "text/plain": [
       "<pandas.io.formats.style.Styler at 0x7f792d3a13d0>"
      ]
     },
     "execution_count": 135,
     "metadata": {},
     "output_type": "execute_result"
    }
   ],
   "source": [
    "matrix_df.style.background_gradient(axis=None,cmap='viridis')"
   ]
  },
  {
   "cell_type": "markdown",
   "id": "5294ca04",
   "metadata": {
    "papermill": {
     "duration": 0.05967,
     "end_time": "2022-09-07T16:37:04.946782",
     "exception": false,
     "start_time": "2022-09-07T16:37:04.887112",
     "status": "completed"
    },
    "tags": []
   },
   "source": [
    "The XGBoost model was able to achieve the highest value for accuracy of all the trained models. However, we can see that recall values in general are quite low when compared to precision values. This indicates that, while most positive predictions were indeed correct, many negative predictions were incorrect (high number of false negative predictions). The accuracy score tells us that, in the XGBoost model, approximately 85% of all predictions were correct. Furthermore, the precision score of aproximately 90% indicates that most positive predictions were correct, or in other words, there was a low number of false positive predictions. However, the recall score of 60% tells us that, of the 15% failed predictions, many were false negative predictions (we predicted an employee would not leave, but in reality they did).\n",
    "\n",
    "Ultimately, these are the most important predictions for this particular use case, since it is crucial for a company to not to misclassify individuals that end up leaving their job."
   ]
  },
  {
   "cell_type": "markdown",
   "id": "cfdd3873",
   "metadata": {
    "papermill": {
     "duration": 0.060245,
     "end_time": "2022-09-07T16:37:05.067308",
     "exception": false,
     "start_time": "2022-09-07T16:37:05.007063",
     "status": "completed"
    },
    "tags": []
   },
   "source": [
    "## SMOTE Oversampling"
   ]
  },
  {
   "cell_type": "markdown",
   "id": "f180f543",
   "metadata": {
    "papermill": {
     "duration": 0.059582,
     "end_time": "2022-09-07T16:37:05.187589",
     "exception": false,
     "start_time": "2022-09-07T16:37:05.128007",
     "status": "completed"
    },
    "tags": []
   },
   "source": [
    "From the brief initial look at the dataset, we determined that there were 3053 employees that did not resign (0) and 1600 who did (1). This somewhat large inbalance in the number of observations of each class could potentially lead to a lower recall score. As such, a SMOTE oversampling technique was tested to generate samples of employees who left, to balance out the data at the cost of adding redundancy. The tradeoff was then observed."
   ]
  },
  {
   "cell_type": "code",
   "execution_count": 136,
   "id": "fb3f0e6f",
   "metadata": {
    "execution": {
     "iopub.execute_input": "2022-09-07T16:37:05.309331Z",
     "iopub.status.busy": "2022-09-07T16:37:05.308473Z",
     "iopub.status.idle": "2022-09-07T16:37:05.312499Z",
     "shell.execute_reply": "2022-09-07T16:37:05.311736Z"
    },
    "papermill": {
     "duration": 0.067172,
     "end_time": "2022-09-07T16:37:05.314587",
     "exception": false,
     "start_time": "2022-09-07T16:37:05.247415",
     "status": "completed"
    },
    "tags": []
   },
   "outputs": [],
   "source": [
    "#from imblearn.over_sampling import RandomOverSampler\n",
    "#from collections import Counter"
   ]
  },
  {
   "cell_type": "code",
   "execution_count": 137,
   "id": "402c9a99",
   "metadata": {
    "execution": {
     "iopub.execute_input": "2022-09-07T16:37:05.439471Z",
     "iopub.status.busy": "2022-09-07T16:37:05.438753Z",
     "iopub.status.idle": "2022-09-07T16:37:05.442516Z",
     "shell.execute_reply": "2022-09-07T16:37:05.441763Z"
    },
    "papermill": {
     "duration": 0.067817,
     "end_time": "2022-09-07T16:37:05.444517",
     "exception": false,
     "start_time": "2022-09-07T16:37:05.376700",
     "status": "completed"
    },
    "tags": []
   },
   "outputs": [],
   "source": [
    "#ros = RandomOverSampler(random_state=0)\n",
    "#X_resampled,y_resampled = ros.fit_resample(X_train,y_train)\n",
    "#print(sorted(Counter(y_resampled).items()),y_resampled.shape)"
   ]
  },
  {
   "cell_type": "code",
   "execution_count": 138,
   "id": "c4a0fb5c",
   "metadata": {
    "execution": {
     "iopub.execute_input": "2022-09-07T16:37:05.566133Z",
     "iopub.status.busy": "2022-09-07T16:37:05.565390Z",
     "iopub.status.idle": "2022-09-07T16:37:05.569377Z",
     "shell.execute_reply": "2022-09-07T16:37:05.568442Z"
    },
    "papermill": {
     "duration": 0.067077,
     "end_time": "2022-09-07T16:37:05.571422",
     "exception": false,
     "start_time": "2022-09-07T16:37:05.504345",
     "status": "completed"
    },
    "tags": []
   },
   "outputs": [],
   "source": [
    "#X_train = X_resampled\n",
    "#y_train = y_resampled"
   ]
  },
  {
   "cell_type": "markdown",
   "id": "6ef84285",
   "metadata": {
    "papermill": {
     "duration": 0.059201,
     "end_time": "2022-09-07T16:37:05.690448",
     "exception": false,
     "start_time": "2022-09-07T16:37:05.631247",
     "status": "completed"
    },
    "tags": []
   },
   "source": [
    "The code above was introduced immediately after the dataset split step."
   ]
  },
  {
   "cell_type": "markdown",
   "id": "571a873d",
   "metadata": {
    "papermill": {
     "duration": 0.060759,
     "end_time": "2022-09-07T16:37:05.811453",
     "exception": false,
     "start_time": "2022-09-07T16:37:05.750694",
     "status": "completed"
    },
    "tags": []
   },
   "source": [
    "With this method, recall scores increased, while precision and accuracy decreased due to the redundancy introduced. In the case of our XGBoost model, recall increased from 60.3% to 66.8%, while precision and accuracy were reduced from 90.3% to 81.3% and 85.5% to 84.7%, respectively. The overall ROC AUC score decreased from 85.9% to 84.4%. In summary, the increase in recall score was not significant enough to justify the loss of precision and accuracy, such that the redundancy introduced into the data compromised the effectiveness of the model."
   ]
  },
  {
   "cell_type": "markdown",
   "id": "ec9f417b",
   "metadata": {
    "papermill": {
     "duration": 0.05995,
     "end_time": "2022-09-07T16:37:05.932204",
     "exception": false,
     "start_time": "2022-09-07T16:37:05.872254",
     "status": "completed"
    },
    "tags": []
   },
   "source": [
    "## Undersampling "
   ]
  },
  {
   "cell_type": "markdown",
   "id": "bd81306f",
   "metadata": {
    "papermill": {
     "duration": 0.060119,
     "end_time": "2022-09-07T16:37:06.052971",
     "exception": false,
     "start_time": "2022-09-07T16:37:05.992852",
     "status": "completed"
    },
    "tags": []
   },
   "source": [
    "Despite the small size of our dataset, an undersampling method was also carried out for the purpose of comparison with the previous method."
   ]
  },
  {
   "cell_type": "code",
   "execution_count": 139,
   "id": "d697f4d3",
   "metadata": {
    "execution": {
     "iopub.execute_input": "2022-09-07T16:37:06.175323Z",
     "iopub.status.busy": "2022-09-07T16:37:06.174584Z",
     "iopub.status.idle": "2022-09-07T16:37:06.178463Z",
     "shell.execute_reply": "2022-09-07T16:37:06.177639Z"
    },
    "papermill": {
     "duration": 0.066926,
     "end_time": "2022-09-07T16:37:06.180477",
     "exception": false,
     "start_time": "2022-09-07T16:37:06.113551",
     "status": "completed"
    },
    "tags": []
   },
   "outputs": [],
   "source": [
    "#from imblearn.under_sampling import RandomUnderSampler\n",
    "#from collections import Counter"
   ]
  },
  {
   "cell_type": "code",
   "execution_count": 140,
   "id": "d75f4a3f",
   "metadata": {
    "execution": {
     "iopub.execute_input": "2022-09-07T16:37:06.302128Z",
     "iopub.status.busy": "2022-09-07T16:37:06.301399Z",
     "iopub.status.idle": "2022-09-07T16:37:06.305363Z",
     "shell.execute_reply": "2022-09-07T16:37:06.304525Z"
    },
    "papermill": {
     "duration": 0.066965,
     "end_time": "2022-09-07T16:37:06.307361",
     "exception": false,
     "start_time": "2022-09-07T16:37:06.240396",
     "status": "completed"
    },
    "tags": []
   },
   "outputs": [],
   "source": [
    "#rus = RandomUnderSampler(random_state=0)\n",
    "#X_resampled,y_resampled = rus.fit_resample(X_train,y_train)\n",
    "#print(sorted(Counter(y_resampled).items()),y_resampled.shape)"
   ]
  },
  {
   "cell_type": "code",
   "execution_count": 141,
   "id": "06274ddb",
   "metadata": {
    "execution": {
     "iopub.execute_input": "2022-09-07T16:37:06.429228Z",
     "iopub.status.busy": "2022-09-07T16:37:06.428506Z",
     "iopub.status.idle": "2022-09-07T16:37:06.432483Z",
     "shell.execute_reply": "2022-09-07T16:37:06.431671Z"
    },
    "papermill": {
     "duration": 0.067384,
     "end_time": "2022-09-07T16:37:06.434531",
     "exception": false,
     "start_time": "2022-09-07T16:37:06.367147",
     "status": "completed"
    },
    "tags": []
   },
   "outputs": [],
   "source": [
    "#X_train = X_resampled\n",
    "#y_train = y_resampled"
   ]
  },
  {
   "cell_type": "markdown",
   "id": "3e2aeed2",
   "metadata": {
    "papermill": {
     "duration": 0.059606,
     "end_time": "2022-09-07T16:37:06.553928",
     "exception": false,
     "start_time": "2022-09-07T16:37:06.494322",
     "status": "completed"
    },
    "tags": []
   },
   "source": [
    "The code above was introduced immediately after the dataset split step."
   ]
  },
  {
   "cell_type": "markdown",
   "id": "dc34b46d",
   "metadata": {
    "papermill": {
     "duration": 0.059305,
     "end_time": "2022-09-07T16:37:06.672675",
     "exception": false,
     "start_time": "2022-09-07T16:37:06.613370",
     "status": "completed"
    },
    "tags": []
   },
   "source": [
    "With a sample of now only 2616 rows, the undersampling method did not yield better results than the previous method. While the recall value in the XGBoost model increased from 60.3% to 67.1%, precision and accuracy decreased from 90.3% to 79.0% and 85.5% to 84.1%, respectively. The overall ROC AUC score was 84.6%, which is lower than the original 85.9%. It is clear that, despite balancing the data without adding redundancy with this method, we are disregarding important information by limiting the model training to a much smaller portion of the dataset, leading to lower overall performance."
   ]
  },
  {
   "cell_type": "markdown",
   "id": "5b5ef576",
   "metadata": {
    "papermill": {
     "duration": 0.059496,
     "end_time": "2022-09-07T16:37:06.791801",
     "exception": false,
     "start_time": "2022-09-07T16:37:06.732305",
     "status": "completed"
    },
    "tags": []
   },
   "source": [
    "## K-Fold Cross Validation"
   ]
  },
  {
   "cell_type": "markdown",
   "id": "d53761e6",
   "metadata": {
    "papermill": {
     "duration": 0.060149,
     "end_time": "2022-09-07T16:37:06.911398",
     "exception": false,
     "start_time": "2022-09-07T16:37:06.851249",
     "status": "completed"
    },
    "tags": []
   },
   "source": [
    "In order to find out if model accuracy varies significantly between training and test data folds, a k-fold cross validator was used. This validator splits the dataset into k randomly sampled training and test set folds, at an 80% to 20% ratio, respectively."
   ]
  },
  {
   "cell_type": "code",
   "execution_count": 142,
   "id": "8af22813",
   "metadata": {
    "execution": {
     "iopub.execute_input": "2022-09-07T16:37:07.034032Z",
     "iopub.status.busy": "2022-09-07T16:37:07.033254Z",
     "iopub.status.idle": "2022-09-07T16:37:07.037580Z",
     "shell.execute_reply": "2022-09-07T16:37:07.036765Z"
    },
    "papermill": {
     "duration": 0.067442,
     "end_time": "2022-09-07T16:37:07.039628",
     "exception": false,
     "start_time": "2022-09-07T16:37:06.972186",
     "status": "completed"
    },
    "tags": []
   },
   "outputs": [],
   "source": [
    "from sklearn.model_selection import KFold\n",
    "from sklearn.model_selection import cross_val_score"
   ]
  },
  {
   "cell_type": "code",
   "execution_count": 143,
   "id": "3298ec2f",
   "metadata": {
    "execution": {
     "iopub.execute_input": "2022-09-07T16:37:07.163819Z",
     "iopub.status.busy": "2022-09-07T16:37:07.163098Z",
     "iopub.status.idle": "2022-09-07T16:37:13.873168Z",
     "shell.execute_reply": "2022-09-07T16:37:13.871655Z"
    },
    "papermill": {
     "duration": 6.774151,
     "end_time": "2022-09-07T16:37:13.876008",
     "exception": false,
     "start_time": "2022-09-07T16:37:07.101857",
     "status": "completed"
    },
    "tags": []
   },
   "outputs": [
    {
     "name": "stdout",
     "output_type": "stream",
     "text": [
      "Classifier: Logistic Regression\n",
      "Accuracy: 80.12 %\n",
      "Standard Deviation: 1.73 %\n",
      "Classifier: K-Nearest Neighbors\n",
      "Accuracy: 84.01 %\n",
      "Standard Deviation: 1.32 %\n",
      "Classifier: Random Forest\n",
      "Accuracy: 82.03 %\n",
      "Standard Deviation: 1.43 %\n",
      "Classifier: XGBoost\n",
      "Accuracy: 84.15 %\n",
      "Standard Deviation: 2.08 %\n",
      "Classifier: Gaussian Naive Bayes\n",
      "Accuracy: 75.90 %\n",
      "Standard Deviation: 1.54 %\n",
      "Classifier: Bernoulli Naive Bayes\n",
      "Accuracy: 78.37 %\n",
      "Standard Deviation: 2.56 %\n"
     ]
    }
   ],
   "source": [
    "i=0\n",
    "\n",
    "clf_list = [lg_classifier,knn_classifier,rdf_classifier,xgb_classifier,gnb_classifier,bnb_classifier]\n",
    "clf_name = ['Logistic Regression','K-Nearest Neighbors','Random Forest','XGBoost','Gaussian Naive Bayes','Bernoulli Naive Bayes']\n",
    "\n",
    "for classifier in clf_list:\n",
    "    model_accuracy=[]\n",
    "    model_precision=[]\n",
    "    model_recall=[]\n",
    "    print('Classifier: ' + clf_name[i])\n",
    "\n",
    "    accs = cross_val_score(estimator=classifier,X=X_train,y=y_train,cv=10)\n",
    "    print('Accuracy: {:.2f} %'.format(accs.mean()*100))\n",
    "    print('Standard Deviation: {:.2f} %'.format(accs.std()*100))\n",
    "    \n",
    "    i=i+1"
   ]
  },
  {
   "cell_type": "markdown",
   "id": "933f2f83",
   "metadata": {
    "papermill": {
     "duration": 0.059706,
     "end_time": "2022-09-07T16:37:13.997117",
     "exception": false,
     "start_time": "2022-09-07T16:37:13.937411",
     "status": "completed"
    },
    "tags": []
   },
   "source": [
    "We observe that the standard deviation of the accuracy score exhibits a low value for all models, generally not exceeding 2.0%. As such, we conclude that, in this case, model accuracy does not vary significantly between training and test data folds. As such, the XGBoost model continues to be the best performing model among all options tested."
   ]
  },
  {
   "cell_type": "markdown",
   "id": "520ce37a",
   "metadata": {
    "papermill": {
     "duration": 0.060381,
     "end_time": "2022-09-07T16:37:14.117989",
     "exception": false,
     "start_time": "2022-09-07T16:37:14.057608",
     "status": "completed"
    },
    "tags": []
   },
   "source": [
    "## Stratified K-Fold Cross Validation"
   ]
  },
  {
   "cell_type": "markdown",
   "id": "9856f343",
   "metadata": {
    "papermill": {
     "duration": 0.059629,
     "end_time": "2022-09-07T16:37:14.237415",
     "exception": false,
     "start_time": "2022-09-07T16:37:14.177786",
     "status": "completed"
    },
    "tags": []
   },
   "source": [
    "Due to the random sampling done in the previous k-fold cross validation, we tested different models on potentially imbalanced data folds, possibly leading to lower predictive accuracy. To ensure that each dataset fold includes the same proportion of observations of each label, a stratified k-fold cross validation was tested."
   ]
  },
  {
   "cell_type": "code",
   "execution_count": 144,
   "id": "63f0f9a9",
   "metadata": {
    "execution": {
     "iopub.execute_input": "2022-09-07T16:37:14.360320Z",
     "iopub.status.busy": "2022-09-07T16:37:14.359915Z",
     "iopub.status.idle": "2022-09-07T16:37:14.365084Z",
     "shell.execute_reply": "2022-09-07T16:37:14.363890Z"
    },
    "papermill": {
     "duration": 0.069636,
     "end_time": "2022-09-07T16:37:14.367283",
     "exception": false,
     "start_time": "2022-09-07T16:37:14.297647",
     "status": "completed"
    },
    "tags": []
   },
   "outputs": [],
   "source": [
    "from sklearn.model_selection import StratifiedKFold"
   ]
  },
  {
   "cell_type": "code",
   "execution_count": 145,
   "id": "e50b5ce4",
   "metadata": {
    "execution": {
     "iopub.execute_input": "2022-09-07T16:37:14.489379Z",
     "iopub.status.busy": "2022-09-07T16:37:14.488990Z",
     "iopub.status.idle": "2022-09-07T16:37:14.495977Z",
     "shell.execute_reply": "2022-09-07T16:37:14.494912Z"
    },
    "papermill": {
     "duration": 0.071144,
     "end_time": "2022-09-07T16:37:14.498734",
     "exception": false,
     "start_time": "2022-09-07T16:37:14.427590",
     "status": "completed"
    },
    "tags": []
   },
   "outputs": [],
   "source": [
    "from statistics import mean"
   ]
  },
  {
   "cell_type": "code",
   "execution_count": 146,
   "id": "0715d8b3",
   "metadata": {
    "execution": {
     "iopub.execute_input": "2022-09-07T16:37:14.621505Z",
     "iopub.status.busy": "2022-09-07T16:37:14.620701Z",
     "iopub.status.idle": "2022-09-07T16:37:23.013629Z",
     "shell.execute_reply": "2022-09-07T16:37:23.012327Z"
    },
    "papermill": {
     "duration": 8.457377,
     "end_time": "2022-09-07T16:37:23.016410",
     "exception": false,
     "start_time": "2022-09-07T16:37:14.559033",
     "status": "completed"
    },
    "tags": []
   },
   "outputs": [
    {
     "name": "stdout",
     "output_type": "stream",
     "text": [
      "Classifier: Logistic Regression\n",
      "Accuracy: 80.10 %\n",
      "Standard Deviation: 1.91 %\n",
      "Classifier: K-Nearest Neighbors\n",
      "Accuracy: 84.01 %\n",
      "Standard Deviation: 1.42 %\n",
      "Classifier: Random Forest\n",
      "Accuracy: 82.01 %\n",
      "Standard Deviation: 2.32 %\n",
      "Classifier: XGBoost\n",
      "Accuracy: 84.03 %\n",
      "Standard Deviation: 1.63 %\n",
      "Classifier: Gaussian Naive Bayes\n",
      "Accuracy: 76.98 %\n",
      "Standard Deviation: 1.00 %\n",
      "Classifier: Bernoulli Naive Bayes\n",
      "Accuracy: 78.87 %\n",
      "Standard Deviation: 1.41 %\n"
     ]
    }
   ],
   "source": [
    "i=0\n",
    "skf = StratifiedKFold(n_splits=10,random_state=None)\n",
    "skf.get_n_splits(X,y)\n",
    "\n",
    "clf_list = [lg_classifier,knn_classifier,rdf_classifier,xgb_classifier,gnb_classifier,bnb_classifier]\n",
    "clf_name = ['Logistic Regression','K-Nearest Neighbors','Random Forest','XGBoost','Gaussian Naive Bayes','Bernoulli Naive Bayes']\n",
    "accuracy = [[] for lst in range(len(clf_list))]\n",
    "\n",
    "for classifier in clf_list:\n",
    "    print('Classifier: ' + clf_name[i])\n",
    "    for train_index,test_index in skf.split(X,y):\n",
    "        #print('Train:', train_index, 'Validation:', test_index)\n",
    "        X1_train, X1_test = X.iloc[train_index],X.iloc[test_index]\n",
    "        y1_train, y1_test = y.iloc[train_index],y.iloc[test_index]\n",
    "\n",
    "        classifier.fit(X1_train,y1_train)\n",
    "        \n",
    "        y_pred = classifier.predict(X1_test)\n",
    "        acc_score = accuracy_score(y_pred,y1_test)\n",
    "        accuracy[i].append(acc_score)\n",
    "        \n",
    "    print('Accuracy: {:.2f} %'.format(mean(accuracy[i])*100))\n",
    "    print('Standard Deviation: {:.2f} %'.format(np.std(accuracy[i])*100))\n",
    "    i=i+1\n",
    "\n",
    "        "
   ]
  },
  {
   "cell_type": "markdown",
   "id": "fb8ca9be",
   "metadata": {
    "papermill": {
     "duration": 0.061514,
     "end_time": "2022-09-07T16:37:23.139523",
     "exception": false,
     "start_time": "2022-09-07T16:37:23.078009",
     "status": "completed"
    },
    "tags": []
   },
   "source": [
    "This stratified train-test split should result in values that better describe the accuracy and standard deviation of each model on our imbalanced dataset."
   ]
  },
  {
   "cell_type": "markdown",
   "id": "8f3a08f7",
   "metadata": {
    "papermill": {
     "duration": 0.060418,
     "end_time": "2022-09-07T16:37:23.260719",
     "exception": false,
     "start_time": "2022-09-07T16:37:23.200301",
     "status": "completed"
    },
    "tags": []
   },
   "source": [
    "## Conclusions"
   ]
  },
  {
   "cell_type": "markdown",
   "id": "1a374f33",
   "metadata": {
    "papermill": {
     "duration": 0.060251,
     "end_time": "2022-09-07T16:37:23.381854",
     "exception": false,
     "start_time": "2022-09-07T16:37:23.321603",
     "status": "completed"
    },
    "tags": []
   },
   "source": [
    "The XGBoost model performed well in terms of precision and accuracy. However, due to the data imbalance, the recall value was lower than expected. Possible improvements to this dataset could consist of optimizing feature selection to include more relevant features or expanding the dataset by adding more rows of data."
   ]
  },
  {
   "cell_type": "code",
   "execution_count": null,
   "id": "d6df1e18",
   "metadata": {
    "papermill": {
     "duration": 0.060193,
     "end_time": "2022-09-07T16:37:23.502585",
     "exception": false,
     "start_time": "2022-09-07T16:37:23.442392",
     "status": "completed"
    },
    "tags": []
   },
   "outputs": [],
   "source": []
  }
 ],
 "metadata": {
  "kernelspec": {
   "display_name": "Python 3",
   "language": "python",
   "name": "python3"
  },
  "language_info": {
   "codemirror_mode": {
    "name": "ipython",
    "version": 3
   },
   "file_extension": ".py",
   "mimetype": "text/x-python",
   "name": "python",
   "nbconvert_exporter": "python",
   "pygments_lexer": "ipython3",
   "version": "3.7.12"
  },
  "papermill": {
   "default_parameters": {},
   "duration": 255.640594,
   "end_time": "2022-09-07T16:37:26.184735",
   "environment_variables": {},
   "exception": null,
   "input_path": "__notebook__.ipynb",
   "output_path": "__notebook__.ipynb",
   "parameters": {},
   "start_time": "2022-09-07T16:33:10.544141",
   "version": "2.3.4"
  }
 },
 "nbformat": 4,
 "nbformat_minor": 5
}
